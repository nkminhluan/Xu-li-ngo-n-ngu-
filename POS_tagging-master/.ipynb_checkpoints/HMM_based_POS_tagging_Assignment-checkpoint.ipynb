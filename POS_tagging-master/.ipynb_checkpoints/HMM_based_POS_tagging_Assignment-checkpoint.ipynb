{
 "cells": [
  {
   "cell_type": "markdown",
   "metadata": {},
   "source": [
    "## POS tagging using modified Viterbi"
   ]
  },
  {
   "cell_type": "markdown",
   "metadata": {},
   "source": [
    "### Data Preparation"
   ]
  },
  {
   "cell_type": "code",
   "execution_count": 22,
   "metadata": {},
   "outputs": [],
   "source": [
    "#Importing libraries\n",
    "import nltk, re, pprint\n",
    "import numpy as np\n",
    "import pandas as pd\n",
    "import requests\n",
    "import matplotlib.pyplot as plt\n",
    "import seaborn as sns\n",
    "import pprint, time\n",
    "import random\n",
    "from sklearn.model_selection import train_test_split\n",
    "from nltk.tokenize import word_tokenize\n",
    "import codecs"
   ]
  },
  {
   "cell_type": "code",
   "execution_count": 2,
   "metadata": {},
   "outputs": [
    {
     "name": "stderr",
     "output_type": "stream",
     "text": [
      "[nltk_data] Downloading package treebank to\n",
      "[nltk_data]     /Users/minhluan/nltk_data...\n",
      "[nltk_data]   Package treebank is already up-to-date!\n"
     ]
    },
    {
     "data": {
      "text/plain": [
       "True"
      ]
     },
     "execution_count": 2,
     "metadata": {},
     "output_type": "execute_result"
    }
   ],
   "source": [
    "# nltk.download('treebank')"
   ]
  },
  {
   "cell_type": "code",
   "execution_count": 6,
   "metadata": {},
   "outputs": [
    {
     "name": "stderr",
     "output_type": "stream",
     "text": [
      "[nltk_data] Downloading package universal_tagset to\n",
      "[nltk_data]     C:\\Users\\chebrolb\\AppData\\Roaming\\nltk_data...\n",
      "[nltk_data]   Unzipping taggers\\universal_tagset.zip.\n"
     ]
    },
    {
     "data": {
      "text/plain": [
       "True"
      ]
     },
     "execution_count": 6,
     "metadata": {},
     "output_type": "execute_result"
    }
   ],
   "source": [
    "# nltk.download('universal_tagset')"
   ]
  },
  {
   "cell_type": "code",
   "execution_count": 28,
   "metadata": {},
   "outputs": [],
   "source": [
    "# reading the Treebank tagged sentences with universal tagset\n",
    "nltk_data = list(nltk.corpus.treebank.tagged_sents(tagset='universal'))"
   ]
  },
  {
   "cell_type": "code",
   "execution_count": 29,
   "metadata": {},
   "outputs": [
    {
     "name": "stdout",
     "output_type": "stream",
     "text": [
      "[[('Pierre', 'NOUN'), ('Vinken', 'NOUN'), (',', '.'), ('61', 'NUM'), ('years', 'NOUN'), ('old', 'ADJ'), (',', '.'), ('will', 'VERB'), ('join', 'VERB'), ('the', 'DET'), ('board', 'NOUN'), ('as', 'ADP'), ('a', 'DET'), ('nonexecutive', 'ADJ'), ('director', 'NOUN'), ('Nov.', 'NOUN'), ('29', 'NUM'), ('.', '.')], [('Mr.', 'NOUN'), ('Vinken', 'NOUN'), ('is', 'VERB'), ('chairman', 'NOUN'), ('of', 'ADP'), ('Elsevier', 'NOUN'), ('N.V.', 'NOUN'), (',', '.'), ('the', 'DET'), ('Dutch', 'NOUN'), ('publishing', 'VERB'), ('group', 'NOUN'), ('.', '.')], [('Rudolph', 'NOUN'), ('Agnew', 'NOUN'), (',', '.'), ('55', 'NUM'), ('years', 'NOUN'), ('old', 'ADJ'), ('and', 'CONJ'), ('former', 'ADJ'), ('chairman', 'NOUN'), ('of', 'ADP'), ('Consolidated', 'NOUN'), ('Gold', 'NOUN'), ('Fields', 'NOUN'), ('PLC', 'NOUN'), (',', '.'), ('was', 'VERB'), ('named', 'VERB'), ('*-1', 'X'), ('a', 'DET'), ('nonexecutive', 'ADJ'), ('director', 'NOUN'), ('of', 'ADP'), ('this', 'DET'), ('British', 'ADJ'), ('industrial', 'ADJ'), ('conglomerate', 'NOUN'), ('.', '.')], [('A', 'DET'), ('form', 'NOUN'), ('of', 'ADP'), ('asbestos', 'NOUN'), ('once', 'ADV'), ('used', 'VERB'), ('*', 'X'), ('*', 'X'), ('to', 'PRT'), ('make', 'VERB'), ('Kent', 'NOUN'), ('cigarette', 'NOUN'), ('filters', 'NOUN'), ('has', 'VERB'), ('caused', 'VERB'), ('a', 'DET'), ('high', 'ADJ'), ('percentage', 'NOUN'), ('of', 'ADP'), ('cancer', 'NOUN'), ('deaths', 'NOUN'), ('among', 'ADP'), ('a', 'DET'), ('group', 'NOUN'), ('of', 'ADP'), ('workers', 'NOUN'), ('exposed', 'VERB'), ('*', 'X'), ('to', 'PRT'), ('it', 'PRON'), ('more', 'ADV'), ('than', 'ADP'), ('30', 'NUM'), ('years', 'NOUN'), ('ago', 'ADP'), (',', '.'), ('researchers', 'NOUN'), ('reported', 'VERB'), ('0', 'X'), ('*T*-1', 'X'), ('.', '.')], [('The', 'DET'), ('asbestos', 'NOUN'), ('fiber', 'NOUN'), (',', '.'), ('crocidolite', 'NOUN'), (',', '.'), ('is', 'VERB'), ('unusually', 'ADV'), ('resilient', 'ADJ'), ('once', 'ADP'), ('it', 'PRON'), ('enters', 'VERB'), ('the', 'DET'), ('lungs', 'NOUN'), (',', '.'), ('with', 'ADP'), ('even', 'ADV'), ('brief', 'ADJ'), ('exposures', 'NOUN'), ('to', 'PRT'), ('it', 'PRON'), ('causing', 'VERB'), ('symptoms', 'NOUN'), ('that', 'DET'), ('*T*-1', 'X'), ('show', 'VERB'), ('up', 'PRT'), ('decades', 'NOUN'), ('later', 'ADJ'), (',', '.'), ('researchers', 'NOUN'), ('said', 'VERB'), ('0', 'X'), ('*T*-2', 'X'), ('.', '.')], [('Lorillard', 'NOUN'), ('Inc.', 'NOUN'), (',', '.'), ('the', 'DET'), ('unit', 'NOUN'), ('of', 'ADP'), ('New', 'ADJ'), ('York-based', 'ADJ'), ('Loews', 'NOUN'), ('Corp.', 'NOUN'), ('that', 'DET'), ('*T*-2', 'X'), ('makes', 'VERB'), ('Kent', 'NOUN'), ('cigarettes', 'NOUN'), (',', '.'), ('stopped', 'VERB'), ('using', 'VERB'), ('crocidolite', 'NOUN'), ('in', 'ADP'), ('its', 'PRON'), ('Micronite', 'NOUN'), ('cigarette', 'NOUN'), ('filters', 'NOUN'), ('in', 'ADP'), ('1956', 'NUM'), ('.', '.')], [('Although', 'ADP'), ('preliminary', 'ADJ'), ('findings', 'NOUN'), ('were', 'VERB'), ('reported', 'VERB'), ('*-2', 'X'), ('more', 'ADV'), ('than', 'ADP'), ('a', 'DET'), ('year', 'NOUN'), ('ago', 'ADP'), (',', '.'), ('the', 'DET'), ('latest', 'ADJ'), ('results', 'NOUN'), ('appear', 'VERB'), ('in', 'ADP'), ('today', 'NOUN'), (\"'s\", 'PRT'), ('New', 'NOUN'), ('England', 'NOUN'), ('Journal', 'NOUN'), ('of', 'ADP'), ('Medicine', 'NOUN'), (',', '.'), ('a', 'DET'), ('forum', 'NOUN'), ('likely', 'ADJ'), ('*', 'X'), ('to', 'PRT'), ('bring', 'VERB'), ('new', 'ADJ'), ('attention', 'NOUN'), ('to', 'PRT'), ('the', 'DET'), ('problem', 'NOUN'), ('.', '.')], [('A', 'DET'), ('Lorillard', 'NOUN'), ('spokewoman', 'NOUN'), ('said', 'VERB'), (',', '.'), ('``', '.'), ('This', 'DET'), ('is', 'VERB'), ('an', 'DET'), ('old', 'ADJ'), ('story', 'NOUN'), ('.', '.')], [('We', 'PRON'), (\"'re\", 'VERB'), ('talking', 'VERB'), ('about', 'ADP'), ('years', 'NOUN'), ('ago', 'ADP'), ('before', 'ADP'), ('anyone', 'NOUN'), ('heard', 'VERB'), ('of', 'ADP'), ('asbestos', 'NOUN'), ('having', 'VERB'), ('any', 'DET'), ('questionable', 'ADJ'), ('properties', 'NOUN'), ('.', '.')], [('There', 'DET'), ('is', 'VERB'), ('no', 'DET'), ('asbestos', 'NOUN'), ('in', 'ADP'), ('our', 'PRON'), ('products', 'NOUN'), ('now', 'ADV'), ('.', '.'), (\"''\", '.')], [('Neither', 'DET'), ('Lorillard', 'NOUN'), ('nor', 'CONJ'), ('the', 'DET'), ('researchers', 'NOUN'), ('who', 'PRON'), ('*T*-3', 'X'), ('studied', 'VERB'), ('the', 'DET'), ('workers', 'NOUN'), ('were', 'VERB'), ('aware', 'ADJ'), ('of', 'ADP'), ('any', 'DET'), ('research', 'NOUN'), ('on', 'ADP'), ('smokers', 'NOUN'), ('of', 'ADP'), ('the', 'DET'), ('Kent', 'NOUN'), ('cigarettes', 'NOUN'), ('.', '.')], [('``', '.'), ('We', 'PRON'), ('have', 'VERB'), ('no', 'DET'), ('useful', 'ADJ'), ('information', 'NOUN'), ('on', 'ADP'), ('whether', 'ADP'), ('users', 'NOUN'), ('are', 'VERB'), ('at', 'ADP'), ('risk', 'NOUN'), (',', '.'), (\"''\", '.'), ('said', 'VERB'), ('*T*-1', 'X'), ('James', 'NOUN'), ('A.', 'NOUN'), ('Talcott', 'NOUN'), ('of', 'ADP'), ('Boston', 'NOUN'), (\"'s\", 'PRT'), ('Dana-Farber', 'NOUN'), ('Cancer', 'NOUN'), ('Institute', 'NOUN'), ('.', '.')], [('Dr.', 'NOUN'), ('Talcott', 'NOUN'), ('led', 'VERB'), ('a', 'DET'), ('team', 'NOUN'), ('of', 'ADP'), ('researchers', 'NOUN'), ('from', 'ADP'), ('the', 'DET'), ('National', 'NOUN'), ('Cancer', 'NOUN'), ('Institute', 'NOUN'), ('and', 'CONJ'), ('the', 'DET'), ('medical', 'ADJ'), ('schools', 'NOUN'), ('of', 'ADP'), ('Harvard', 'NOUN'), ('University', 'NOUN'), ('and', 'CONJ'), ('Boston', 'NOUN'), ('University', 'NOUN'), ('.', '.')], [('The', 'DET'), ('Lorillard', 'NOUN'), ('spokeswoman', 'NOUN'), ('said', 'VERB'), ('0', 'X'), ('asbestos', 'NOUN'), ('was', 'VERB'), ('used', 'VERB'), ('*-1', 'X'), ('in', 'ADP'), ('``', '.'), ('very', 'ADV'), ('modest', 'ADJ'), ('amounts', 'NOUN'), (\"''\", '.'), ('in', 'ADP'), ('*', 'X'), ('making', 'VERB'), ('paper', 'NOUN'), ('for', 'ADP'), ('the', 'DET'), ('filters', 'NOUN'), ('in', 'ADP'), ('the', 'DET'), ('early', 'ADJ'), ('1950s', 'NUM'), ('and', 'CONJ'), ('replaced', 'VERB'), ('*-1', 'X'), ('with', 'ADP'), ('a', 'DET'), ('different', 'ADJ'), ('type', 'NOUN'), ('of', 'ADP'), ('filter', 'NOUN'), ('in', 'ADP'), ('1956', 'NUM'), ('.', '.')], [('From', 'ADP'), ('1953', 'NUM'), ('to', 'PRT'), ('1955', 'NUM'), (',', '.'), ('9.8', 'NUM'), ('billion', 'NUM'), ('Kent', 'NOUN'), ('cigarettes', 'NOUN'), ('with', 'ADP'), ('the', 'DET'), ('filters', 'NOUN'), ('were', 'VERB'), ('sold', 'VERB'), ('*-3', 'X'), (',', '.'), ('the', 'DET'), ('company', 'NOUN'), ('said', 'VERB'), ('0', 'X'), ('*T*-1', 'X'), ('.', '.')], [('Among', 'ADP'), ('33', 'NUM'), ('men', 'NOUN'), ('who', 'PRON'), ('*T*-4', 'X'), ('worked', 'VERB'), ('closely', 'ADV'), ('with', 'ADP'), ('the', 'DET'), ('substance', 'NOUN'), (',', '.'), ('28', 'NUM'), ('*ICH*-1', 'X'), ('have', 'VERB'), ('died', 'VERB'), ('--', '.'), ('more', 'ADJ'), ('than', 'ADP'), ('three', 'NUM'), ('times', 'NOUN'), ('the', 'DET'), ('expected', 'VERB'), ('number', 'NOUN'), ('.', '.')], [('Four', 'NUM'), ('of', 'ADP'), ('the', 'DET'), ('five', 'NUM'), ('surviving', 'VERB'), ('workers', 'NOUN'), ('have', 'VERB'), ('asbestos-related', 'ADJ'), ('diseases', 'NOUN'), (',', '.'), ('including', 'VERB'), ('three', 'NUM'), ('with', 'ADP'), ('recently', 'ADV'), ('diagnosed', 'VERB'), ('cancer', 'NOUN'), ('.', '.')], [('The', 'DET'), ('total', 'NOUN'), ('of', 'ADP'), ('18', 'NUM'), ('deaths', 'NOUN'), ('from', 'ADP'), ('malignant', 'ADJ'), ('mesothelioma', 'NOUN'), (',', '.'), ('lung', 'NOUN'), ('cancer', 'NOUN'), ('and', 'CONJ'), ('asbestosis', 'NOUN'), ('was', 'VERB'), ('far', 'ADV'), ('higher', 'ADJ'), ('than', 'ADP'), ('*', 'X'), ('expected', 'VERB'), ('*?*', 'X'), (',', '.'), ('the', 'DET'), ('researchers', 'NOUN'), ('said', 'VERB'), ('0', 'X'), ('*T*-1', 'X'), ('.', '.')], [('``', '.'), ('The', 'DET'), ('morbidity', 'NOUN'), ('rate', 'NOUN'), ('is', 'VERB'), ('a', 'DET'), ('striking', 'ADJ'), ('finding', 'NOUN'), ('among', 'ADP'), ('those', 'DET'), ('of', 'ADP'), ('us', 'PRON'), ('who', 'PRON'), ('*T*-5', 'X'), ('study', 'VERB'), ('asbestos-related', 'ADJ'), ('diseases', 'NOUN'), (',', '.'), (\"''\", '.'), ('said', 'VERB'), ('*T*-1', 'X'), ('Dr.', 'NOUN'), ('Talcott', 'NOUN'), ('.', '.')], [('The', 'DET'), ('percentage', 'NOUN'), ('of', 'ADP'), ('lung', 'NOUN'), ('cancer', 'NOUN'), ('deaths', 'NOUN'), ('among', 'ADP'), ('the', 'DET'), ('workers', 'NOUN'), ('at', 'ADP'), ('the', 'DET'), ('West', 'NOUN'), ('Groton', 'NOUN'), (',', '.'), ('Mass.', 'NOUN'), (',', '.'), ('paper', 'NOUN'), ('factory', 'NOUN'), ('appears', 'VERB'), ('*-1', 'X'), ('to', 'PRT'), ('be', 'VERB'), ('the', 'DET'), ('highest', 'ADJ'), ('for', 'ADP'), ('any', 'DET'), ('asbestos', 'NOUN'), ('workers', 'NOUN'), ('studied', 'VERB'), ('*', 'X'), ('in', 'ADP'), ('Western', 'ADJ'), ('industrialized', 'VERB'), ('countries', 'NOUN'), (',', '.'), ('he', 'PRON'), ('said', 'VERB'), ('0', 'X'), ('*T*-2', 'X'), ('.', '.')], [('The', 'DET'), ('plant', 'NOUN'), (',', '.'), ('which', 'DET'), ('*T*-1', 'X'), ('is', 'VERB'), ('owned', 'VERB'), ('*-4', 'X'), ('by', 'ADP'), ('Hollingsworth', 'NOUN'), ('&', 'CONJ'), ('Vose', 'NOUN'), ('Co.', 'NOUN'), (',', '.'), ('was', 'VERB'), ('under', 'ADP'), ('contract', 'NOUN'), ('*ICH*-2', 'X'), ('with', 'ADP'), ('Lorillard', 'NOUN'), ('*', 'X'), ('to', 'PRT'), ('make', 'VERB'), ('the', 'DET'), ('cigarette', 'NOUN'), ('filters', 'NOUN'), ('.', '.')], [('The', 'DET'), ('finding', 'NOUN'), ('probably', 'ADV'), ('will', 'VERB'), ('support', 'VERB'), ('those', 'DET'), ('who', 'PRON'), ('*T*-6', 'X'), ('argue', 'VERB'), ('that', 'ADP'), ('the', 'DET'), ('U.S.', 'NOUN'), ('should', 'VERB'), ('regulate', 'VERB'), ('the', 'DET'), ('class', 'NOUN'), ('of', 'ADP'), ('asbestos', 'NOUN'), ('including', 'VERB'), ('crocidolite', 'NOUN'), ('more', 'ADV'), ('stringently', 'ADV'), ('than', 'ADP'), ('the', 'DET'), ('common', 'ADJ'), ('kind', 'NOUN'), ('of', 'ADP'), ('asbestos', 'NOUN'), (',', '.'), ('chrysotile', 'NOUN'), (',', '.'), ('found', 'VERB'), ('*', 'X'), ('in', 'ADP'), ('most', 'ADJ'), ('schools', 'NOUN'), ('and', 'CONJ'), ('other', 'ADJ'), ('buildings', 'NOUN'), (',', '.'), ('Dr.', 'NOUN'), ('Talcott', 'NOUN'), ('said', 'VERB'), ('0', 'X'), ('*T*-1', 'X'), ('.', '.')], [('The', 'DET'), ('U.S.', 'NOUN'), ('is', 'VERB'), ('one', 'NUM'), ('of', 'ADP'), ('the', 'DET'), ('few', 'ADJ'), ('industrialized', 'VERB'), ('nations', 'NOUN'), ('that', 'DET'), ('*T*-7', 'X'), ('does', 'VERB'), (\"n't\", 'ADV'), ('have', 'VERB'), ('a', 'DET'), ('higher', 'ADJ'), ('standard', 'NOUN'), ('of', 'ADP'), ('regulation', 'NOUN'), ('for', 'ADP'), ('the', 'DET'), ('smooth', 'ADJ'), (',', '.'), ('needle-like', 'ADJ'), ('fibers', 'NOUN'), ('such', 'ADJ'), ('as', 'ADP'), ('crocidolite', 'NOUN'), ('that', 'DET'), ('*T*-1', 'X'), ('are', 'VERB'), ('classified', 'VERB'), ('*-5', 'X'), ('as', 'ADP'), ('amphobiles', 'NOUN'), (',', '.'), ('according', 'VERB'), ('to', 'PRT'), ('Brooke', 'NOUN'), ('T.', 'NOUN'), ('Mossman', 'NOUN'), (',', '.'), ('a', 'DET'), ('professor', 'NOUN'), ('of', 'ADP'), ('pathlogy', 'NOUN'), ('at', 'ADP'), ('the', 'DET'), ('University', 'NOUN'), ('of', 'ADP'), ('Vermont', 'NOUN'), ('College', 'NOUN'), ('of', 'ADP'), ('Medicine', 'NOUN'), ('.', '.')], [('More', 'ADV'), ('common', 'ADJ'), ('chrysotile', 'NOUN'), ('fibers', 'NOUN'), ('are', 'VERB'), ('curly', 'ADJ'), ('and', 'CONJ'), ('are', 'VERB'), ('more', 'ADV'), ('easily', 'ADV'), ('rejected', 'VERB'), ('*-1', 'X'), ('by', 'ADP'), ('the', 'DET'), ('body', 'NOUN'), (',', '.'), ('Dr.', 'NOUN'), ('Mossman', 'NOUN'), ('explained', 'VERB'), ('0', 'X'), ('*T*-2', 'X'), ('.', '.')], [('In', 'ADP'), ('July', 'NOUN'), (',', '.'), ('the', 'DET'), ('Environmental', 'NOUN'), ('Protection', 'NOUN'), ('Agency', 'NOUN'), ('imposed', 'VERB'), ('a', 'DET'), ('gradual', 'ADJ'), ('ban', 'NOUN'), ('on', 'ADP'), ('virtually', 'ADV'), ('all', 'DET'), ('uses', 'NOUN'), ('of', 'ADP'), ('asbestos', 'NOUN'), ('.', '.')], [('By', 'ADP'), ('1997', 'NUM'), (',', '.'), ('almost', 'ADV'), ('all', 'DET'), ('remaining', 'VERB'), ('uses', 'NOUN'), ('of', 'ADP'), ('cancer-causing', 'ADJ'), ('asbestos', 'NOUN'), ('will', 'VERB'), ('be', 'VERB'), ('outlawed', 'VERB'), ('*-6', 'X'), ('.', '.')], [('About', 'ADP'), ('160', 'NUM'), ('workers', 'NOUN'), ('at', 'ADP'), ('a', 'DET'), ('factory', 'NOUN'), ('that', 'DET'), ('*T*-8', 'X'), ('made', 'VERB'), ('paper', 'NOUN'), ('for', 'ADP'), ('the', 'DET'), ('Kent', 'NOUN'), ('filters', 'NOUN'), ('were', 'VERB'), ('exposed', 'VERB'), ('*-7', 'X'), ('to', 'PRT'), ('asbestos', 'NOUN'), ('in', 'ADP'), ('the', 'DET'), ('1950s', 'NUM'), ('.', '.')], [('Areas', 'NOUN'), ('of', 'ADP'), ('the', 'DET'), ('factory', 'NOUN'), ('*ICH*-2', 'X'), ('were', 'VERB'), ('particularly', 'ADV'), ('dusty', 'ADJ'), ('where', 'ADV'), ('the', 'DET'), ('crocidolite', 'NOUN'), ('was', 'VERB'), ('used', 'VERB'), ('*-8', 'X'), ('*T*-1', 'X'), ('.', '.')], [('Workers', 'NOUN'), ('dumped', 'VERB'), ('large', 'ADJ'), ('burlap', 'NOUN'), ('sacks', 'NOUN'), ('of', 'ADP'), ('the', 'DET'), ('imported', 'VERB'), ('material', 'NOUN'), ('into', 'ADP'), ('a', 'DET'), ('huge', 'ADJ'), ('bin', 'NOUN'), (',', '.'), ('poured', 'VERB'), ('in', 'PRT'), ('cotton', 'NOUN'), ('and', 'CONJ'), ('acetate', 'NOUN'), ('fibers', 'NOUN'), ('and', 'CONJ'), ('mechanically', 'ADV'), ('mixed', 'VERB'), ('the', 'DET'), ('dry', 'ADJ'), ('fibers', 'NOUN'), ('in', 'ADP'), ('a', 'DET'), ('process', 'NOUN'), ('used', 'VERB'), ('*', 'X'), ('*', 'X'), ('to', 'PRT'), ('make', 'VERB'), ('filters', 'NOUN'), ('.', '.')], [('Workers', 'NOUN'), ('described', 'VERB'), ('``', '.'), ('clouds', 'NOUN'), ('of', 'ADP'), ('blue', 'ADJ'), ('dust', 'NOUN'), (\"''\", '.'), ('that', 'DET'), ('*T*-1', 'X'), ('hung', 'VERB'), ('over', 'ADP'), ('parts', 'NOUN'), ('of', 'ADP'), ('the', 'DET'), ('factory', 'NOUN'), (',', '.'), ('even', 'ADV'), ('though', 'ADP'), ('exhaust', 'NOUN'), ('fans', 'NOUN'), ('ventilated', 'VERB'), ('the', 'DET'), ('area', 'NOUN'), ('.', '.')], [('``', '.'), ('There', 'DET'), (\"'s\", 'VERB'), ('no', 'DET'), ('question', 'NOUN'), ('that', 'ADP'), ('some', 'DET'), ('of', 'ADP'), ('those', 'DET'), ('workers', 'NOUN'), ('and', 'CONJ'), ('managers', 'NOUN'), ('contracted', 'VERB'), ('asbestos-related', 'ADJ'), ('diseases', 'NOUN'), (',', '.'), (\"''\", '.'), ('said', 'VERB'), ('*T*-1', 'X'), ('Darrell', 'NOUN'), ('Phillips', 'NOUN'), (',', '.'), ('vice', 'NOUN'), ('president', 'NOUN'), ('of', 'ADP'), ('human', 'ADJ'), ('resources', 'NOUN'), ('for', 'ADP'), ('Hollingsworth', 'NOUN'), ('&', 'CONJ'), ('Vose', 'NOUN'), ('.', '.')], [('``', '.'), ('But', 'CONJ'), ('you', 'PRON'), ('have', 'VERB'), ('*-1', 'X'), ('to', 'PRT'), ('recognize', 'VERB'), ('that', 'ADP'), ('these', 'DET'), ('events', 'NOUN'), ('took', 'VERB'), ('place', 'NOUN'), ('35', 'NUM'), ('years', 'NOUN'), ('ago', 'ADP'), ('.', '.')], [('It', 'PRON'), ('has', 'VERB'), ('no', 'DET'), ('bearing', 'NOUN'), ('on', 'ADP'), ('our', 'PRON'), ('work', 'NOUN'), ('force', 'NOUN'), ('today', 'NOUN'), ('.', '.')], [('Yields', 'NOUN'), ('on', 'ADP'), ('money-market', 'ADJ'), ('mutual', 'ADJ'), ('funds', 'NOUN'), ('continued', 'VERB'), ('*-1', 'X'), ('to', 'PRT'), ('slide', 'VERB'), (',', '.'), ('amid', 'ADP'), ('signs', 'NOUN'), ('that', 'ADP'), ('portfolio', 'NOUN'), ('managers', 'NOUN'), ('expect', 'VERB'), ('further', 'ADJ'), ('declines', 'NOUN'), ('in', 'ADP'), ('interest', 'NOUN'), ('rates', 'NOUN'), ('.', '.')], [('The', 'DET'), ('average', 'ADJ'), ('seven-day', 'ADJ'), ('compound', 'NOUN'), ('yield', 'NOUN'), ('of', 'ADP'), ('the', 'DET'), ('400', 'NUM'), ('taxable', 'ADJ'), ('funds', 'NOUN'), ('tracked', 'VERB'), ('*', 'X'), ('by', 'ADP'), ('IBC', 'NOUN'), (\"'s\", 'PRT'), ('Money', 'NOUN'), ('Fund', 'NOUN'), ('Report', 'NOUN'), ('eased', 'VERB'), ('a', 'DET'), ('fraction', 'NOUN'), ('of', 'ADP'), ('a', 'DET'), ('percentage', 'NOUN'), ('point', 'NOUN'), ('to', 'PRT'), ('8.45', 'NUM'), ('%', 'NOUN'), ('from', 'ADP'), ('8.47', 'NUM'), ('%', 'NOUN'), ('for', 'ADP'), ('the', 'DET'), ('week', 'NOUN'), ('ended', 'VERB'), ('Tuesday', 'NOUN'), ('.', '.')], [('Compound', 'NOUN'), ('yields', 'NOUN'), ('assume', 'VERB'), ('reinvestment', 'NOUN'), ('of', 'ADP'), ('dividends', 'NOUN'), ('and', 'CONJ'), ('that', 'ADP'), ('the', 'DET'), ('current', 'ADJ'), ('yield', 'NOUN'), ('continues', 'VERB'), ('for', 'ADP'), ('a', 'DET'), ('year', 'NOUN'), ('.', '.')], [('Average', 'ADJ'), ('maturity', 'NOUN'), ('of', 'ADP'), ('the', 'DET'), ('funds', 'NOUN'), (\"'\", 'PRT'), ('investments', 'NOUN'), ('lengthened', 'VERB'), ('by', 'ADP'), ('a', 'DET'), ('day', 'NOUN'), ('to', 'PRT'), ('41', 'NUM'), ('days', 'NOUN'), (',', '.'), ('the', 'DET'), ('longest', 'ADJ'), ('since', 'ADP'), ('early', 'ADJ'), ('August', 'NOUN'), (',', '.'), ('according', 'VERB'), ('to', 'PRT'), ('Donoghue', 'NOUN'), (\"'s\", 'PRT'), ('.', '.')], [('Longer', 'ADJ'), ('maturities', 'NOUN'), ('are', 'VERB'), ('thought', 'VERB'), ('*-1', 'X'), ('to', 'PRT'), ('indicate', 'VERB'), ('declining', 'VERB'), ('interest', 'NOUN'), ('rates', 'NOUN'), ('because', 'ADP'), ('they', 'PRON'), ('permit', 'VERB'), ('portfolio', 'NOUN'), ('managers', 'NOUN'), ('to', 'PRT'), ('retain', 'VERB'), ('relatively', 'ADV'), ('higher', 'ADJ'), ('rates', 'NOUN'), ('for', 'ADP'), ('a', 'DET'), ('longer', 'ADJ'), ('period', 'NOUN'), ('.', '.')], [('Shorter', 'ADJ'), ('maturities', 'NOUN'), ('are', 'VERB'), ('considered', 'VERB'), ('*-9', 'X'), ('a', 'DET'), ('sign', 'NOUN'), ('of', 'ADP'), ('rising', 'VERB'), ('rates', 'NOUN'), ('because', 'ADP'), ('portfolio', 'NOUN'), ('managers', 'NOUN'), ('can', 'VERB'), ('capture', 'VERB'), ('higher', 'ADJ'), ('rates', 'NOUN'), ('sooner', 'ADV'), ('.', '.')], [('The', 'DET'), ('average', 'ADJ'), ('maturity', 'NOUN'), ('for', 'ADP'), ('funds', 'NOUN'), ('open', 'ADJ'), ('only', 'ADV'), ('to', 'PRT'), ('institutions', 'NOUN'), (',', '.'), ('considered', 'VERB'), ('by', 'ADP'), ('some', 'DET'), ('*', 'X'), ('to', 'PRT'), ('be', 'VERB'), ('a', 'DET'), ('stronger', 'ADJ'), ('indicator', 'NOUN'), ('because', 'ADP'), ('those', 'DET'), ('managers', 'NOUN'), ('watch', 'VERB'), ('the', 'DET'), ('market', 'NOUN'), ('closely', 'ADV'), (',', '.'), ('reached', 'VERB'), ('a', 'DET'), ('high', 'ADJ'), ('point', 'NOUN'), ('for', 'ADP'), ('the', 'DET'), ('year', 'NOUN'), ('--', '.'), ('33', 'NUM'), ('days', 'NOUN'), ('.', '.')]]\n"
     ]
    }
   ],
   "source": [
    "# first few tagged sentences\n",
    "print(nltk_data[:40])"
   ]
  },
  {
   "cell_type": "code",
   "execution_count": 30,
   "metadata": {},
   "outputs": [
    {
     "name": "stdout",
     "output_type": "stream",
     "text": [
      "3131\n",
      "783\n"
     ]
    }
   ],
   "source": [
    "#set the random seed\n",
    "\n",
    "\n",
    "#Splitting into training and test sets\n",
    "train_set, test_set = train_test_split(nltk_data,train_size=0.8,random_state=101)\n",
    "\n",
    "#Get length of training and test sets\n",
    "print(len(train_set))\n",
    "print(len(test_set))"
   ]
  },
  {
   "cell_type": "code",
   "execution_count": 31,
   "metadata": {},
   "outputs": [
    {
     "data": {
      "text/plain": [
       "80310"
      ]
     },
     "execution_count": 31,
     "metadata": {},
     "output_type": "execute_result"
    }
   ],
   "source": [
    "# Getting list of tagged words in training set\n",
    "train_tagged_words = [tup for sent in train_set for tup in sent]\n",
    "\n",
    "# Get length of total tagged words in training set\n",
    "len(train_tagged_words)"
   ]
  },
  {
   "cell_type": "code",
   "execution_count": 32,
   "metadata": {},
   "outputs": [
    {
     "name": "stdout",
     "output_type": "stream",
     "text": [
      "80310\n"
     ]
    },
    {
     "data": {
      "text/plain": [
       "[('Drink', 'NOUN'),\n",
       " ('Carrier', 'NOUN'),\n",
       " ('Competes', 'VERB'),\n",
       " ('With', 'ADP'),\n",
       " ('Cartons', 'NOUN'),\n",
       " ('At', 'ADP'),\n",
       " ('last', 'ADJ'),\n",
       " ('count', 'NOUN'),\n",
       " (',', '.'),\n",
       " ('Candela', 'NOUN')]"
      ]
     },
     "execution_count": 32,
     "metadata": {},
     "output_type": "execute_result"
    }
   ],
   "source": [
    "# tokens\n",
    "tokens = [pair[0] for pair in train_tagged_words]\n",
    "print(len(tokens))\n",
    "tokens[:10]"
   ]
  },
  {
   "cell_type": "code",
   "execution_count": 33,
   "metadata": {},
   "outputs": [
    {
     "name": "stdout",
     "output_type": "stream",
     "text": [
      "11704\n",
      "{('patent', 'NOUN'), ('Credit', 'NOUN'), ('breathe', 'VERB'), ('lucky', 'ADJ'), ('Louisville', 'NOUN'), ('directed', 'VERB'), ('quantity', 'NOUN'), ('3.6', 'NUM'), ('air', 'NOUN'), ('advance', 'NOUN'), ('squeezed', 'VERB'), ('396,000', 'NUM'), ('promise', 'VERB'), ('audiocassettes', 'NOUN'), ('Justice', 'NOUN'), ('bitterness', 'NOUN'), ('benign', 'ADJ'), ('*T*-146', 'X'), ('tissues', 'NOUN'), ('extend', 'VERB'), ('cadmium', 'NOUN'), ('Adam', 'NOUN'), ('exactly', 'ADV'), ('Impediments', 'NOUN'), ('vindication', 'NOUN'), ('Fourth', 'ADJ'), ('notified', 'VERB'), ('1991', 'NUM'), ('bout', 'NOUN'), ('Driscoll', 'NOUN'), ('leaky', 'ADJ'), ('money', 'NOUN'), ('rules', 'NOUN'), ('Graduates', 'NOUN'), ('70.7', 'NUM'), ('established', 'VERB'), ('impressive', 'ADJ'), ('Hugo', 'NOUN'), ('Bureau', 'NOUN'), ('Virginia', 'NOUN'), ('downgrade', 'NOUN'), ('salaries', 'NOUN'), ('confidant', 'NOUN'), ('fattened', 'VERB'), ('meet', 'VERB'), ('seasonally', 'ADV'), ('50.38', 'NUM'), ('students', 'NOUN'), ('therapy', 'NOUN'), ('etc.', 'X'), ('acceptance', 'NOUN'), ('reaches', 'VERB'), ('visible', 'ADJ'), ('Harper', 'NOUN'), ('Lynch', 'NOUN'), ('McCormick', 'NOUN'), ('0.05', 'NUM'), ('households', 'NOUN'), ('eliminated', 'VERB'), ('Urban', 'NOUN'), ('Saitama', 'NOUN'), ('foul', 'ADJ'), ('applicable', 'ADJ'), ('worksheets', 'NOUN'), ('Left', 'VERB'), ('claimed', 'VERB'), ('drops', 'NOUN'), ('flirted', 'VERB'), ('miscarriages', 'NOUN'), ('Anthony', 'NOUN'), ('811.9', 'NUM'), ('swim', 'VERB'), ('Riserva', 'NOUN'), ('family-planning', 'ADJ'), ('Newhouse', 'NOUN'), ('utilities', 'NOUN'), ('implement', 'VERB'), ('husband', 'NOUN'), ('impending', 'ADJ'), ('independent', 'ADJ'), ('*-160', 'X'), ('billings', 'NOUN'), ('inspired', 'VERB'), ('literature', 'NOUN'), ('system', 'NOUN'), ('senior', 'ADJ'), ('Tatsunori', 'NOUN'), ('regulation', 'NOUN'), ('Yesterday', 'NOUN'), ('Marathon', 'NOUN'), ('mistake', 'NOUN'), ('exports', 'NOUN'), ('executive', 'ADJ'), ('Country', 'NOUN'), ('Wohlstetter', 'NOUN'), ('Mass', 'NOUN'), ('1.75', 'NUM'), ('Mac', 'NOUN'), ('familiar', 'ADJ'), ('measures', 'VERB'), ('Japanese', 'ADJ'), ('last', 'VERB'), ('indicate', 'VERB'), ('brought', 'VERB'), ('Orange', 'NOUN'), ('moved', 'VERB'), ('closer', 'ADJ'), ('Equitable', 'NOUN'), ('preliminary', 'ADJ'), ('capability', 'NOUN'), ('strapped', 'VERB'), ('election', 'NOUN'), ('Guard', 'NOUN'), ('believes', 'VERB'), ('restrictions', 'NOUN'), ('Wild', 'NOUN'), ('London-based', 'ADJ'), ('tons', 'NOUN'), ('McGuigan', 'NOUN'), ('violated', 'VERB'), ('Dutch', 'NOUN'), ('6.5', 'NUM'), ('chaotic', 'ADJ'), ('design', 'NOUN'), ('World', 'NOUN'), ('Shokubai', 'NOUN'), ('install', 'VERB'), ('end', 'NOUN'), ('representative', 'NOUN'), ('graphs', 'NOUN'), ('CIA', 'NOUN'), ('*T*-82', 'X'), ('combines', 'VERB'), ('2000', 'NUM'), ('Mitsui', 'NOUN'), ('society', 'NOUN'), ('Sasaki', 'NOUN'), ('Jack', 'NOUN'), ('interbank', 'NOUN'), ('encourage', 'VERB'), ('Cathryn', 'NOUN'), ('*T*-201', 'X'), ('happens', 'VERB'), ('examination', 'NOUN'), ('nearly-30', 'ADJ'), ('financial-services', 'NOUN'), ('unusually', 'ADV'), ('Experts', 'NOUN'), ('clean', 'VERB'), ('Foreigners', 'NOUN'), ('Tiny', 'NOUN'), ('can', 'NOUN'), ('amendments', 'NOUN'), ('self-esteem', 'NOUN'), ('advocating', 'VERB'), ('remarkable', 'ADJ'), ('Performing', 'VERB'), ('mother', 'NOUN'), ('77.6', 'NUM'), ('bases', 'NOUN'), ('entangled', 'ADJ'), ('bombarding', 'VERB'), ('relative', 'ADJ'), ('11.95', 'NUM'), ('added', 'VERB'), ('Venture', 'NOUN'), ('sale', 'NOUN'), ('form', 'NOUN'), ('edged', 'VERB'), ('motive', 'NOUN'), ('had', 'VERB'), ('*T*-160', 'X'), ('after', 'ADV'), ('J.', 'NOUN'), ('MONEY', 'NOUN'), ('Nippon', 'NOUN'), ('focused', 'VERB'), ('corruption', 'NOUN'), ('Georgia', 'NOUN'), ('characterized', 'VERB'), ('agreements', 'NOUN'), ('twist', 'NOUN'), ('Signs', 'NOUN'), ('exceptionally', 'ADV'), ('Chadha', 'NOUN'), ('compare', 'VERB'), ('95.09', 'NUM'), ('socialism', 'NOUN'), ('alive', 'ADJ'), ('taste', 'NOUN'), ('farms', 'NOUN'), ('report', 'NOUN'), ('temptation', 'NOUN'), ('clippings', 'NOUN'), ('wears', 'VERB'), ('Register', 'NOUN'), ('chooses', 'VERB'), ('Maine', 'NOUN'), ('Philadelphia', 'NOUN'), ('anti-abortion', 'ADJ'), ('Finland', 'NOUN'), ('Jay', 'NOUN'), ('three-year', 'ADJ'), ('exchanging', 'VERB'), ('10.5', 'NUM'), ('*?*', 'X'), ('taxpayers', 'NOUN'), ('naming', 'VERB'), ('64-year-old', 'ADJ'), ('Lumpur', 'NOUN'), ('Bowman', 'NOUN'), ('sagged', 'VERB'), ('N.J.', 'NOUN'), ('metals', 'NOUN'), ('TRUST', 'NOUN'), ('reductions', 'NOUN'), ('*-127', 'X'), ('Wine', 'NOUN'), ('older', 'ADJ'), ('inoperative', 'ADJ'), ('captivating', 'ADJ'), ('put', 'VERB'), ('Electric', 'NOUN'), ('Reached', 'VERB'), ('corners', 'NOUN'), ('October', 'NOUN'), ('passage', 'NOUN'), ('commit', 'VERB'), ('question', 'NOUN'), ('Insight', 'NOUN'), ('*T*-45', 'X'), ('Majority', 'NOUN'), ('5.29', 'NUM'), ('computerized', 'ADJ'), ('checks', 'NOUN'), ('Investments', 'NOUN'), ('Simon', 'NOUN'), ('barrels', 'NOUN'), ('warrants', 'VERB'), ('highly', 'ADV'), ('flap', 'NOUN'), ('defuse', 'VERB'), ('Obligations', 'NOUN'), ('1929', 'NUM'), ('McAuley', 'NOUN'), ('resonate', 'VERB'), ('executing', 'VERB'), ('tendered', 'VERB'), ('superior', 'ADJ'), ('directing', 'VERB'), ('Agency', 'NOUN'), ('%', 'ADJ'), ('J.P.', 'NOUN'), ('filling', 'NOUN'), ('budget', 'NOUN'), ('exercise', 'NOUN'), ('advanced', 'VERB'), ('purchasers', 'NOUN'), ('waiving', 'VERB'), ('disasters', 'NOUN'), ('Phillips', 'NOUN'), ('Policies', 'NOUN'), ('renewed', 'VERB'), ('offers', 'NOUN'), ('203', 'NUM'), ('Earlier', 'ADJ'), ('consumption', 'NOUN'), ('0.7', 'NUM'), ('Bob', 'NOUN'), ('Rankin', 'NOUN'), ('men', 'NOUN'), ('Derchin', 'NOUN'), ('note', 'VERB'), ('overlap', 'VERB'), ('April', 'NOUN'), ('resources', 'NOUN'), ('expressing', 'VERB'), ('furniture', 'NOUN'), ('undercut', 'VERB'), ('subscribers', 'NOUN'), ('*T*-176', 'X'), ('retailer', 'NOUN'), ('executed', 'VERB'), ('upsetting', 'VERB'), ('start', 'VERB'), ('Soldado', 'NOUN'), ('*T*-40', 'X'), ('bothered', 'VERB'), ('important', 'ADJ'), ('Arabia', 'NOUN'), ('murdered', 'VERB'), ('defense', 'NOUN'), ('271-147', 'NUM'), ('Liberation', 'NOUN'), ('caught', 'VERB'), ('above', 'ADV'), ('paperback', 'NOUN'), ('liberal', 'ADJ'), ('mines', 'NOUN'), (\"''\", '.'), ('4.875', 'NUM'), ('sulfur-dioxide', 'NOUN'), ('belts', 'NOUN'), ('refuge', 'NOUN'), ('worse', 'ADJ'), ('items', 'NOUN'), ('recommendations', 'NOUN'), ('story', 'NOUN'), ('stem', 'VERB'), ('targets', 'VERB'), ('debentures', 'NOUN'), ('sweeping', 'ADJ'), ('are', 'NOUN'), ('mainframe', 'NOUN'), ('7.63', 'NUM'), ('701', 'NUM'), ('Bradley', 'NOUN'), ('removal', 'NOUN'), ('METALS', 'NOUN'), ('rumors', 'NOUN'), ('sagging', 'VERB'), ('Fed', 'NOUN'), ('SALARIES', 'NOUN'), ('justice', 'NOUN'), ('signboards', 'NOUN'), ('Stamford', 'NOUN'), ('last', 'ADV'), ('lengthen', 'VERB'), ('unique', 'ADJ'), ('ambitious', 'ADJ'), ('climbed', 'VERB'), ('Bethlehem', 'NOUN'), ('defendant', 'NOUN'), ('131.01', 'NUM'), ('ones', 'NOUN'), ('jurisdictional', 'ADJ'), ('generally', 'ADV'), ('pressed', 'VERB'), ('strict', 'ADJ'), ('non-encapsulating', 'ADJ'), ('violation', 'NOUN'), ('begins', 'VERB'), ('Stocks', 'NOUN'), ('*T*-129', 'X'), ('Nicaraguan', 'ADJ'), ('bone', 'NOUN'), ('author', 'NOUN'), ('speed', 'NOUN'), ('judges', 'NOUN'), ('topped', 'VERB'), ('Anne', 'NOUN'), ('sound', 'NOUN'), ('sufficiently', 'ADV'), ('modify', 'VERB'), ('evaluated', 'VERB'), ('read', 'VERB'), ('USX', 'NOUN'), ('statistics', 'NOUN'), ('Enzor', 'NOUN'), ('Danube', 'NOUN'), ('computer', 'NOUN'), ('rulers', 'NOUN'), (\"'d\", 'VERB'), ('reputation', 'NOUN'), ('76', 'NUM'), ('cheerleaders', 'NOUN'), ('impeding', 'VERB'), ('stuff', 'NOUN'), ('ratcheting', 'VERB'), ('reruns', 'NOUN'), ('Treasury', 'NOUN'), ('jeopardy', 'NOUN'), ('bedding', 'NOUN'), ('mortgage-backed', 'ADJ'), ('agents', 'NOUN'), ('grade', 'NOUN'), ('declaring', 'VERB'), ('marketer', 'NOUN'), ('bought', 'VERB'), ('Rick', 'NOUN'), ('Texas', 'NOUN'), ('292.32', 'NUM'), ('reins', 'NOUN'), ('weeks', 'NOUN'), ('sensational', 'ADJ'), ('reclaim', 'VERB'), ('imply', 'VERB'), ('LTV', 'NOUN'), ('container', 'NOUN'), ('Equity', 'NOUN'), ('old', 'ADJ'), ('roughly', 'ADV'), ('expressed', 'VERB'), ('one-month', 'ADJ'), ('Reasons', 'NOUN'), ('7.88', 'NUM'), ('Barth', 'NOUN'), ('post', 'VERB'), ('Failure', 'NOUN'), ('staffs', 'NOUN'), ('philosophy', 'NOUN'), ('portray', 'VERB'), ('trading-company', 'NOUN'), ('63-year-old', 'ADJ'), ('following', 'VERB'), ('agreed', 'NOUN'), ('Express', 'NOUN'), ('medical', 'ADJ'), ('6,799', 'NUM'), ('standards', 'NOUN'), ('diabetes', 'NOUN'), ('syndication', 'NOUN'), ('Senate', 'NOUN'), ('another', 'DET'), ('tax', 'NOUN'), ('Mexico', 'NOUN'), ('attorney', 'NOUN'), ('50', 'NUM'), ('4.25', 'NUM'), ('Porter', 'NOUN'), ('declines', 'VERB'), ('Today', 'NOUN'), ('Arnold', 'NOUN'), ('672', 'NUM'), ('went', 'VERB'), ('Macheski', 'NOUN'), ('slip', 'VERB'), ('Mulford', 'NOUN'), ('best-seller', 'NOUN'), ('strains', 'NOUN'), ('IT', 'PRON'), ('pharmaceutical', 'ADJ'), ('enormously', 'ADV'), ('Xiaoping', 'NOUN'), ('1917', 'NUM'), ('52-week', 'ADJ'), ('integrated', 'ADJ'), ('Speculation', 'NOUN'), ('Peninsula', 'NOUN'), ('Patch', 'NOUN'), ('warn', 'VERB'), ('certain', 'ADJ'), ('goodwill', 'NOUN'), ('digs', 'VERB'), (\"Dunkin'\", 'NOUN'), ('obtained', 'VERB'), ('route', 'NOUN'), ('Documents', 'NOUN'), ('Senior', 'NOUN'), ('115', 'NUM'), ('category', 'NOUN'), ('Fulton', 'NOUN'), ('dreamt', 'VERB'), ('exacerbated', 'VERB'), ('house', 'VERB'), ('Democrat', 'NOUN'), ('meals', 'NOUN'), ('cavernous', 'ADJ'), ('convenient', 'ADJ'), ('valuable', 'ADJ'), ('proponents', 'NOUN'), ('Although', 'ADP'), ('Austin', 'NOUN'), ('4', 'NUM'), ('school', 'NOUN'), ('goverment', 'NOUN'), ('95', 'NUM'), ('COMMUNICATIONS', 'NOUN'), ('brain', 'NOUN'), ('kindergarten', 'NOUN'), ('Dr.', 'NOUN'), ('computer-system-design', 'ADJ'), ('wine', 'NOUN'), ('Odyssey', 'NOUN'), ('brunt', 'NOUN'), ('Allied', 'NOUN'), ('whole', 'ADJ'), ('Ratners', 'NOUN'), ('discourage', 'VERB'), ('Parent', 'NOUN'), ('auditor', 'NOUN'), ('startling', 'ADJ'), ('Wa', '.'), ('a', 'ADP'), ('*-109', 'X'), ('banquet', 'NOUN'), ('discounts', 'NOUN'), ('B.', 'NOUN'), ('buyer', 'NOUN'), ('straight', 'ADV'), ('old-time', 'ADJ'), ('averted', 'VERB'), ('prompts', 'VERB'), ('Orleans-based', 'ADJ'), ('wish', 'VERB'), ('Several', 'ADJ'), ('88', 'NUM'), ('readership', 'NOUN'), ('comments', 'VERB'), ('Meanwhile', 'ADV'), ('tobacco', 'NOUN'), ('We', 'PRON'), ('Mason', 'NOUN'), ('roughhewn', 'ADJ'), ('Rated', 'VERB'), ('high-rate', 'ADJ'), ('link', 'NOUN'), ('Wright', 'NOUN'), ('worthy', 'ADJ'), ('convey', 'VERB'), ('newcomer', 'NOUN'), ('precious', 'ADJ'), ('level', 'NOUN'), ('seasoned', 'ADJ'), ('avoid', 'VERB'), ('truth-in-lending', 'NOUN'), ('repay', 'VERB'), ('crushed', 'ADJ'), ('Government', 'NOUN'), ('black', 'ADJ'), ('11.10', 'NUM'), ('Palestinian', 'NOUN'), ('who', 'PRON'), ('broadcasts', 'NOUN'), ('kidnapping', 'NOUN'), ('fixtures', 'NOUN'), ('touted', 'VERB'), ('prints', 'NOUN'), ('*T*-35', 'X'), ('underlying', 'VERB'), ('847', 'NUM'), ('showed', 'VERB'), ('segment', 'NOUN'), ('Richebourg', 'NOUN'), ('disagree', 'VERB'), ('parched', 'VERB'), ('face', 'NOUN'), ('Instruments', 'NOUN'), ('want', 'VERB'), ('martyr', 'NOUN'), ('marching', 'VERB'), ('sport-utility', 'ADJ'), ('space', 'NOUN'), (\"'re\", 'VERB'), ('praised', 'VERB'), ('involved', 'VERB'), ('surprise', 'NOUN'), ('Oshkosh', 'NOUN'), ('suit', 'VERB'), ('2,700', 'NUM'), ('*-114', 'X'), ('provide', 'VERB'), ('Campbell', 'NOUN'), ('Tyre', 'NOUN'), ('Sherwood', 'NOUN'), ('meaning', 'VERB'), ('Health', 'NOUN'), ('catch-up', 'NOUN'), ('heard', 'VERB'), ('Sabhavasu', 'NOUN'), ('taxes', 'NOUN'), ('merchandising', 'NOUN'), ('collected', 'VERB'), ('stimulating', 'VERB'), ('tender', 'VERB'), ('many', 'ADJ'), ('expands', 'VERB'), ('covers', 'VERB'), ('For', 'ADP'), ('warning', 'VERB'), ('stages', 'NOUN'), ('commerce', 'NOUN'), ('handle', 'VERB'), ('big', 'ADJ'), ('age', 'NOUN'), ('capitalist', 'ADJ'), ('fled', 'VERB'), ('baseball', 'NOUN'), ('Nine', 'NUM'), ('specializes', 'VERB'), ('defeats', 'VERB'), ('colleges', 'NOUN'), ('independence', 'NOUN'), ('rating', 'NOUN'), ('deteriorating', 'VERB'), ('1787', 'NUM'), ('vehicle', 'NOUN'), ('Guber', 'NOUN'), ('venture', 'NOUN'), ('campaigning', 'NOUN'), ('Industry', 'NOUN'), ('thinking', 'VERB'), ('cure', 'VERB'), ('Stock', 'NOUN'), ('add', 'VERB'), ('operated', 'VERB'), ('cult', 'NOUN'), ('Stories', 'NOUN'), ('Rust', 'NOUN'), ('single', 'VERB'), ('adopted', 'VERB'), ('Donald', 'NOUN'), ('stunned', 'ADJ'), ('farm', 'NOUN'), ('Characters', 'NOUN'), ('seven-million-ton', 'ADJ'), ('stiffer', 'ADJ'), ('ADRs', 'NOUN'), ('agenda', 'NOUN'), ('leveraged', 'ADJ'), ('Groucho', 'NOUN'), ('stake', 'VERB'), ('banking', 'VERB'), ('financially', 'ADV'), ('governors', 'NOUN'), ('Consider', 'VERB'), ('Pretty', 'NOUN'), ('Basic', 'ADJ'), ('hostile', 'ADJ'), ('refused', 'VERB'), ('justified', 'VERB'), ('cancer', 'NOUN'), ('two-year', 'ADJ'), ('Reserve', 'NOUN'), ('Moleculon', 'NOUN'), ('*T*-258', 'X'), ('trimmed', 'VERB'), ('printing-press', 'NOUN'), ('unless', 'ADP'), ('position', 'NOUN'), ('*T*-194', 'X'), ('1,460', 'NUM'), ('valuation', 'NOUN'), ('export', 'VERB'), ('offerings', 'NOUN'), ('Grange', 'NOUN'), ('consent', 'NOUN'), ('2003\\\\/2007', 'NUM'), ('Mona', 'NOUN'), ('cover', 'VERB'), ('approach', 'VERB'), ('restructure', 'VERB'), ('Wis.', 'NOUN'), ('sketch', 'NOUN'), ('remodeling', 'NOUN'), ('earned', 'VERB'), ('Crane', 'NOUN'), ('spouse', 'NOUN'), ('Klauser', 'NOUN'), ('chocolate', 'ADJ'), ('richer', 'ADJ'), ('Circuit', 'NOUN'), ('Hudson', 'NOUN'), ('concerned', 'VERB'), ('Key', 'NOUN'), ('screens', 'NOUN'), ('29.9', 'NUM'), ('First', 'NOUN'), ('1998', 'NUM'), ('cheating', 'NOUN'), ('expecting', 'VERB'), ('Henderson', 'NOUN'), ('score', 'NOUN'), ('secured', 'VERB'), ('perspective', 'NOUN'), ('adjusted', 'VERB'), ('15,000', 'NUM'), ('doubts', 'VERB'), ('devastating', 'ADJ'), ('P.', 'NOUN'), ('Baim', 'NOUN'), ('properties', 'NOUN'), ('Jacobs', 'NOUN'), ('broadened', 'VERB'), ('course', 'NOUN'), ('Mr.', 'NOUN'), ('disappointing', 'ADJ'), ('Rogers', 'NOUN'), ('Deposits-a', 'NOUN'), ('discussed', 'VERB'), ('anyway', 'ADV'), ('BIRDS', 'NOUN'), ('boarding', 'VERB'), ('cheapest', 'ADJ'), ('hostility', 'NOUN'), ('cabinet', 'NOUN'), ('Lids', 'NOUN'), ('ratepayers', 'NOUN'), ('seven-year', 'ADJ'), ('Roman', 'ADJ'), ('*-86', 'X'), ('short', 'ADJ'), ('2,410', 'NUM'), ('scrape', 'VERB'), ('cease-fire', 'NOUN'), ('precedent', 'NOUN'), ('generations', 'NOUN'), ('Gottlieb', 'NOUN'), ('witness', 'NOUN'), ('hardly', 'ADV'), ('slowing', 'VERB'), ('jam', 'NOUN'), ('harass', 'VERB'), ('synthetic', 'ADJ'), ('free', 'ADV'), ('Ballantine\\\\/Del', 'NOUN'), ('397', 'NUM'), ('containing', 'VERB'), ('*T*-72', 'X'), ('steps', 'NOUN'), ('outlets', 'NOUN'), ('entire', 'ADJ'), ('announcer', 'NOUN'), ('expand', 'VERB'), ('3\\\\/8', 'NUM'), ('ran', 'VERB'), ('compound', 'NOUN'), ('ballot', 'NOUN'), ('retaliating', 'VERB'), ('Three', 'NUM'), ('schoolchildren', 'NOUN'), ('convicted', 'VERB'), ('broaden', 'VERB'), ('councils', 'NOUN'), ('polls', 'NOUN'), ('skirmishes', 'NOUN'), ('Controls', 'NOUN'), ('limping', 'VERB'), ('managing', 'VERB'), ('covering', 'VERB'), ('prying', 'ADJ'), ('substantial', 'ADJ'), ('topics', 'NOUN'), ('miners', 'NOUN'), ('responsibilities', 'NOUN'), ('sex', 'NOUN'), ('bloods', 'NOUN'), ('SALT', 'NOUN'), ('asserted', 'VERB'), ('procedures', 'NOUN'), ('moments', 'NOUN'), ('-LCB-', '.'), ('disturbs', 'VERB'), ('fixed-price', 'ADJ'), ('310', 'NUM'), ('protracted', 'ADJ'), ('officer', 'NOUN'), ('9.45', 'NUM'), ('Joni', 'NOUN'), ('ago', 'ADP'), ('claim', 'NOUN'), ('hypocrisy', 'NOUN'), ('bellringers', 'NOUN'), ('Keith', 'NOUN'), ('Spain', 'NOUN'), ('trends', 'NOUN'), ('include', 'VERB'), ('rock', 'NOUN'), ('*T*-54', 'X'), ('Sandra', 'NOUN'), ('Islamabad', 'NOUN'), ('torn', 'VERB'), ('impetuous', 'ADJ'), ('Prof', 'NOUN'), ('occur', 'VERB'), ('close', 'VERB'), ('even', 'VERB'), ('restructures', 'VERB'), ('habit', 'NOUN'), ('wealth', 'NOUN'), ('far', 'ADP'), ('Sugarman', 'NOUN'), ('*-47', 'X'), ('26.8', 'NUM'), ('sliding', 'VERB'), ('base', 'NOUN'), ('expensive', 'ADJ'), ('*T*-166', 'X'), ('*T*-65', 'X'), ('Riviera', 'NOUN'), ('flashy', 'ADJ'), ('Georgetown', 'NOUN'), ('Express-Buick', 'NOUN'), ('bled', 'VERB'), ('high-flying', 'ADJ'), ('Employers', 'NOUN'), ('3.20', 'NUM'), ('labor-management', 'NOUN'), ('Pentagon', 'NOUN'), ('Totally', 'ADV'), ('*T*-110', 'X'), ('abroad', 'ADV'), ('portions', 'NOUN'), ('22', 'NUM'), ('Salon', 'NOUN'), ('it', 'PRON'), ('scheme', 'NOUN'), ('dealings', 'NOUN'), ('ruled', 'VERB'), ('nail', 'NOUN'), ('non-U.S.', 'NOUN'), ('Western', 'ADJ'), ('How', 'ADV'), ('Sheep', 'NOUN'), ('Reddington', 'NOUN'), ('But', 'ADP'), ('Biedermann', 'NOUN'), ('Courter', 'NOUN'), ('Exxon', 'NOUN'), ('attack', 'VERB'), ('duties', 'NOUN'), ('Kligman', 'NOUN'), ('yielded', 'VERB'), ('*-4', 'X'), ('either', 'DET'), ('Heatherington', 'NOUN'), ('You', 'PRON'), ('notes', 'VERB'), ('self-perpetuating', 'ADJ'), ('influenced', 'VERB'), ('lacks', 'VERB'), ('weak', 'ADJ'), ('stock-selection', 'ADJ'), ('Standard', 'NOUN'), ('annoyed', 'VERB'), ('mental', 'ADJ'), ('skittishness', 'NOUN'), ('idiomatic', 'ADJ'), ('Pasadena', 'NOUN'), ('watch', 'VERB'), ('NL', 'NOUN'), ('contingent', 'NOUN'), ('2.62', 'NUM'), ('nobody', 'NOUN'), ('regulations', 'NOUN'), ('respondents', 'NOUN'), ('toward', 'ADP'), ('surge', 'VERB'), ('initiatives', 'VERB'), ('*-87', 'X'), ('giant', 'NOUN'), ('successfully', 'ADV'), ('television', 'NOUN'), ('disappointed', 'ADJ'), ('Seed', 'NOUN'), ('car-care', 'ADJ'), ('hands', 'NOUN'), ('Genie', 'NOUN'), ('Beach', 'NOUN'), ('5.63', 'NUM'), ('tanked', 'VERB'), ('psychology', 'NOUN'), ('126.15', 'NUM'), ('line', 'NOUN'), ('valuations', 'NOUN'), ('236.74', 'NUM'), ('decries', 'VERB'), ('seriously', 'ADV'), ('Ganes', 'NOUN'), ('3.19', 'NUM'), ('survival', 'NOUN'), ('intent', 'NOUN'), ('Haven', 'NOUN'), ('Lakes', 'NOUN'), ('enables', 'VERB'), ('goes', 'VERB'), ('indicated', 'VERB'), ('reaping', 'VERB'), ('1925', 'NUM'), ('sense', 'NOUN'), ('divided', 'VERB'), ('Bribe', 'NOUN'), ('unlikely', 'ADJ'), ('tomorrow', 'NOUN'), ('outright', 'ADJ'), ('Taurus', 'NOUN'), ('abide', 'VERB'), ('the', 'NUM'), ('snapped', 'VERB'), ('son', 'NOUN'), ('embarrassing', 'ADJ'), ('CDC', 'NOUN'), ('male', 'ADJ'), ('violations', 'NOUN'), ('recognition', 'NOUN'), ('comfortably', 'ADV'), ('She', 'PRON'), ('auctioned', 'VERB'), ('broadly', 'ADV'), ('reflect', 'VERB'), ('further', 'ADJ'), ('one-upsmanship', 'NOUN'), ('engineering', 'NOUN'), ('car', 'NOUN'), ('Named', 'VERB'), ('themselves', 'PRON'), ('Ringing', 'NOUN'), ('*T*-23', 'X'), ('criteria', 'NOUN'), ('bickering', 'NOUN'), ('11.6', 'NUM'), ('8.15', 'NUM'), ('*T*-111', 'X'), ('decay', 'NOUN'), ('A.C.', 'NOUN'), ('row', 'NOUN'), ('personnel', 'NOUN'), ('funds', 'NOUN'), ('exposures', 'NOUN'), ('Kane', 'NOUN'), ('rebuked', 'VERB'), ('technology', 'NOUN'), ('Free', 'NOUN'), ('volatile', 'ADJ'), ('inheritor', 'NOUN'), ('over', 'PRT'), ('lab', 'NOUN'), ('tempted', 'VERB'), ('Eakle', 'NOUN'), ('*T*-255', 'X'), ('borrowed', 'VERB'), ('tells', 'VERB'), ('observations', 'NOUN'), ('upset', 'VERB'), ('middle', 'NOUN'), ('laurels', 'NOUN'), ('filters', 'NOUN'), ('considerable', 'ADJ'), ('off-off', 'ADJ'), ('assistant', 'ADJ'), ('Jones', 'NOUN'), ('8.48', 'NUM'), ('lottery', 'NOUN'), ('present', 'ADJ'), ('economists', 'NOUN'), ('possessed', 'VERB'), ('church', 'NOUN'), ('programs', 'NOUN'), ('small', 'ADJ'), ('blue-chip', 'ADJ'), ('inappropriate', 'ADJ'), ('4.4', 'NUM'), ('Walbrecher', 'NOUN'), ('Skokie', 'NOUN'), ('microprocessors', 'NOUN'), ('suffer', 'VERB'), ('switched', 'VERB'), ('prohibits', 'VERB'), ('happened', 'VERB'), ('systems', 'NOUN'), ('describes', 'VERB'), ('Bennett', 'NOUN'), ('insurer', 'NOUN'), ('1.17', 'NUM'), ('establishing', 'VERB'), ('second-largest', 'ADJ'), ('intimately', 'ADV'), ('act', 'VERB'), ('wrists', 'NOUN'), ('News', 'NOUN'), ('flies', 'VERB'), ('trade', 'NOUN'), ('museum', 'NOUN'), ('districts', 'NOUN'), ('training', 'NOUN'), ('demonstrations', 'NOUN'), ('tracks', 'VERB'), ('reserves', 'NOUN'), ('totaled', 'VERB'), ('weather', 'VERB'), ('city-owned', 'ADJ'), ('Africa', 'NOUN'), ('7.272', 'NUM'), ('Lilly', 'NOUN'), ('indicates', 'VERB'), ('a', 'DET'), ('shareholders', 'NOUN'), ('stuck', 'VERB'), ('damages', 'NOUN'), ('breezy', 'ADJ'), ('offered', 'VERB'), ('new', 'ADJ'), ('210,000', 'NUM'), ('penny', 'NOUN'), ('Utsumi', 'NOUN'), ('planning', 'VERB'), ('*T*-59', 'X'), ('*-106', 'X'), ('close', 'ADV'), ('even', 'ADV'), ('99.3', 'NUM'), ('buffet', 'NOUN'), ('triple-C', 'NOUN'), ('contract', 'NOUN'), ('Areas', 'NOUN'), ('monthly', 'ADV'), ('complete', 'VERB'), ('mudslinging', 'NOUN'), ('Muzzling', 'ADJ'), ('root', 'NOUN'), ('87.5', 'NUM'), ('possibly', 'ADV'), ('stripped', 'VERB'), ('compassion', 'NOUN'), (\"'S\", 'VERB'), ('behemoth', 'NOUN'), ('using', 'VERB'), ('Purepac', 'NOUN'), ('Jefferson', 'NOUN'), ('occurrences', 'NOUN'), ('defeat', 'VERB'), ('convinced', 'VERB'), ('according', 'VERB'), ('boots', 'NOUN'), ('neighborhoods', 'NOUN'), ('headline', 'NOUN'), ('masters', 'NOUN'), ('persuade', 'VERB'), ('*T*-77', 'X'), ('*-26', 'X'), ('launch', 'VERB'), ('jet', 'VERB'), ('flatulent', 'ADJ'), ('fine', 'ADV'), ('marketing', 'NOUN'), ('G', 'NOUN'), ('diversionary', 'ADJ'), ('liability', 'NOUN'), ('Brooks', 'NOUN'), ('decision', 'NOUN'), ('449.04', 'NUM'), ('cleaner', 'ADJ'), ('PHOTOGRAPH', 'NOUN'), ('slate', 'NOUN'), ('Bermuda-based', 'ADJ'), ('1.46', 'NUM'), ('lousy', 'ADJ'), ('fan', 'NOUN'), ('Professional', 'NOUN'), ('S&L', 'NOUN'), ('target', 'NOUN'), ('stereo', 'NOUN'), ('Johnny', 'NOUN'), ('attracted', 'VERB'), ('assets', 'NOUN'), ('Kill', 'VERB'), ('mean', 'VERB'), ('bullets', 'NOUN'), ('money-fund', 'NOUN'), ('explain', 'VERB'), ('protections', 'NOUN'), ('indeed', 'ADV'), ('Nielsen', 'NOUN'), ('Gerard', 'NOUN'), ('fallen', 'VERB'), ('40-megabyte', 'ADJ'), ('Contracts', 'NOUN'), ('winning', 'ADJ'), ('market-based', 'ADJ'), ('B.A.T', 'NOUN'), ('proscribes', 'VERB'), ('McFall', 'NOUN'), ('afford', 'VERB'), ('enviable', 'ADJ'), ('protesters', 'NOUN'), ('afraid', 'ADJ'), ('accidents', 'NOUN'), ('disorders', 'NOUN'), ('principal', 'ADJ'), ('overpriced', 'VERB'), ('specifics', 'NOUN'), ('cruising', 'VERB'), ('routine', 'ADJ'), ('impressed', 'VERB'), ('692', 'NUM'), ('scandals', 'NOUN'), ('copycats', 'NOUN'), ('lobbyist', 'NOUN'), ('Maybe', 'ADV'), ('federal', 'ADJ'), ('shipyard', 'NOUN'), ('boom', 'NOUN'), ('McAlpine', 'NOUN'), ('Bretz', 'NOUN'), ('*T*-90', 'X'), ('interest', 'NOUN'), ('753', 'NUM'), ('investigation', 'NOUN'), ('Rather', 'ADV'), ('Carl', 'NOUN'), ('director', 'NOUN'), ('awful', 'ADJ'), ('memorize', 'VERB'), ('foreign-led', 'ADJ'), ('dissemination', 'NOUN'), ('inventories', 'NOUN'), ('advertising', 'VERB'), ('Scandinavian', 'ADJ'), ('467', 'NUM'), ('privately', 'ADV'), ('Index', 'NOUN'), ('Brenda', 'NOUN'), ('rewrite', 'VERB'), ('fail', 'VERB'), ('signaling', 'VERB'), ('back', 'VERB'), ('deal', 'NOUN'), ('represented', 'VERB'), ('Certainly', 'ADV'), ('similarity', 'NOUN'), ('27.4', 'NUM'), ('records', 'NOUN'), ('thanks', 'NOUN'), ('starts', 'VERB'), ('expanding', 'VERB'), ('developed', 'VERB'), ('my', 'PRON'), ('Organizations', 'NOUN'), ('133', 'NUM'), ('*-17', 'X'), ('invent', 'VERB'), ('tenure', 'NOUN'), ('La', 'NOUN'), ('1956', 'NUM'), ('file', 'VERB'), ('discrepancies', 'NOUN'), ('Dreyfus', 'NOUN'), ('Board', 'NOUN'), ('oblivion', 'NOUN'), ('rubber', 'NOUN'), ('week', 'NOUN'), ('self-regulatory', 'ADJ'), ('counts', 'NOUN'), ('Huber', 'NOUN'), ('produced', 'VERB'), ('psychiatrist', 'NOUN'), ('professor', 'NOUN'), ('manpower', 'NOUN'), ('494.50', 'NUM'), ('Reames', 'NOUN'), ('disaffected', 'ADJ'), ('14.53', 'NUM'), ('autumn', 'NOUN'), ('119', 'NUM'), ('bars', 'NOUN'), ('Reserves', 'NOUN'), ('hand', 'NOUN'), ('PRODUCTS', 'NOUN'), ('Fernando', 'NOUN'), ('Tribe', 'NOUN'), ('10,000', 'NUM'), ('dollar', 'NOUN'), ('Hamilton', 'NOUN'), ('*-77', 'X'), ('Circulations', 'NOUN'), ('reject', 'VERB'), ('named', 'VERB'), ('reluctance', 'NOUN'), ('pall', 'NOUN'), ('arts', 'NOUN'), ('Stung', 'VERB'), ('3.80', 'NUM'), ('behind', 'ADP'), ('upper', 'ADJ'), ('*T*-8', 'X'), ('aids', 'NOUN'), ('shoulder', 'NOUN'), ('cities', 'NOUN'), ('Institutions', 'NOUN'), ('proposition', 'NOUN'), ('black-and-white', 'ADJ'), ('alienated', 'VERB'), ('need', 'NOUN'), ('Judge', 'NOUN'), ('possible', 'ADJ'), ('events', 'NOUN'), ('injuries', 'NOUN'), ('conducting', 'VERB'), ('*-165', 'X'), ('enormous', 'ADJ'), ('assured', 'VERB'), ('*', 'X'), ('prosecuting', 'VERB'), ('were', 'VERB'), ('provisions', 'NOUN'), ('fuming', 'VERB'), ('spectacularly', 'ADV'), ('depended', 'VERB'), ('converted', 'VERB'), ('Sit', 'VERB'), ('Chrysler', 'NOUN'), ('readings', 'NOUN'), ('affect', 'VERB'), ('baby', 'NOUN'), ('shut', 'VERB'), ('People', 'NOUN'), ('Trading', 'NOUN'), ('situation', 'NOUN'), ('day-to-day', 'ADJ'), ('almost', 'ADV'), ('Ethel', 'NOUN'), ('M.D.', 'NOUN'), ('GMAC', 'NOUN'), ('reinstatement', 'NOUN'), ('predicts', 'VERB'), ('Pat', 'NOUN'), ('funded', 'ADJ'), ('transferring', 'VERB'), ('multitude', 'NOUN'), ('operating', 'VERB'), ('brokerage', 'NOUN'), ('obedient', 'ADJ'), ('avenues', 'NOUN'), ('encourages', 'VERB'), ('Professors', 'NOUN'), ('Cray', 'NOUN'), ('Moscow', 'NOUN'), ('3,040,000', 'NUM'), ('Stockbrokers', 'NOUN'), ('chairman', 'NOUN'), ('stop', 'VERB'), ('scrutiny', 'NOUN'), ('OF', 'ADP'), ('Hong', 'NOUN'), ('68', 'NUM'), ('raising', 'NOUN'), ('down', 'ADV'), ('Partly', 'ADV'), ('peculiarities', 'NOUN'), ('instance', 'NOUN'), ('each', 'DET'), ('asbestos', 'NOUN'), ('Griffin', 'NOUN'), ('stockbroker', 'NOUN'), ('fabricate', 'VERB'), ('difference', 'NOUN'), ('examine', 'VERB'), ('sufficient', 'ADJ'), ('1.76', 'NUM'), ('faces', 'VERB'), ('institute', 'VERB'), ('complains', 'VERB'), ('flow', 'NOUN'), ('copper-rich', 'ADJ'), ('weight', 'NOUN'), ('chary', 'ADJ'), ('450', 'NUM'), ('bludgeon', 'VERB'), ('laughing', 'ADJ'), ('nationwide', 'ADJ'), ('Founded', 'VERB'), ('Manufacturing', 'NOUN'), ('passbook', 'NOUN'), ('Sulaiman', 'NOUN'), ('Steel', 'NOUN'), ('Aslacton', 'NOUN'), ('dissident', 'NOUN'), ('150.00', 'NUM'), ('founded', 'VERB'), ('minus', 'CONJ'), ('sidelines', 'NOUN'), ('booming', 'VERB'), ('Of', 'ADP'), ('ranked', 'VERB'), ('497.34', 'NUM'), ('Factory', 'NOUN'), ('by', 'ADV'), ('direct', 'ADJ'), ('native', 'ADJ'), ('exposed', 'VERB'), ('3:15', 'NUM'), ('1973', 'NUM'), ('overpaying', 'VERB'), ('seat', 'NOUN'), ('four-year-old', 'ADJ'), ('one-house', 'ADJ'), ('tort', 'NOUN'), ('facility', 'NOUN'), ('acquires', 'VERB'), ('realization', 'NOUN'), ('Scott', 'NOUN'), ('associates', 'NOUN'), ('13.90', 'NUM'), ('20.07', 'NUM'), ('respected', 'VERB'), ('combination', 'NOUN'), ('extremely', 'ADV'), ('picking', 'VERB'), ('65', 'NUM'), ('*T*-198', 'X'), ('1991-1999', 'NUM'), ('Salinas', 'NOUN'), ('Butler', 'NOUN'), ('muster', 'NOUN'), ('accommodations', 'NOUN'), ('achieve', 'VERB'), ('America', 'NOUN'), ('spread', 'VERB'), ('0.5', 'NUM'), ('dead', 'ADJ'), ('travel', 'NOUN'), ('permitted', 'VERB'), ('materialistic', 'ADJ'), ('27.1', 'NUM'), ('rallying', 'VERB'), ('worth', 'ADJ'), ('Mortimer', 'NOUN'), ('politely', 'ADV'), ('will', 'NOUN'), ('petition', 'NOUN'), ('so', 'ADP'), ('yon', 'ADV'), ('social', 'ADJ'), ('Yields', 'NOUN'), ('fees', 'NOUN'), ('dubbed', 'VERB'), ('ought', 'VERB'), ('169.9', 'NUM'), ('cycles', 'NOUN'), ('back', 'ADV'), ('restructuring', 'NOUN'), ('rule', 'NOUN'), ('Barbados', 'NOUN'), ('*T*-248', 'X'), ('Californian', 'NOUN'), ('recalls', 'VERB'), ('borough', 'NOUN'), ('buy', 'VERB'), ('completion', 'NOUN'), ('revival', 'NOUN'), ('strategy', 'NOUN'), ('Ravenswood', 'NOUN'), ('tissue-transplant', 'ADJ'), ('Minneapolis', 'NOUN'), ('emphasized', 'VERB'), ('Great', 'NOUN'), ('quashing', 'VERB'), ('stable', 'NOUN'), ('191.9', 'NUM'), ('prospects', 'NOUN'), ('*T*-138', 'X'), ('made', 'VERB'), ('Taccetta', 'NOUN'), ('Polls', 'NOUN'), ('choosing', 'NOUN'), ('Nasdaq', 'NOUN'), ('*T*-26', 'X'), ('Orleans', 'NOUN'), ('warming', 'NOUN'), ('admitted', 'VERB'), ('landing', 'NOUN'), ('casts', 'VERB'), ('snow', 'NOUN'), ('Perhaps', 'ADV'), ('967,809', 'NUM'), ('Here', 'ADV'), ('formally', 'ADV'), ('13.8', 'NUM'), ('Edwards', 'NOUN'), ('funny', 'ADJ'), ('Louisiana-Pacific', 'NOUN'), ('scammers', 'NOUN'), ('expires', 'VERB'), ('Daily', 'NOUN'), ('--', '.'), ('sector', 'NOUN'), ('German', 'NOUN'), ('Drink', 'NOUN'), ('protection', 'NOUN'), ('Hubbell', 'NOUN'), ('assumption', 'NOUN'), ('proceedings', 'NOUN'), ('Hans', 'NOUN'), ('Toronto', 'NOUN'), ('subordinate', 'ADJ'), ('0.99', 'NUM'), ('arbitragers', 'NOUN'), ('welcomed', 'VERB'), ('confined', 'VERB'), ('decade-long', 'ADJ'), ('2.8', 'NUM'), ('Tourism', 'NOUN'), ('sanctions', 'NOUN'), ('vitriolic', 'ADJ'), ('affairs', 'NOUN'), ('ShareData', 'NOUN'), ('implicitly', 'ADV'), ('defeated', 'VERB'), ('Tokio', 'NOUN'), ('Week', 'NOUN'), ('called', 'VERB'), ('sterling', 'NOUN'), ('countless', 'ADJ'), ('change', 'VERB'), ('guarantee', 'NOUN'), ('devoted', 'VERB'), ('declaration', 'NOUN'), ('show', 'VERB'), ('viewpoints', 'NOUN'), ('TO', 'PRT'), ('Dollar-yen', 'ADJ'), ('5.7', 'NUM'), ('Woodcliff', 'NOUN'), ('1.8415', 'NUM'), ('signal', 'VERB'), ('standardized', 'ADJ'), ('stock-picking', 'ADJ'), ('prisoners', 'NOUN'), ('planners', 'NOUN'), ('lesions', 'NOUN'), ('magazine', 'NOUN'), ('Siegal', 'NOUN'), ('2.46', 'NUM'), ('watchers', 'NOUN'), ('Swiss', 'ADJ'), ('factor', 'NOUN'), ('Yet', 'CONJ'), ('Concurrent', 'ADJ'), ('McFarlan', 'NOUN'), ('Burnham', 'NOUN'), ('surely', 'ADV'), ('proof', 'ADJ'), ('nuclear', 'ADJ'), ('subminimum', 'NOUN'), ('Chiodo', 'NOUN'), ('smaller', 'ADJ'), ('Income', 'NOUN'), ('Iran\\\\/Contra', 'NOUN'), ('statewide', 'ADJ'), ('diplomats', 'NOUN'), ('*T*-57', 'X'), ('harped', 'VERB'), ('lower', 'ADV'), ('Bermuda', 'NOUN'), ('Svenska', 'NOUN'), ('Deane', 'NOUN'), ('controlled', 'VERB'), ('emerges', 'VERB'), ('devouring', 'VERB'), ('warrant', 'NOUN'), ('liquid', 'NOUN'), ('fall', 'VERB'), ('Hallwood', 'NOUN'), ('1992-1999', 'NUM'), ('controversy', 'NOUN'), ('nine', 'NUM'), ('grants', 'NOUN'), ('classed', 'VERB'), ('Maughan', 'NOUN'), ('Yale', 'NOUN'), ('return', 'VERB'), ('Malcolm', 'NOUN'), ('lesson', 'NOUN'), ('Merc', 'NOUN'), ('emphasis', 'NOUN'), ('incentive', 'NOUN'), ('cheat', 'VERB'), ('dairy', 'NOUN'), ('49.9', 'NUM'), ('binge', 'NOUN'), ('free', 'ADJ'), ('more', 'ADJ'), ('Alstyne', 'NOUN'), ('fourth', 'ADJ'), ('character', 'NOUN'), ('*T*-17', 'X'), ('buying', 'NOUN'), ('Daiwa', 'NOUN'), ('184', 'NUM'), ('proven', 'VERB'), ('drought', 'NOUN'), ('program-trading', 'ADJ'), ('1980s', 'NUM'), ('visit', 'NOUN'), ('AN', 'DET'), ('vitally', 'ADV'), ('vagrant', 'ADJ'), ('workers', 'NOUN'), ('samples', 'NOUN'), ('emigrate', 'VERB'), ('understand', 'VERB'), ('Outside', 'ADJ'), ('I', 'NOUN'), ('Data', 'NOUN'), ('table', 'NOUN'), ('negotiator', 'NOUN'), ('approximately', 'ADV'), ('promise', 'NOUN'), ('Harpo', 'NOUN'), ('working', 'VERB'), ('cost', 'NOUN'), ('Cabernets', 'NOUN'), ('Poor', 'NOUN'), ('Irwin', 'NOUN'), ('Claude', 'NOUN'), ('Carolina', 'NOUN'), ('domestic', 'ADJ'), ('Roederer', 'NOUN'), ('PTA', 'NOUN'), ('beleaguered', 'VERB'), ('83,206', 'NUM'), ('500-Stock', 'NOUN'), ('forecasting', 'VERB'), ('melt-textured', 'ADJ'), (\"'ve\", 'VERB'), ('staid', 'VERB'), ('ballplayers', 'NOUN'), ('harms', 'VERB'), ('OSHA', 'NOUN'), ('day', 'NOUN'), ('feeds', 'VERB'), ('reprove', 'VERB'), ('Commonwealth', 'NOUN'), ('Angeles', 'NOUN'), ('credibility', 'NOUN'), ('state-supervised', 'ADJ'), ('Mead', 'NOUN'), ('That', 'ADP'), ('junk', 'NOUN'), ('confidence', 'NOUN'), ('signals', 'VERB'), ('tower', 'NOUN'), ('dominant', 'ADJ'), ('stadium', 'NOUN'), ('suspects', 'VERB'), ('dust-up', 'NOUN'), ('superconductors', 'NOUN'), ('Air', 'NOUN'), ('Consolidated', 'NOUN'), ('Tiphook', 'NOUN'), ('won', 'VERB'), ('lawmakers', 'NOUN'), ('advantage', 'NOUN'), ('peculiar', 'ADJ'), ('Investor', 'NOUN'), ('countries', 'NOUN'), ('replacing', 'VERB'), ('no', 'ADV'), ('resentment', 'NOUN'), ('prayer', 'NOUN'), ('curb', 'VERB'), ('14.00', 'NUM'), ('gaining', 'VERB'), ('struggled', 'VERB'), ('tours', 'NOUN'), ('Office', 'NOUN'), ('Avenue', 'NOUN'), ('retort', 'NOUN'), ('Charles', 'NOUN'), ('Total', 'ADJ'), ('millions', 'NOUN'), ('Alurralde', 'NOUN'), ('*T*-66', 'X'), ('do-it-yourself', 'ADJ'), ('Computer', 'NOUN'), ('social-studies', 'NOUN'), ('enters', 'VERB'), ('As', 'ADV'), ('transfers', 'VERB'), ('AND', 'NOUN'), ('talk', 'NOUN'), ('announced', 'VERB'), ('posted', 'VERB'), ('laser', 'NOUN'), ('Elco', 'NOUN'), ('212', 'NUM'), ('Portugal', 'NOUN'), ('English', 'ADJ'), ('stocks', 'ADV'), ('obsession', 'NOUN'), ('Strategic', 'ADJ'), ('slide', 'NOUN'), ('Lt.', 'NOUN'), ('spurned', 'VERB'), ('unitholders', 'NOUN'), ('open', 'ADJ'), ('CORP', 'NOUN'), ('points', 'VERB'), ('school-district', 'NOUN'), ('about', 'PRT'), ('ship', 'NOUN'), ('*T*-108', 'X'), ('referendum', 'NOUN'), ('fund', 'VERB'), ('cultivated', 'VERB'), ('9,118', 'NUM'), ('Bell', 'NOUN'), ('Regulatory', 'NOUN'), ('living', 'VERB'), ('negotiations', 'NOUN'), ('view', 'VERB'), ('value', 'NOUN'), ('Church', 'NOUN'), ('risen', 'VERB'), ('29year', 'ADJ'), ('fatalities', 'NOUN'), ('France', 'NOUN'), ('Constitution', 'NOUN'), ('smiles', 'NOUN'), ('cards', 'NOUN'), ('receptive', 'ADJ'), ('stand', 'VERB'), ('severe', 'ADJ'), ('aid', 'VERB'), ('*T*-74', 'X'), ('*-61', 'X'), ('recovered', 'VERB'), ('discos', 'NOUN'), ('retained', 'VERB'), ('DNA', 'NOUN'), ('you', 'PRON'), ('Big', 'NOUN'), ('*-48', 'X'), ('Kent', 'NOUN'), ('jury', 'NOUN'), ('winners', 'NOUN'), ('disclosure', 'NOUN'), ('1950s', 'NUM'), ('frequently', 'ADV'), ('Due', 'ADJ'), ('pledged', 'VERB'), ('instructed', 'VERB'), ('attempted', 'VERB'), ('land', 'NOUN'), ('IRS', 'NOUN'), ('crossing', 'VERB'), ('*-124', 'X'), ('railroad', 'NOUN'), ('Byron', 'NOUN'), ('stretching', 'VERB'), ('happy', 'ADJ'), ('*T*-42', 'X'), ('packaging', 'VERB'), ('curly', 'ADJ'), ('12.09', 'NUM'), ('certin', 'NOUN'), ('*-94', 'X'), ('waive', 'VERB'), ('heightened', 'VERB'), ('COPPER', 'NOUN'), ('*T*-32', 'X'), ('vicars', 'NOUN'), ('painting', 'NOUN'), ('buoyed', 'VERB'), ('Trinity', 'NOUN'), ('neat', 'ADJ'), ('Choose', 'VERB'), ('hitting', 'VERB'), ('III', 'NOUN'), ('ailing', 'VERB'), ('Auditors', 'NOUN'), ('near-limit', 'ADJ'), ('Jeffrey', 'NOUN'), ('non-biodegradable', 'ADJ'), ('5.82', 'NUM'), ('Union', 'NOUN'), ('individuals', 'NOUN'), ('years', 'NOUN'), ('protocols', 'NOUN'), ('player', 'NOUN'), ('peals', 'NOUN'), ('*U*', 'X'), ('fierce', 'ADJ'), ('slow', 'VERB'), ('3', 'X'), ('interviewed', 'VERB'), ('started', 'VERB'), ('An', 'DET'), ('psychiatric', 'ADJ'), ('Watanabe', 'NOUN'), ('rival', 'NOUN'), ('Proceeds', 'NOUN'), ('clashed', 'VERB'), ('1983-85', 'NUM'), ('Pepperdine', 'NOUN'), ('finally', 'ADV'), ('reorganization', 'NOUN'), ('because', 'ADP'), ('planted', 'VERB'), ('depend', 'VERB'), ('879', 'NUM'), ('Possible', 'ADJ'), ('downtown', 'NOUN'), ('congressional', 'ADJ'), ('platinum', 'NOUN'), ('hire', 'VERB'), ('borrowing', 'VERB'), ('Craftsmen', 'NOUN'), ('cycle', 'NOUN'), ('must', 'VERB'), ('stiff', 'ADJ'), ('put', 'NOUN'), ('promotion', 'NOUN'), ('apiece', 'ADV'), ('hurdles', 'NOUN'), ('Southeast', 'ADJ'), ('invest', 'VERB'), ('Oxnard', 'NOUN'), ('degree', 'NOUN'), ('NBI', 'NOUN'), ('bin', 'NOUN'), ('tailor-made', 'ADJ'), ('HHS', 'NOUN'), ('crises', 'NOUN'), ('sheepskin', 'NOUN'), ('creator', 'NOUN'), ('uncertainties', 'NOUN'), ('new-home', 'ADJ'), ('aggravated', 'VERB'), ('close', 'ADJ'), ('Buying', 'VERB'), ('privileged', 'ADJ'), ('picks', 'VERB'), ('forced', 'VERB'), ('double-C', 'NOUN'), ('gradual', 'ADJ'), ('*-23', 'X'), ('Northeast', 'NOUN'), ('20,000', 'NUM'), ('discussing', 'VERB'), ('placed', 'VERB'), ('type', 'NOUN'), ('playful', 'ADJ'), ('father-in-law', 'NOUN'), ('rate', 'NOUN'), ('capsules', 'NOUN'), ('Neanderthals', 'NOUN'), ('Longer', 'ADJ'), ('Jr.', 'NOUN'), ('develops', 'VERB'), ('gradually', 'ADV'), ('sheet', 'NOUN'), ('computer-generated', 'ADJ'), ('airlines', 'NOUN'), ('January', 'NOUN'), ('spilling', 'NOUN'), ('Ratings', 'NOUN'), ('Among', 'ADP'), ('Lawyers', 'NOUN'), ('These', 'DET'), ('Langner', 'NOUN'), ('offsetting', 'VERB'), ('24.95', 'NUM'), ('GAF', 'NOUN'), ('ministry', 'NOUN'), ('metropolitan', 'ADJ'), ('inquiring', 'VERB'), ('simultaneous', 'ADJ'), ('Prize', 'NOUN'), ('MacDonald', 'NOUN'), ('march', 'NOUN'), ('GOODY', 'NOUN'), ('luck', 'NOUN'), ('cell', 'NOUN'), ('blood-cell', 'NOUN'), ('targets', 'NOUN'), ('nonprofit', 'ADJ'), ('automotive', 'ADJ'), ('condition', 'NOUN'), ('arguing', 'VERB'), ('curses', 'NOUN'), ('And', 'CONJ'), ('Legend', 'NOUN'), ('contacts', 'NOUN'), ('correct', 'ADJ'), ('absurdity', 'NOUN'), ('harassment', 'NOUN'), ('candidates', 'NOUN'), ('dry', 'ADJ'), ('ASSETS', 'NOUN'), ('filing', 'NOUN'), ('outlawing', 'VERB'), ('refunds', 'NOUN'), ('shortages', 'NOUN'), ('Oil', 'NOUN'), ('275', 'NUM'), ('Leinonen', 'NOUN'), ('advocated', 'VERB'), ('certified', 'ADJ'), ('AT&T', 'NOUN'), ('DES', 'NOUN'), ('reviewing', 'VERB'), ('Bond', 'NOUN'), ('whichever', 'DET'), ('peaks', 'NOUN'), ('Group', 'NOUN'), ('alerts', 'VERB'), ('Kodansha', 'NOUN'), ('tool', 'NOUN'), ('versions', 'NOUN'), ('regions', 'NOUN'), ('appealing', 'VERB'), ('Contras', 'NOUN'), ('*T*-221', 'X'), ('council', 'NOUN'), ('including', 'ADP'), ('increases', 'NOUN'), ('917', 'NUM'), ('Olsen', 'NOUN'), ('Traficant', 'NOUN'), ('superimposed', 'VERB'), ('ushered', 'VERB'), ('initial', 'ADJ'), ('double', 'VERB'), ('Pramual', 'NOUN'), ('parliament', 'NOUN'), ('Otherwise', 'ADV'), ('4.898', 'NUM'), ('outcry', 'NOUN'), ('devote', 'VERB'), ('imposing', 'VERB'), ('overdone', 'VERB'), ('Bougainville', 'NOUN'), ('1970s', 'NUM'), ('outbid', 'VERB'), ('sidewalk', 'NOUN'), ('Grace', 'NOUN'), ('Rothschild', 'NOUN'), ('transforming', 'VERB'), ('saying', 'VERB'), ('Moreover', 'ADV'), ('Typical', 'ADJ'), ('Contel', 'NOUN'), ('silent', 'ADJ'), ('Airlines', 'NOUN'), ('FT-SE', 'NOUN'), ('Katzenstein', 'NOUN'), ('post', 'NOUN'), ('undersecretary', 'NOUN'), ('potential', 'NOUN'), ('*T*-163', 'X'), ('arbitrager', 'NOUN'), ('pregnant', 'ADJ'), ('3.7', 'NUM'), ('Torrington', 'NOUN'), ('12.52', 'NUM'), ('estate', 'NOUN'), ('Connecticut', 'NOUN'), ('measure', 'VERB'), ('scream', 'VERB'), ('Hackensack', 'NOUN'), ('360', 'NUM'), ('one-time', 'ADJ'), ('less', 'ADV'), ('37-a-share', 'ADJ'), ('barred', 'VERB'), ('Soviets', 'NOUN'), ('Beirut', 'NOUN'), ('greenmailer', 'NOUN'), ('SAT', 'NOUN'), ('findings', 'NOUN'), ('Fundamentalists', 'NOUN'), ('explains', 'VERB'), ('bankruptcy', 'NOUN'), ('knell', 'NOUN'), ('slow', 'ADV'), ('Yasuda', 'NOUN'), ('piece', 'NOUN'), ('Jacksonville', 'NOUN'), ('factory', 'NOUN'), ('conditional', 'ADJ'), ('finance', 'VERB'), ('Acceptance', 'NOUN'), ('answer', 'NOUN'), ('slab', 'NOUN'), ('center', 'NOUN'), ('Cougar', 'NOUN'), ('if', 'ADP'), ('elimination', 'NOUN'), ('NRDC', 'NOUN'), ('unhappy', 'ADJ'), ('serves', 'VERB'), ('pointed', 'VERB'), ('cigarette', 'NOUN'), ('77.56', 'NUM'), ('121.6', 'NUM'), ('auction', 'NOUN'), ('oilman', 'NOUN'), ('somewhat', 'ADV'), ('del', 'DET'), ('consider', 'VERB'), ('citations', 'NOUN'), ('245', 'NUM'), ('perpetuate', 'VERB'), ('century', 'NOUN'), ('36', 'NUM'), ('Academically', 'ADV'), ('Who', 'PRON'), ('pre-1933', 'ADJ'), ('sentiment', 'NOUN'), ('citation', 'NOUN'), ('developer', 'NOUN'), ('dispute', 'NOUN'), ('there', 'ADV'), ('explained', 'VERB'), ('establishment', 'NOUN'), ('electric', 'ADJ'), ('1.125', 'NUM'), ('account', 'VERB'), ('counterrevolutionary', 'ADJ'), ('Claire', 'NOUN'), ('harmony', 'NOUN'), ('eligible', 'ADJ'), ('lore', 'NOUN'), ('front', 'ADJ'), ('wheels', 'NOUN'), ('neoprene', 'NOUN'), ('unattractive', 'ADJ'), ('lifes', 'NOUN'), ('central', 'ADJ'), ('32', 'NUM'), ('comments', 'NOUN'), ('Conn.', 'NOUN'), ('benchmark', 'NOUN'), ('find', 'VERB'), ('Housing', 'NOUN'), ('3.9', 'NUM'), ('portfolio', 'NOUN'), ('rebound', 'NOUN'), ('tests', 'NOUN'), ('bag', 'NOUN'), ('Partners', 'NOUN'), ('claims', 'VERB'), ('mired', 'VERB'), ('inflation', 'NOUN'), ('prepare', 'VERB'), ('annual', 'ADJ'), ('Unfortunately', 'ADV'), ('latter', 'NOUN'), ('driver', 'NOUN'), ('downright', 'ADV'), ('support', 'NOUN'), ('job', 'NOUN'), ('suspect', 'VERB'), ('300,000', 'NUM'), ('Only', 'ADV'), ('currency', 'NOUN'), ('dealers', 'NOUN'), ('Financial', 'NOUN'), ('52', 'NUM'), ('History', 'NOUN'), ('*T*-168', 'X'), ('quoting', 'VERB'), ('hundred', 'NUM'), ('machinists', 'NOUN'), ('handful', 'NOUN'), ('providing', 'VERB'), ('PLO', 'NOUN'), ('eliminating', 'VERB'), ('threat', 'NOUN'), ('deserving', 'ADJ'), ('suit', 'NOUN'), ('Magleby', 'NOUN'), ('population', 'NOUN'), ('48', 'NUM'), ('Risks', 'NOUN'), ('laying', 'VERB'), ('ornamental', 'ADJ'), ('benefit', 'VERB'), ('meaning', 'NOUN'), ('productivity', 'NOUN'), ('panic', 'NOUN'), ('commanded', 'VERB'), ('revolves', 'VERB'), ('through', 'ADP'), ('city', 'NOUN'), ('risks', 'NOUN'), ('reportedly', 'ADV'), ('Chevrolet', 'NOUN'), ('*T*-207', 'X'), ('tender', 'NOUN'), ('clarified', 'VERB'), ('Each', 'DET'), ('-', '.'), ('as', 'ADV'), ('range', 'VERB'), ('Bells', 'NOUN'), ('organizations', 'NOUN'), ('radically', 'ADV'), ('Elizabeth', 'NOUN'), ('elsewhere', 'ADV'), ('steady', 'ADJ'), ('million-a-year', 'ADJ'), ('attract', 'VERB'), ('cash-flow', 'ADJ'), ('*T*-148', 'X'), ('representatives', 'NOUN'), ('soul', 'NOUN'), ('duo', 'NOUN'), ('492', 'NUM'), ('dusty', 'ADJ'), ('road', 'NOUN'), ('Security', 'NOUN'), ('assaults', 'NOUN'), ('Funny', 'ADJ'), ('hugging', 'VERB'), ('folio', 'NOUN'), ('25.50', 'NUM'), ('champions', 'NOUN'), ('750,000', 'NUM'), ('USA', 'NOUN'), ('red-flag', 'VERB'), ('stake', 'NOUN'), ('0.50', 'NUM'), ('completed', 'VERB'), ('farmers', 'NOUN'), ('expect', 'VERB'), ('harvested', 'VERB'), ('pending', 'VERB'), ('McMillin', 'NOUN'), ('stronger', 'ADJ'), ('Index-arbitrage', 'NOUN'), ('characteristics', 'NOUN'), ('dissolves', 'VERB'), ('players', 'NOUN'), ('WAFA', 'NOUN'), ('fans', 'NOUN'), ('1.19', 'NUM'), ('highs', 'NOUN'), ('dollars', 'NOUN'), ('funding', 'VERB'), ('Monitor', 'NOUN'), ('mechanically', 'ADV'), ('stock-price', 'NOUN'), ('hair', 'NOUN'), ('Hospital', 'NOUN'), ('Petroleum', 'NOUN'), ('600', 'NUM'), ('due', 'ADJ'), ('apples', 'NOUN'), ('Wu', 'NOUN'), ('adult', 'NOUN'), ('ideological', 'ADJ'), ('loan', 'NOUN'), ('diversified', 'VERB'), ('capital-markets', 'ADJ'), ('creativity', 'NOUN'), ('usually', 'ADV'), ('strongest', 'ADJ'), ('requested', 'VERB'), ('*-54', 'X'), ('Excluding', 'VERB'), ('reassuring', 'ADJ'), ('summer\\\\/winter', 'ADJ'), (\"'30s\", 'NUM'), ('1.25', 'NUM'), ('distinct', 'ADJ'), ('Mississippi', 'NOUN'), ('assassinated', 'VERB'), ('compilation', 'NOUN'), ('dismissed', 'VERB'), ('newsworthy', 'ADJ'), ('playing', 'VERB'), ('insurance', 'NOUN'), ('eating', 'VERB'), ('Farmers', 'NOUN'), ('Evidence', 'NOUN'), ('interim', 'ADJ'), ('forcing', 'VERB'), ('troubled', 'ADJ'), ('37.3', 'NUM'), ('46', 'NUM'), ('decides', 'VERB'), ('N.J', 'NOUN'), ('vicious', 'ADJ'), ('bilingual', 'ADJ'), ('vintages', 'NOUN'), ('considering', 'VERB'), ('Signet', 'NOUN'), ('lobbies', 'NOUN'), ('deceptive', 'ADJ'), ('Scoring', 'NOUN'), ('spackle', 'VERB'), ('proceeds', 'NOUN'), ('rolled', 'VERB'), ('Marchand', 'NOUN'), ('slowing', 'NOUN'), ('rebellion', 'NOUN'), ('varying', 'VERB'), ('fetal', 'ADJ'), ('Allergan', 'NOUN'), ('year-long', 'ADJ'), (\"'86\", 'NUM'), ('Roukema', 'NOUN'), ('Send', 'VERB'), ('Rockefeller', 'NOUN'), ('may', 'VERB'), ('trying', 'VERB'), ('does', 'VERB'), ('delivered', 'VERB'), ('taxable', 'ADJ'), ('faster', 'ADJ'), ('pension-fund', 'ADJ'), ('Fabian', 'NOUN'), ('5', 'NUM'), ('ENERGY', 'NOUN'), ('beers', 'NOUN'), ('Destinations', 'NOUN'), ('charging', 'VERB'), ('single-handed', 'ADJ'), ('labeled', 'VERB'), ('crop', 'NOUN'), ('recipient', 'ADJ'), ('1,500', 'NUM'), ('open-top', 'ADJ'), ('arbs', 'NOUN'), ('Fargo', 'NOUN'), ('merchant', 'ADJ'), ('technologies', 'NOUN'), ('mirror', 'VERB'), ('Ronald', 'NOUN'), ('705.6', 'NUM'), ('enabling', 'VERB'), ('move', 'VERB'), ('accepting', 'VERB'), ('Shrum', 'NOUN'), ('*T*-215', 'X'), ('capture', 'VERB'), ('brakes', 'NOUN'), ('beautiful', 'ADJ'), ('cushion', 'NOUN'), ('derivatives', 'NOUN'), ('cooperating', 'VERB'), ('staggering', 'ADJ'), ('deny', 'VERB'), ('*T*-233', 'X'), ('boost', 'NOUN'), ('computer-assisted', 'ADJ'), ('7.95', 'NUM'), ('preclude', 'VERB'), ('article', 'NOUN'), ('volume', 'NOUN'), ('forest-product', 'NOUN'), ('winner', 'NOUN'), ('1967', 'NUM'), ('dominates', 'VERB'), ('offending', 'VERB'), ('advertisers', 'NOUN'), ('ascribe', 'VERB'), ('worry', 'VERB'), ('approve', 'VERB'), ('die', 'VERB'), ('justices', 'NOUN'), ('Notes', 'NOUN'), ('interview', 'NOUN'), ('whimsical', 'ADJ'), ('1981', 'NUM'), ('license', 'VERB'), ('done', 'VERB'), ('Division', 'NOUN'), ('high-risk', 'ADJ'), ('remarked', 'VERB'), ('19.95', 'NUM'), ('vacation', 'NOUN'), ('*-53', 'X'), ('confused', 'VERB'), ('turning', 'VERB'), ('set', 'VERB'), ('excess', 'NOUN'), ('austere', 'ADJ'), ('its', 'PRON'), ('accept', 'VERB'), ('building', 'VERB'), ('officers', 'NOUN'), ('Danzig', 'NOUN'), ('Absorbed', 'VERB'), ('Trump', 'NOUN'), ('best', 'ADJ'), ('Messrs.', 'NOUN'), ('frequency', 'NOUN'), ('*T*-51', 'X'), ('stakes', 'NOUN'), ('fundraising', 'VERB'), ('better', 'ADJ'), ('fine', 'NOUN'), ('low-cost', 'ADJ'), ('writers', 'NOUN'), ('Cancer', 'NOUN'), ('option', 'NOUN'), (\"'\", 'PRT'), ('Bates', 'NOUN'), ('half', 'DET'), ('Citadel', 'NOUN'), ('people', 'NOUN'), ('Goldsmith', 'NOUN'), ('Barnett', 'NOUN'), ('attack', 'NOUN'), ('amended', 'VERB'), ('notes', 'NOUN'), ('spending', 'VERB'), ('behest', 'NOUN'), ('62%-owned', 'ADJ'), ('huge', 'ADJ'), ('1920s', 'NOUN'), ('watch', 'NOUN'), ('tackle', 'VERB'), ('steelmaker', 'NOUN'), ('Orchestra', 'NOUN'), ('billionaire', 'NOUN'), ('resigned', 'VERB'), ('4.5', 'NUM'), ('surge', 'NOUN'), ('1993', 'NUM'), ('wound', 'VERB'), ('Forster', 'NOUN'), ('motors', 'NOUN'), ('Isabelle', 'NOUN'), ('scuttle', 'VERB'), ('*T*-169', 'X'), ('II', 'NOUN'), ('series', 'NOUN'), ('unavailability', 'NOUN'), ('spectrum', 'NOUN'), ('outrage', 'NOUN'), ('baskets', 'NOUN'), ('connection', 'NOUN'), ('renovation', 'NOUN'), ('window', 'NOUN'), ('twin-jet', 'NOUN'), ('acted', 'VERB'), ('Advocates', 'NOUN'), ('full-time', 'ADJ'), ('ambassadors', 'NOUN'), ('shedding', 'VERB'), ('reps', 'NOUN'), ('decided', 'VERB'), ('Recess', 'NOUN'), ('trust', 'VERB'), ('competes', 'VERB'), ('Containers', 'NOUN'), ('true', 'ADJ'), ('contacted', 'VERB'), ('uptick', 'NOUN'), ('crippled', 'VERB'), ('network', 'NOUN'), ('succeeds', 'VERB'), ('learned', 'VERB'), ('distribution', 'NOUN'), ('Optical', 'NOUN'), ('Trust', 'NOUN'), ('*-18', 'X'), ('viewership', 'NOUN'), ('jeopardizing', 'VERB'), ('sabotage', 'VERB'), ('total', 'VERB'), ('point', 'VERB'), ('women', 'NOUN'), ('withdrawn', 'VERB'), ('duly', 'ADV'), ('Lonski', 'NOUN'), ('State', 'NOUN'), ('U.S.-backed', 'ADJ'), ('discussions', 'NOUN'), ('R', 'NOUN'), ('ultimate', 'ADJ'), ('comprehensive', 'ADJ'), ('Harrison', 'NOUN'), ('58.64', 'NUM'), ('specialize', 'VERB'), ('curbing', 'VERB'), ('licenses', 'NOUN'), ('clouds', 'NOUN'), ('simultaneously', 'ADV'), ('Hammond', 'NOUN'), ('warns', 'VERB'), ('Preston', 'NOUN'), ('Czech', 'ADJ'), ('Elliott', 'NOUN'), ('shrinks', 'VERB'), ('acceptances', 'NOUN'), ('or', 'CONJ'), ('turned', 'VERB'), ('posts', 'VERB'), ('call', 'VERB'), ('legislators', 'NOUN'), ('4.7', 'NUM'), ('Entertainment', 'NOUN'), ('built-from-kit', 'ADJ'), ('Lighthouse', 'NOUN'), ('underperforming', 'VERB'), ('Motor', 'NOUN'), ('barriers', 'NOUN'), ('employment', 'NOUN'), ('programmer', 'NOUN'), ('Nobel', 'NOUN'), ('ordeal', 'NOUN'), ('AC-130U', 'NOUN'), ('halls', 'NOUN'), ('Romanee-Conti', 'NOUN'), ('European', 'NOUN'), ('offense', 'NOUN'), ('deprived', 'VERB'), ('institutions', 'NOUN'), ('housing', 'NOUN'), ('nation', 'NOUN'), ('convertible', 'ADJ'), ('*-163', 'X'), ('*-30', 'X'), ('breaks', 'VERB'), ('gone', 'VERB'), ('terms', 'NOUN'), ('Ballot', 'NOUN'), ('greatly', 'ADV'), ('Hoylake', 'NOUN'), ('limits', 'NOUN'), ('houses', 'NOUN'), ('subsidiaries', 'NOUN'), ('*T*-46', 'X'), ('8.07', 'NUM'), ('pressured', 'ADJ'), ('hustlers', 'NOUN'), ('expression', 'NOUN'), ('*-126', 'X'), ('598', 'NUM'), ('breathed', 'VERB'), ('agreement', 'NOUN'), ('warranties', 'NOUN'), ('resumes', 'VERB'), ('recruiting', 'VERB'), ('rooted', 'VERB'), ('100,980', 'NUM'), ('attributes', 'VERB'), ('career', 'NOUN'), ('Almost', 'ADV'), (\"D'Amico\", 'NOUN'), ('heads', 'VERB'), ('parties', 'NOUN'), ('Dennis', 'NOUN'), ('spot', 'NOUN'), ('Sauternes', 'NOUN'), ('textile', 'NOUN'), ('Rekindled', 'VERB'), ('Vinken', 'NOUN'), ('your', 'PRON'), ('debt', 'NOUN'), ('respite', 'NOUN'), ('purhasing', 'NOUN'), ('swing', 'VERB'), ('explore', 'VERB'), ('Boorse', 'NOUN'), ('Particularly', 'ADV'), ('jeweler', 'NOUN'), ('says', 'VERB'), ('poor', 'ADJ'), ('greatest', 'ADJ'), ('Toys', 'NOUN'), ('honorably', 'ADV'), ('hits', 'NOUN'), ('parallel', 'ADJ'), ('Bew', 'NOUN'), ('forms', 'NOUN'), ('array', 'NOUN'), ('Municipal', 'NOUN'), ('Davies', 'NOUN'), ('stressing', 'VERB'), ('outdistanced', 'VERB'), ('night', 'NOUN'), ('treat', 'VERB'), ('unfairly', 'ADV'), ('77.70', 'NUM'), ('Place', 'NOUN'), ('eight-person', 'ADJ'), ('management', 'NOUN'), ('styles', 'NOUN'), ('Catholic', 'NOUN'), ('Salomon', 'NOUN'), ('regrettable', 'ADJ'), ('elaborate', 'ADJ'), ('Samnick', 'NOUN'), ('BANKERS', 'NOUN'), ('Gillett', 'NOUN'), ('opposition', 'NOUN'), ('Stanley', 'NOUN'), ('Freud', 'NOUN'), ('Stephanie', 'NOUN'), ('retirement', 'NOUN'), ('Salvador', 'NOUN'), ('disease', 'NOUN'), ('Newspapers', 'NOUN'), ('stare', 'VERB'), ('*T*-1', 'X'), ('wrestling', 'VERB'), ('said', 'VERB'), ('Mariotta', 'NOUN'), ('accrue', 'VERB'), ('City', 'NOUN'), ('Kingsbridge', 'NOUN'), ('*T*-115', 'X'), ('entering', 'VERB'), ('outside', 'ADJ'), ('AIDS', 'NOUN'), ('Nissho-Iwai', 'NOUN'), ('electorate', 'NOUN'), ('lawyer', 'NOUN'), ('manually', 'ADV'), ('hurting', 'VERB'), ('printers', 'NOUN'), ('helps', 'VERB'), ('auctions', 'NOUN'), ('stream', 'NOUN'), ('sweet', 'ADJ'), ('opposed', 'VERB'), ('shipped', 'VERB'), ('tree', 'NOUN'), ('Assets', 'NOUN'), ('*T*-128', 'X'), ('Leon', 'NOUN'), ('tend', 'VERB'), ('word-processing', 'NOUN'), ('centennial', 'NOUN'), ('145', 'NUM'), ('5.9', 'NUM'), ('packed', 'ADJ'), ('Carnival', 'NOUN'), ('Seniors', 'NOUN'), ('Kearny', 'NOUN'), ('bushel', 'NOUN'), ('Individuals', 'NOUN'), ('Open', 'NOUN'), ('maker', 'NOUN'), ('Haut-Brion', 'NOUN'), ('Small', 'ADJ'), ('deposit', 'NOUN'), ('current', 'ADJ'), ('conduit', 'NOUN'), ('superintendent', 'NOUN'), ('granting', 'VERB'), ('1979', 'NUM'), ('128', 'NUM'), ('Woodward', 'NOUN'), ('observed', 'VERB'), ('military', 'ADJ'), ('17.3', 'NUM'), ('death', 'NOUN'), ('Few', 'ADJ'), ('240', 'NUM'), ('plane', 'NOUN'), ('lure', 'NOUN'), ('ABA', 'NOUN'), ('compares', 'VERB'), ('Lieberman', 'NOUN'), ('clean-air', 'ADJ'), ('Biscayne', 'NOUN'), ('*-88', 'X'), ('Saul', 'NOUN'), ('advertising', 'NOUN'), ('presence', 'NOUN'), ('purchasing', 'VERB'), ('tie-breaking', 'ADJ'), ('1970', 'NUM'), ('science', 'NOUN'), ('T-shirts', 'NOUN'), ('Judging', 'VERB'), ('Discos', 'NOUN'), ('back', 'NOUN'), ('addresses', 'NOUN'), ('within', 'ADP'), ('Toledo', 'NOUN'), ('Ideas', 'NOUN'), ('royalty', 'NOUN'), ('propagandizes', 'VERB'), ('29', 'NUM'), ('Laboratories', 'NOUN'), ('promote', 'VERB'), ('belonging', 'VERB'), ('chilled', 'VERB'), ('touched', 'VERB'), ('union', 'NOUN'), ('TXO', 'NOUN'), ('*T*-81', 'X'), ('unveiled', 'VERB'), ('pulp', 'NOUN'), ('*T*-31', 'X'), ('moratorium', 'NOUN'), ('division', 'NOUN'), ('retiring', 'VERB'), ('insisted', 'VERB'), ('corn', 'NOUN'), ('Environment', 'NOUN'), ('49', 'NUM'), ('impact', 'NOUN'), ('p.m', 'ADV'), ('cosmetic', 'NOUN'), ('unworkable', 'ADJ'), ('Barrels', 'NOUN'), ('loans', 'NOUN'), ('Drobnick', 'NOUN'), ('Tom', 'NOUN'), ('Kidder', 'NOUN'), ('Joanne', 'NOUN'), ('pub', 'NOUN'), ('Osaka', 'NOUN'), ('mainly', 'ADV'), ('Mo.', 'NOUN'), ('Souper', 'NOUN'), ('Monday', 'NOUN'), ('newspapers', 'NOUN'), ('timely', 'ADJ'), ('teetering', 'VERB'), ('assert', 'VERB'), ('battle', 'VERB'), ('Freeport-McMoRan', 'NOUN'), ('Logic', 'NOUN'), ('admitting', 'VERB'), ('Financially', 'ADV'), ('plan', 'VERB'), ('mention', 'VERB'), ('collection', 'NOUN'), ('necessary', 'ADJ'), ('hospital', 'NOUN'), ('N.V', 'NOUN'), ('accountant', 'NOUN'), ('corporate-wide', 'ADJ'), ('*T*-139', 'X'), ('&', 'CONJ'), ('155', 'NUM'), ('Robertson', 'NOUN'), ('rights', 'NOUN'), ('advancing', 'VERB'), ('owners', 'NOUN'), ('peace', 'NOUN'), ('bald-faced', 'ADJ'), ('721', 'NUM'), ('confrontational', 'ADJ'), ('abridging', 'VERB'), ('fee', 'NOUN'), ('curriculum', 'NOUN'), ('Warrenton', 'NOUN'), ('Stores', 'NOUN'), ('typically', 'ADV'), ('suspension', 'NOUN'), ('Wilmington', 'NOUN'), ('reader', 'NOUN'), ('Coleman', 'NOUN'), ('pushed', 'VERB'), ('interventions', 'NOUN'), ('Chapter', 'NOUN'), ('Indexing', 'NOUN'), ('syndrome', 'NOUN'), ('6.25', 'NUM'), ('risk', 'NOUN'), ('Loan', 'NOUN'), ('labor', 'NOUN'), ('signs', 'NOUN'), ('Eurobonds', 'NOUN'), ('premier', 'ADJ'), ('super-absorbent', 'ADJ'), ('*T*-63', 'X'), ('Frederick', 'NOUN'), ('incisions', 'NOUN'), ('net', 'NOUN'), ('allegedly', 'ADV'), ('self-serving', 'ADJ'), ('Barclays', 'NOUN'), ('five-year', 'ADJ'), ('operating', 'NOUN'), ('agencies', 'NOUN'), ('Take', 'VERB'), ('*-46', 'X'), ('major', 'ADJ'), ('agriculture', 'NOUN'), ('Taking', 'VERB'), ('copyright', 'NOUN'), ('blames', 'VERB'), ('Trotter', 'NOUN'), ('lead', 'VERB'), ('bridges', 'NOUN'), ('TV', 'NOUN'), ('denying', 'VERB'), ('cargo', 'NOUN'), ('apology', 'NOUN'), ('trains', 'NOUN'), ('begot', 'VERB'), ('Australian', 'ADJ'), ('protected', 'VERB'), ('billed', 'VERB'), ('stress', 'NOUN'), ('parking', 'NOUN'), ('extensive', 'ADJ'), ('asks', 'VERB'), ('U.K.', 'NOUN'), ('Vacancies', 'NOUN'), ('he', 'PRON'), ('permission', 'NOUN'), ('Department', 'NOUN'), ('daily', 'ADJ'), ('Guinea', 'NOUN'), ('Oliver', 'NOUN'), ('checkbook', 'NOUN'), ('person', 'NOUN'), ('persuasive', 'ADJ'), ('run', 'VERB'), ('unmarked', 'ADJ'), ('judge', 'NOUN'), ('policy-making', 'ADJ'), ('stepped', 'VERB'), ('Freshbake', 'NOUN'), ('suggested', 'VERB'), ('queers', 'NOUN'), ('%', 'NOUN'), ('286', 'NUM'), ('WAR', 'NOUN'), ('stays', 'VERB'), ('reduce', 'VERB'), ('Beijing', 'NOUN'), ('Actually', 'ADV'), ('Gold', 'NOUN'), ('much', 'ADV'), ('subscriptions', 'NOUN'), ('5.276', 'NUM'), ('applicability', 'NOUN'), ('7.84', 'NUM'), ('applications', 'NOUN'), ('unfilled', 'ADJ'), ('Bugs', 'NOUN'), ('five-inch', 'ADJ'), ('push', 'VERB'), ('large-scale', 'ADJ'), ('arm', 'NOUN'), ('missiles', 'NOUN'), ('Springfield', 'NOUN'), ('Title', 'NOUN'), ('magnets', 'NOUN'), ('yen-support', 'ADJ'), ('acetate', 'NOUN'), ('Hartford', 'NOUN'), ('harmed', 'VERB'), ('regulatory', 'ADJ'), ('exceeding', 'VERB'), ('killing', 'VERB'), ('Novell', 'NOUN'), ('proportion', 'NOUN'), ('restored', 'VERB'), ('shallow', 'ADJ'), ('13.625', 'NUM'), ('methods', 'NOUN'), ('Anderson', 'NOUN'), ('*T*-56', 'X'), ('code', 'NOUN'), ('culprit', 'NOUN'), ('liberal', 'NOUN'), ('1,620', 'NUM'), ('Thunderbird', 'NOUN'), ('members', 'NOUN'), ('Integra', 'NOUN'), ('recorded', 'VERB'), ('own', 'VERB'), ('472', 'NUM'), ('purrs', 'VERB'), ('*T*-34', 'X'), ('Rate', 'NOUN'), ('resulted', 'VERB'), ('Second', 'ADJ'), ('offering', 'NOUN'), ('Close', 'ADJ'), ('telephone', 'NOUN'), ('tried', 'VERB'), ('virtues', 'NOUN'), ('redistribute', 'VERB'), ('airplane', 'NOUN'), ('Relations', 'NOUN'), ('aides', 'NOUN'), ('music', 'NOUN'), ('16.125', 'NUM'), ('spread', 'NOUN'), ('1206.26', 'NUM'), ('rectified', 'VERB'), ('gilt', 'ADJ'), ('ounces', 'NOUN'), ('line-item', 'ADJ'), ('public-relations', 'NOUN'), ('nets', 'NOUN'), ('O.', 'NOUN'), ('entity', 'NOUN'), ('blocked', 'VERB'), ('pins', 'NOUN'), ('looks', 'VERB'), ('general', 'ADJ'), ('lowest', 'ADJ'), ('young', 'ADJ'), ('underwriters', 'NOUN'), ('spirit', 'NOUN'), ('profession', 'NOUN'), ('entice', 'VERB'), ('creation', 'NOUN'), ('Bronx', 'NOUN'), ('Dow', 'NOUN'), ('5.57', 'NUM'), ('Mrs.', 'NOUN'), ('angry', 'ADJ'), ('chase', 'VERB'), ('alcohol', 'NOUN'), ('sauce', 'NOUN'), ('impaired', 'VERB'), ('Brent', 'NOUN'), ('notable', 'ADJ'), ('*-135', 'X'), ('Appropriations', 'NOUN'), ('one-yen', 'ADJ'), ('10.2', 'NUM'), ('exemption', 'NOUN'), ('match', 'VERB'), ('pay', 'VERB'), ('impression', 'NOUN'), ('talks', 'NOUN'), ('stay', 'VERB'), ('earthquake', 'NOUN'), ('stalls', 'NOUN'), ('buy', 'NOUN'), ('acquire', 'VERB'), ('group', 'NOUN'), ('attendance', 'NOUN'), ('*-29', 'X'), ('*T*-19', 'X'), ('place', 'VERB'), ('promises', 'VERB'), ('conglomerate', 'NOUN'), ('dashes', 'NOUN'), ('blank', 'NOUN'), ('modernization', 'NOUN'), ('Sino-U.S.', 'ADJ'), ('Both', 'DET'), ('amortization', 'NOUN'), ('managers', 'NOUN'), ('heated', 'VERB'), ('2.65', 'NUM'), ('looming', 'VERB'), ('Massachusetts', 'NOUN'), ('guests', 'NOUN'), ('Hawaiian', 'ADJ'), ('contradict', 'VERB'), ('Participants', 'NOUN'), ('960', 'NUM'), ('indirect', 'ADJ'), ('3.1', 'NUM'), ('Ackerman', 'NOUN'), ('Part', 'NOUN'), ('YMCA', 'NOUN'), ('cyclical', 'ADJ'), ('Ian', 'NOUN'), ('issue', 'VERB'), ('Britain', 'NOUN'), ('Law', 'NOUN'), ('conspicuous', 'ADJ'), ('studies', 'NOUN'), ('perfectly', 'ADV'), ('concern', 'NOUN'), ('Dom', 'NOUN'), ('stimulated', 'VERB'), ('harder', 'ADV'), ('319.75', 'NUM'), ('*T*-5', 'X'), ('sluggish', 'ADJ'), ('novel', 'NOUN'), ('universally', 'ADV'), ('split', 'VERB'), ('DEFENSE', 'NOUN'), ('test-drive', 'VERB'), ('closing', 'VERB'), ('drive', 'VERB'), ('change-ringing', 'NOUN'), ('absurd', 'ADJ'), ('Nekoosa', 'NOUN'), ('common', 'NOUN'), ('FBI', 'NOUN'), ('speaking', 'VERB'), ('a', 'X'), ('cold', 'NOUN'), ('170,000', 'NUM'), ('Mitsubishi', 'NOUN'), ('notch', 'NOUN'), ('court-ordered', 'ADJ'), ('gubernatorial', 'ADJ'), ('hazardous', 'ADJ'), ('Shapiro', 'NOUN'), ('believe', 'VERB'), ('rider', 'NOUN'), ('surged', 'VERB'), ('DISCOUNT', 'NOUN'), ('Feeding', 'NOUN'), ('waiver', 'NOUN'), ('unaware', 'ADJ'), ('conduct', 'NOUN'), ('Class', 'NOUN'), ('intention', 'NOUN'), ('*T*-4', 'X'), ('plugged', 'VERB'), ('spend', 'VERB'), ('participate', 'VERB'), ('shake', 'VERB'), ('sew', 'VERB'), ('matters', 'VERB'), ('Nations', 'NOUN'), ('*-56', 'X'), ('23,403', 'NUM'), ('accounted', 'VERB'), ('1\\\\/2', 'NUM'), ('13.50', 'NUM'), ('mitigate', 'VERB'), ('13.73', 'NUM'), ('signing', 'VERB'), ('iota', 'NOUN'), ('works', 'VERB'), ('Ark', 'NOUN'), ('past', 'ADJ'), ('Federation', 'NOUN'), ('complaints', 'NOUN'), ('speeches', 'NOUN'), ('painted', 'VERB'), ('Commodities', 'NOUN'), ('fails', 'VERB'), ('manufacturing', 'NOUN'), ('47', 'NUM'), ('built', 'VERB'), ('May', 'NOUN'), ('Tots', 'NOUN'), ('NIH-appointed', 'ADJ'), ('trafficking', 'NOUN'), ('change', 'NOUN'), ('1', 'NUM'), ('1983', 'NUM'), ('angle', 'NOUN'), ('standing', 'ADJ'), ('direct-mail', 'ADJ'), ('Wamre', 'NOUN'), ('Du', 'NOUN'), ('Development', 'NOUN'), ('Telephone', 'NOUN'), ('publicized', 'VERB'), ('Jail', 'NOUN'), ('Domaine', 'NOUN'), ('class', 'NOUN'), ('*T*-178', 'X'), ('bearing', 'VERB'), ('normally', 'ADV'), ('intellectual-property', 'ADJ'), ('alumni', 'NOUN'), ('command', 'VERB'), ('cocoa', 'NOUN'), ('grows', 'VERB'), ('sake', 'NOUN'), ('screenwriters', 'NOUN'), ('implies', 'VERB'), ('satisfying', 'VERB'), ('1,400', 'NUM'), ('drives', 'NOUN'), ('single-family', 'ADJ'), ('likely', 'ADJ'), ('Explorer', 'NOUN'), ('overcapacity', 'NOUN'), ('Republican', 'ADJ'), ('backed', 'VERB'), ('disposed', 'VERB'), ('help', 'VERB'), ('state', 'NOUN'), ('Larry', 'NOUN'), ('trading', 'VERB'), ('300-113', 'NUM'), ('R.P.', 'NOUN'), ('arms', 'NOUN'), ('measurement', 'NOUN'), ('severable', 'ADJ'), ('calculated', 'VERB'), ('*-99', 'X'), ('148.9', 'NUM'), ('Resources', 'NOUN'), ('regarding', 'VERB'), ('strings', 'NOUN'), ('unreasonable', 'ADJ'), ('Compromises', 'NOUN'), ('sub-markets', 'NOUN'), ('erudite', 'ADJ'), ('thunder', 'NOUN'), ('far', 'ADJ'), ('out', 'ADV'), ('mortgaged', 'VERB'), ('*-45', 'X'), ('together', 'PRT'), ('rhythm', 'NOUN'), ('injury', 'NOUN'), ('floated', 'VERB'), ('episodes', 'NOUN'), ('39', 'NUM'), ('Carla', 'NOUN'), ('Mercer', 'NOUN'), ('Parkinson', 'NOUN'), ('costly', 'ADJ'), ('Ancient', 'NOUN'), ('sexy', 'ADJ'), ('allowed', 'VERB'), ('captive', 'NOUN'), ('starters', 'NOUN'), ('revised', 'VERB'), ('Agriculture', 'NOUN'), ('Gerald', 'NOUN'), ('E.C.', 'NOUN'), ('20s', 'NUM'), ('#', '.'), ('rhythmically', 'ADV'), ('weekends', 'NOUN'), ('81.8', 'NUM'), ('black', 'NOUN'), ('Items', 'NOUN'), ('commitment', 'NOUN'), ('0.2', 'NUM'), ('Boone', 'NOUN'), ('appointed', 'VERB'), ('Danville', 'NOUN'), ('manufactured', 'VERB'), ('1.01', 'NUM'), ('23.5', 'NUM'), ('liquidity', 'NOUN'), ('whipping', 'ADJ'), ('stature', 'NOUN'), ('West', 'NOUN'), ('minimal', 'ADJ'), ('school-sponsored', 'ADJ'), ('knife', 'NOUN'), ('more-advanced', 'ADJ'), ('*T*-64', 'X'), ('198', 'NUM'), ('fresh', 'ADJ'), ('constitutional-law', 'NOUN'), ('trader', 'NOUN'), ('what', 'DET'), ('Silver', 'NOUN'), ('*T*-142', 'X'), ('off', 'ADP'), ('Hampton', 'NOUN'), ('investments', 'NOUN'), ('Advance', 'NOUN'), ('148', 'NUM'), ('seemed', 'VERB'), ('*-37', 'X'), ('working', 'NOUN'), ('most-likely-successor', 'ADJ'), ('excessive', 'ADJ'), ('temperature', 'NOUN'), ('Above', 'ADP'), ('networks', 'NOUN'), ('entrench', 'VERB'), ('tremendous', 'ADJ'), ('blood', 'NOUN'), ('suddenly', 'ADV'), ('Sachs', 'NOUN'), ('Hills', 'NOUN'), ('Spanish', 'NOUN'), ('6.4', 'NUM'), ('uses', 'VERB'), ('flows', 'VERB'), ('truth', 'NOUN'), ('anybody', 'NOUN'), ('salarymen', 'NOUN'), ('edition', 'NOUN'), ('signals', 'NOUN'), ('suspects', 'NOUN'), ('heebie-jeebies', 'NOUN'), ('Brazil', 'NOUN'), ('allow', 'VERB'), ('Karns', 'NOUN'), ('mode', 'NOUN'), ('14.5', 'NUM'), ('location', 'NOUN'), ('financial', 'ADJ'), ('differ', 'VERB'), ('Williams', 'NOUN'), ('arguments', 'NOUN'), ('computerize', 'VERB'), ('While', 'ADP'), ('1.6', 'NUM'), ('processors', 'NOUN'), ('Collins', 'NOUN'), ('rarely', 'ADV'), ('challenging', 'VERB'), ('0.60', 'NUM'), ('eclectic', 'ADJ'), ('which', 'DET'), ('UBS', 'NOUN'), ('Representative', 'NOUN'), ('top', 'VERB'), ('considerably', 'ADV'), ('limit', 'VERB'), ('mostly', 'ADV'), ('permits', 'VERB'), ('exchange', 'NOUN'), ('transfers', 'NOUN'), ('docile', 'ADJ'), ('often', 'ADV'), ('Safety', 'NOUN'), ('lower-priority', 'ADJ'), ('hostile', 'NOUN'), ('dances', 'NOUN'), ('characterizing', 'VERB'), ('shipbuilding', 'NOUN'), ('violence', 'NOUN'), ('electrical-safety', 'ADJ'), ('unbearably', 'ADV'), ('Mehta', 'NOUN'), ('stock', 'NOUN'), ('ties', 'NOUN'), ('New', 'ADJ'), ('occupant', 'NOUN'), ('responded', 'VERB'), ('adds', 'VERB'), ('acquiring', 'VERB'), ('Pa.', 'NOUN'), ('Loewi', 'NOUN'), ('underline', 'VERB'), ('Sea', 'NOUN'), ('relation', 'NOUN'), ('just', 'ADV'), ('reality', 'NOUN'), ('Exchange', 'NOUN'), ('impart', 'VERB'), ('recommending', 'VERB'), ('operation', 'NOUN'), ('comes', 'VERB'), ('directors', 'NOUN'), ('points', 'NOUN'), ('Last', 'ADJ'), ('now', 'ADV'), ('recessionary', 'ADJ'), ('Cotran', 'NOUN'), ('get-out-the-vote', 'ADJ'), ('Horsham', 'NOUN'), ('apartment', 'NOUN'), ('editing', 'NOUN'), ('quality', 'NOUN'), ('living', 'NOUN'), ('swap', 'VERB'), ('came', 'VERB'), ('Edward', 'NOUN'), ('amps', 'NOUN'), ('Baldwin', 'NOUN'), ('view', 'NOUN'), ('individual', 'ADJ'), ('According', 'VERB'), ('quite', 'ADV'), ('350', 'NUM'), ('*T*-37', 'X'), ('Brooklyn', 'NOUN'), ('8.64', 'NUM'), ('*-35', 'X'), ('Dallara', 'NOUN'), ('prime', 'ADJ'), ('news', 'NOUN'), ('ACCEPTANCES', 'NOUN'), ('enticed', 'VERB'), ('scams', 'NOUN'), ('sought', 'VERB'), ('Budget', 'NOUN'), ('drivers', 'NOUN'), ('stand', 'NOUN'), ('skepticism', 'NOUN'), ('*T*-131', 'X'), ('yes', 'ADV'), ('football', 'NOUN'), ('void', 'ADJ'), ('Rico', 'NOUN'), ('two-thirds', 'NOUN'), ('aid', 'NOUN'), ('12-year', 'ADJ'), ('7.40', 'NUM'), ('paying', 'VERB'), ('100,000', 'NUM'), ('Orders', 'NOUN'), ('3.35', 'NUM'), ('4.3', 'NUM'), ('6.40', 'NUM'), ('crashes', 'NOUN'), ('being', 'VERB'), ('Buy', 'VERB'), ('odd-sounding', 'ADJ'), ('current-carrying', 'ADJ'), ('@', 'ADP'), ('Calif', 'NOUN'), ('FEDERAL', 'NOUN'), ('Francisco-based', 'ADJ'), ('external', 'ADJ'), ('Rhone', 'NOUN'), ('special', 'ADJ'), ('flat', 'ADJ'), ('superconductor', 'NOUN'), ('*RNR*-1', 'X'), ('Estimated', 'VERB'), ('gasoline', 'NOUN'), ('telegraph', 'VERB'), ('composed', 'VERB'), ('Merchant', 'NOUN'), ('forgiven', 'VERB'), ('revising', 'VERB'), ('relegated', 'VERB'), ('surrendered', 'VERB'), ('elected', 'VERB'), ('fuels', 'NOUN'), ('payment', 'NOUN'), ('passers-by', 'NOUN'), ('spur', 'VERB'), ('mainland', 'NOUN'), ('forward', 'ADV'), ('16.05', 'NUM'), ('chief', 'NOUN'), ('Trustco', 'NOUN'), ('fighters', 'NOUN'), ('tire-kickers', 'NOUN'), ('debacle', 'NOUN'), ('sweat', 'NOUN'), ('dust', 'NOUN'), ('Eaton', 'NOUN'), ('most', 'ADJ'), ('domination', 'NOUN'), ('ends', 'VERB'), ('all-cash', 'ADJ'), ('K.', 'NOUN'), ('materials', 'NOUN'), ('913', 'NUM'), ('approved', 'VERB'), ('mind-boggling', 'ADJ'), ('getting', 'VERB'), ('Short', 'ADJ'), ('4,645', 'NUM'), ('GRAINS', 'NOUN'), ('examined', 'VERB'), ('enforce', 'VERB'), ('illegality', 'NOUN'), ('Whelen', 'NOUN'), ('Affairs', 'NOUN'), ('that', 'ADP'), ('mesothelioma', 'NOUN'), ('B', 'NOUN'), ('acceleration', 'NOUN'), ('described', 'VERB'), ('unanimous', 'ADJ'), ('encouraging', 'VERB'), ('70-a-share', 'ADJ'), ('remorse', 'NOUN'), ('extra', 'ADJ'), ('U.S.A', 'NOUN'), ('allocation', 'NOUN'), ('food-industry', 'NOUN'), ('vacant', 'ADJ'), ('much-larger', 'ADJ'), ('Democrats', 'NOUN'), ('borders', 'NOUN'), ('London', 'NOUN'), ('timing', 'NOUN'), ('trades', 'NOUN'), ('borrowing', 'NOUN'), ('storm', 'NOUN'), ('astonishment', 'NOUN'), ('Yquem', 'NOUN'), ('industrywide', 'ADJ'), ('Seats', 'NOUN'), ('doctorate', 'NOUN'), ('*-78', 'X'), ('crashing', 'VERB'), ('non-callable', 'ADJ'), ('aircraft', 'NOUN'), ('threatens', 'VERB'), ('1934', 'NUM'), ('streets', 'NOUN'), ('gelatin', 'NOUN'), ('Separately', 'ADV'), ('Barney', 'NOUN'), ('school-board', 'NOUN'), ('Drug', 'NOUN'), ('*-70', 'X'), ('investigating', 'VERB'), ('1.8', 'NUM'), ('MERRILL', 'NOUN'), ('Hubbard', 'NOUN'), ('87-store', 'ADJ'), ('Midwestern', 'ADJ'), ('distasteful', 'ADJ'), ('vague', 'ADJ'), ('Traditionally', 'ADV'), ('organized', 'VERB'), ('thousand', 'NUM'), ('Often', 'ADV'), ('6.6', 'NUM'), ('eye', 'NOUN'), ('Papua-New', 'NOUN'), ('Sept.', 'NOUN'), ('Productions', 'NOUN'), ('available', 'ADJ'), ('Man', 'NOUN'), ('60', 'NUM'), ('Campeau', 'NOUN'), ('1.457', 'NUM'), ('automatic', 'ADJ'), ('scenario', 'NOUN'), ('little', 'ADV'), ('recombinant', 'ADJ'), ('fret', 'NOUN'), ('acre', 'NOUN'), ('sole', 'ADJ'), ('purchases', 'NOUN'), ('kicker', 'NOUN'), ('York-based', 'NOUN'), ('plenty', 'NOUN'), ('betrayer', 'NOUN'), ('one', 'NOUN'), ('gain', 'VERB'), ('words', 'NOUN'), ('develop', 'VERB'), ('inauspicious', 'ADJ'), ('Organization', 'NOUN'), ('roofs', 'NOUN'), ('guarding', 'VERB'), ('Patients', 'NOUN'), ('fear', 'VERB'), ('growing', 'VERB'), ('beauty', 'NOUN'), ('tires', 'NOUN'), ('engineers', 'NOUN'), ('inadequacy', 'NOUN'), ('disagreed', 'VERB'), ('Paul', 'NOUN'), ('essentially', 'ADV'), ('A.L.', 'NOUN'), ('improvement', 'NOUN'), ('*-57', 'X'), ('color', 'VERB'), ('halts', 'NOUN'), ('Premier', 'NOUN'), ('Different', 'NOUN'), ('Purina', 'NOUN'), ('361.8', 'NUM'), ('Ford', 'NOUN'), ('interstate', 'ADJ'), ('meaningful', 'ADJ'), ('distributes', 'VERB'), ('progress', 'NOUN'), ('mathematical', 'ADJ'), ('Kentucky', 'NOUN'), ('spenders', 'NOUN'), ('warehousing', 'NOUN'), ('based', 'VERB'), ('Alleghany', 'NOUN'), ('always', 'ADV'), ('Lights', 'NOUN'), ('resigned', 'ADJ'), ('refreshing', 'VERB'), ('*-103', 'X'), ('male', 'NOUN'), ('procedure', 'NOUN'), ('Lead', 'ADJ'), ('Deryck', 'NOUN'), ('abuzz', 'ADJ'), ('kind', 'ADJ'), ('*T*-145', 'X'), ('participants', 'NOUN'), ('8.60', 'NUM'), ('envoy', 'NOUN'), ('stated', 'VERB'), ('foods', 'NOUN'), ('depending', 'VERB'), ('361,376', 'NUM'), ('Vicar', 'NOUN'), ('mid-afternoon', 'ADJ'), ('Without', 'ADP'), ('friendship', 'NOUN'), ('negotiating', 'VERB'), ('Fracturing', 'NOUN'), ('feet', 'NOUN'), ('laboriously', 'ADV'), ('card-member', 'NOUN'), ('8.2', 'NUM'), ('446.62', 'NUM'), ('Li', 'NOUN'), ('process', 'NOUN'), ('shopping', 'VERB'), ('Boulder', 'NOUN'), ('units', 'NOUN'), ('foundation', 'NOUN'), ('734.9', 'NUM'), ('rivals', 'NOUN'), ('Islands', 'NOUN'), ('auto-safety', 'ADJ'), ('foundations', 'NOUN'), ('Brooke', 'NOUN'), ('solved', 'VERB'), ('W.D.', 'NOUN'), ('Random', 'NOUN'), ('identities', 'NOUN'), ('sticker-shock', 'NOUN'), ('Manchester', 'NOUN'), ('PAPER', 'NOUN'), ('opponents', 'NOUN'), ('Riyadh', 'NOUN'), ('W.N.', 'NOUN'), ('*-22', 'X'), ('crystals', 'NOUN'), ('assistant', 'NOUN'), ('99', 'NUM'), ('Chicago', 'NOUN'), ('Stork', 'NOUN'), ('Mindy', 'NOUN'), ('exploration', 'NOUN'), ('overhead', 'ADJ'), ('sounded', 'VERB'), ('Dakotas', 'NOUN'), ('designing', 'VERB'), ('mentally', 'ADV'), ('shrug', 'VERB'), ('Newgate', 'NOUN'), ('directly', 'ADV'), ('Americans', 'NOUN'), ('competitor', 'NOUN'), ('rusty', 'ADJ'), ('ignoring', 'VERB'), ('radioactivity', 'NOUN'), ('Harvard', 'NOUN'), ('church-goers', 'NOUN'), ('standard', 'ADJ'), ('93.9', 'NUM'), ('metal', 'NOUN'), ('fumes', 'VERB'), ('lawyers', 'NOUN'), ('Syndicate', 'NOUN'), ('referenda', 'NOUN'), ('Publications', 'NOUN'), ('mouth-up', 'ADJ'), ('Drew', 'NOUN'), ('0.25', 'NUM'), ('Artist', 'NOUN'), ('municipal', 'ADJ'), ('sometimes', 'ADV'), ('Reupke', 'NOUN'), ('board', 'NOUN'), ('cite', 'VERB'), ('measure', 'NOUN'), ('phone', 'NOUN'), ('Many', 'ADJ'), ('bonds', 'NOUN'), ('*-39', 'X'), ('industrialized', 'VERB'), ('favors', 'VERB'), ('Just', 'ADV'), ('more-efficient', 'ADJ'), ('unrecognizable', 'ADJ'), ('plans', 'VERB'), ('female', 'NOUN'), ('letters', 'NOUN'), ('Follow-up', 'ADJ'), ('Journal', 'NOUN'), ('participant', 'NOUN'), ('IRAs', 'NOUN'), ('basket', 'NOUN'), ('*T*-50', 'X'), ('Programs', 'NOUN'), ('sooner', 'ADV'), ('Salmore', 'NOUN'), ('circulation', 'NOUN'), ('2160.1', 'NUM'), ('finance', 'NOUN'), ('Tip', 'NOUN'), ('62', 'NUM'), ('amass', 'VERB'), ('thugs', 'NOUN'), ('10-day', 'ADJ'), ('Perritt', 'NOUN'), ('*-50', 'X'), ('judged', 'VERB'), ('propaganda', 'NOUN'), ('pickers', 'NOUN'), ('Richard', 'NOUN'), ('odd', 'ADJ'), ('*T*-124', 'X'), ('context', 'NOUN'), ('1992', 'NUM'), ('texture', 'NOUN'), ('drastically', 'ADV'), ('critics', 'NOUN'), ('broader', 'ADJ'), ('satisfactorily', 'ADV'), ('Airways', 'NOUN'), ('*-32', 'X'), ('plastic', 'NOUN'), ('Shearson', 'NOUN'), ('PRIME', 'NOUN'), ('non-core', 'ADJ'), ('2645.90', 'NUM'), ('Netherlands', 'NOUN'), ('Dec.', 'NOUN'), ('1986', 'NUM'), ('Learning', 'NOUN'), ('Account', 'NOUN'), ('Intelogic', 'NOUN'), ('Minister', 'NOUN'), ('store', 'VERB'), ('reports', 'VERB'), ('DiLoreto', 'NOUN'), ('withdraw', 'VERB'), ('stemming', 'VERB'), ('entrenched', 'VERB'), ('963', 'NUM'), ('Elisa', 'NOUN'), ('assess', 'VERB'), ('attempt', 'NOUN'), ('730', 'NUM'), ('assertion', 'NOUN'), ('Engineers', 'NOUN'), ('0.9', 'NUM'), ('beforehand', 'ADV'), ('*T*-144', 'X'), ('Dugdale', 'NOUN'), ('drop', 'VERB'), ('Sunday', 'NOUN'), ('mature', 'ADJ'), ('White', 'NOUN'), ('L.A.', 'NOUN'), ('Neuberger', 'NOUN'), ('student', 'NOUN'), ('cool', 'ADJ'), ('nonexecutive', 'ADJ'), ('sharper', 'ADJ'), ('2', 'NUM'), ('biannual', 'ADJ'), ('Tube', 'NOUN'), ('Kondo', 'NOUN'), ('Dinkins', 'NOUN'), ('inherited', 'VERB'), ('spite', 'NOUN'), ('depositary', 'NOUN'), ('*T*-161', 'X'), ('mark', 'NOUN'), ('1994', 'NUM'), ('11', 'NUM'), ('takeover-stock', 'ADJ'), (\"'s\", 'VERB'), ('restraints', 'NOUN'), ('official', 'ADJ'), ('megabytes', 'NOUN'), ('*RNR*-2', 'X'), ('*T*-114', 'X'), ('reallocated', 'VERB'), ('claims', 'NOUN'), ('reeling', 'VERB'), ('Jovanovich', 'NOUN'), ('apologize', 'VERB'), ('Brazilian', 'ADJ'), ('routine', 'NOUN'), ('glass', 'NOUN'), ('advance', 'VERB'), ('government-certified', 'ADJ'), ('Boeing', 'NOUN'), ('perceived', 'VERB'), ('expenses', 'NOUN'), ('riding', 'VERB'), ('punishable', 'ADJ'), ('largely', 'ADV'), ('16,072', 'NUM'), ('Closes', 'VERB'), ('11.72', 'NUM'), ('fines', 'NOUN'), ('Marine', 'NOUN'), ('race', 'NOUN'), ('Partnership', 'NOUN'), ('Little', 'ADJ'), ('Shuxian', 'NOUN'), ('Taiwan', 'NOUN'), ('implied', 'VERB'), ('additional', 'ADJ'), ('8300s', 'NOUN'), ('spring', 'NOUN'), ('feed', 'VERB'), ('IMSAI', 'NOUN'), ('Goldinger', 'NOUN'), ('benefit', 'NOUN'), ('assessed', 'VERB'), ('ethics', 'NOUN'), ('If', 'ADP'), ('worrying', 'VERB'), ('Corrigan', 'NOUN'), ('favor', 'NOUN'), ('*T*-253', 'X'), ('backlogs', 'NOUN'), ('index-arbitrage', 'ADJ'), ('Consequence', 'NOUN'), ('downturn', 'NOUN'), ('hidden', 'VERB'), ('global', 'ADJ'), ('chauffeur', 'NOUN'), ('centers', 'NOUN'), ('1975', 'NUM'), ('controversial', 'ADJ'), ('few', 'ADJ'), ('116.4', 'NUM'), ('Rexinger', 'NOUN'), ('newly', 'ADV'), ('range', 'NOUN'), ('maintenance', 'NOUN'), ('overseas', 'ADV'), ('127.03', 'NUM'), ('middle-ground', 'ADJ'), ('sued', 'VERB'), ('Ginnie', 'NOUN'), ('wine-making', 'NOUN'), ('fretted', 'VERB'), ('asset-valuation', 'NOUN'), ('Black', 'NOUN'), ('mortgages', 'NOUN'), ('Geneva', 'NOUN'), ('spark', 'VERB'), ('late', 'ADJ'), ('entertainment', 'NOUN'), ('buy-outs', 'NOUN'), ('delays', 'NOUN'), ('Cray-3', 'NUM'), ('Boca', 'NOUN'), ('100', 'NUM'), ('courtroom', 'NOUN'), ('assist', 'VERB'), ('Arbitraging', 'VERB'), ('*-36', 'X'), ('presidents', 'NOUN'), ('Zurich', 'NOUN'), ('Monopolies', 'NOUN'), ('except', 'ADP'), ('positive', 'ADJ'), ('Huxtable', 'NOUN'), ('year-ago', 'ADJ'), ('goods', 'NOUN'), ('preferred', 'ADJ'), ('broad-based', 'ADJ'), ('Webb', 'NOUN'), ('shows', 'VERB'), ('low', 'NOUN'), ('Medical', 'NOUN'), ('Colorado', 'NOUN'), ('TRS-80', 'NOUN'), ('fed', 'VERB'), ('three-digit', 'ADJ'), ('John', 'NOUN'), ('Richmond', 'NOUN'), ('funding', 'NOUN'), ('narrow', 'ADJ'), ('profess', 'VERB'), ('Evans', 'NOUN'), ('Sotheby', 'NOUN'), ('security', 'NOUN'), ('renew', 'VERB'), ('top-selling', 'ADJ'), ('fetal-tissue', 'NOUN'), ('enter', 'VERB'), ('implementation', 'NOUN'), ('Heights', 'NOUN'), ('when', 'ADV'), ('callers', 'NOUN'), ('massacre', 'NOUN'), ('triggered', 'VERB'), ('ballpark', 'NOUN'), ('attributed', 'VERB'), ('*EXP*-2', 'X'), ('playing', 'NOUN'), ('design', 'VERB'), ('quietly', 'ADV'), ('unfathomable', 'ADJ'), ('employees', 'NOUN'), ('177', 'NUM'), ('stopped', 'VERB'), ('separation', 'NOUN'), ('crocidolite', 'NOUN'), ('refund', 'VERB'), ('nervous', 'ADJ'), ('Buick', 'NOUN'), ('creates', 'VERB'), ('pianist-comedian', 'NOUN'), ('fastest', 'ADJ'), ('*-28', 'X'), ('politically', 'ADV'), ('mail', 'NOUN'), ('enthusiasm', 'NOUN'), ('tow', 'NOUN'), ('know', 'VERB'), ('*-1', 'X'), ('serial', 'NOUN'), ('owned', 'VERB'), ('can', 'VERB'), ('reaped', 'VERB'), ('37-year-old', 'ADJ'), ('searching', 'VERB'), ('ideas', 'NOUN'), ('clubs', 'NOUN'), ('suffering', 'NOUN'), ('year', 'NOUN'), ('1999', 'NUM'), ('known', 'ADJ'), ('Council', 'NOUN'), ('Private', 'ADJ'), ('belongs', 'VERB'), ('public', 'ADJ'), ('in', 'PRT'), ('justify', 'VERB'), ('latest', 'ADJ'), ('Lyle', 'NOUN'), ('future', 'ADJ'), ('Co', 'NOUN'), ('sparked', 'VERB'), ('drinking', 'VERB'), ('Johnson', 'NOUN'), ('Scholastic', 'NOUN'), ('aces', 'VERB'), ('tension', 'NOUN'), ('litany', 'NOUN'), ('comparable', 'ADJ'), ('debts', 'NOUN'), ('acknowledge', 'VERB'), ('rap', 'NOUN'), ('impudent', 'ADJ'), ('either', 'ADV'), ('combined', 'VERB'), ('sign', 'VERB'), ('conflict', 'VERB'), ('surgeon', 'NOUN'), ('clients', 'NOUN'), ('arrive', 'VERB'), ('mirror', 'NOUN'), ('bright', 'ADJ'), ('S.A', 'NOUN'), ('move', 'NOUN'), ('report', 'VERB'), ('returns', 'VERB'), ('tows', 'NOUN'), ('lifted', 'VERB'), ('62.1', 'NUM'), ('*T*-256', 'X'), ('Los', 'NOUN'), ('drag-down', 'ADJ'), ('*T*-205', 'X'), ('incentive-bonus', 'NOUN'), ('buy-back', 'ADJ'), ('Marge', 'NOUN'), ('pickups', 'NOUN'), ('persuasion', 'NOUN'), ('license', 'NOUN'), ('wholesale', 'ADJ'), ('41', 'NUM'), ('inferences', 'NOUN'), ('answers', 'VERB'), ('believed', 'VERB'), ('centerpiece', 'NOUN'), ('Troubled', 'NOUN'), ('Sullivan', 'NOUN'), ('*-89', 'X'), ('debut', 'NOUN'), ('time', 'NOUN'), ('Time', 'NOUN'), ('Keidanren', 'NOUN'), ('globe', 'NOUN'), ('clause', 'NOUN'), ('marbles', 'NOUN'), ('hospitals', 'NOUN'), ('building', 'NOUN'), ('privilege', 'NOUN'), ('short-lived', 'ADJ'), ('98', 'NUM'), ('discontinue', 'VERB'), ('compressed', 'VERB'), ('Coca-Cola', 'NOUN'), ('evolved', 'VERB'), ('headquarters', 'NOUN'), ('despite', 'ADP'), ('Birmingham', 'NOUN'), ('exporters', 'NOUN'), ('Defending', 'VERB'), ('Terrace', 'NOUN'), ('proving', 'VERB'), ('Ministry', 'NOUN'), ('jail', 'NOUN'), ('after', 'ADP'), ('motor', 'NOUN'), ('Beta', 'NOUN'), ('upscale', 'NOUN'), ('threats', 'NOUN'), ('sphere', 'NOUN'), ('filling', 'VERB'), ('40', 'NUM'), ('symbol', 'NOUN'), ('rises', 'NOUN'), ('offers', 'VERB'), ('overvalued', 'VERB'), ('Japan', 'NOUN'), ('Make', 'VERB'), ('enjoying', 'VERB'), ('Funded', 'VERB'), ('deemed', 'VERB'), ('leasing', 'NOUN'), ('humans', 'NOUN'), ('thumbs', 'NOUN'), ('*-76', 'X'), ('14', 'NUM'), ('Abbot', 'NOUN'), ('unleashed', 'VERB'), ('wound', 'NOUN'), ('plays', 'VERB'), ('prosecutor', 'NOUN'), ('Ill.', 'NOUN'), ('93.3', 'NUM'), ('stacking', 'VERB'), ('hither', 'ADV'), ('illegally', 'ADV'), ('differential', 'ADJ'), ('jugglers', 'NOUN'), ('Jersey', 'NOUN'), ('Swearingen', 'NOUN'), ('Advancing', 'VERB'), ('luxury', 'NOUN'), ('excited', 'VERB'), ('sorry', 'ADJ'), ('Kathleen', 'NOUN'), ('Factories', 'NOUN'), ('14.6', 'NUM'), ('Island', 'NOUN'), ('seafood', 'NOUN'), ('trend', 'NOUN'), ('Carlos', 'NOUN'), ('1986-87', 'NUM'), ('recouped', 'VERB'), ('prior', 'ADV'), ('candidate', 'NOUN'), ('raises', 'VERB'), ('throughout', 'ADP'), ('are', 'VERB'), ('planned', 'VERB'), ('harshly', 'ADV'), ('*-52', 'X'), ('Monticello', 'NOUN'), ('unsettled', 'VERB'), ('Supreme', 'NOUN'), ('longest', 'ADJ'), ('capitalize', 'VERB'), ('Limited', 'NOUN'), ('*T*-130', 'X'), ('Raleigh', 'NOUN'), ('scholar', 'NOUN'), ('total', 'NOUN'), ('active', 'ADJ'), ('up', 'ADV'), ('barrier', 'NOUN'), ('*T*-140', 'X'), ('easy', 'ADJ'), ('specialist', 'NOUN'), ('Sauvignon', 'NOUN'), ('hopefully', 'ADV'), ('tormentors', 'NOUN'), ('Shaw', 'NOUN'), ('two-year-old', 'ADJ'), ('exhaust', 'NOUN'), ('Superdome', 'NOUN'), ('scarce', 'ADJ'), ('call', 'NOUN'), ('desktop', 'NOUN'), ('rope-sight', 'NOUN'), ('governor', 'NOUN'), ('derivative', 'ADJ'), ('bad', 'ADJ'), (\"CREATOR'S\", 'NOUN'), ('Sixth', 'NOUN'), ('Barbara', 'NOUN'), ('cardboard', 'NOUN'), ('on', 'ADV'), ('Test-preparation', 'ADJ'), ('balloting', 'NOUN'), ('6.9', 'NUM'), ('Hasbrouk', 'NOUN'), ('brightened', 'VERB'), ('expressly', 'ADV'), ('Alexander', 'NOUN'), ('Hampshire', 'NOUN'), ('Vichy', 'NOUN'), ('driving', 'VERB'), ('upon', 'ADP'), ('326', 'NUM'), ('FOREIGN', 'NOUN'), ('Standing', 'VERB'), ('C.D.s', 'NOUN'), ('generic', 'ADJ'), ('Jamaica', 'NOUN'), ('slack', 'ADJ'), ('ugly', 'ADJ'), ('dormitory', 'NOUN'), ('Aktiebolaget', 'NOUN'), ('Adolph', 'NOUN'), ('above', 'ADP'), ('IBC', 'NOUN'), ('cattle', 'NOUN'), ('N.', 'NOUN'), ('Internatonal', 'NOUN'), ('Dominion', 'NOUN'), ('eternal', 'ADJ'), ('N.V.', 'NOUN'), ('diversify', 'VERB'), ('50,000', 'NUM'), ('Arafat', 'NOUN'), ('scrutinizing', 'VERB'), ('Ward', 'NOUN'), ('dumbfounded', 'ADJ'), ('Jonathan', 'NOUN'), ('Banque', 'NOUN'), ('futures-related', 'ADJ'), ('resignation', 'NOUN'), ('Warren', 'NOUN'), ('South', 'ADJ'), (\"'ll\", 'VERB'), ('lotions', 'NOUN'), ('Precious', 'ADJ'), ('Allendale', 'NOUN'), ('airline', 'NOUN'), ('overproduction', 'NOUN'), ('disparate', 'ADJ'), ('triple-A-rated', 'ADJ'), ('limitation', 'NOUN'), ('cast', 'VERB'), ('Rey', 'NOUN'), ('square', 'ADJ'), (\"'50s\", 'NUM'), ('Hutchinson', 'NOUN'), ('Common', 'NOUN'), ('Now', 'ADV'), ('pretax', 'ADJ'), ('breakers', 'NOUN'), ('third', 'ADJ'), ('minority', 'NOUN'), ('inkling', 'NOUN'), ('result', 'VERB'), ('Wedtech', 'NOUN'), ('inadequate', 'ADJ'), ('struggle', 'NOUN'), ('Research', 'NOUN'), ('museums', 'NOUN'), ('Leighton', 'NOUN'), ('lot', 'NOUN'), ('130', 'NUM'), ('authorizing', 'VERB'), ('unconsolidated', 'ADJ'), ('Bridge', 'NOUN'), ('virtually', 'ADV'), ('hailed', 'VERB'), ('new-car', 'NOUN'), ('President', 'NOUN'), ('fact', 'NOUN'), ('helm', 'NOUN'), ('argue', 'VERB'), ('yellow', 'ADJ'), ('Icahn', 'NOUN'), ('minivans', 'NOUN'), ('pushes', 'VERB'), ('501', 'NUM'), ('Surrey', 'NOUN'), ('220.45', 'NUM'), ('citing', 'VERB'), ('*-5', 'X'), ('hangs', 'VERB'), ('economic', 'ADJ'), ('Huge', 'ADJ'), ('bellwether', 'NOUN'), ('she', 'PRON'), ('890', 'NUM'), ('diamond', 'NOUN'), ('preparation', 'NOUN'), ('6.1', 'NUM'), ('corridors', 'NOUN'), ('hours', 'NOUN'), ('able', 'ADJ'), ('machinery', 'NOUN'), ('N.J.-based', 'ADJ'), ('appetite', 'NOUN'), ('expire', 'VERB'), ('and', 'ADJ'), ('advisory', 'NOUN'), ('restriction', 'NOUN'), ('continues', 'VERB'), ('relating', 'VERB'), ('longer-term', 'ADJ'), ('Apple', 'NOUN'), ('Manufacturers', 'NOUN'), ('outpaced', 'VERB'), ('propelling', 'VERB'), ('officially', 'ADV'), ('breach', 'VERB'), ('College', 'NOUN'), ('diethylstilbestrol', 'NOUN'), ('minimum', 'ADJ'), ('smothering', 'VERB'), ('stock-index', 'ADJ'), ('Economy', 'NOUN'), ('perpetuates', 'VERB'), ('workable', 'ADJ'), ('intense', 'ADJ'), ('strictly', 'ADV'), ('wife', 'NOUN'), ('lending', 'VERB'), ('Thailand', 'NOUN'), ('intriguing', 'ADJ'), ('circuit-board', 'NOUN'), ('Far', 'ADV'), ('certificates', 'NOUN'), ('nose', 'NOUN'), ('detailed', 'ADJ'), ('GHS', 'NOUN'), ('negotiable', 'ADJ'), ('politicians', 'NOUN'), ('Seoul', 'NOUN'), ('Continuing', 'VERB'), ('corrected', 'VERB'), ('beat', 'VERB'), ('transcribe', 'VERB'), ('lapses', 'VERB'), ('Champagne', 'NOUN'), ('Furillo', 'NOUN'), ('Gaithersburg', 'NOUN'), ('Derel', 'NOUN'), ('link', 'VERB'), ('Sales', 'NOUN'), ('Revolution', 'NOUN'), ('Spielvogel', 'NOUN'), ('kicked', 'VERB'), ('certificate', 'NOUN'), ('Chinese', 'ADJ'), ('*T*-80', 'X'), ('vary', 'VERB'), ('English', 'NOUN'), ('bottlenecks', 'NOUN'), ('alcoholism', 'NOUN'), ('Another', 'DET'), ('them', 'PRON'), ('1.4', 'NUM'), ('remainder', 'NOUN'), ('Session', 'NOUN'), ('2.15', 'NUM'), ('expunged', 'VERB'), ('blind', 'ADJ'), ('brightest', 'ADJ'), ('*T*-239', 'X'), ('serving', 'VERB'), ('26', 'NUM'), ('noting', 'VERB'), ('natural', 'ADJ'), ('Long', 'ADJ'), ('collaborated', 'VERB'), ('miles', 'NOUN'), ('equity-purchase', 'ADJ'), ('willingness', 'NOUN'), ('restricting', 'VERB'), ('Nikkei', 'NOUN'), ('3.23', 'NUM'), ('Cellar', 'NOUN'), ('A', 'NOUN'), ('After', 'ADV'), ('light', 'ADJ'), ('crash', 'NOUN'), ('278.7', 'NUM'), ('Friday', 'NOUN'), ('Broken', 'NOUN'), ('policy', 'NOUN'), ('purchasing', 'NOUN'), ('growths', 'NOUN'), ('103', 'NUM'), ('attached', 'VERB'), ('top', 'ADJ'), ('joy', 'NOUN'), ('Inventor', 'NOUN'), ('featuring', 'VERB'), ('wins', 'VERB'), ('Hanifen', 'NOUN'), ('Zayed', 'NOUN'), ('supporters', 'NOUN'), ('Along', 'ADP'), ('package', 'NOUN'), ('1990-91', 'NUM'), ('28.36', 'NUM'), ('long', 'ADV'), ('north', 'ADJ'), ('separate', 'ADJ'), ('buses', 'NOUN'), ('manage', 'VERB'), ('succeed', 'VERB'), ('meant', 'VERB'), ('deposits', 'NOUN'), ('*T*-113', 'X'), ('inefficiencies', 'NOUN'), ('Advice', 'NOUN'), ('2.42', 'NUM'), ('*T*-39', 'X'), ('ever', 'ADV'), ('7.65', 'NUM'), ('deliberating', 'VERB'), ('copper', 'NOUN'), ('FTC', 'NOUN'), ('electricity', 'NOUN'), ('slightly', 'ADV'), ('Firms', 'NOUN'), ('tissue', 'NOUN'), ('economies', 'NOUN'), ('and', 'CONJ'), ('pirates', 'NOUN'), ('hospitable', 'ADJ'), ('worth', 'ADP'), ('Sundays', 'NOUN'), ('adjustable', 'ADJ'), ('cozy', 'ADJ'), ('Louis', 'NOUN'), ('Improvement', 'NOUN'), ('Freddie', 'NOUN'), ('battle', 'NOUN'), ('diminished', 'VERB'), ('2,500', 'NUM'), ('discrimination', 'NOUN'), ('Uptick', 'NOUN'), ('difficulty', 'NOUN'), ('plan', 'NOUN'), ('*T*-53', 'X'), ('should', 'VERB'), ('Moines', 'NOUN'), ('estimation', 'NOUN'), ('CS', 'NOUN'), ('unions', 'NOUN'), ('if', 'ADJ'), ('position', 'VERB'), ('numbers', 'NOUN'), ('conforms', 'VERB'), ('near', 'ADP'), ('Act', 'NOUN'), ('enhanced', 'VERB'), ('Grand', 'NOUN'), ('Truck', 'NOUN'), ('burdens', 'NOUN'), ('issued', 'VERB'), ('serve', 'VERB'), ('anxieties', 'NOUN'), ('seven-yen', 'ADJ'), ('introduce', 'VERB'), ('ASLACTON', 'NOUN'), ('impetus', 'NOUN'), ('U.S.A.', 'NOUN'), ('3.42', 'NUM'), ('viewpoint', 'NOUN'), ('Neal', 'NOUN'), ('Spitler', 'NOUN'), ('kept', 'VERB'), ('deterioration', 'NOUN'), ('creditor', 'NOUN'), ('incentives', 'NOUN'), ('Shugart', 'NOUN'), ('bargains', 'NOUN'), ('44', 'NUM'), ('bonuses', 'NOUN'), ('insider', 'NOUN'), ('Fulbright', 'NOUN'), ('Watson', 'NOUN'), ('sluggishness', 'NOUN'), ('Hold', 'VERB'), ('ventilated', 'VERB'), ('Dana-Farber', 'NOUN'), ('cues', 'NOUN'), ('down', 'PRT'), ('door', 'NOUN'), ('*-150', 'X'), ('afternoon', 'NOUN'), ('1.637', 'NUM'), ('home', 'NOUN'), ('videocassette', 'NOUN'), ('widgets', 'NOUN'), ('Panama', 'NOUN'), ('Following', 'VERB'), ('foldable', 'ADJ'), ('linked', 'VERB'), ('cuvees', 'NOUN'), ('eliminate', 'VERB'), ('Pet', 'NOUN'), ('Nixon', 'NOUN'), ('second', 'ADJ'), ('Polish', 'ADJ'), ('confuse', 'VERB'), ('accessories', 'NOUN'), ('youth', 'NOUN'), ('dismay', 'NOUN'), ('quote', 'VERB'), ('markkaa', 'NOUN'), ('Garrison', 'NOUN'), ('372.9', 'NUM'), ('*-164', 'X'), ('enabled', 'VERB'), ('*-146', 'X'), ('JUDICIAL', 'ADJ'), ('0.84', 'NUM'), ('paid', 'VERB'), ('favored', 'VERB'), ('Marie-Louise', 'NOUN'), ('reporters', 'NOUN'), ('Hara', 'NOUN'), ('LYNCH', 'NOUN'), ('turn', 'VERB'), ('staunchly', 'ADV'), ('gas', 'NOUN'), ('celebrate', 'VERB'), ('operator', 'NOUN'), ('extramarital', 'ADJ'), ('awarded', 'VERB'), ('by', 'PRT'), ('safe', 'ADJ'), ('everyday', 'ADJ'), ('minister', 'NOUN'), ('auspices', 'NOUN'), ('between', 'ADP'), ('Citicorp', 'NOUN'), ('dashed', 'VERB'), ('push', 'NOUN'), ('Wood', 'NOUN'), ('Baker', 'NOUN'), ('Lufkin', 'NOUN'), ('impatient', 'NOUN'), ('Caldor', 'NOUN'), ('dinosaurs', 'NOUN'), ('Handelsbanken', 'NOUN'), ('generators', 'NOUN'), ('Klein', 'NOUN'), ('replicated', 'VERB'), ('claim', 'VERB'), ('involving', 'VERB'), ('outstanding', 'ADJ'), ('beaten', 'ADJ'), ('16.9', 'NUM'), ('Sumitomo', 'NOUN'), ('Manhattan', 'NOUN'), ('noticed', 'VERB'), ('185.9', 'NUM'), ('disputed', 'VERB'), ('development', 'NOUN'), ('Property\\\\/casualty', 'NOUN'), ('purpose', 'NOUN'), ('chopped', 'VERB'), ('upside', 'ADV'), ('Charities', 'NOUN'), ('Guber\\\\/Peters', 'NOUN'), ('spaces', 'NOUN'), ('darned', 'ADV'), ('realestate', 'VERB'), ('slipped', 'VERB'), ('projects', 'VERB'), ('loose', 'ADJ'), ('238,000-circulation', 'ADJ'), ('refunding', 'NOUN'), ('single-handedly', 'ADV'), ('Commissions', 'NOUN'), ('dividends', 'NOUN'), ('tickets', 'NOUN'), ('veto', 'VERB'), ('Hart-Scott-Rodino', 'NOUN'), ('Angier', 'NOUN'), ('objectives', 'NOUN'), ('contingency-fee', 'ADJ'), ('transacting', 'VERB'), ('*-123', 'X'), ('endless', 'ADJ'), ('computer-aided', 'ADJ'), ('Ames', 'NOUN'), ('ignored', 'VERB'), ('None', 'NOUN'), ('Mitchell', 'NOUN'), ('assembled', 'VERB'), ('transplants', 'NOUN'), ('core', 'NOUN'), ('responses', 'NOUN'), ('plus', 'NOUN'), ('lap', 'NOUN'), ('leaders', 'NOUN'), ('gets', 'VERB'), ('bringing', 'VERB'), ('weeklies', 'NOUN'), ('emissions', 'NOUN'), ('Ortega', 'NOUN'), ('reforms', 'NOUN'), ('Copperweld', 'NOUN'), ('giants', 'NOUN'), ('incredible', 'ADJ'), ('interests', 'NOUN'), ('Impact', 'NOUN'), ('pay', 'NOUN'), ('joint', 'ADJ'), ('minutes', 'NOUN'), ('weird', 'ADJ'), ('cast-iron', 'ADJ'), ('clearer', 'ADJ'), ('states', 'VERB'), ('strategies', 'NOUN'), ('Once', 'ADV'), ('forecast', 'VERB'), ('leading', 'ADJ'), ('transition', 'NOUN'), ('UPHELD', 'VERB'), ('did', 'VERB'), ('insured', 'VERB'), ('coke', 'NOUN'), ('yet', 'ADV'), ('tire', 'NOUN'), ('Sony', 'NOUN'), ('supplier', 'NOUN'), ('conference', 'NOUN'), ('moderately', 'ADV'), ('ex-dividend', 'ADJ'), ('Smith', 'NOUN'), ('asking', 'VERB'), ('thin', 'ADJ'), ('importer', 'NOUN'), ('humble', 'ADJ'), ('1.39', 'NUM'), ('Mostly', 'ADV'), ('2.75', 'NUM'), ('issue', 'NOUN'), ('generated', 'VERB'), ('restaurant', 'NOUN'), ('like', 'VERB'), ('telling', 'VERB'), ('aftermath', 'NOUN'), ('architectural', 'ADJ'), ('Stockholm', 'NOUN'), ('1.64', 'NUM'), ('1901', 'NUM'), ('sickness', 'NOUN'), ('Mission', 'NOUN'), ('374.20', 'NUM'), ('GOP', 'NOUN'), ('372.14', 'NUM'), ('presumably', 'ADV'), ('period', 'NOUN'), ('registered', 'VERB'), ('MORTGAGE', 'NOUN'), ('sense', 'VERB'), ('motives', 'NOUN'), ('Lentjes', 'NOUN'), ('Canepa', 'NOUN'), ('aim', 'VERB'), ('collections', 'NOUN'), ('Gartner', 'NOUN'), ('Dealers', 'NOUN'), ('*-24', 'X'), ('approval', 'NOUN'), ('consideration', 'NOUN'), ('muscling', 'VERB'), ('larger-than-normal', 'ADJ'), ('obtaining', 'VERB'), ('risk-free', 'ADJ'), ('clarify', 'VERB'), ('45.2', 'NUM'), ('viewed', 'VERB'), ('works', 'NOUN'), ('running', 'VERB'), ('replacement-car', 'NOUN'), ('contradictions', 'NOUN'), ('damage', 'NOUN'), ('1.26', 'NUM'), ('*RNR*-4', 'X'), ('opposes', 'VERB'), ('immediate', 'ADJ'), ('recession', 'NOUN'), ('55-year-old', 'NOUN'), ('diseases', 'NOUN'), ('nominees', 'NOUN'), ('Cluff', 'NOUN'), ('Offering', 'VERB'), ('American', 'ADJ'), ('Somerset', 'NOUN'), ('weighed', 'VERB'), ('attention', 'NOUN'), ('Fire', 'NOUN'), ('!', '.'), ('launched', 'VERB'), ('raised', 'VERB'), ('Napa', 'NOUN'), ('Corp', 'NOUN'), ('boomers', 'NOUN'), ('regulate', 'VERB'), ('Mazda', 'NOUN'), ('Carnegie-Mellon', 'NOUN'), ('trained', 'VERB'), ('lung', 'NOUN'), ('athletic', 'ADJ'), ('premium', 'NOUN'), ('ASSOCIATION', 'NOUN'), ('predispose', 'VERB'), ('help', 'NOUN'), ('Houghton', 'NOUN'), ('campaigns', 'NOUN'), ('disaster', 'NOUN'), ('crude', 'ADJ'), ('British', 'ADJ'), ('drawing', 'NOUN'), ('reinstating', 'VERB'), ('everybody', 'NOUN'), ('trading', 'NOUN'), ('underscore', 'VERB'), ('sneaked', 'VERB'), ('40-year-old', 'ADJ'), ('Killeen', 'NOUN'), ('Wilson', 'NOUN'), ('Muramatsu', 'NOUN'), ('*-44', 'X'), ('name', 'VERB'), ('ease', 'VERB'), ('attend', 'VERB'), ('front', 'NOUN'), ('lives', 'VERB'), ('Foreign', 'NOUN'), ('235', 'NUM'), ('astronomical', 'ADJ'), ('Rumors', 'NOUN'), ('Hammersmith', 'NOUN'), ('Fla.', 'NOUN'), ('Springs', 'NOUN'), ('OVER', 'ADP'), ('195', 'NUM'), ('semicircular', 'ADJ'), ('campaign', 'NOUN'), ('careers', 'NOUN'), ('trade', 'VERB'), ('35.7', 'NUM'), ('So', 'ADV'), ('supercomputers', 'NOUN'), ('Preferences', 'NOUN'), ('depressions', 'NOUN'), ('Seattle-based', 'ADJ'), ('legislation', 'NOUN'), ('whether', 'ADP'), ('planes', 'NOUN'), ('World-Wide', 'NOUN'), ('modest', 'ADJ'), ('unrealistically', 'ADV'), ('On', 'ADP'), ('stockbrokers', 'NOUN'), ('263.07', 'NUM'), ('deficiencies', 'NOUN'), ('zone', 'NOUN'), ('folks', 'NOUN'), ('175', 'NUM'), ('charged', 'VERB'), ('ounce', 'NOUN'), ('Chase', 'NOUN'), ('depression', 'NOUN'), ('re-thought', 'ADJ'), ('mount', 'VERB'), ('5.6', 'NUM'), ('milk', 'NOUN'), ('mandates', 'VERB'), ('becoming', 'VERB'), ('Groton', 'NOUN'), ('junk-bond', 'ADJ'), ('CTBS', 'NOUN'), ('well', 'ADV'), ('contract', 'VERB'), ('Conn.based', 'ADJ'), ('schoolteacher', 'NOUN'), ('*-158', 'X'), ('241', 'NUM'), ('controls', 'NOUN'), ('cost-cutting', 'ADJ'), ('exploded', 'VERB'), ('required', 'VERB'), ('105', 'NUM'), ('increasingly', 'ADV'), ('we-Japanese', 'ADJ'), ('disclosing', 'VERB'), ('gained', 'VERB'), ('game', 'NOUN'), ('uses', 'NOUN'), ('held', 'VERB'), ('Derek', 'NOUN'), ('flows', 'NOUN'), ('Beauty', 'NOUN'), ('populated', 'VERB'), ('Planters', 'NOUN'), ('round-trip', 'ADJ'), ('Industrial', 'ADJ'), ('landfills', 'NOUN'), ('GM', 'NOUN'), ('three-lawyer', 'ADJ'), ('bill', 'NOUN'), ('image', 'NOUN'), ('Chicago-style', 'ADJ'), ('medicine', 'NOUN'), ('suggest', 'VERB'), ('Kangyo', 'NOUN'), ('reprint', 'VERB'), ('24,000', 'NUM'), ('administration', 'NOUN'), ('fast', 'ADJ'), ('Justice', 'ADJ'), ('observers', 'NOUN'), ('fill', 'VERB'), ('positioned', 'VERB'), ('subscription', 'NOUN'), ('steeper', 'ADJ'), ('worst-case', 'ADJ'), ('major-league', 'ADJ'), ('Funny', 'NOUN'), ('agency', 'NOUN'), ('materialize', 'VERB'), ('telephones', 'NOUN'), ('reap', 'VERB'), ('plagued', 'VERB'), ('security-type', 'ADJ'), ('Doak', 'NOUN'), ('64.5', 'NUM'), ('limit', 'NOUN'), ('Champagnes', 'NOUN'), ('high-tech', 'ADJ'), ('markup', 'NOUN'), ('robustly', 'ADV'), ('Fred', 'NOUN'), ('Practical', 'NOUN'), ('direction', 'NOUN'), ('affiliates', 'NOUN'), ('14.43', 'NUM'), ('*T*-43', 'X'), ('International', 'NOUN'), ('modern', 'ADJ'), ('Caribbean', 'NOUN'), ('bulldozers', 'NOUN'), ('peak', 'NOUN'), ('Sir', 'NOUN'), ('parallels', 'VERB'), ('judiciary', 'NOUN'), ('home-market', 'ADJ'), ('1989-90', 'NUM'), ('Her', 'PRON'), ('delete', 'VERB'), ('30-year', 'ADJ'), ('Albuquerque', 'NOUN'), ('Educational', 'NOUN'), ('33', 'NUM'), ('surprisingly', 'ADV'), ('approached', 'VERB'), ('214', 'NUM'), ('rates', 'VERB'), ('go', 'VERB'), ('four-year', 'ADJ'), ('heavy', 'ADJ'), ('Odd-year', 'ADJ'), ('recommend', 'VERB'), ('swap', 'NOUN'), ('territory', 'NOUN'), ('camera', 'NOUN'), ('faint', 'VERB'), ('helpful', 'ADJ'), ('anemic', 'ADJ'), ('Colonsville', 'NOUN'), ('Fund', 'NOUN'), ('Crash', 'NOUN'), ('35', 'NUM'), ('equally', 'ADV'), ('editorial', 'NOUN'), ('*T*-242', 'X'), ('amusing', 'ADJ'), ('concerns', 'NOUN'), ('Platt', 'NOUN'), ('disconnect', 'VERB'), ('instrument', 'NOUN'), ('improving', 'VERB'), ('perform', 'VERB'), ('formula', 'NOUN'), ('X', 'NOUN'), ('counts', 'VERB'), ('scared', 'ADJ'), ('unfettered', 'ADJ'), ('East', 'NOUN'), ('bring', 'VERB'), ('Wolf', 'NOUN'), ('merely', 'ADV'), ('Yasser', 'NOUN'), ('Nov.', 'NOUN'), ('without', 'ADP'), ('1933', 'NUM'), ('continuingly', 'ADV'), ('drawn', 'VERB'), ('failing', 'VERB'), ('MITI', 'NOUN'), ('Posted', 'VERB'), ('Dutch', 'ADJ'), ('responsive', 'ADJ'), ('Dumpster', 'NOUN'), ('why', 'ADV'), ('noble', 'ADJ'), ('electronics', 'NOUN'), ('clobbered', 'VERB'), ('inhibit', 'VERB'), ('644', 'NUM'), ('aboard', 'ADP'), ('computer-driven', 'ADJ'), ('telegraph', 'NOUN'), ('disagreeable', 'ADJ'), ('effectively', 'ADV'), ('partially', 'ADV'), ('Oklahoma', 'NOUN'), ('force', 'NOUN'), ('subindustry', 'NOUN'), ('intend', 'VERB'), ('16', 'NUM'), ('provided', 'VERB'), ('tramp', 'NOUN'), ('loudest', 'ADJ'), ('metric', 'ADJ'), ('Exxon-owned', 'ADJ'), ('acknowledges', 'VERB'), ('*T*-112', 'X'), ('200', 'NUM'), ('gift', 'NOUN'), ('*T*-122', 'X'), ('Soon', 'ADV'), ('merchant', 'NOUN'), ('D.', 'NOUN'), ('8.53', 'NUM'), ('clearly', 'ADV'), ('telephone-information', 'NOUN'), ('defects', 'NOUN'), ('140', 'NUM'), ('search', 'NOUN'), ('unpublished', 'ADJ'), ('filed', 'VERB'), ('circuit', 'NOUN'), ('judgment', 'NOUN'), ('supportive', 'ADJ'), ('*T*-147', 'X'), ('Luce', 'NOUN'), ('truthful', 'ADJ'), ('132,000', 'NUM'), ('Tray', 'NOUN'), ('early', 'ADV'), ('32.8', 'NUM'), ('spent', 'VERB'), ('maximize', 'VERB'), ('Under', 'ADP'), ('Spiro', 'NOUN'), ('amounts', 'VERB'), ('exists', 'VERB'), ('beneficiaries', 'NOUN'), ('liable', 'ADJ'), ('offer', 'NOUN'), ('cases', 'NOUN'), ('nominate', 'VERB'), ('Atlanta-based', 'ADJ'), ('*T*-152', 'X'), ('ward', 'VERB'), ('boy', 'NOUN'), ('deliberately', 'ADV'), ('Post', 'NOUN'), ('acres', 'NOUN'), ('good-faith', 'NOUN'), ('punishment', 'NOUN'), ('cute', 'ADJ'), ('Van', 'NOUN'), ('itself', 'PRON'), ('OK', 'X'), ('audience', 'NOUN'), ('3.2', 'NUM'), ('permanent', 'ADJ'), ('promotional', 'ADJ'), ('responding', 'VERB'), ('combinations', 'NOUN'), ('raring', 'ADJ'), ('regime', 'NOUN'), ('Scientists', 'NOUN'), ('Garret', 'NOUN'), ('ventures', 'NOUN'), ('derisively', 'ADV'), ('diplomatic', 'ADJ'), ('Mikhail', 'NOUN'), ('member', 'NOUN'), ('Skilled', 'ADJ'), ('troublesome', 'ADJ'), ('Soho', 'NOUN'), ('romance', 'NOUN'), ('squad', 'NOUN'), ('Profit', 'NOUN'), ('decliners', 'NOUN'), ('Neither', 'DET'), ('tad', 'NOUN'), ('grandfather', 'NOUN'), ('Lake', 'NOUN'), ('LSI', 'NOUN'), ('studiously', 'ADV'), ('*T*-121', 'X'), ('intrusion', 'NOUN'), ('northern', 'ADJ'), ('energetic', 'ADJ'), ('co-owner', 'NOUN'), ('banned', 'VERB'), ('backers', 'NOUN'), ('$', '.'), ('Strong', 'ADJ'), ('guilders', 'NOUN'), ('2.80', 'NUM'), ('unveil', 'VERB'), ('investing', 'VERB'), ('lawsuit', 'NOUN'), ('imports', 'NOUN'), ('Marty', 'NOUN'), ('peal', 'NOUN'), (\"C'mon\", 'VERB'), ('decorated', 'VERB'), ('declined', 'VERB'), ('polyproplene', 'NOUN'), ('cash-and-stock', 'ADJ'), ('One', 'NOUN'), ('Hayes', 'NOUN'), ('extent', 'NOUN'), ('ITC', 'NOUN'), ('improved', 'VERB'), ('college', 'NOUN'), ('degenerative', 'ADJ'), ('Marder', 'NOUN'), ('gain', 'NOUN'), ('Barfield', 'NOUN'), ('prove', 'VERB'), ('eclipse', 'VERB'), ('crook', 'NOUN'), ('small-time', 'ADJ'), ('short-term', 'ADJ'), ('7.458', 'NUM'), ('109.73', 'NUM'), ('peddling', 'NOUN'), ('knowledge', 'NOUN'), ('Child', 'NOUN'), ('Reducing', 'VERB'), ('PLC', 'NOUN'), ('DOONESBURY', 'NOUN'), ('high-stakes', 'ADJ'), ('thousands', 'NOUN'), ('settlement', 'NOUN'), ('Boston', 'NOUN'), ('color', 'NOUN'), ('four-foot-high', 'ADJ'), ('reservations', 'NOUN'), ('cautious', 'ADJ'), ('advertorial', 'ADJ'), ('prestigious', 'ADJ'), ('51.25', 'NUM'), ('written', 'VERB'), ('Irving', 'NOUN'), ('down', 'ADP'), ('retaining', 'VERB'), ('scientific', 'ADJ'), ('387.8', 'NUM'), ('pass', 'VERB'), ('realized', 'VERB'), ('1.24', 'NUM'), ('992,000', 'NUM'), ('weaker', 'ADJ'), ('Vanderbilt', 'NOUN'), ('deviation', 'NOUN'), ('Minneapolis-based', 'ADJ'), ('theaters', 'NOUN'), ('80.8', 'NUM'), ('imbalances', 'NOUN'), ('Einhorn', 'NOUN'), ('committee', 'NOUN'), ('razor-thin', 'ADJ'), ('band-wagon', 'ADJ'), ('Vose', 'NOUN'), ('Gates', 'NOUN'), ('Rowe', 'NOUN'), ('6.53', 'NUM'), ('Against', 'ADP'), ('away', 'ADV'), ('liberty', 'NOUN'), ('rule', 'VERB'), ('restructuring', 'VERB'), ('successor', 'NOUN'), ('vintage', 'NOUN'), ('followed', 'VERB'), ('make', 'VERB'), ('reacted', 'VERB'), ('chefs', 'NOUN'), ('rebuild', 'VERB'), ('against', 'ADP'), ('230-215', 'NUM'), ('via', 'ADP'), ('Communist', 'NOUN'), ('lighter', 'ADJ'), ('consented', 'VERB'), ('punitive', 'ADJ'), ('Robbie', 'NOUN'), ('meal', 'NOUN'), ('premises', 'NOUN'), ('progressive', 'ADJ'), ('extension', 'NOUN'), ('couples', 'NOUN'), ('full-year', 'ADJ'), ('by', 'ADP'), ('bonus', 'NOUN'), ('pegged', 'VERB'), ('reporter', 'NOUN'), ('merchandise', 'NOUN'), ('later', 'ADV'), ('Southern', 'NOUN'), ('pioneer', 'NOUN'), ('assume', 'VERB'), ('declining', 'VERB'), ('pages', 'NOUN'), ('lynch-mob', 'ADJ'), ('*T*-67', 'X'), ('page', 'NOUN'), ('blurred', 'VERB'), ('ACCOUNT', 'NOUN'), ('COLLECTING', 'NOUN'), ('lessen', 'VERB'), ('proprietor', 'NOUN'), ('slump', 'NOUN'), ('Sayers', 'NOUN'), ('admits', 'VERB'), ('Vitulli', 'NOUN'), ('shaded', 'ADJ'), ('Bunny', 'NOUN'), ('intervention', 'NOUN'), ('THREE', 'NUM'), ('delayed', 'VERB'), ('Memphis', 'NOUN'), ('3.55', 'NUM'), ('long', 'ADJ'), ('fixed-rate', 'ADJ'), ('Bailey', 'NOUN'), ('creditors', 'NOUN'), ('unsympathetic', 'ADJ'), ('understood', 'VERB'), ('Guaranteed', 'VERB'), ('underpin', 'VERB'), ('Rey\\\\/Fawcett', 'NOUN'), ('Lord', 'NOUN'), ('len', 'NOUN'), ('9.8', 'NUM'), ('118', 'NUM'), ('winter', 'NOUN'), ('Previously', 'ADV'), ('suspend', 'VERB'), ('Cartons', 'NOUN'), ('sound', 'ADJ'), ('long-term', 'ADJ'), ('although', 'ADP'), ('A', 'DET'), ('2.1', 'NUM'), ('morning', 'NOUN'), ('three-month', 'ADJ'), ('acquirer', 'NOUN'), ('refunded', 'VERB'), ('Barnum', 'NOUN'), ('print', 'VERB'), ('Bill', 'NOUN'), ('complicated', 'ADJ'), ('40,000', 'NUM'), ('principals', 'NOUN'), ('company', 'NOUN'), ('Carballo', 'NOUN'), ('Intermec', 'NOUN'), ('plans', 'NOUN'), ('not', 'ADV'), ('sanctions', 'VERB'), ('Sweden', 'NOUN'), ('directorship', 'NOUN'), ('poor', 'NOUN'), ('margins', 'NOUN'), ('attracting', 'VERB'), ('over', 'ADV'), ('tidbits', 'NOUN'), ('Las', 'NOUN'), ('*ICH*-3', 'X'), ('granted', 'VERB'), ('disadvantage', 'NOUN'), ('guide', 'NOUN'), ('difficulties', 'NOUN'), ('earlier', 'ADV'), ('alleged', 'ADJ'), ('showing', 'NOUN'), ('retorts', 'NOUN'), ('advent', 'NOUN'), ('formal', 'ADJ'), ('Report', 'NOUN'), ('strengthened', 'VERB'), ('rescheduled', 'VERB'), ('tapping', 'VERB'), ('INQUIRY', 'NOUN'), ('headlined', 'VERB'), ('plainclothes', 'NOUN'), ('lasted', 'VERB'), ('carefree', 'ADJ'), ('palace', 'NOUN'), ('States', 'NOUN'), ('House', 'NOUN'), ('message', 'NOUN'), ('completely', 'ADV'), ('markdowns', 'NOUN'), ('rentals', 'NOUN'), ('0.56', 'NUM'), ('aftereffects', 'NOUN'), ('Zaharah', 'NOUN'), ('609', 'NUM'), ('every', 'DET'), ('27-year', 'ADJ'), ('hook', 'NOUN'), ('INS', 'NOUN'), ('gave', 'VERB'), ('generate', 'VERB'), ('Cambridge', 'NOUN'), ('Wa', 'NOUN'), ('Medicine', 'NOUN'), ('safety', 'NOUN'), ('Nature', 'NOUN'), ('industrial-production', 'ADJ'), ('J.L.', 'NOUN'), ('Spence', 'NOUN'), ('leader', 'NOUN'), ('Wilton', 'NOUN'), ('injecting', 'VERB'), ('could', 'VERB'), ('rapidly', 'ADV'), ('golden', 'ADJ'), ('Video', 'NOUN'), ('Latin', 'NOUN'), ('devise', 'VERB'), ('drop', 'NOUN'), ('focus', 'NOUN'), ('irony', 'NOUN'), ('132.9', 'NUM'), ('stars', 'NOUN'), ('near-record', 'ADJ'), ('bargain', 'NOUN'), ('content', 'NOUN'), ('posting', 'VERB'), ('reserve', 'NOUN'), ('Tache', 'NOUN'), ('unresolved', 'ADJ'), ('Soup', 'NOUN'), ('129.91', 'NUM'), ('political', 'ADJ'), ('voted', 'VERB'), ('House-Senate', 'NOUN'), ('Veraldi', 'NOUN'), ('emotional', 'ADJ'), ('addition', 'NOUN'), ('31', 'NUM'), ('Beatles', 'NOUN'), ('only', 'ADJ'), ('devices', 'NOUN'), ('improve', 'VERB'), ('under', 'ADP'), ('Travelers', 'NOUN'), ('Polytechnic', 'NOUN'), ('Ore.', 'NOUN'), ('5\\\\/8', 'NUM'), ('loom', 'VERB'), ('executive-office', 'NOUN'), ('parents', 'NOUN'), ('13\\\\/16', 'NUM'), ('sentimental', 'ADJ'), ('Chong-sik', 'NOUN'), ('Simmons', 'NOUN'), ('Nomenklatura', 'NOUN'), ('12.97', 'NUM'), ('movements', 'NOUN'), ('Virginians', 'NOUN'), ('effects', 'NOUN'), ('*-33', 'X'), ('altered', 'VERB'), ('7\\\\/8', 'NUM'), ('cost', 'VERB'), ('LOAN', 'NOUN'), ('Solihull', 'NOUN'), ('31-year-old', 'ADJ'), ('influencing', 'VERB'), ('before', 'ADV'), ('Roof', 'NOUN'), ('buy-out', 'ADJ'), ('have', 'VERB'), ('akin', 'ADJ'), ('Uzi-model', 'ADJ'), ('plant', 'NOUN'), ('fractionally', 'ADV'), ('till', 'ADP'), ('mollified', 'VERB'), ('Puerto', 'NOUN'), ('Bronces', 'NOUN'), ('slippage', 'NOUN'), ('Assistant', 'NOUN'), ('junk', 'VERB'), ('integrity', 'NOUN'), ('wages', 'NOUN'), ('manufacturer', 'NOUN'), ('AMR', 'NOUN'), ('index-related', 'ADJ'), ('stalemate', 'NOUN'), ('1.9', 'NUM'), ('appears', 'VERB'), ('Sometimes', 'ADV'), ('Automobile', 'NOUN'), ('concentration', 'NOUN'), ('shopped', 'VERB'), (\"'80s\", 'NUM'), ('jurisdiction', 'NOUN'), ('gallon', 'NOUN'), ('diluted', 'VERB'), ('Securities', 'NOUN'), ('Univest', 'NOUN'), ('documents', 'NOUN'), ('Cosmopolitan', 'NOUN'), ('Cerf', 'NOUN'), ('Brownstein', 'NOUN'), ('lotter', 'NOUN'), ('windfall', 'NOUN'), ('sticker', 'NOUN'), ('quota', 'NOUN'), ('resort', 'NOUN'), ('Melamed', 'NOUN'), ('needed', 'VERB'), ('wires', 'NOUN'), ('artist', 'NOUN'), ('L.', 'NOUN'), ('prolonged', 'VERB'), ('creams', 'NOUN'), ('constitutional', 'ADJ'), ('Spiegel', 'NOUN'), ('talk', 'VERB'), ('composting', 'NOUN'), ('actually', 'ADV'), ('During', 'ADP'), ('1984', 'NUM'), ('declare', 'VERB'), ('Phelan', 'NOUN'), ('weapon', 'NOUN'), ('water-authority', 'NOUN'), ('Miami-based', 'ADJ'), ('shows', 'NOUN'), ('Brown', 'NOUN'), ('Orlando', 'NOUN'), ('enrollment', 'NOUN'), ('round', 'NOUN'), ('needs', 'NOUN'), ('Elisabeth', 'NOUN'), ('Billings', 'NOUN'), ('Andy', 'NOUN'), ('manager', 'NOUN'), ('hold', 'VERB'), ('case', 'NOUN'), ('abortion-related', 'ADJ'), ('custom-chip', 'ADJ'), ('unproductive', 'ADJ'), ('slide', 'VERB'), ('furor', 'NOUN'), ('Park', 'NOUN'), ('1637', 'NUM'), ('415', 'NUM'), ('exempt', 'ADJ'), ('problem', 'NOUN'), ('overnight', 'ADJ'), ('considers', 'VERB'), ('hurt', 'VERB'), ('rate-sensitive', 'ADJ'), ('Newsweek', 'NOUN'), ('copied', 'VERB'), ('powerhouse', 'NOUN'), ('comeback', 'NOUN'), ('ship', 'VERB'), ('v.', 'CONJ'), ('19', 'NUM'), ('vested', 'VERB'), ('everything', 'NOUN'), ('floors', 'NOUN'), ('Shangkun', 'NOUN'), ('Since', 'ADP'), ('seats', 'NOUN'), ('researchers', 'NOUN'), ('Jonas', 'NOUN'), ('reckless', 'ADJ'), ('Warner', 'NOUN'), ('Susan', 'NOUN'), ('mine', 'ADJ'), ('*-142', 'X'), ('overall', 'ADJ'), ('inherently', 'ADV'), ('Sale', 'NOUN'), ('awaits', 'VERB'), ('incurred', 'VERB'), ('condemned', 'VERB'), ('339', 'NUM'), ('C-90', 'NOUN'), ('denied', 'VERB'), ('Aerospace', 'NOUN'), ('anti-abortionists', 'NOUN'), ('located', 'VERB'), ('advertised', 'VERB'), ('infusion', 'NOUN'), ('recent', 'ADJ'), ('crackdown', 'NOUN'), ('bids', 'NOUN'), ('sending', 'VERB'), ('speculated', 'VERB'), ('refund', 'NOUN'), ('Sanford', 'NOUN'), ('rebuilding', 'VERB'), ('lipsticks', 'NOUN'), ('Futures', 'NOUN'), ('18', 'NUM'), ('3.18', 'NUM'), ('Edelman', 'NOUN'), ('coffee', 'NOUN'), ('evidence', 'NOUN'), ('As', 'ADP'), ('acute', 'ADJ'), ('homeless', 'ADJ'), ('evenly', 'ADV'), ('Gov.', 'NOUN'), ('freeway', 'NOUN'), ('periodontal', 'ADJ'), ('scientists', 'NOUN'), ('three-quarters', 'NOUN'), ('corn-buying', 'ADJ'), ('First', 'ADJ'), ('vortex', 'NOUN'), ('NBC', 'NOUN'), ('Power', 'NOUN'), ('capped', 'ADJ'), ('*T*-47', 'X'), ('untrained', 'ADJ'), ('self-aggrandizing', 'ADJ'), ('brief', 'VERB'), ('Why', 'ADV'), ('Everyone', 'NOUN'), ('off', 'ADJ'), ('programming', 'NOUN'), ('*T*-158', 'X'), ('marketers', 'NOUN'), ('61', 'NUM'), ('Yeargin', 'NOUN'), ('Hatch', 'NOUN'), ('views', 'NOUN'), ('diverse', 'ADJ'), ('7.15', 'NUM'), ('information-services', 'NOUN'), ('syndicate', 'NOUN'), ('offset', 'VERB'), ('openings', 'NOUN'), ('build', 'VERB'), ('compensation', 'NOUN'), ('sign', 'NOUN'), ('awareness', 'NOUN'), ('refusal', 'NOUN'), ('agree', 'VERB'), ('*T*-14', 'X'), ('effective', 'ADJ'), ('feature', 'NOUN'), ('bold', 'ADJ'), ('*-156', 'X'), ('900', 'NUM'), ('step', 'VERB'), ('rapid', 'ADJ'), ('PhacoFlex', 'NOUN'), ('halt', 'NOUN'), ('Lawless', 'NOUN'), ('extended', 'VERB'), ('publishes', 'VERB'), ('Capitol', 'NOUN'), ('referral', 'NOUN'), ('*T*-49', 'X'), ('returns', 'NOUN'), ('149.9', 'NUM'), ('nervousness', 'NOUN'), ('June', 'NOUN'), ('Colorliner', 'NOUN'), ('Second', 'NOUN'), ('26.5', 'NUM'), ('Rail', 'NOUN'), ('Czechoslovakia', 'NOUN'), ('Like', 'ADP'), ('7.3', 'NUM'), ('adjustments', 'NOUN'), ('Communication', 'NOUN'), ('adviser', 'NOUN'), ('Much', 'ADJ'), ('allegations', 'NOUN'), ('redeem', 'VERB'), ('widget', 'NOUN'), ('African', 'ADJ'), ('doubled', 'VERB'), ('collapse', 'NOUN'), ('*T*-193', 'X'), ('DSM', 'NOUN'), ('answers', 'NOUN'), ('bundles', 'NOUN'), ('silicone', 'NOUN'), ('interesting', 'ADJ'), ('fold', 'VERB'), ('activity', 'NOUN'), ('*T*-218', 'X'), ('8.25', 'NUM'), ('Already', 'ADV'), ('plunged', 'VERB'), ('*T*-180', 'X'), ('spinoff', 'NOUN'), ('restricts', 'VERB'), ('Cincinnati', 'NOUN'), ('general', 'NOUN'), ('Rill', 'NOUN'), ('restaurants', 'NOUN'), ('Homeless', 'NOUN'), ('Mich.', 'NOUN'), ('*T*-173', 'X'), ('convert', 'VERB'), ('Recently', 'ADV'), ('1,200', 'NUM'), ('Jerry', 'NOUN'), ('unsuccessful', 'ADJ'), ('Cigna', 'NOUN'), ('body', 'NOUN'), ('Communications', 'NOUN'), ('fastest-growing', 'ADJ'), ('voting', 'NOUN'), ('Sr.', 'NOUN'), ('*T*-58', 'X'), ('shadows', 'NOUN'), ('order', 'NOUN'), ('during', 'ADP'), ('Basin', 'NOUN'), ('Mae', 'NOUN'), ('appoint', 'VERB'), ('year-to-year', 'ADJ'), ('COMPUTERS', 'NOUN'), ('underwriter', 'NOUN'), ('0.28', 'NUM'), ('*T*-133', 'X'), ('Basham', 'NOUN'), ('1973-75', 'NUM'), ('unitary', 'ADJ'), ('insistence', 'NOUN'), ('park', 'NOUN'), ('All', 'DET'), ('doing', 'VERB'), ('Nasty', 'ADJ'), ('holiday', 'NOUN'), ('politics', 'NOUN'), ('8.35', 'NUM'), ('copy', 'VERB'), ('inched', 'VERB'), ('Ann', 'NOUN'), ('Citibank', 'NOUN'), ('start-up', 'NOUN'), ('ordered', 'VERB'), ('retail', 'NOUN'), ('Sino-U.S.', 'NOUN'), ('alternatives', 'NOUN'), ('nearby', 'ADV'), ('Dynamics', 'NOUN'), ('designers', 'NOUN'), ('administrators', 'NOUN'), ('overriding', 'VERB'), ('Orrick', 'NOUN'), ('particularly', 'ADV'), ('refuses', 'VERB'), ('impede', 'VERB'), ('ABORTION', 'NOUN'), ('freedoms', 'NOUN'), ('unwilling', 'ADJ'), ('discouraging', 'VERB'), ('turmoil', 'NOUN'), ('setting', 'VERB'), ('Given', 'VERB'), ('to', 'ADP'), ('Harris', 'NOUN'), ('blindfold', 'NOUN'), ('7.55', 'NUM'), ('sweaters', 'NOUN'), ('500-stock', 'ADJ'), ('9.82', 'NUM'), ('*-60', 'X'), ('disagreement', 'NOUN'), ('7.50', 'NUM'), ('excise', 'VERB'), ('eager', 'ADJ'), ('Hammacher', 'NOUN'), ('reflecting', 'VERB'), ('reasserts', 'VERB'), ('wary', 'ADJ'), ('letter', 'NOUN'), ('might', 'VERB'), ('prompted', 'VERB'), ('seven-day', 'ADJ'), ('Aug.', 'NOUN'), ('Pacific', 'NOUN'), ('municipality', 'NOUN'), ('autos', 'NOUN'), ('swaps', 'NOUN'), ('raspberry', 'NOUN'), ('Albert', 'NOUN'), ('Renaissance-style', 'ADJ'), ('refrigerator', 'NOUN'), ('refocusing', 'NOUN'), ('7\\\\/16', 'NUM'), ('Ricken', 'NOUN'), ('attacks', 'NOUN'), ('losses', 'NOUN'), ('Europe', 'NOUN'), ('outside', 'ADP'), ('articles', 'NOUN'), ('avenge', 'VERB'), ('they', 'PRON'), ('Cannell', 'NOUN'), ('Ramirez', 'NOUN'), ('right', 'NOUN'), ('N.Y.', 'NOUN'), ('Structural', 'NOUN'), ('cumbersome', 'ADJ'), ('homosexual', 'ADJ'), ('Teacher', 'NOUN'), ('balls', 'NOUN'), ('delivery', 'NOUN'), ('1.916', 'NUM'), ('crystal', 'NOUN'), ('rigid', 'ADJ'), ('requires', 'VERB'), ('acquisition', 'NOUN'), ('parishes', 'NOUN'), ('Association', 'NOUN'), ('sleep', 'VERB'), ('default', 'VERB'), ('rejected', 'VERB'), ('*T*-16', 'X'), ('performed', 'VERB'), ('reaction', 'NOUN'), ('joining', 'VERB'), ('establish', 'VERB'), ('disgorge', 'VERB'), ('S.', 'NOUN'), ('Congress', 'NOUN'), ('attempts', 'VERB'), ('stayed', 'VERB'), ('Warsaw', 'NOUN'), ('standing', 'NOUN'), ('serviced', 'VERB'), ('citizens', 'NOUN'), ('office', 'NOUN'), ('burned', 'VERB'), ('mere', 'ADJ'), ('deals', 'NOUN'), ('prefectural', 'ADJ'), ('Spoon', 'NOUN'), ('non-farm', 'ADJ'), ('verbatim', 'ADJ'), ('unjust', 'ADJ'), ('drinks', 'NOUN'), ('nine-year', 'ADJ'), ('specializing', 'VERB'), ('party', 'NOUN'), ('casino', 'NOUN'), ('single-family', 'NOUN'), ('sketching', 'VERB'), ('told', 'VERB'), ('nearly', 'ADV'), ('150-point', 'ADJ'), ('increases', 'VERB'), ('Republican', 'NOUN'), ('Bowes', 'NOUN'), ('piracy', 'NOUN'), ('solutions', 'NOUN'), ('tour', 'NOUN'), ('pyramids', 'NOUN'), ('Money', 'NOUN'), ('notion', 'NOUN'), ('Colony', 'NOUN'), ('mutual', 'ADJ'), ('consulting', 'NOUN'), ('marginally', 'ADV'), ('490', 'NUM'), ('medium-sized', 'ADJ'), ('Monetary', 'NOUN'), ('escrow', 'NOUN'), ('stemmed', 'VERB'), ('doling', 'VERB'), ('Novello', 'NOUN'), ('1961', 'NUM'), ('Bangkok', 'NOUN'), ('interested', 'VERB'), ('trap', 'NOUN'), ('health', 'NOUN'), ('incapable', 'ADJ'), ('Nelms', 'NOUN'), ('carrier', 'NOUN'), ('consists', 'VERB'), ('1,000', 'NUM'), ('logic', 'NOUN'), ('*T*-231', 'X'), ('leash', 'NOUN'), ('brilliant', 'ADJ'), ('wines', 'NOUN'), ('116.3', 'NUM'), ('Jersey-based', 'ADJ'), ('Earns', 'VERB'), ('notably', 'ADV'), ('agreeing', 'VERB'), ('floor', 'NOUN'), ('prescient', 'ADJ'), ('in-store', 'ADJ'), ('Unico', 'NOUN'), ('1977', 'NUM'), ('means', 'VERB'), ('Laura', 'NOUN'), ('result', 'NOUN'), ('Institution', 'NOUN'), ('stabbed', 'VERB'), ('very', 'ADV'), ('tied', 'VERB'), ('cleanliness', 'NOUN'), ('Correll', 'NOUN'), ('hotels', 'NOUN'), ('Sandifer', 'NOUN'), ('Takes', 'VERB'), ('Kobe', 'NOUN'), ('apparel', 'NOUN'), ('identity-management', 'NOUN'), ('tight', 'ADV'), ('registration', 'NOUN'), ('potentially', 'ADV'), ('Investors', 'NOUN'), ('pick', 'VERB'), ('scandal', 'NOUN'), ('robbed', 'VERB'), ('users', 'NOUN'), ('answer', 'VERB'), ('reduced', 'VERB'), ('vinyl', 'NOUN'), ('interest-bearing', 'ADJ'), ('18-a-share', 'ADJ'), ('wrong', 'ADJ'), ('Where', 'ADV'), ('employers', 'NOUN'), ('undergoing', 'VERB'), ('Md.', 'NOUN'), ('polled', 'VERB'), ('request', 'NOUN'), ('18.3', 'NUM'), ('Buyers', 'NOUN'), ('inmates', 'NOUN'), ('*EXP*-3', 'X'), ('Domestic', 'ADJ'), ('teaches', 'VERB'), ('sensitivity', 'NOUN'), ('17.4', 'NUM'), ('Average', 'NOUN'), ('Westminster', 'NOUN'), ('record', 'VERB'), ('authority', 'NOUN'), ('chastised', 'VERB'), ('over-the-counter', 'ADJ'), ('Sidak', 'NOUN'), ('aghast', 'ADJ'), ('priced', 'VERB'), ('reasons', 'NOUN'), ('ambassador', 'NOUN'), ('barely', 'ADV'), ('Florio', 'NOUN'), ('Amsterdam', 'NOUN'), ('Singapore', 'NOUN'), ('bull', 'NOUN'), ('writing', 'VERB'), ('letter-writing', 'ADJ'), ('penetrate', 'VERB'), ('succeeding', 'VERB'), ('truck', 'NOUN'), ('Catch-22', 'NOUN'), ('anytime', 'ADV'), ('Dale', 'NOUN'), ('how-to', 'ADJ'), ('membership', 'NOUN'), ('Ellis', 'NOUN'), ('flux', 'NOUN'), ('assertions', 'NOUN'), ('immune', 'ADJ'), ('variety', 'NOUN'), ('higher', 'ADV'), ('cluttered', 'VERB'), ('cups', 'NOUN'), ('inventory', 'NOUN'), ('equity', 'NOUN'), ('custom', 'NOUN'), ('campus', 'NOUN'), ('clear', 'ADJ'), ('fixed', 'VERB'), ('pull', 'VERB'), ('Prebon', 'NOUN'), ('environmental', 'ADJ'), ('proved', 'VERB'), ('used', 'ADJ'), ('Rent-A-Car', 'NOUN'), ('*T*-191', 'X'), ('Carlton', 'NOUN'), ('steel', 'NOUN'), ('rung', 'VERB'), ('evident', 'ADJ'), ('rebound', 'VERB'), ('400', 'NUM'), ('denial', 'NOUN'), ('kilobytes', 'NOUN'), ('frightened', 'VERB'), ('contain', 'VERB'), ('pressure', 'VERB'), ('Alysia', 'NOUN'), ('disseminating', 'VERB'), ('demise', 'NOUN'), ('23', 'NUM'), ('Princeton', 'NOUN'), ('necks', 'NOUN'), ('Circle', 'NOUN'), ('primary', 'ADJ'), ('single-lot', 'ADJ'), ('support', 'VERB'), ('revelations', 'NOUN'), ('multibillion-dollar', 'ADJ'), ('distant', 'ADJ'), ('outlook', 'NOUN'), ('besuboru', 'X'), ('surplus', 'NOUN'), ('tentatively', 'ADV'), ('271,124', 'NUM'), ('Appellate', 'NOUN'), ('relationship', 'NOUN'), ('youthful', 'ADJ'), ('bend', 'VERB'), ('something', 'NOUN'), ('Thai', 'NOUN'), ('Chabrol', 'NOUN'), ('constraints', 'NOUN'), ('vote', 'VERB'), ('Than', 'ADP'), ('Commodore', 'NOUN'), ('Korea', 'NOUN'), ('authors', 'NOUN'), ('8300', 'ADJ'), ('merger', 'NOUN'), ('asserting', 'VERB'), ('abortion', 'NOUN'), ('Bancorp', 'NOUN'), ('individual', 'NOUN'), ('sights', 'NOUN'), ('cartilage', 'NOUN'), ('work', 'NOUN'), ('date', 'NOUN'), ('Macmillan\\\\/McGraw-Hill', 'NOUN'), ('lunch', 'NOUN'), ('quoted', 'VERB'), ('engaging', 'VERB'), ('pretext', 'NOUN'), ('wonder', 'NOUN'), ('Indiana', 'NOUN'), ('injuring', 'VERB'), ('so-called', 'ADJ'), ('fronts', 'NOUN'), ('volunteer', 'NOUN'), ('train', 'NOUN'), ('appropriations', 'NOUN'), ('Middlesex', 'NOUN'), ('capacity', 'NOUN'), ('Pepperidge', 'NOUN'), ('crowded', 'VERB'), ('classics', 'NOUN'), ('escalated', 'VERB'), ('gauge', 'VERB'), ('choice', 'NOUN'), ('law', 'NOUN'), ('reciting', 'VERB'), ('tinker', 'VERB'), ('breaking', 'VERB'), ('Pakistan', 'NOUN'), ('R.', 'NOUN'), ('prescribe', 'VERB'), ('minimum-wage', 'NOUN'), ('enough', 'ADJ'), ('friend', 'NOUN'), ('ropes', 'NOUN'), ('Note', 'VERB'), ('surreptitiously', 'ADV'), ('constituent', 'NOUN'), ('Similarly', 'ADV'), ('consistently', 'ADV'), ('INTERPUBLIC', 'NOUN'), ('Stena', 'NOUN'), ('divisions', 'NOUN'), ('perhaps', 'ADV'), ('niches', 'NOUN'), ('water', 'NOUN'), ('extraordinary', 'ADJ'), ('NCNB', 'NOUN'), ('reasoning', 'NOUN'), ('exporter', 'NOUN'), ('calls', 'VERB'), ('Lama', 'NOUN'), ('ceramic', 'ADJ'), ('harvest', 'NOUN'), ('met', 'VERB'), ('disputes', 'NOUN'), ('keep', 'VERB'), ('platitudes', 'NOUN'), ('vast', 'ADJ'), ('himself', 'PRON'), ('Prime', 'NOUN'), ('burn', 'VERB'), ('widow', 'NOUN'), ('Rosenblum', 'NOUN'), ('really', 'ADV'), ('Rieslings', 'NOUN'), ('presidency', 'NOUN'), ('fragile', 'ADJ'), ('disproportionate', 'ADJ'), ('prefecture', 'NOUN'), ('yesterday', 'NOUN'), ('bribery', 'NOUN'), ('Compound', 'NOUN'), ('construction', 'NOUN'), ('Schlemmer', 'NOUN'), ('former', 'ADJ'), ('prohibiting', 'VERB'), ('101', 'NUM'), ('Poore', 'NOUN'), ('later', 'ADJ'), ('27', 'NUM'), ('Napolitan', 'NOUN'), ('historical', 'ADJ'), ('*T*-60', 'X'), ('Champion', 'NOUN'), ('Cathedral', 'NOUN'), ('MacLellan', 'NOUN'), ('U.S.', 'NOUN'), ('debenture', 'NOUN'), ('Borge', 'NOUN'), ('13,056', 'NUM'), ('yen', 'NOUN'), ('Minnesota', 'NOUN'), ('supercilious', 'ADJ'), ('liquid-nitrogen', 'NOUN'), ('describe', 'VERB'), ('usurp', 'VERB'), ('clicked', 'VERB'), ('as', 'ADP'), ('Your', 'PRON'), ('grandstander', 'NOUN'), ('MEDICINE', 'NOUN'), ('thieves', 'NOUN'), ('*T*-234', 'X'), ('Midwest', 'NOUN'), ('2005', 'NUM'), ('Imhoff', 'NOUN'), ('Shepperd', 'NOUN'), ('Beverly', 'NOUN'), ('Equivalents', 'NOUN'), ('infectious', 'ADJ'), ('skin', 'NOUN'), ('aesthetic', 'ADJ'), ('Belt', 'NOUN'), ('EVERYONE', 'NOUN'), ('*-40', 'X'), ('*T*-200', 'X'), ('Zicklin', 'NOUN'), ('deregulation', 'NOUN'), ('*T*-55', 'X'), ('hopes', 'NOUN'), ('witnesses', 'NOUN'), ('thing', 'NOUN'), ('loss', 'NOUN'), ('PRECIOUS', 'NOUN'), ('conditions', 'NOUN'), ('changing', 'VERB'), ('respect', 'NOUN'), ('Confronted', 'VERB'), ('machine', 'NOUN'), ('businesses', 'NOUN'), ('Boesel', 'NOUN'), ('greater', 'ADJ'), ('Malaysia', 'NOUN'), ('found', 'VERB'), ('desirable', 'ADJ'), ('Doerflinger', 'NOUN'), ('collective-bargaining', 'ADJ'), ('guerrillas', 'NOUN'), ('retentive', 'ADJ'), ('limited', 'ADJ'), ('WTD', 'NOUN'), ('brokers', 'NOUN'), ('turn', 'NOUN'), ('cells', 'NOUN'), ('film', 'NOUN'), ('sells', 'VERB'), ('Show', 'NOUN'), ('deadline', 'NOUN'), ('unwanted', 'ADJ'), ('Haden', 'NOUN'), ('Stern', 'NOUN'), ('106', 'NUM'), ('task', 'NOUN'), ('reshaping', 'VERB'), ('CALL', 'NOUN'), ('tailoring', 'VERB'), ('disappear', 'VERB'), ('8.467', 'NUM'), ('stance', 'NOUN'), ('blue-collar', 'ADJ'), ('*-85', 'X'), ('rise', 'VERB'), ('He', 'PRON'), ('expense', 'NOUN'), ('administrations', 'NOUN'), ('chalk', 'NOUN'), ('Kennedy', 'NOUN'), ('mobilizing', 'VERB'), ('DD', 'NOUN'), ('car-safety', 'ADJ'), ('Linda', 'NOUN'), ('Barge', 'NOUN'), ('rusted', 'VERB'), ('boost', 'VERB'), ('bloc', 'NOUN'), ('damaged', 'ADJ'), ('120-a-share', 'ADJ'), ('polish', 'VERB'), ('*-151', 'X'), ('index-options', 'NOUN'), ('1955', 'NUM'), ('editorially', 'ADV'), ('contributed', 'VERB'), ('Protection', 'NOUN'), ('solicitous', 'ADJ'), ('Zealand', 'NOUN'), ('Despite', 'ADP'), ('18,000', 'NUM'), ('Faulding', 'NOUN'), ('Namibian', 'ADJ'), ('projects', 'NOUN'), ('Akerfeldt', 'NOUN'), ('unpopularity', 'NOUN'), ('hard', 'ADJ'), ('fleeting', 'ADJ'), ('payable', 'ADJ'), ('Gorman', 'NOUN'), ('R.D.', 'NOUN'), ('downward', 'ADV'), ('veto', 'NOUN'), ('Murray', 'NOUN'), ('student-test', 'ADJ'), ('good', 'NOUN'), ('mind', 'NOUN'), ('amphobiles', 'NOUN'), ('dailies', 'NOUN'), ('Value', 'NOUN'), ('boys', 'NOUN'), ('recyclability', 'NOUN'), ('classifications', 'NOUN'), ('Light', 'NOUN'), ('subjecting', 'VERB'), ('live', 'VERB'), ('unwind', 'VERB'), ('fueling', 'NOUN'), ('heavily', 'ADV'), ('referrals', 'NOUN'), ('kind', 'NOUN'), ('*-10', 'X'), ('Petersen', 'NOUN'), ('needle-like', 'ADJ'), ('Si', 'NOUN'), ('Pictures', 'NOUN'), ('applaud', 'VERB'), ('oils', 'NOUN'), ('congressmen', 'NOUN'), ('wings', 'NOUN'), ('eventually', 'ADV'), ('2.50', 'NUM'), ('Ranger', 'NOUN'), ('Northy', 'NOUN'), ('specify', 'VERB'), ('states', 'NOUN'), ('existing', 'VERB'), ('foreign', 'ADJ'), ('Beall', 'NOUN'), ('creditworthiness', 'NOUN'), ('categories', 'NOUN'), ('classroom', 'NOUN'), ('empowered', 'VERB'), ('forecast', 'NOUN'), ('Frenzy', 'NOUN'), ('multinational', 'ADJ'), ('Mexican', 'NOUN'), ('experience', 'VERB'), ('pasta', 'NOUN'), ('drifted', 'VERB'), ('counterpart', 'NOUN'), ('underprivileged', 'ADJ'), ('page-one', 'NOUN'), ('ire', 'NOUN'), ('everywhere', 'ADV'), ('teaching', 'NOUN'), ('Change-ringing', 'NOUN'), ('watchdogs', 'NOUN'), ('sweetened', 'VERB'), ('take', 'VERB'), ('emerged', 'VERB'), ('Mass.', 'NOUN'), ('Darrell', 'NOUN'), ('feels', 'VERB'), ('tempts', 'VERB'), ('Frankly', 'ADV'), ('sogo-shosha', 'NOUN'), ('coliseum', 'NOUN'), ('operate', 'VERB'), ('studied', 'VERB'), ('objectionable', 'ADJ'), ('measured', 'VERB'), ('cruise', 'NOUN'), ('scrapped', 'VERB'), ('pre-approved', 'ADJ'), ('*T*-224', 'X'), ('accusing', 'VERB'), ('Fears', 'NOUN'), ('ringing', 'VERB'), ('memories', 'NOUN'), ('standard', 'NOUN'), ('heading', 'VERB'), ('blip', 'VERB'), ('analysts', 'NOUN'), ('*-11', 'X'), ('fears', 'NOUN'), ('drugs', 'NOUN'), ('334.5', 'NUM'), ('colleagues', 'NOUN'), ('ending', 'VERB'), ('facade', 'NOUN'), ('precise', 'ADJ'), ('incest', 'NOUN'), ('exist', 'VERB'), ('protective', 'ADJ'), ('3.4', 'NUM'), ('Commodity', 'NOUN'), ('Dobson', 'NOUN'), ('hundreds', 'NOUN'), ('500', 'NUM'), ('energy-services', 'ADJ'), ('Compare', 'VERB'), ('sheaf', 'NOUN'), ('Ad', 'NOUN'), ('healing', 'NOUN'), ('import', 'VERB'), ('fundamental', 'ADJ'), ('arrest', 'VERB'), ('killed', 'VERB'), ('legal', 'ADJ'), ('circuit-breaker', 'NOUN'), ('prestige', 'NOUN'), ('70.2', 'NUM'), ('per-share', 'ADJ'), ('moves', 'NOUN'), ('2163.2', 'NUM'), ('youngsters', 'NOUN'), ('*T*-3', 'X'), ('F', 'NOUN'), ('1965', 'NUM'), ('Hostess', 'NOUN'), ('commodities', 'NOUN'), ('*ICH*-2', 'X'), ('waste', 'NOUN'), ('62.5', 'NUM'), ('determine', 'VERB'), ('was', 'VERB'), ('slowly', 'ADV'), ('1996', 'NUM'), ('draw', 'VERB'), ('13.1', 'NUM'), ('Malta', 'NOUN'), ('Fairlawn', 'NOUN'), ('models', 'NOUN'), ('Smaby', 'NOUN'), ('helped', 'VERB'), ('U.S.S.R.', 'NOUN'), ('*T*-70', 'X'), ('accordance', 'NOUN'), ('Stirlen', 'NOUN'), ('weddings', 'NOUN'), ('150,000', 'NUM'), ('joys', 'NOUN'), ('flag', 'NOUN'), ('*T*-36', 'X'), ('evaluation', 'NOUN'), ('1,050,000', 'NUM'), ('product', 'NOUN'), ('*T*-167', 'X'), ('58', 'NUM'), ('2.87', 'NUM'), ('anywhere', 'ADV'), ('defines', 'VERB'), ('red', 'NOUN'), ('too', 'ADV'), ('materialized', 'VERB'), ('name', 'NOUN'), ('Coxon', 'NOUN'), ('prevent', 'VERB'), ('surveyed', 'VERB'), ('lives', 'NOUN'), ('Hermitage', 'NOUN'), ('foldability', 'NOUN'), ('difficult', 'ADJ'), ('Red', 'NOUN'), ('computing', 'NOUN'), ('yielding', 'VERB'), ('intraday', 'NOUN'), ('limbo', 'NOUN'), ('Hammerschmidt', 'NOUN'), ('11,000', 'NUM'), ('advertisements', 'NOUN'), ('persons', 'NOUN'), ('Michaels', 'NOUN'), ('Kappa', 'NOUN'), ('contribute', 'VERB'), ('Attwood', 'NOUN'), ('visits', 'NOUN'), ('RBC', 'NOUN'), ('Murakami', 'NOUN'), (\"O'Loughlin\", 'NOUN'), ('Walkman', 'NOUN'), ('several-year', 'ADJ'), ('Wakui', 'NOUN'), ('suburban', 'ADJ'), ('Economics', 'NOUN'), ('feeling', 'VERB'), ('Rally', 'NOUN'), ('Besides', 'ADP'), ('convince', 'VERB'), ('wide', 'ADV'), ('1.8500', 'NUM'), ('inspirational', 'ADJ'), ('13', 'NUM'), ('*T*-235', 'X'), ('our', 'PRON'), ('*T*-84', 'X'), ('assure', 'VERB'), ('vetoes', 'NOUN'), ('government-funded', 'ADJ'), ('Salty', 'NOUN'), ('reading', 'NOUN'), ('Mara', 'NOUN'), ('59.9', 'NUM'), ('specialists', 'NOUN'), ('games', 'NOUN'), ('tolerate', 'VERB'), ('simple', 'ADJ'), ('30-share', 'ADJ'), ('receiving', 'VERB'), ('-RRB-', '.'), ('Little', 'NOUN'), ('1\\\\/8', 'NUM'), ('egregious', 'ADJ'), ('temporary', 'ADJ'), ('Valhi', 'NOUN'), ('indefinitely', 'ADV'), ('be', 'VERB'), ('Namibia', 'NOUN'), ('Goldman', 'NOUN'), ('Lurie', 'NOUN'), ('popular', 'ADJ'), ('89', 'NUM'), ('adopt', 'VERB'), ('other', 'ADJ'), ('cake', 'NOUN'), ('Corporations', 'NOUN'), ('failures', 'NOUN'), ('geometrical', 'ADJ'), ('cent', 'NOUN'), ('initially', 'ADV'), ('10.19', 'NUM'), ('citizen', 'NOUN'), ('Backseat', 'NOUN'), ('77,000', 'NUM'), ('curtailed', 'VERB'), ('litigation', 'NOUN'), ('prospectively', 'ADV'), ('Major', 'NOUN'), ('undisclosed', 'ADJ'), ('slated', 'VERB'), ('PAPERS', 'NOUN'), ('era', 'NOUN'), ('Share', 'NOUN'), ('inviting', 'VERB'), ('suing', 'VERB'), ('Cosby', 'NOUN'), ('requests', 'NOUN'), ('duty-free', 'ADJ'), ('Landrieu', 'NOUN'), ('352.7', 'NUM'), ('theory', 'NOUN'), ('9.5', 'NUM'), ('James', 'NOUN'), ('strike', 'VERB'), ('Candela', 'NOUN'), ('insist', 'VERB'), ('proposals', 'NOUN'), ('improves', 'VERB'), ('exceedingly', 'ADV'), ('understatement', 'NOUN'), ('Sigler', 'NOUN'), ('saved', 'VERB'), ('kinds', 'NOUN'), ('inching', 'VERB'), ('securities-based', 'ADJ'), ('Krenz', 'NOUN'), ('Order', 'NOUN'), ('deck', 'NOUN'), ('Cristal', 'NOUN'), ('going', 'VERB'), ('calculator', 'NOUN'), ('basic', 'ADJ'), ('Metallgesellschaft', 'NOUN'), ('structures', 'NOUN'), ('4', 'X'), ('6.21', 'NUM'), ('parallels', 'NOUN'), ('look', 'VERB'), ('helping', 'VERB'), ('*T*-30', 'X'), ('indicating', 'VERB'), ('spoke', 'VERB'), ('21-month', 'ADJ'), ('lure', 'VERB'), ('biscuit', 'NOUN'), ('filter', 'NOUN'), ('star', 'NOUN'), ('Thus', 'ADV'), ('vowed', 'VERB'), ('Walt', 'NOUN'), ('responds', 'VERB'), ('Growth', 'NOUN'), ('*EXP*-1', 'X'), ('speak', 'VERB'), ('Jacob', 'NOUN'), ('owns', 'VERB'), ('*-134', 'X'), ('rates', 'NOUN'), ('seminar', 'NOUN'), ('Agnew', 'NOUN'), ('thread', 'NOUN'), ('Wayland', 'NOUN'), ('closed', 'VERB'), ('assembly-line', 'NOUN'), ('Bordeaux', 'NOUN'), ('copying', 'VERB'), ('35500.64', 'NUM'), ('above', 'ADJ'), ('mediocre', 'ADJ'), ('38.375', 'NUM'), ('falsify', 'VERB'), ('patented', 'VERB'), ('nondurable', 'ADJ'), ('331,000', 'NUM'), ('slogan', 'NOUN'), ('life', 'NOUN'), ('whenever', 'ADV'), ('Plains', 'NOUN'), ('sectors', 'NOUN'), ('Canada', 'NOUN'), ('Calder', 'NOUN'), ('377.60', 'NUM'), ('senses', 'NOUN'), ('initialing', 'VERB'), ('reach', 'VERB'), ('Five', 'NUM'), ('reorganized', 'VERB'), ('breakdown', 'NOUN'), ('hint', 'NOUN'), ('Not', 'ADV'), ('best-selling', 'ADJ'), ('William', 'NOUN'), ('Net', 'ADJ'), ('Tony', 'NOUN'), ('soybeans', 'NOUN'), ('material', 'NOUN'), ('heirs', 'NOUN'), ('2.9', 'NUM'), ('*T*-98', 'X'), ('continued', 'VERB'), ('relied', 'VERB'), ('top-yielding', 'ADJ'), ('last', 'ADJ'), ('The', 'NOUN'), ('control', 'VERB'), ('Eggers', 'NOUN'), ('rewards', 'NOUN'), ('crops', 'NOUN'), ('12-member', 'ADJ'), ('Designated', 'NOUN'), ('750', 'NUM'), ('From', 'ADP'), ('drop-in', 'ADJ'), ('laid', 'VERB'), ('aspires', 'VERB'), ('Tramp', 'NOUN'), ('I', 'PRON'), ('Buckhead', 'NOUN'), ('trillion', 'NUM'), ('ranged', 'VERB'), ('Taizo', 'NOUN'), ('magazines', 'NOUN'), ('coming', 'VERB'), ('oversee', 'VERB'), ('Workers', 'NOUN'), ('heartland', 'NOUN'), ('playwright', 'NOUN'), ('Egypt', 'NOUN'), ('academic', 'ADJ'), ('Funding', 'NOUN'), ('chatter', 'NOUN'), ('red-and-white', 'ADJ'), ('legislative', 'ADJ'), ('Brigham', 'NOUN'), ('Purchasing', 'NOUN'), ('criticism', 'NOUN'), ('six-inch', 'ADJ'), ('21', 'NUM'), ('*-55', 'X'), ('teacher', 'NOUN'), ('foundering', 'VERB'), ('sides', 'NOUN'), ('integration', 'NOUN'), ('CEOs', 'NOUN'), ('misdemeanor', 'NOUN'), ('2.3', 'NUM'), ('studying', 'VERB'), ('confirm', 'VERB'), ('lengthened', 'VERB'), ('Big', 'ADJ'), ('Similar', 'ADJ'), ('growers', 'NOUN'), ('waiting', 'VERB'), ('caller', 'NOUN'), ('municipalities', 'NOUN'), ('N.C', 'NOUN'), ('Mutual', 'NOUN'), ('shareholder-rights', 'ADJ'), ('Story', 'NOUN'), ('annually', 'ADV'), ('41.60', 'NUM'), ('use', 'NOUN'), ('1971', 'NUM'), ('Feniger', 'NOUN'), ('shall', 'VERB'), ('trucks', 'NOUN'), ('green', 'ADJ'), ('response', 'NOUN'), ('amounts', 'NOUN'), ('rulings', 'NOUN'), ('denounce', 'VERB'), ('anything', 'NOUN'), ('livelihood', 'NOUN'), ('crunch', 'NOUN'), ('*-145', 'X'), ('hottest', 'ADJ'), ('*T*-7', 'X'), ('risk', 'VERB'), ('March', 'NOUN'), ('casting', 'VERB'), ('Issues', 'NOUN'), ('recover', 'VERB'), ('hefty', 'ADJ'), ('Hymowitz', 'NOUN'), ('Paso', 'NOUN'), ('growth', 'NOUN'), ('pipe', 'NOUN'), ('wholesale', 'NOUN'), ('marrow', 'NOUN'), ('pain', 'NOUN'), ('?', '.'), ('began', 'VERB'), ('nominee', 'NOUN'), ('19.6', 'NUM'), ('Marshall', 'NOUN'), ('holidays', 'NOUN'), ('history', 'NOUN'), ('key', 'ADJ'), ('portion', 'NOUN'), ('mechanism', 'NOUN'), ('153.3', 'NUM'), ('Prices', 'NOUN'), ('hosted', 'VERB'), ('Glass', 'NOUN'), ('Dean', 'NOUN'), ('30,537', 'NUM'), ('Steve', 'NOUN'), ('fields', 'NOUN'), ('Reliance', 'NOUN'), ('Market', 'NOUN'), ('Peters', 'NOUN'), ('occupying', 'VERB'), ('discovered', 'VERB'), ('seem', 'VERB'), ('capitalized', 'VERB'), ('Embassy', 'NOUN'), ('rival', 'ADJ'), ('Beginning', 'VERB'), ('recalling', 'VERB'), ('girlfriend', 'NOUN'), ('displays', 'NOUN'), ('Before', 'ADP'), ('unchanged', 'ADJ'), ('Moody', 'NOUN'), ('weaken', 'VERB'), ('dozen', 'NOUN'), ('address', 'NOUN'), ('subcommittee', 'NOUN'), ('appear', 'VERB'), ('300-day', 'ADJ'), ('19.50', 'NUM'), ('Except', 'ADP'), ('pace', 'NOUN'), ('evolution', 'NOUN'), ('Ohio', 'NOUN'), ('*PPA*-2', 'X'), ('Companies', 'NOUN'), ('contrary', 'ADJ'), ('Gardner', 'NOUN'), ('Manila', 'NOUN'), ('businessmen', 'NOUN'), ('Greer', 'NOUN'), ('strongly', 'ADV'), ('negative', 'ADJ'), ('dirty', 'ADJ'), ('2029', 'NUM'), ('Mercantile', 'NOUN'), ('tall', 'ADJ'), ('merged', 'VERB'), ('rarefied', 'VERB'), ('gut-wrenching', 'ADJ'), ('half-hour', 'NOUN'), ('semiannual', 'ADJ'), ('57.50', 'NUM'), ('the', 'ADJ'), ('earns', 'VERB'), ('Nevertheless', 'ADV'), ('offering', 'VERB'), ('real-estate', 'ADJ'), ('stereotyped', 'ADJ'), ('telephone', 'VERB'), ('fledgling', 'NOUN'), ('Berson', 'NOUN'), ('*T*-188', 'X'), ('*-19', 'X'), ('sweeping', 'VERB'), ('exit', 'NOUN'), ('shrank', 'VERB'), ('weapons-modernization', 'ADJ'), ('Mayor', 'NOUN'), ('subject', 'ADJ'), ('Inouye', 'NOUN'), ('wrote', 'VERB'), ('sponsor', 'NOUN'), ('Insurance', 'NOUN'), ('straight', 'ADJ'), ('13.15', 'NUM'), ('texts', 'NOUN'), ('9.3', 'NUM'), ('hauled', 'VERB'), ('milked', 'VERB'), ('PAP', 'NOUN'), ('widespread', 'ADJ'), ('healthy', 'ADJ'), ('Vos', 'NOUN'), ('myriad', 'ADJ'), ('white', 'ADJ'), ('subscriber', 'NOUN'), ('Jerritts', 'NOUN'), ('Concerned', 'VERB'), ('Though', 'ADP'), ('guy', 'NOUN'), ('preset', 'ADJ'), ('clamped', 'VERB'), ('damaging', 'ADJ'), ('gains', 'VERB'), ('hunted', 'VERB'), ('slowdown', 'NOUN'), ('talks', 'VERB'), ('droughts', 'NOUN'), ('Tuesday', 'NOUN'), ('Clark', 'NOUN'), ('faltered', 'VERB'), ('appropriation', 'NOUN'), ('Pennsylvania', 'NOUN'), ('321,000', 'NUM'), ('near', 'ADJ'), ('high-speed', 'ADJ'), ('Pitney', 'NOUN'), ('ethical', 'ADJ'), ('wildly', 'ADV'), ('7.20', 'NUM'), ('Secilia', 'NOUN'), ('hypothetical', 'ADJ'), ('bakery', 'NOUN'), ('market', 'NOUN'), ('63.79', 'NUM'), ('suppression', 'NOUN'), ('*T*-217', 'X'), ('portfolios', 'NOUN'), ('dislike', 'NOUN'), ('*-59', 'X'), ('17.95', 'NUM'), ('disagrees', 'VERB'), ('*-42', 'X'), ('from', 'ADP'), ('8.1', 'NUM'), ('Marie', 'NOUN'), ('acknowledging', 'VERB'), ('unrealized', 'ADJ'), ('strip', 'VERB'), ('Miles', 'NOUN'), ('Stephen', 'NOUN'), ('minicrash', 'NOUN'), ('Hurley', 'NOUN'), ('Worksheets', 'NOUN'), ('catch', 'NOUN'), ('armed', 'VERB'), ('estimated', 'VERB'), ('surviving', 'VERB'), ('Ms.', 'NOUN'), ('lagging', 'VERB'), ('concern', 'VERB'), ('nurtured', 'VERB'), ('shaky', 'ADJ'), ('improvements', 'NOUN'), ('earning', 'VERB'), ('Barrett', 'NOUN'), ('formed', 'VERB'), ('hailing', 'VERB'), ('teach', 'VERB'), ('achievement', 'NOUN'), ('national', 'ADJ'), ('substance', 'NOUN'), ('competitors', 'NOUN'), ('jointly', 'ADV'), ('Nichol', 'NOUN'), ('skidded', 'VERB'), ('credit', 'NOUN'), ('VanSant', 'NOUN'), ('profit', 'VERB'), ('Foot', 'NOUN'), ('beer', 'NOUN'), ('bond', 'NOUN'), ('conduct', 'VERB'), ('*-166', 'X'), ('pretax', 'NOUN'), ('Argentina', 'NOUN'), ('print', 'NOUN'), ('Fellowship', 'NOUN'), ('3.3', 'NUM'), ('never', 'ADV'), ('caustic', 'ADJ'), ('lack', 'VERB'), ('employer', 'NOUN'), ('bloody', 'ADJ'), ('cutbacks', 'NOUN'), ('manufacturing', 'VERB'), ('pre-existing', 'ADJ'), ('zoomed', 'VERB'), ('NTG', 'NOUN'), ('SWITCHING', 'VERB'), ('these', 'DET'), ('*NOT*', 'X'), ('Rabia', 'NOUN'), ('*-102', 'X'), ('surpluses', 'NOUN'), ('9.75', 'NUM'), ('integrated', 'VERB'), ('N.Y', 'NOUN'), ('Carrier', 'NOUN'), ('setback', 'NOUN'), ('Eugene', 'NOUN'), ('imagine', 'VERB'), ('asked', 'VERB'), ('1920s', 'NUM'), ('wanting', 'VERB'), ('south', 'ADV'), ('fanfare', 'NOUN'), ('automotive-parts', 'ADJ'), ('1966', 'NUM'), ('poorly', 'ADV'), ('Skinner', 'NOUN'), ('potential', 'ADJ'), ('unsecured', 'ADJ'), ('qualified', 'VERB'), ('phobias', 'NOUN'), ('following', 'ADJ'), ('*T*-165', 'X'), ('Cabernet', 'NOUN'), ('befell', 'VERB'), ('through', 'PRT'), ('Asian', 'ADJ'), ('passenger', 'NOUN'), ('Put', 'VERB'), ('cross-border', 'ADJ'), ('stadiums', 'NOUN'), ('36-minute', 'ADJ'), ('deluge', 'NOUN'), ('high', 'NOUN'), ('51', 'NUM'), ('questioned', 'VERB'), ('services', 'NOUN'), ('sewer', 'NOUN'), ('Nebraska', 'NOUN'), ('dismal', 'ADJ'), ('Felten', 'NOUN'), ('aspects', 'NOUN'), ('departures', 'NOUN'), ('Continued', 'VERB'), ('indication', 'NOUN'), ('200,000', 'NUM'), ('Graduate', 'NOUN'), ('cost-benefit', 'ADJ'), ('half', 'NOUN'), ('6.70', 'NUM'), ('solvent', 'ADJ'), ('maximum', 'NOUN'), ('*-152', 'X'), ('learning', 'NOUN'), ('Yamaichi', 'NOUN'), ('head', 'NOUN'), ('publisher', 'NOUN'), ('B-1B', 'NOUN'), ('doubt', 'NOUN'), ('7.80', 'NUM'), ('lovely', 'ADJ'), ('midtown', 'NOUN'), ('Canadian', 'ADJ'), ('York', 'NOUN'), ('*-15', 'X'), ('Kuala', 'NOUN'), ('Intecknings', 'NOUN'), ('Drexel', 'NOUN'), ('contrast', 'NOUN'), ('town', 'NOUN'), ('Christmas', 'NOUN'), ('repeals', 'VERB'), ('OTC', 'NOUN'), ('Duke', 'NOUN'), ('exceeds', 'VERB'), ('Annualized', 'VERB'), ('Putty', 'NOUN'), ('Ports', 'NOUN'), ('likeness', 'NOUN'), ('enable', 'VERB'), ('1987', 'NUM'), ('Whether', 'ADP'), ('COMMERCIAL', 'ADJ'), ('*-58', 'X'), ('oppose', 'VERB'), ('appreciation', 'NOUN'), ('Possibly', 'ADV'), ('Mercedes', 'NOUN'), ('broken', 'VERB'), ('Corton-Charlemagne', 'NOUN'), ('bankruptcy-law', 'ADJ'), ('ability', 'NOUN'), ('Lafite-Rothschild', 'NOUN'), ('Brussels', 'NOUN'), ('3.61', 'NUM'), ('journalists', 'NOUN'), ('Borough', 'NOUN'), ('sell-off', 'NOUN'), ('clothing', 'NOUN'), ('Some', 'DET'), ('exact', 'ADJ'), ('Hopwood', 'NOUN'), ('demonstrating', 'VERB'), ('prevailing', 'VERB'), ('Green', 'NOUN'), ('payoff', 'NOUN'), ('quipped', 'VERB'), ('*-73', 'X'), ('access', 'NOUN'), ('Hungary', 'NOUN'), ('cocky', 'ADJ'), ('transplantation', 'NOUN'), ('1988', 'NUM'), ('Patents', 'NOUN'), ('quarter', 'NOUN'), ('1985', 'NUM'), ('financing', 'VERB'), ('Matthew', 'NOUN'), ('45,000', 'NUM'), ('pro-choice', 'ADJ'), ('average', 'ADJ'), ('hero', 'NOUN'), ('Philippines', 'NOUN'), ('Secretary', 'NOUN'), ('semiliterate', 'ADJ'), ('cardiovascular', 'ADJ'), ('out', 'ADP'), ('leases', 'NOUN'), ('51-year-old', 'ADJ'), ('frantic', 'ADJ'), ('underlying', 'ADJ'), ('related', 'VERB'), ('37', 'NUM'), ('downward', 'ADJ'), ('objective', 'NOUN'), ('Interleukin-3', 'NOUN'), ('83.4', 'NUM'), ('toy', 'NOUN'), ('Financial', 'ADJ'), ('benefits', 'VERB'), ('nothing', 'NOUN'), ('stores', 'NOUN'), ('producer', 'NOUN'), ('aired', 'VERB'), ('remained', 'VERB'), ('fond', 'ADJ'), ('passing', 'VERB'), ('Options', 'NOUN'), ('1995', 'NUM'), ('regulators', 'NOUN'), ('outrageous', 'ADJ'), ('American-style', 'ADJ'), ('exchange', 'VERB'), ('138', 'NUM'), ('Vegas', 'NOUN'), ('*T*-249', 'X'), ('*T*-78', 'X'), ('male-only', 'ADJ'), ('Federal', 'NOUN'), ('coordinate', 'VERB'), ('tender', 'ADJ'), ('first-rate', 'ADJ'), ('cash', 'NOUN'), ('instruments', 'NOUN'), ('mix', 'NOUN'), ('Gas', 'NOUN'), ('remaining', 'VERB'), ('1.49', 'NUM'), ('experienced', 'VERB'), ('efficient', 'ADJ'), ('prepayment', 'NOUN'), ('profit-taking', 'NOUN'), ('Public', 'ADJ'), ('discretion', 'NOUN'), ('Upham', 'NOUN'), ('dominated', 'VERB'), ('Prior', 'ADV'), ('*T*-27', 'X'), ('Ednie', 'NOUN'), ('drink', 'VERB'), ('sank', 'VERB'), ('fault', 'VERB'), ('vision', 'NOUN'), ('mixed', 'VERB'), ('M.', 'NOUN'), ('rebels', 'NOUN'), ('38.875', 'NUM'), ('SERVICES', 'NOUN'), ('draws', 'VERB'), ('Miss.', 'NOUN'), ('easing', 'VERB'), ('Kurland', 'NOUN'), ('single', 'ADJ'), ('Being', 'VERB'), ('5,699', 'NUM'), ('contends', 'VERB'), ('whistle', 'VERB'), ('Vineyard', 'NOUN'), ('periods', 'NOUN'), ('devastating', 'VERB'), ('yttrium-containing', 'ADJ'), ('five', 'NUM'), ('adequate', 'ADJ'), ('male-dominated', 'ADJ'), ('Force', 'NOUN'), ('Judiciary', 'NOUN'), ('Democratic', 'ADJ'), ('perceives', 'VERB'), ('enlarged', 'ADJ'), ('Fairless', 'NOUN'), ('great', 'ADJ'), ('property', 'NOUN'), ('foreign-stock', 'ADJ'), ('386', 'NUM'), ('feared', 'VERB'), ('coverage', 'NOUN'), ('LONDON', 'NOUN'), ('clannish', 'ADJ'), ('walk', 'VERB'), ('exodus', 'NOUN'), ('percent', 'NOUN'), ('salary', 'NOUN'), ('operates', 'VERB'), ('confident', 'ADJ'), ('sources', 'NOUN'), ('escaped', 'VERB'), ('California', 'NOUN'), ('sure', 'ADV'), ('unsettling', 'ADJ'), ('Silverman', 'NOUN'), ('expert', 'NOUN'), ('loyalty', 'NOUN'), ('appointment', 'NOUN'), ('grant', 'VERB'), ('profitability', 'NOUN'), ('knew', 'VERB'), ('decisive', 'ADJ'), ('BRAMALEA', 'NOUN'), ('peaceful', 'ADJ'), ('stringently', 'ADV'), ('forces', 'VERB'), ('triple', 'ADV'), ('chest', 'NOUN'), ('educated', 'VERB'), ('180', 'NUM'), ('partisan', 'ADJ'), ('opportunity', 'NOUN'), ('Fees', 'NOUN'), ('*-68', 'X'), ('toast', 'NOUN'), ('Driskill', 'NOUN'), ('reason', 'NOUN'), ('seller', 'NOUN'), ('*T*-22', 'X'), ('50-50', 'NUM'), ('teacher-cadet', 'ADJ'), ('stands', 'NOUN'), ('2,050-passenger', 'ADJ'), ('quotations', 'NOUN'), ('bulls', 'NOUN'), ('Business', 'NOUN'), ('Co.', 'NOUN'), ('branch', 'NOUN'), ('represent', 'VERB'), ('Corps', 'NOUN'), ('ads', 'NOUN'), ('solely', 'ADV'), ('damn', 'ADV'), ('Houston', 'NOUN'), ('Pattenden', 'NOUN'), ('lent', 'VERB'), ('unable', 'ADJ'), ('Wilfred', 'NOUN'), ('cost-sharing', 'NOUN'), ('313', 'NUM'), ('nations', 'NOUN'), ('456.64', 'NUM'), ('3.253', 'NUM'), ('for', 'ADV'), ('Committee', 'NOUN'), ('supply', 'VERB'), ('decades', 'NOUN'), ('step', 'NOUN'), ('supports', 'VERB'), ('Alzheimer', 'NOUN'), ('85', 'NUM'), ('obtain', 'VERB'), ('*T*-104', 'X'), ('Their', 'PRON'), ('Rudolph', 'NOUN'), ('counterweight', 'NOUN'), ('Us', 'NOUN'), ('sewing-machine', 'NOUN'), ('advocates', 'NOUN'), ('continuing', 'VERB'), ('Wash.', 'NOUN'), ('Test', 'NOUN'), ('revolt', 'NOUN'), ('pointing', 'VERB'), ('Price', 'NOUN'), ('data', 'NOUN'), ('Leigh', 'NOUN'), ('focusing', 'VERB'), ('charm', 'NOUN'), ('machines', 'NOUN'), ('100-share', 'ADJ'), ('foam', 'NOUN'), ('trades', 'VERB'), ('Mont', 'NOUN'), ('mothers', 'NOUN'), ('*T*-28', 'X'), ('W.R.', 'NOUN'), ('30-point', 'ADJ'), ('Environmental', 'NOUN'), ('69', 'NUM'), ('2-8', 'NUM'), ('fabricator', 'NOUN'), ('Ratner', 'NOUN'), ('2.375', 'NUM'), ('no-confidence', 'NOUN'), ('Sonnett', 'NOUN'), ('obviously', 'ADV'), ('Persky', 'NOUN'), ('insurance-company', 'NOUN'), ('*T*-254', 'X'), ('qualify', 'VERB'), ('despised', 'VERB'), ('household', 'NOUN'), ('their', 'PRON'), ('all', 'ADV'), ('competing', 'VERB'), ('derived', 'VERB'), ('checking', 'NOUN'), ('*T*-62', 'X'), ('Such', 'ADJ'), ('1,880', 'NUM'), ('administrator', 'NOUN'), ('switch', 'NOUN'), ('*T*-120', 'X'), ('smattering', 'NOUN'), ('Ray', 'NOUN'), ('ambitions', 'NOUN'), ('expanded', 'VERB'), ('plunging', 'VERB'), ('ad', 'NOUN'), ('Sanderoff', 'NOUN'), ('bass', 'NOUN'), ('argues', 'VERB'), ('273.5', 'NUM'), ('even', 'ADJ'), ('teenage', 'ADJ'), ('acid', 'NOUN'), ('hysteria', 'NOUN'), ('crystal-lattice', 'ADJ'), ('electrical', 'ADJ'), ('monthly', 'ADJ'), ('Calif.', 'NOUN'), ('groups', 'NOUN'), ('coaching', 'NOUN'), ('responsible', 'ADJ'), ('agrees', 'VERB'), ('inserted', 'VERB'), ('FreudToy', 'NOUN'), ('significantly', 'ADV'), ('*-96', 'X'), ('wherewithal', 'ADJ'), ('left', 'VERB'), ('binders', 'NOUN'), ('trademark', 'NOUN'), ('resigning', 'VERB'), ('wrecking', 'VERB'), ('Proponents', 'NOUN'), ('*-14', 'X'), ('excess', 'ADJ'), ('lower-priced', 'ADJ'), ('Victor', 'NOUN'), ('7.8', 'NUM'), ('disappointed', 'VERB'), ('eyes', 'NOUN'), ('arrows', 'NOUN'), ('cry', 'VERB'), ('4.1', 'NUM'), ('Chapman', 'NOUN'), ('nutty', 'ADJ'), ('*-125', 'X'), ('joined', 'VERB'), ('*-9', 'X'), ('whom', 'PRON'), ('and', 'ADP'), ('check', 'VERB'), ('Judith', 'NOUN'), ('U.N.-supervised', 'ADJ'), ('might', 'NOUN'), ('Siti', 'NOUN'), ('what', 'PRON'), ('4.6', 'NUM'), ('engage', 'VERB'), ('peripheral', 'ADJ'), ('Laser', 'NOUN'), ('sink', 'VERB'), ('9.37', 'NUM'), ('workplace', 'NOUN'), ('Centerbank', 'NOUN'), ('let', 'VERB'), ('dismissal', 'NOUN'), ('fundamentalist', 'ADJ'), ('includes', 'VERB'), ('one-newspaper', 'ADJ'), ('Hawke', 'NOUN'), ('deputy', 'ADJ'), ('garbage', 'NOUN'), ('*PPA*-3', 'X'), ('rare', 'ADJ'), ('grower', 'NOUN'), ('waif', 'NOUN'), ('15', 'NUM'), ('makers', 'NOUN'), ('Dominus', 'NOUN'), ('profits', 'NOUN'), ('waterworks', 'NOUN'), ('classmates', 'NOUN'), ('crowd', 'NOUN'), ('imposes', 'VERB'), ('secondary', 'ADJ'), ('English-speaking', 'ADJ'), ('Avon', 'NOUN'), ('functioning', 'VERB'), ('sleep', 'NOUN'), ('*T*-195', 'X'), ('default', 'NOUN'), ('count', 'NOUN'), ('criminal', 'NOUN'), ('Nonetheless', 'ADV'), ('Paper', 'NOUN'), ('forecasts', 'NOUN'), ('Switzerland', 'NOUN'), ('rural', 'ADJ'), ('N.H.', 'NOUN'), ('attempts', 'NOUN'), ('Clairton', 'NOUN'), ('mathematics', 'NOUN'), ('Germany-based', 'ADJ'), ('cheaper', 'ADJ'), ('American', 'NOUN'), ('predecessor', 'NOUN'), ('*-83', 'X'), ('studio', 'NOUN'), ('journal', 'NOUN'), ('107', 'NUM'), ('bottom', 'NOUN'), ('6.20', 'NUM'), ('13.65', 'NUM'), ('this', 'DET'), ('auto', 'NOUN'), ('products', 'NOUN'), ('anticipation', 'NOUN'), ('Backer', 'NOUN'), ('incomplete', 'ADJ'), ('occurs', 'VERB'), ('Plantation', 'NOUN'), ('insane', 'ADJ'), ('Akio', 'NOUN'), ('Raymond', 'NOUN'), ('British', 'NOUN'), ('produces', 'VERB'), ('tasty', 'ADJ'), ('pathlogy', 'NOUN'), ('beer-belly', 'NOUN'), ('midyear', 'NOUN'), ('consequence', 'NOUN'), ('seasonal', 'ADJ'), ('deaths', 'NOUN'), ('community', 'NOUN'), ('smartly', 'ADV'), ('Nationwide', 'NOUN'), ('CHANGED', 'VERB'), ('drafted', 'VERB'), ('disciplined', 'VERB'), ('addressing', 'VERB'), ('130.6', 'NUM'), ('Constitutional', 'NOUN'), ('laws', 'NOUN'), ('mobile', 'ADJ'), ('study', 'VERB'), ('Andersson', 'NOUN'), ('Electronics', 'NOUN'), ('where', 'ADV'), ('quantities', 'NOUN'), ('Chuck', 'NOUN'), ('advertise', 'VERB'), ('races', 'NOUN'), ('Phi', 'NOUN'), ('assemble', 'VERB'), ('Wellington', 'NOUN'), ('47.6', 'NUM'), ('Encouraged', 'ADJ'), ('Esso', 'NOUN'), ('anticipates', 'VERB'), ('Kelli', 'NOUN'), ('Federalist', 'NOUN'), ('Moslem', 'NOUN'), ('delay', 'VERB'), ('European', 'ADJ'), ('taught', 'VERB'), ('disaster-assistance', 'ADJ'), ('1937-40', 'NUM'), ('pension', 'NOUN'), ('polarized', 'VERB'), ('investment', 'NOUN'), ('*-118', 'X'), ('testing', 'NOUN'), ('upset', 'ADJ'), ('374.19', 'NUM'), ('web', 'NOUN'), ('local', 'ADJ'), ('Trudeau', 'NOUN'), ('kits', 'NOUN'), ('Chafic', 'NOUN'), ('Berlin', 'NOUN'), ('province', 'NOUN'), ('bushels', 'NOUN'), ('felony', 'NOUN'), ('his', 'PRON'), ('crookery', 'NOUN'), ('reaching', 'VERB'), ('junk-bond', 'NOUN'), ('Anku', 'NOUN'), ('30.9', 'NUM'), ('Gunmen', 'NOUN'), ('Conn', 'NOUN'), ('discharge', 'VERB'), ('30,841', 'NUM'), ('Source', 'NOUN'), ('get', 'VERB'), ('into', 'ADP'), ('Critics', 'NOUN'), ('The', 'DET'), ('revive', 'VERB'), ('Retail', 'ADJ'), ('3.375', 'NUM'), ('botched', 'ADJ'), ('disaffiliation', 'NOUN'), ('drug', 'NOUN'), ('churches', 'NOUN'), ('Everything', 'NOUN'), ('bearish', 'ADJ'), ('3-4', 'NUM'), ('Breeden', 'NOUN'), ('Hollingsworth', 'NOUN'), ('record', 'NOUN'), ('invades', 'VERB'), ('spurns', 'VERB'), ('thought', 'VERB'), ('1972', 'NUM'), ('877,663', 'NUM'), ('Vega', 'NOUN'), ('Wick', 'NOUN'), ('morale-damaging', 'ADJ'), ('jumped', 'VERB'), ('giving', 'VERB'), ('writing', 'NOUN'), ('employs', 'VERB'), ('Peter', 'NOUN'), ('questionable', 'ADJ'), ('quantitive', 'ADJ'), ('Municipal', 'ADJ'), ('attempt', 'VERB'), ('Pretoria', 'NOUN'), ('Riese', 'NOUN'), ('2017', 'NUM'), ('Alfred', 'NOUN'), ('survive', 'VERB'), ('write-off', 'NOUN'), ('upturn', 'NOUN'), ('That', 'DET'), ('passport', 'NOUN'), ('4.55', 'NUM'), ('1953', 'NUM'), ('requirements', 'NOUN'), ('Santa', 'NOUN'), ('situations', 'NOUN'), ('bureaucracy', 'NOUN'), ('Composer', 'NOUN'), ('winning', 'VERB'), ('flights', 'NOUN'), ('Am', 'VERB'), ('alleging', 'VERB'), ('mark', 'VERB'), ('cut', 'VERB'), ('75-year-old', 'NUM'), ('discount', 'NOUN'), ('Sol', 'NOUN'), ('Virgin', 'NOUN'), ('*-81', 'X'), ('Pa', 'NOUN'), ('commercial', 'ADJ'), ('dollar-denominated', 'ADJ'), ('Morita', 'NOUN'), ('conviction', 'NOUN'), ('marriages', 'NOUN'), ('pressure', 'NOUN'), ('restructurings', 'NOUN'), ('Backe', 'NOUN'), ('Texas-based', 'ADJ'), ('Plans', 'NOUN'), ('Cellars', 'NOUN'), ('layer', 'NOUN'), ('9\\\\/32', 'NUM'), ('tubes', 'NOUN'), ('concession', 'NOUN'), ('Ichiro', 'NOUN'), ('Composite', 'NOUN'), ('vicissitudes', 'NOUN'), ('responsibility', 'NOUN'), ('oriented', 'VERB'), ('Gary', 'NOUN'), ('conferees', 'NOUN'), ('*-95', 'X'), ('University', 'NOUN'), ('vote', 'NOUN'), ('compatible', 'ADJ'), ('mean', 'ADJ'), ('semiconductor', 'NOUN'), ('Earle', 'NOUN'), ('lookee-loos', 'NOUN'), ('corporation', 'NOUN'), ('Stockholders', 'NOUN'), ('anti-drug', 'ADJ'), ('reallocate', 'VERB'), ('2.2', 'NUM'), ('Paribas', 'NOUN'), ('Sen.', 'NOUN'), ('facilitate', 'VERB'), ('Solution', 'NOUN'), ('8.47', 'NUM'), ('NASD', 'NOUN'), ('1.18', 'NUM'), ('favor', 'VERB'), ('113.2', 'NUM'), ('coal', 'NOUN'), ('evil', 'ADJ'), ('*T*-18', 'X'), ('centers', 'VERB'), ('waters', 'NOUN'), ('would', 'VERB'), ('moving', 'VERB'), ('Christie', 'NOUN'), ('committing', 'VERB'), ('further', 'ADV'), ('area', 'NOUN'), ('loops', 'NOUN'), ('project', 'NOUN'), ('elections', 'NOUN'), ('About', 'ADP'), ('flooded', 'VERB'), ('full-fledged', 'ADJ'), ('relevance', 'NOUN'), ('Resistance', 'NOUN'), ('offender', 'NOUN'), ('*T*-20', 'X'), ('volatility', 'NOUN'), ('railing', 'NOUN'), ('pro-democracy', 'ADJ'), ('areas', 'NOUN'), ('geography', 'NOUN'), ('barometer', 'NOUN'), ('how', 'ADV'), ('71', 'NUM'), ('blocks', 'VERB'), ('included', 'VERB'), ('Americana', 'NOUN'), ('erodes', 'VERB'), ('source', 'NOUN'), ('estimates', 'VERB'), ('11\\\\/16', 'NUM'), ('2.19', 'NUM'), ('preface', 'NOUN'), ('School', 'NOUN'), ('spreads', 'NOUN'), ('Deng', 'NOUN'), ('Party', 'NOUN'), ('teachers', 'NOUN'), ('lately', 'ADV'), ('slaying', 'NOUN'), ('unfair', 'ADJ'), ('five-cent', 'ADJ'), ('back', 'ADJ'), ('Al', 'NOUN'), ('heavy-truck', 'NOUN'), ('Unlike', 'ADP'), ('soliciting', 'VERB'), ('bell-ringing', 'ADJ'), ('Wilbur', 'NOUN'), ('Caters', 'NOUN'), ('Tokyo', 'NOUN'), ('December', 'NOUN'), ('congregation', 'NOUN'), ('loaded', 'VERB'), ('betterment', 'NOUN'), ('plunge', 'NOUN'), ('Jon', 'NOUN'), ('entrusted', 'VERB'), ('Turkey', 'NOUN'), ('Christopher', 'NOUN'), ('incorporated', 'VERB'), ('vow', 'NOUN'), ('family', 'NOUN'), ('mechanical', 'ADJ'), ('*T*-181', 'X'), ('Antitrust', 'NOUN'), ('systematic', 'ADJ'), ('pact', 'NOUN'), ('try', 'NOUN'), ('accountability', 'NOUN'), ('43', 'NUM'), ('opening', 'NOUN'), ('Huntington', 'NOUN'), ('Chemical', 'NOUN'), ('markdown', 'NOUN'), ('34.625', 'NUM'), ('mindful', 'ADJ'), ('NEW', 'NOUN'), ('slid', 'VERB'), ('Maxwell', 'NOUN'), ('mortgage', 'NOUN'), ('*T*-99', 'X'), ('funded', 'VERB'), ('fiscal', 'NOUN'), ('around', 'ADV'), ('Labouisse', 'NOUN'), ('fills', 'VERB'), ('automation', 'NOUN'), ('demonstrates', 'VERB'), ('Grain', 'NOUN'), ('*T*-52', 'X'), ('months', 'NOUN'), ('battery', 'NOUN'), ('exhibition', 'NOUN'), ('confines', 'NOUN'), ('Woodrow', 'NOUN'), ('obligated', 'VERB'), ('freedom', 'NOUN'), ('Soviet', 'ADJ'), ('maintained', 'VERB'), ('muzzling', 'ADJ'), ('month', 'NOUN'), ('commodity', 'NOUN'), ('printed', 'VERB'), ('*-49', 'X'), ('needing', 'VERB'), ('1.7', 'NUM'), ('tumultuous', 'ADJ'), ('30.6', 'NUM'), ('Cos.', 'NOUN'), ('Russell', 'NOUN'), ('GHKM', 'NOUN'), (\"'40s\", 'NUM'), ('explanatory', 'ADJ'), ('adapting', 'VERB'), ('grew', 'VERB'), ('Kathryn', 'NOUN'), ('realize', 'VERB'), ('revenue', 'NOUN'), ('Garry', 'NOUN'), ('352.9', 'NUM'), ('Abbey', 'NOUN'), ('4,393,237', 'NUM'), ('Ross', 'NOUN'), ('Banking', 'NOUN'), ('emasculate', 'VERB'), ('Peabody', 'NOUN'), ('ask', 'VERB'), ('*T*-197', 'X'), ('Yamamoto', 'NOUN'), ('Reuters', 'NOUN'), ('0', 'X'), ('bid', 'NOUN'), ('roof-crush', 'ADJ'), ('segmenting', 'VERB'), ('shot', 'NOUN'), ('caution', 'NOUN'), ('crusade', 'NOUN'), ('unrestricted', 'ADJ'), ('laughing', 'VERB'), ('forgotten', 'VERB'), ('net', 'ADJ'), ('openly', 'ADV'), ('sustained', 'VERB'), ('5.435', 'NUM'), ('Bridges', 'NOUN'), ('handled', 'VERB'), ('brokering', 'VERB'), ('15.5', 'NUM'), ('firm', 'NOUN'), ('direct', 'VERB'), ('*T*-15', 'X'), ('skeptical', 'ADJ'), ('Erbamont', 'NOUN'), ('companies', 'NOUN'), ('sold', 'VERB'), ('Pierre', 'NOUN'), ('1.56', 'NUM'), ('product-design', 'ADJ'), ('rise', 'NOUN'), ('earn', 'VERB'), ('yourself', 'PRON'), ('gunship', 'NOUN'), ('Hearst', 'NOUN'), ('shops', 'NOUN'), ('consomme', 'NOUN'), ('tapes', 'NOUN'), ('trailed', 'VERB'), ('tuck', 'VERB'), ('thumbing', 'VERB'), ('Petrus', 'NOUN'), ('lower', 'ADJ'), ('badly', 'ADV'), ('Menem', 'NOUN'), ('Restaurant', 'NOUN'), ('side', 'NOUN'), ('fifth-grade', 'NOUN'), ('practice', 'NOUN'), ('Nancy', 'NOUN'), ('Christian', 'ADJ'), ('234.4', 'NUM'), ('wealthy', 'ADJ'), ('bread-and-butter', 'ADJ'), ('boosts', 'VERB'), ('64', 'NUM'), ('Wickliffe', 'NOUN'), ('28.6', 'NUM'), ('margin', 'NOUN'), ('fat', 'ADJ'), ('warehouses', 'NOUN'), ('enjoy', 'VERB'), ('Sidewalk', 'NOUN'), ('private', 'ADJ'), ('customized', 'VERB'), ('A-D', 'NOUN'), ('*-113', 'X'), ('fairness', 'NOUN'), ('Joe', 'NOUN'), ('Strait', 'NOUN'), ('dessert', 'NOUN'), ('gauging', 'VERB'), ('businessman', 'NOUN'), ('time', 'VERB'), ('Nissan', 'NOUN'), ('predicting', 'VERB'), ('denouncing', 'VERB'), ('inspection', 'NOUN'), ('Royal', 'NOUN'), ('F.', 'NOUN'), ('however', 'ADV'), ('-RCB-', '.'), ('Angels', 'NOUN'), ('tidily', 'ADV'), ('automobiles', 'NOUN'), ('creature', 'NOUN'), ('phase-out', 'NOUN'), ('*T*-143', 'X'), ('deserve', 'VERB'), ('ramparts', 'NOUN'), ('trivial', 'ADJ'), ('starting', 'VERB'), ('escape', 'NOUN'), ('discordant', 'ADJ'), ('...', '.'), ('lauded', 'VERB'), ('any', 'DET'), ('cranked', 'VERB'), ('backyard', 'NOUN'), ('cars', 'NOUN'), ('*-104', 'X'), ('liquidation', 'NOUN'), ('7.422', 'NUM'), ('flexibility', 'NOUN'), ('necklace', 'NOUN'), ('minute', 'NOUN'), ('juvenile', 'ADJ'), ('Henry', 'NOUN'), ('Illinois', 'NOUN'), ('bitter', 'ADJ'), ('unclear', 'ADJ'), ('TIRED', 'ADJ'), ('Ed', 'NOUN'), ('simulates', 'VERB'), ('Greenwich', 'NOUN'), ('*T*-154', 'X'), ('liners', 'NOUN'), ('618.1', 'NUM'), ('unofficial', 'ADJ'), ('experience', 'NOUN'), ('Olympic', 'NOUN'), ('2.30', 'NUM'), ('3\\\\/4', 'NUM'), ('Because', 'ADP'), ('partnership', 'NOUN'), ('intrusions', 'NOUN'), ('Mining', 'NOUN'), ('summer', 'NOUN'), ('pre-tax', 'ADJ'), ('producing', 'VERB'), ('trial', 'NOUN'), ('minor', 'ADJ'), ('referred', 'VERB'), ('Competes', 'VERB'), ('25,000', 'NUM'), ('normal', 'ADJ'), ('accord', 'NOUN'), ('Leap', 'NOUN'), ('presented', 'VERB'), ('shipboard', 'NOUN'), ('while', 'NOUN'), ('become', 'VERB'), ('570', 'NUM'), ('achievement-test', 'NOUN'), ('educational', 'ADJ'), ('ringing', 'NOUN'), ('billing', 'NOUN'), ('Phillip', 'NOUN'), ('penalties', 'NOUN'), ('travel-related', 'ADJ'), ('Gorbachev', 'NOUN'), ('sharp', 'ADJ'), ('lifting', 'NOUN'), ('Equus', 'NOUN'), ('90', 'NUM'), ('Confidence', 'NOUN'), ('narrowed', 'VERB'), ('decline', 'VERB'), ('urged', 'VERB'), ('cited', 'VERB'), ('*T*-92', 'X'), ('rim', 'NOUN'), ('Heritage', 'NOUN'), ('Four', 'NUM'), ('*T*-38', 'X'), ('twisting', 'VERB'), ('Down', 'NOUN'), ('statute', 'NOUN'), ('advances', 'NOUN'), ('retraced', 'VERB'), ('*-140', 'X'), (':', '.'), ('withdrawal', 'NOUN'), ('off', 'PRT'), ('import', 'NOUN'), ('Generally', 'ADV'), ('slowdowns', 'NOUN'), ('Mrs', 'NOUN'), ('179', 'NUM'), ('800', 'NUM'), ('fellow', 'ADJ'), ('consist', 'VERB'), ('committed', 'VERB'), ('harbinger', 'NOUN'), ('stretched', 'VERB'), ('306', 'NUM'), ('Amendment', 'NOUN'), ('thwart', 'VERB'), ('common', 'ADJ'), ('exhaust', 'VERB'), ('semesters', 'NOUN'), ('goodies', 'NOUN'), ('phasing', 'VERB'), ('cold', 'ADJ'), ('warnings', 'NOUN'), ('sites', 'NOUN'), ('wage', 'NOUN'), ('one', 'NUM'), ('190', 'NUM'), ('sweatshirts', 'NOUN'), ('surrounding', 'VERB'), ('Says', 'VERB'), ('columns', 'NOUN'), ('memory', 'NOUN'), ('respond', 'VERB'), ('Or', 'CONJ'), ('`', '.'), ('referring', 'VERB'), ('EC', 'NOUN'), ('5.70', 'NUM'), ('Sacramento-based', 'ADJ'), ('six-bottle', 'ADJ'), ('decide', 'VERB'), ('512', 'NUM'), ('competed', 'VERB'), ('vs.', 'ADP'), ('consumer', 'NOUN'), ('fawning', 'VERB'), ('.', '.'), ('industry-wide', 'ADJ'), ('newsstands', 'NOUN'), ('circumstances', 'NOUN'), ('U.S.-Japanese', 'ADJ'), ('mutual-fund', 'NOUN'), ('passages', 'NOUN'), ('Gringo', 'NOUN'), ('Markets', 'NOUN'), ('Nelson', 'NOUN'), ('sleeping', 'VERB'), ('regimented', 'ADJ'), ('clipped', 'VERB'), ('partial', 'ADJ'), ('stresses', 'VERB'), ('actively', 'ADV'), ('inherent', 'ADJ'), ('friendly', 'ADJ'), ('library', 'NOUN'), ('speculation', 'NOUN'), ('meets', 'VERB'), ('Bankruptcy', 'NOUN'), ('Typically', 'ADV'), ('14\\\\/32', 'NUM'), ('paint', 'VERB'), ('Materials', 'NOUN'), ('steelmakers', 'NOUN'), ('wrath', 'NOUN'), ('speculative', 'ADJ'), ('one-hour', 'ADJ'), ('sure', 'ADJ'), ('Collector', 'NOUN'), ('partly', 'ADV'), ('projector', 'NOUN'), ('thinks', 'VERB'), ('listed', 'VERB'), ('Lindner', 'NOUN'), ('free', 'VERB'), ('Court', 'NOUN'), ('courts', 'NOUN'), ('*T*-210', 'X'), ('safeguarding', 'VERB'), ('particulars', 'NOUN'), ('up', 'ADP'), ('Keehn', 'NOUN'), ('rollover', 'NOUN'), ('anti-morning-sickness', 'ADJ'), ('gentle', 'ADJ'), ('600,000', 'NUM'), ('Depending', 'VERB'), ('partisans', 'NOUN'), ('beheading', 'NOUN'), ('Voice', 'NOUN'), ('balked', 'VERB'), ('depository', 'NOUN'), ('specialty', 'NOUN'), ('Chairman', 'NOUN'), ('controlled', 'ADJ'), ('Bolivia', 'NOUN'), ('moneymakers', 'NOUN'), ('28.53', 'NUM'), ('possess', 'VERB'), ('increased', 'VERB'), ('ban', 'NOUN'), ('111', 'NUM'), ('Burt', 'NOUN'), ('district', 'NOUN'), ('posters', 'NOUN'), ('Altair', 'NOUN'), ('Activity', 'NOUN'), ('gripping', 'ADJ'), ('clouding', 'NOUN'), ('consultant', 'NOUN'), ('buy-out', 'NOUN'), ('item', 'NOUN'), ('Osborn', 'NOUN'), ('Rubicam', 'NOUN'), ('Coors', 'NOUN'), ('on', 'ADP'), ('fibers', 'NOUN'), ('corrupt', 'ADJ'), ('understands', 'VERB'), ('host', 'NOUN'), ('reported', 'VERB'), ('to', 'ADJ'), ('carries', 'VERB'), ('matter', 'NOUN'), ('practitioners', 'NOUN'), ('Debt', 'NOUN'), ('2.44', 'NUM'), ('bricks', 'NOUN'), ('Yet', 'ADV'), ('impose', 'VERB'), ('save', 'VERB'), ('acts', 'NOUN'), ('abandon', 'VERB'), ('cautioned', 'VERB'), ('fifth', 'ADJ'), ('composite', 'ADJ'), ('fewer', 'ADJ'), ('sudden', 'ADJ'), ('West', 'ADJ'), ('*T*-91', 'X'), ('no', 'X'), ('takes', 'VERB'), ('double-A', 'ADJ'), ('scrambled', 'VERB'), ('1614', 'NUM'), ('BMP-1', 'NOUN'), ('decisions', 'NOUN'), ('children', 'NOUN'), ('working', 'ADJ'), ('happier', 'ADJ'), ('leeway', 'NOUN'), ('Yorkers', 'NOUN'), ('GROWTH', 'NOUN'), ('disclose', 'VERB'), ('pushing', 'VERB'), ('veteran', 'NOUN'), ('strike', 'NOUN'), ('confirms', 'VERB'), ('1940s', 'NUM'), ('El', 'NOUN'), ('37.5', 'NUM'), ('backlog', 'NOUN'), ('residential', 'ADJ'), ('beds', 'NOUN'), ('Clays', 'NOUN'), ('outlays', 'NOUN'), ('literary', 'ADJ'), ('hill', 'NOUN'), ('real', 'ADJ'), ('High', 'ADJ'), ('barges', 'NOUN'), ('war-damaged', 'ADJ'), ('possibility', 'NOUN'), ('traditional', 'ADJ'), ('labor-intensive', 'ADJ'), ('senior', 'NOUN'), ('Thousands', 'NOUN'), ('rising', 'VERB'), ('Perpetual', 'ADJ'), ('Delmont', 'NOUN'), ('arrested', 'VERB'), ('sue', 'VERB'), ('carefully', 'ADV'), ('executive', 'NOUN'), ('2,000', 'NUM'), ('8.9', 'NUM'), ('open', 'VERB'), ('look', 'NOUN'), ('coated', 'VERB'), ('November', 'NOUN'), ('low-ability', 'ADJ'), ('143.80', 'NUM'), ('3.8', 'NUM'), ('Japanese', 'NOUN'), ('Giuliani', 'NOUN'), ('pre-cooked', 'ADJ'), ('Estates', 'NOUN'), ('U.S.-Japan', 'ADJ'), ('troop', 'NOUN'), ('reliance', 'NOUN'), ('committees', 'NOUN'), ('long-time', 'ADJ'), ('60,000', 'NUM'), ('lucrative', 'ADJ'), ('has', 'VERB'), ('mine', 'NOUN'), ('RULING', 'NOUN'), ('next', 'ADP'), ('researcher', 'NOUN'), ('Sebastian', 'NOUN'), ('Suisse', 'NOUN'), ('ancestry', 'NOUN'), ('concrete', 'ADJ'), ('watches', 'NOUN'), ('8.22', 'NUM'), ('two-week', 'ADJ'), ('*ICH*-1', 'X'), ('Oy', 'NOUN'), ('More', 'ADV'), ('insists', 'VERB'), ('residence', 'NOUN'), ('causing', 'VERB'), ('Michael', 'NOUN'), ('320', 'NUM'), ('judicial', 'ADJ'), ('*-108', 'X'), ('anecdotal', 'ADJ'), ('sociology', 'NOUN'), ('number', 'NOUN'), ('227', 'NUM'), ('Fujitsu', 'NOUN'), ('139', 'NUM'), ('education', 'NOUN'), ('facing', 'VERB'), ('reach', 'NOUN'), ('introduced', 'VERB'), ('imminent', 'ADJ'), ('select', 'VERB'), ('consecutive', 'ADJ'), ('Miami', 'NOUN'), ('stone', 'NOUN'), ('Pont', 'NOUN'), ('utterly', 'ADV'), ('ankle', 'NOUN'), ('Negotiable', 'ADJ'), ('police', 'NOUN'), ('homeless', 'NOUN'), ('mounted', 'VERB'), ('control', 'NOUN'), ('master', 'NOUN'), ('elevators', 'NOUN'), ('action', 'NOUN'), ('perception', 'NOUN'), ('questions', 'NOUN'), ('Antonio', 'NOUN'), ('durable-goods', 'NOUN'), ('19.94', 'NUM'), ('eliminates', 'VERB'), ('Francis', 'NOUN'), ('substitute', 'NOUN'), ('thrift', 'NOUN'), ('instituted', 'VERB'), ('0.54', 'NUM'), ('0.1', 'NUM'), ('wild', 'ADJ'), ('success', 'NOUN'), ('ministers', 'NOUN'), ('text', 'NOUN'), ('*T*-238', 'X'), ('identical', 'ADJ'), ('118.6', 'NUM'), ('powder', 'NOUN'), ('enclosed', 'VERB'), ('*T*-109', 'X'), ('hierarchical', 'ADJ'), ('join', 'VERB'), ('Pro-forma', 'ADJ'), ('Sternberg', 'NOUN'), ('Merrill', 'NOUN'), ('arranged', 'VERB'), ('ushering', 'VERB'), ('Confederation', 'NOUN'), ('glitches', 'NOUN'), ('90-cent-an-hour', 'ADJ'), ('fare', 'VERB'), ('firms', 'NOUN'), ('are', 'ADP'), ('Articles', 'NOUN'), ('*T*-85', 'X'), ('After', 'ADP'), ('licensing', 'NOUN'), ('idea', 'NOUN'), ('formerly', 'ADV'), ('more', 'ADV'), ('Neil', 'NOUN'), ('asserts', 'VERB'), ('FEDERAL', 'ADJ'), ('six-month', 'ADJ'), ('Junk', 'NOUN'), ('Braidwood', 'NOUN'), ('rigged', 'VERB'), ('Getting', 'VERB'), ('brings', 'VERB'), ('tactics', 'NOUN'), ('appeals', 'NOUN'), ('Moreover', 'ADJ'), ('partners', 'NOUN'), ('cop-killer', 'ADJ'), ('circulated', 'VERB'), ('Phipps', 'NOUN'), ('Marietta', 'NOUN'), ('Georgia-Pacific', 'NOUN'), ('*T*-149', 'X'), ('connected', 'VERB'), ('1976', 'NUM'), ('sidestep', 'VERB'), ('R.I.', 'NOUN'), ('2.35', 'NUM'), ('chief', 'ADJ'), ('in', 'ADV'), ('shaping', 'VERB'), ('smokers', 'NOUN'), ('bundling', 'VERB'), ('59-year-old', 'ADJ'), ('Heightened', 'ADJ'), ('Camille', 'NOUN'), ('steep', 'ADJ'), ('Volatility', 'NOUN'), ('Transamerica', 'NOUN'), ('among', 'ADP'), ('financier', 'NOUN'), ('human', 'ADJ'), ('interest-rate', 'NOUN'), ('session', 'NOUN'), ('dancing', 'NOUN'), ('less', 'ADJ'), ('mill', 'NOUN'), ('*-97', 'X'), ('Moving', 'VERB'), ('delivering', 'VERB'), ('Bon', 'NOUN'), ('86', 'NUM'), ('slow', 'ADJ'), ('midsized', 'VERB'), ('Donoghue', 'NOUN'), ('designated', 'VERB'), ('20-point', 'ADJ'), ('ECONOMIC', 'ADJ'), ('founder', 'NOUN'), ('complex', 'ADJ'), ('portrayed', 'VERB'), ('Scowcroft', 'NOUN'), ('Marion', 'NOUN'), ('wafers', 'NOUN'), ('phrase', 'NOUN'), ('Nagymaros', 'NOUN'), ('San', 'NOUN'), ('In', 'NOUN'), ('hormone', 'NOUN'), ('compelling', 'ADJ'), ('Lowe', 'NOUN'), ('Danforth', 'NOUN'), ('speaks', 'VERB'), ('Pinocchio', 'NOUN'), ('Cru', 'NOUN'), ('Markey', 'NOUN'), ('designed', 'VERB'), ('Weisfield', 'NOUN'), ('ringer', 'NOUN'), ('Morgan', 'NOUN'), ('3.43', 'NUM'), ('tailored', 'VERB'), ('having', 'VERB'), ('soft', 'ADJ'), ('lift', 'VERB'), ('kit', 'NOUN'), ('initiative', 'NOUN'), ('weighing', 'VERB'), ('Article', 'NOUN'), ('370', 'NUM'), ('1.35', 'NUM'), ('then-Speaker', 'ADJ'), ('Numerous', 'ADJ'), ('rough', 'ADJ'), ('attempting', 'VERB'), ('feline', 'ADJ'), ('hit', 'NOUN'), ('give', 'VERB'), ('57.6', 'NUM'), ('multi-crystal', 'ADJ'), ('59.6', 'NUM'), ('upstate', 'ADJ'), ('fraud', 'NOUN'), ('reform', 'NOUN'), ('Elsevier', 'NOUN'), ('alarmed', 'VERB'), ('murder', 'NOUN'), ('Sept.', 'ADJ'), ('Center', 'NOUN'), ('refunding', 'VERB'), ('picture', 'NOUN'), ('135', 'NUM'), ('receive', 'VERB'), ('intentioned', 'ADJ'), ('centimeter', 'NOUN'), ('Mehrens', 'NOUN'), ('Jimmy', 'NOUN'), ('5', 'X'), ('7.4', 'NUM'), ('basically', 'ADV'), ('York-based', 'ADJ'), ('plenty', 'ADJ'), ('5.2180', 'NUM'), ('transplant', 'NOUN'), ('225,000', 'NUM'), ('away', 'PRT'), ('Fang', 'NOUN'), ('correct', 'VERB'), ('orchestrated', 'VERB'), ('160', 'NUM'), ('Norwalk', 'NOUN'), ('removing', 'VERB'), ('picked', 'VERB'), ('Prof.', 'NOUN'), ('see', 'VERB'), ('prominently', 'ADV'), ('engineered', 'VERB'), ('Chilean', 'ADJ'), ('Winning', 'VERB'), ('thirtysomething', 'NOUN'), ('Rusty', 'NOUN'), ('machine-gun-toting', 'ADJ'), ('Stag', 'NOUN'), ('CEO', 'NOUN'), ('Dunn', 'NOUN'), ('W.', 'NOUN'), ('shipping', 'VERB'), ('recycled', 'VERB'), ('120,000', 'NUM'), ('gains', 'NOUN'), ('1988-89', 'NUM'), ('big-ticket', 'ADJ'), ('*-72', 'X'), ('part', 'NOUN'), ('hardware', 'NOUN'), ('210', 'NUM'), ('speculating', 'VERB'), ('book', 'NOUN'), ('an', 'DET'), ('majority', 'NOUN'), ('summoned', 'VERB'), ('Marvin', 'NOUN'), ('soon', 'ADV'), ('retired', 'VERB'), ('third-quarter', 'ADJ'), ('Stevenson', 'NOUN'), ('Indonesia', 'NOUN'), ('announce', 'VERB'), ('142.84', 'NUM'), ('Linden', 'NOUN'), ('block', 'VERB'), ('test-preparation', 'ADJ'), ('graphics', 'NOUN'), ('strip', 'NOUN'), ('therefore', 'ADV'), ('hoped', 'VERB'), ('sounds', 'NOUN'), ('1.28', 'NUM'), ('holds', 'VERB'), ('exercised', 'VERB'), ('am', 'VERB'), ('Daniels', 'NOUN'), ('2.47', 'NUM'), ('CAT', 'NOUN'), ('8.04', 'NUM'), ('compromise', 'VERB'), ('6.7', 'NUM'), ('crime', 'NOUN'), ('co-founded', 'VERB'), ('10th', 'ADJ'), ('stock-manipulation', 'ADJ'), ('pressures', 'NOUN'), ('touch', 'VERB'), ('exceptional', 'ADJ'), ('review', 'VERB'), ('graduated', 'VERB'), ('Valley', 'NOUN'), ('recovering', 'VERB'), ('her', 'PRON'), ('TRIMMING', 'VERB'), ('combat', 'VERB'), ('28', 'NUM'), ('*-121', 'X'), ('profit', 'NOUN'), ('amount', 'NOUN'), ('six-packs', 'NOUN'), ('Israel', 'NOUN'), ('flagrant', 'ADJ'), ('promotions', 'NOUN'), ('language-housekeeper', 'ADJ'), ('Stanford', 'NOUN'), ('first-time', 'ADJ'), ('holder', 'NOUN'), ('reduction', 'NOUN'), ('natural-gas', 'NOUN'), ('lackluster', 'ADJ'), ('Fields', 'NOUN'), ('Hollis', 'NOUN'), ('regenerate', 'VERB'), ('five-point', 'ADJ'), ('prosecutors', 'NOUN'), ('per', 'ADP'), ('uncomplaining', 'ADJ'), ('Valrico', 'NOUN'), ('My', 'PRON'), ('scarcely', 'ADV'), ('caveat', 'NOUN'), ('solicitation', 'NOUN'), ('Silicon', 'NOUN'), ('execs', 'NOUN'), ('154.2', 'NUM'), ('double', 'ADJ'), ('*-34', 'X'), ('angered', 'VERB'), ('lack', 'NOUN'), ('Generalized', 'NOUN'), ('12\\\\/32', 'NUM'), ('processing', 'NOUN'), ('panel', 'NOUN'), ('consequences', 'NOUN'), ('grapes', 'NOUN'), ('way', 'NOUN'), ('Fantasy', 'NOUN'), ('galling', 'ADJ'), ('Sable', 'NOUN'), ('fetching', 'VERB'), ('Once', 'ADP'), ('Junk-bond', 'NOUN'), ('home', 'ADV'), ('one', 'PRON'), ('contractors', 'NOUN'), ('ChemPlus', 'NOUN'), ('*T*-157', 'X'), ('begun', 'VERB'), ('Stadiums', 'NOUN'), ('degrees', 'NOUN'), ('93,000', 'NUM'), ('exuded', 'VERB'), ('offend', 'VERB'), ('Owner', 'NOUN'), ('260', 'NUM'), ('large', 'ADJ'), ('YWCA', 'NOUN'), ('violating', 'VERB'), ('Stronach', 'NOUN'), ('redistributing', 'VERB'), ('Chilver', 'NOUN'), ('polyester', 'NOUN'), ('corkscrews', 'NOUN'), ('disturbing', 'ADJ'), ('saw', 'VERB'), ('reversed', 'VERB'), ('Germans', 'NOUN'), ('maintaining', 'VERB'), ('securities', 'NOUN'), ('invests', 'VERB'), ('female', 'ADJ'), ('1.20', 'NUM'), ('US$', '.'), ('exploit', 'VERB'), ('three', 'NUM'), ('drawing', 'VERB'), ('unlike', 'ADP'), ('yield', 'VERB'), ('resolved', 'VERB'), ('milestones', 'NOUN'), ('Brownell', 'NOUN'), ('also', 'ADV'), ('widely', 'ADV'), ('curtail', 'VERB'), ('involvement', 'NOUN'), ('exciting', 'ADJ'), ('Beth', 'NOUN'), ('diagram', 'NOUN'), ('spin-off', 'NOUN'), ('WFRR', 'NOUN'), ('producers', 'NOUN'), ('main', 'ADJ'), ('resulting', 'VERB'), ('Pencil', 'NOUN'), ('skipped', 'VERB'), ('Peck', 'NOUN'), ('Skills', 'NOUN'), ('Pharaoh', 'NOUN'), ('opportunities', 'NOUN'), ('graders', 'NOUN'), ('allies', 'NOUN'), ('Takeshi', 'NOUN'), ('monopoly', 'NOUN'), ('expansion', 'NOUN'), ('publicity', 'NOUN'), ('Pickens', 'NOUN'), ('436.01', 'NUM'), ('longstanding', 'ADJ'), ('Baris', 'NOUN'), ('rendering', 'NOUN'), ('factors', 'VERB'), ('Islamic', 'NOUN'), ('Laurence', 'NOUN'), ('transporting', 'VERB'), ('places', 'VERB'), ('7.5', 'NUM'), ('TWO', 'NUM'), ('1982', 'NUM'), ('durable', 'ADJ'), ('plastic', 'ADJ'), ('tariff', 'NOUN'), ('Wilder', 'NOUN'), ('bread', 'NOUN'), ('suffered', 'VERB'), ('Pty.', 'NOUN'), ('*T*-24', 'X'), ('pillow', 'NOUN'), ('Family', 'NOUN'), ('sunlight', 'NOUN'), ('year-earlier', 'ADJ'), ('holders', 'NOUN'), ('waived', 'VERB'), ('traitor', 'NOUN'), ('treats', 'VERB'), (\"'82\", 'NUM'), ('fight', 'NOUN'), ('traded', 'VERB'), ('comparison', 'NOUN'), ('Parliament', 'NOUN'), ('alcoholics', 'NOUN'), ('Piscataway', 'NOUN'), ('variables', 'NOUN'), ('innovation', 'NOUN'), ('*T*-230', 'X'), ('5.1', 'NUM'), ('beneficiary', 'NOUN'), ('vital', 'ADJ'), ('ancillary', 'ADJ'), ('42.5', 'NUM'), ('plants', 'NOUN'), ('photographs', 'NOUN'), ('prices', 'NOUN'), ('Hill', 'NOUN'), ('haul', 'NOUN'), ('McCabe', 'NOUN'), ('club', 'NOUN'), ('futures', 'NOUN'), ('breaker', 'NOUN'), ('Parents', 'NOUN'), ('Terms', 'NOUN'), ('ranks', 'NOUN'), ('Year', 'NOUN'), ('C$', '.'), ('customers', 'NOUN'), ('bidding', 'NOUN'), ('depositary', 'ADJ'), ('Takeover', 'NOUN'), ('contractor', 'NOUN'), ('Cab', 'NOUN'), ('restructured', 'VERB'), ('405', 'NUM'), ('plus', 'ADV'), ('financing', 'NOUN'), ('30-minute', 'ADJ'), ('1.92', 'NUM'), ('after-tax', 'ADJ'), ('final', 'ADJ'), ('Every', 'DET'), ('subjects', 'NOUN'), ('Westport', 'NOUN'), ('*T*-41', 'X'), ('fuller', 'ADJ'), ('bomber', 'NOUN'), ('swiftly', 'ADV'), ('*T*-29', 'X'), ('such', 'ADJ'), ('*T*-88', 'X'), ('*T*-135', 'X'), ('probably', 'ADV'), ('suspect', 'ADJ'), ('else', 'ADV'), ('CoreStates', 'NOUN'), ('pinning', 'NOUN'), ('Scotland', 'NOUN'), ('equivalent', 'ADJ'), ('Stock-index', 'NOUN'), ('Savin', 'NOUN'), ('barking', 'VERB'), ('concedes', 'VERB'), ('Colo.', 'NOUN'), ('So', 'ADP'), ('benefits', 'NOUN'), ('Jaffray', 'NOUN'), ('satisfaction', 'NOUN'), ('actress', 'NOUN'), ('rather', 'ADV'), ('commercials', 'NOUN'), ('Filling', 'VERB'), ('contracted', 'VERB'), ('Randolph', 'NOUN'), ('listing', 'NOUN'), ('Sangyo', 'NOUN'), ('*-154', 'X'), ('voices', 'NOUN'), ('dramatically', 'ADV'), ('unneeded', 'ADJ'), ('colony', 'NOUN'), ('sports-oriented', 'ADJ'), ('nine-month', 'ADJ'), ('charge', 'VERB'), ('Revenue', 'NOUN'), ('Chardonnay', 'NOUN'), ('sorting', 'VERB'), ('plaintiffs', 'NOUN'), ('AG', 'NOUN'), ('Foundation', 'NOUN'), ('36-day', 'ADJ'), ('optimism', 'NOUN'), ('valued', 'VERB'), ('fainting', 'VERB'), ('TRIAL', 'NOUN'), ('bank-backed', 'ADJ'), ('chaos', 'NOUN'), ('accused', 'VERB'), ('Makato', 'NOUN'), ('Kaminski', 'NOUN'), ('Hahn', 'NOUN'), ('Haney', 'NOUN'), ('mayor', 'NOUN'), ('levels', 'NOUN'), ('separately', 'ADV'), ('shore', 'VERB'), ('drink', 'NOUN'), ('fault', 'NOUN'), ('USIA', 'NOUN'), ('still', 'ADV'), ('Grandsire', 'NOUN'), ('3', 'NUM'), (\"'\", '.'), ('Burgundy', 'NOUN'), ('Bendectin', 'NOUN'), ('side-crash', 'ADJ'), ('Lines', 'NOUN'), ('sees', 'VERB'), ('changes', 'NOUN'), ('Legg', 'NOUN'), ('model', 'NOUN'), ('submit', 'VERB'), ('Always', 'ADV'), ('unheard', 'ADJ'), ('buildings', 'NOUN'), ('principle', 'NOUN'), ('troubled', 'VERB'), ('low', 'ADJ'), ('easily', 'ADV'), ('Medical', 'ADJ'), ('Economic', 'ADJ'), ('EXCHANGE', 'NOUN'), ('bells', 'NOUN'), ('savvier', 'ADJ'), ('balanced', 'ADJ'), ('merit', 'VERB'), ('lawsuits', 'NOUN'), ('reds', 'NOUN'), ('Nor', 'CONJ'), ('Marc', 'NOUN'), ('Kuhns', 'NOUN'), ('sprightly', 'ADJ'), ('venerable', 'ADJ'), ('rang', 'VERB'), ('co-chairman', 'NOUN'), ('rumor', 'NOUN'), ('Nicole', 'NOUN'), ('watched', 'VERB'), ('fetal-tissue', 'ADJ'), ('housing-assistance', 'ADJ'), ('St.', 'NOUN'), ('appointments', 'NOUN'), ('grant', 'NOUN'), ('diversified', 'ADJ'), ('Hazell', 'NOUN'), ('money-losing', 'ADJ'), ('forces', 'NOUN'), ('arrangements', 'NOUN'), ('This', 'DET'), ('microcomputers', 'NOUN'), ('19-month-old', 'ADJ'), ('argued', 'VERB'), ('accompany', 'VERB'), ('editors', 'NOUN'), ('Patrick', 'NOUN'), ('HUD', 'NOUN'), ('filings', 'NOUN'), ('guards', 'NOUN'), ('entitled', 'VERB'), ('Until', 'ADP'), ('5.5', 'NUM'), ('Cost-effective', 'ADJ'), ('lover', 'NOUN'), ('BRIEFS', 'NOUN'), ('Bellows', 'NOUN'), ('fuel', 'NOUN'), ('unusual', 'ADJ'), ('66.5', 'NUM'), ('bench', 'NOUN'), ('fabled', 'ADJ'), ('compliance', 'NOUN'), ('force', 'VERB'), ('eighth', 'ADJ'), ('like', 'ADP'), ('evoking', 'VERB'), ('photocopying', 'VERB'), ('characters', 'NOUN'), ('appeared', 'VERB'), ('Moon', 'NOUN'), ('entered', 'VERB'), ('targeted', 'VERB'), ('*-20', 'X'), ('opinions', 'NOUN'), ('execution', 'NOUN'), ('equal-opportunity', 'NOUN'), ('backing', 'VERB'), ('awfully', 'ADV'), ('essays', 'NOUN'), ('resist', 'VERB'), ('sympathetic', 'ADJ'), ('353', 'NUM'), ('Washington', 'NOUN'), ('fighting', 'VERB'), ('Associates', 'NOUN'), ('supply', 'NOUN'), ('guilty', 'ADJ'), ('Negus', 'NOUN'), ('Commerce', 'NOUN'), ('frustrating', 'VERB'), ('civics', 'NOUN'), ('man', 'NOUN'), ('profitable', 'ADJ'), ('It', 'PRON'), ('Ala', 'NOUN'), ('milestone', 'NOUN'), ('offer', 'VERB'), ('falling', 'VERB'), ('seeing', 'VERB'), ('visiting', 'VERB'), ('oldest', 'ADJ'), ('orders', 'VERB'), ('exchanges', 'NOUN'), ('acquirers', 'NOUN'), ('deficit', 'NOUN'), ('completeness', 'NOUN'), ('When', 'ADV'), ('ancient', 'ADJ'), ('skill', 'NOUN'), ('Defense', 'NOUN'), ('11.5', 'NUM'), ('offenders', 'NOUN'), ('befuddled', 'VERB'), ('co-developers', 'NOUN'), ('competitive', 'ADJ'), ('newsstand', 'NOUN'), ('aggressive', 'ADJ'), ('Gillespie', 'NOUN'), ('quarters', 'NOUN'), ('prosecute', 'VERB'), ('sales', 'NOUN'), ('demand', 'VERB'), ('*T*-156', 'X'), ('neutrons', 'NOUN'), ('Andean', 'ADJ'), ('patient', 'NOUN'), ('ROGERS', 'NOUN'), ('Periods', 'NOUN'), ('Giraud', 'NOUN'), ('sell', 'NOUN'), ('1990', 'NUM'), ('Western', 'NOUN'), ('apparently', 'ADV'), ('transportation', 'NOUN'), ('employee', 'NOUN'), ('incomes', 'NOUN'), ('50-state', 'ADJ'), ('famous', 'ADJ'), ('freshman', 'NOUN'), ('hard-hitting', 'ADJ'), ('rings', 'VERB'), ('ballroom', 'NOUN'), ('solicitor', 'NOUN'), ('Survey', 'NOUN'), ('please', 'VERB'), ('Hudnut', 'NOUN'), ('*-157', 'X'), ('lasting', 'ADJ'), ('Legislating', 'VERB'), ('hear', 'VERB'), ('ovation', 'NOUN'), ('Hot', 'ADJ'), ('we', 'PRON'), ('Corporate', 'ADJ'), ('unwashed', 'ADJ'), ('confused', 'ADJ'), ('Joel', 'NOUN'), ('finding', 'VERB'), ('servicing', 'VERB'), ('301', 'NUM'), ('terminated', 'VERB'), ('Food', 'NOUN'), ('calculations', 'NOUN'), ('8.30', 'NUM'), ('media', 'NOUN'), ('powerful', 'ADJ'), ('test', 'VERB'), ('2.25', 'NUM'), ('*T*-76', 'X'), ('massive', 'ADJ'), ('share', 'VERB'), ('usual', 'ADJ'), ('democratic', 'ADJ'), ('270', 'NUM'), ('Series', 'NOUN'), ('letting', 'VERB'), ('packages', 'NOUN'), ('98.3', 'NUM'), ('2.95', 'NUM'), ('pet', 'NOUN'), ('error', 'NOUN'), ('once', 'ADV'), ('dominating', 'VERB'), ('multiplying', 'VERB'), ('zinc', 'NOUN'), ('Greece', 'NOUN'), ('wanted', 'VERB'), ('upscale', 'ADJ'), ('designer', 'NOUN'), ('hamstrung', 'VERB'), ('closely', 'ADV'), ('parishioners', 'NOUN'), ('pill', 'NOUN'), ('excision', 'NOUN'), ('discontinued', 'VERB'), ('Ky.', 'NOUN'), ('smooth', 'ADJ'), ('Opus', 'NOUN'), ('sit', 'VERB'), ('with', 'ADP'), ('two-letter', 'ADJ'), ('millionaires', 'NOUN'), ('gyrations', 'NOUN'), ('jockeys', 'NOUN'), ('12.5', 'NUM'), ('accelerated', 'VERB'), ('prefer', 'VERB'), ('below', 'ADV'), ('chips', 'NOUN'), ('CLEARS', 'VERB'), ('84-year-old', 'ADJ'), ('workforce', 'NOUN'), ('Radio', 'NOUN'), ('father', 'NOUN'), ('sassy', 'ADJ'), ('IX', 'NUM'), ('display', 'VERB'), ('Weatherly', 'NOUN'), ('distributor', 'NOUN'), ('Lawmakers', 'NOUN'), ('30', 'NUM'), ('white-collar', 'ADJ'), ('*-69', 'X'), ('inform', 'VERB'), ('magnitude', 'NOUN'), ('though', 'ADV'), ('*T*-102', 'X'), ('nature', 'NOUN'), ('deprivation', 'NOUN'), ('largest', 'ADJ'), ('malignant', 'ADJ'), ('nationalist', 'ADJ'), ('L.P.', 'NOUN'), ('Bradford', 'NOUN'), ('total', 'ADJ'), ('cooperation', 'NOUN'), ('Kean', 'NOUN'), ('requirement', 'NOUN'), ('WHAS', 'NOUN'), ('10', 'NUM'), ('More', 'ADJ'), ('abortionist', 'NOUN'), ('*T*-134', 'X'), ('state-owned', 'ADJ'), ('gangs', 'NOUN'), ('toilet', 'NOUN'), ('racing', 'VERB'), ('study', 'NOUN'), ('dam', 'NOUN'), ('wasted', 'VERB'), ('Publishers', 'NOUN'), ('meetings', 'NOUN'), ('movies', 'NOUN'), ('Holland', 'NOUN'), ('Bumkins', 'NOUN'), ('*T*-159', 'X'), ('buck', 'NOUN'), ('child', 'NOUN'), ('Program', 'NOUN'), ('delay', 'NOUN'), ('momentary', 'ADJ'), ('endorsed', 'VERB'), ('Village', 'NOUN'), (\"O'Neill\", 'NOUN'), ('loved', 'VERB'), ('choose', 'VERB'), ('Holt', 'NOUN'), ('association', 'NOUN'), ('sets', 'VERB'), ('defensive', 'ADJ'), ('adapted', 'VERB'), ('Output', 'NOUN'), ('Magna', 'NOUN'), ('*T*-79', 'X'), ('Itoh', 'NOUN'), ('149', 'NUM'), ('money-center', 'ADJ'), ('unwary', 'ADJ'), ('Ringers', 'NOUN'), ('parallel', 'VERB'), ('0.82', 'NUM'), ('Townes', 'NOUN'), ('IOUs', 'NOUN'), ('generous', 'ADJ'), ('89.9', 'NUM'), ('spiders', 'NOUN'), ('showing', 'VERB'), ('insert', 'VERB'), ('testify', 'VERB'), ('7.90', 'NUM'), ('System', 'NOUN'), ('innuendoes', 'NOUN'), ('defendants', 'NOUN'), ('*-66', 'X'), ('livestock', 'NOUN'), ('domestically', 'ADV'), ('acquisitions', 'NOUN'), ('size', 'NOUN'), ('finite', 'ADJ'), ('Seymour', 'NOUN'), ('contributing', 'VERB'), ('elaborate', 'VERB'), ('track', 'NOUN'), ('stark', 'ADJ'), ('accumulated', 'VERB'), ('executives', 'NOUN'), ('applied', 'VERB'), ('321', 'NUM'), ('Z.', 'NOUN'), ('intended', 'VERB'), ('insanity', 'NOUN'), ('Traders', 'NOUN'), ('Common', 'ADJ'), ('stations', 'NOUN'), ('better', 'ADV'), ('Huppert', 'NOUN'), ('chose', 'VERB'), ('visitors', 'NOUN'), ('Telerate', 'NOUN'), ('47.1', 'NUM'), ('Clive', 'NOUN'), ('ceiling', 'NOUN'), ('betting', 'VERB'), ('recede', 'VERB'), ('agreed-upon', 'ADJ'), ('preserving', 'VERB'), ('RATE', 'NOUN'), ('Pamplin', 'NOUN'), ('6,000', 'NUM'), ('tenfold', 'ADV'), ('patents', 'NOUN'), ('Republicans', 'NOUN'), ('Genetics', 'NOUN'), ('Nylev', 'NOUN'), ('*T*-11', 'X'), ('lobbyists', 'NOUN'), ('examinations', 'NOUN'), ('1', 'X'), ('crack', 'NOUN'), ('*T*-196', 'X'), ('*T*-2', 'X'), ('focus', 'VERB'), ('bilateral', 'ADJ'), ('Coast', 'NOUN'), ('C.', 'NOUN'), ('hope', 'VERB'), ('trash', 'VERB'), ('income', 'NOUN'), ('blessing', 'NOUN'), ('NIH', 'NOUN'), ('scoffs', 'VERB'), ('Wong', 'NOUN'), ('Dodger', 'NOUN'), ('Trockenbeerenauslesen', 'NOUN'), ('C-130', 'NOUN'), ('7.2', 'NUM'), ('wo', 'VERB'), ('Nestor', 'NOUN'), ('cut', 'NOUN'), ('Joseph', 'NOUN'), ('Root', 'NOUN'), ('over', 'ADP'), ('nameplate', 'NOUN'), ('unemployment', 'NOUN'), ('vacancy', 'NOUN'), ('Mannix', 'NOUN'), ('confidential', 'ADJ'), ('principal', 'NOUN'), ('much', 'ADJ'), ('13.5', 'NUM'), ('spurring', 'VERB'), ('keyboards', 'NOUN'), ('clock', 'NOUN'), ('PaineWebber', 'NOUN'), ('replacement', 'NOUN'), ('exhibits', 'VERB'), ('ways', 'NOUN'), ('market-oriented', 'ADJ'), ('inception', 'NOUN'), ('Occidental', 'NOUN'), ('proteins', 'NOUN'), ('Literacy', 'NOUN'), ('nominated', 'VERB'), ('marketed', 'VERB'), ('on-campus', 'ADJ'), ('stirred', 'VERB'), ('Droz', 'NOUN'), ('July', 'NOUN'), ('disembodied', 'ADJ'), ('Crude', 'ADJ'), ('shareholder', 'NOUN'), ('warned', 'VERB'), ('Mo.-based', 'ADJ'), ('correspondence', 'NOUN'), ('augment', 'VERB'), ('competition', 'NOUN'), ('sheets', 'NOUN'), ('Builders', 'NOUN'), ('blue-chips', 'NOUN'), ('ensure', 'VERB'), ('Prater', 'NOUN'), ('greed', 'NOUN'), ('Smelting', 'NOUN'), ('seize', 'VERB'), ('leadership', 'NOUN'), ('Brunello', 'NOUN'), ('rigors', 'NOUN'), ('concluded', 'VERB'), ('purely', 'ADV'), ('ordering', 'VERB'), ('installing', 'VERB'), ('Three', 'NOUN'), ('Temple', 'NOUN'), ('*-31', 'X'), ('soldiers', 'NOUN'), ('defends', 'VERB'), ('contests', 'NOUN'), ('served', 'VERB'), ('priority', 'NOUN'), ('nightmare', 'NOUN'), ('secede', 'VERB'), ('measures', 'NOUN'), ('last', 'NOUN'), ('blocks', 'NOUN'), ('noted', 'VERB'), ('cloth', 'NOUN'), ('274', 'NUM'), ('rose', 'VERB'), ('films', 'NOUN'), ('minus', 'NOUN'), ('predict', 'VERB'), ('estimates', 'NOUN'), ('gives', 'VERB'), ('tracking', 'VERB'), ('promoting', 'VERB'), ('brand', 'NOUN'), ('crash', 'ADJ'), ('frankly', 'ADV'), ('Services', 'NOUN'), ('uncertainty', 'NOUN'), ('bless', 'VERB'), ('asbestos-related', 'ADJ'), ('Mattress', 'NOUN'), ('2.5', 'NUM'), ('DIAPER', 'NOUN'), ('tablets', 'NOUN'), ('Regal', 'NOUN'), ('decade', 'NOUN'), ('59', 'NUM'), ('needs', 'VERB'), ('structural', 'ADJ'), ('DDB', 'NOUN'), ('emigres', 'NOUN'), ('ushers', 'NOUN'), ('30-day', 'ADJ'), ('Lucille', 'NOUN'), ('played', 'VERB'), ('say', 'VERB'), ('subdued', 'VERB'), ('shares', 'NOUN'), ('*T*-116', 'X'), ('heating', 'VERB'), ('saving', 'VERB'), ('missed', 'VERB'), ('already', 'ADV'), ('rapport', 'NOUN'), ('Metal', 'NOUN'), ('gotten', 'VERB'), ('*T*-132', 'X'), ('before', 'ADP'), ('sitting', 'VERB'), ('couple', 'NOUN'), ('giveaways', 'NOUN'), ('August', 'NOUN'), ('billion', 'NUM'), ('uttering', 'VERB'), ('ensembles', 'NOUN'), ('Bank', 'NOUN'), ('Milne', 'NOUN'), ('cutting', 'VERB'), ('JUDGE', 'NOUN'), ('play', 'VERB'), ('occasionally', 'ADV'), ('shelf', 'NOUN'), ('leap', 'NOUN'), ('pressman', 'NOUN'), ('erasures', 'NOUN'), ('harder', 'ADJ'), ('Symphony', 'NOUN'), ('screen', 'NOUN'), ('FAX', 'NOUN'), ('primarily', 'ADV'), ('imported', 'VERB'), ('diaper', 'NOUN'), ('van', 'NOUN'), ('behalf', 'NOUN'), ('manner', 'NOUN'), ('Care', 'NOUN'), ('Stadium', 'NOUN'), ('presentation', 'NOUN'), ('wear', 'VERB'), ('absolutely', 'ADV'), ('successful', 'ADJ'), ('Stephens', 'NOUN'), ('longer', 'ADV'), ('Plan', 'NOUN'), ('*T*-183', 'X'), ('duck', 'VERB'), ('queuing', 'VERB'), ('key', 'NOUN'), ('DOT', 'NOUN'), ('declared', 'VERB'), ('HOME', 'NOUN'), ('property\\\\/casualty', 'NOUN'), ('Dodge', 'NOUN'), ('vaccines', 'NOUN'), ('S.I.', 'NOUN'), ('definitive', 'ADJ'), ('Micronite', 'NOUN'), ('that', 'DET'), ('biggest', 'ADJ'), ('Sheffield', 'NOUN'), ('seized', 'VERB'), ('things', 'NOUN'), ('63', 'NUM'), ('both', 'DET'), ('Tassinari', 'NOUN'), ('paltry', 'ADJ'), ('recently', 'ADV'), ('changed', 'VERB'), ('varied', 'VERB'), ('partner', 'NOUN'), ('434.4', 'NUM'), ('McGovern', 'NOUN'), ('S.p.A.', 'NOUN'), ('leapt', 'VERB'), ('implements', 'VERB'), ('scheduled', 'VERB'), ('FIRST', 'NUM'), ('Waste', 'NOUN'), ('At', 'ADP'), ('Criminal', 'NOUN'), ('asset', 'NOUN'), ('happen', 'VERB'), ('comment', 'VERB'), ('seems', 'VERB'), ('Foster', 'NOUN'), ('1,100', 'NUM'), ('recyclable', 'ADJ'), ('voice', 'VERB'), ('leave', 'VERB'), ('*T*-118', 'X'), ('North', 'NOUN'), ('protest', 'NOUN'), ('low-priced', 'ADJ'), ('chip', 'NOUN'), ('sacrificing', 'VERB'), ('views', 'VERB'), ('homelessness', 'NOUN'), ('Estate', 'NOUN'), ('contrary', 'NOUN'), ('positions', 'NOUN'), ('microprocessor', 'NOUN'), ('Natural', 'NOUN'), ('weekly', 'ADJ'), ('Sydney', 'NOUN'), ('Steven', 'NOUN'), ('shame', 'NOUN'), ('likelihood', 'NOUN'), ('less-serious', 'ADJ'), ('Adams', 'NOUN'), ('double-digit', 'ADJ'), ('dealing', 'VERB'), ('shelter', 'NOUN'), ('Fifteen', 'NUM'), ('influence', 'NOUN'), ('Jews', 'NOUN'), ('warrants', 'NOUN'), ('Hoffman', 'NOUN'), ('indexers', 'NOUN'), ('scholars', 'NOUN'), ('*T*-186', 'X'), ('bronze', 'NOUN'), ('fearful', 'ADJ'), ('cater', 'VERB'), ('prospect', 'NOUN'), ('gifts', 'NOUN'), ('real-estate', 'NOUN'), ('inevitable', 'ADJ'), ('affiliate', 'NOUN'), ('achieving', 'VERB'), ('enact', 'VERB'), ('700', 'NUM'), ('retires', 'VERB'), ('Too', 'ADV'), ('explosion', 'NOUN'), ('labels', 'NOUN'), ('jitters', 'NOUN'), ('Fahrenheit', 'NOUN'), ('processes', 'NOUN'), ('elementary', 'ADJ'), ('Carter', 'NOUN'), ('subject', 'NOUN'), ('anyone', 'NOUN'), ('Mortgage-Backed', 'NOUN'), ('note', 'NOUN'), ('reserved', 'VERB'), ('worth', 'NOUN'), ('170,262', 'NUM'), ('vice', 'NOUN'), ('white', 'NOUN'), ('loyal', 'ADJ'), ('times', 'NOUN'), ('buckle', 'NOUN'), ('amending', 'VERB'), ('throws', 'VERB'), ('125', 'NUM'), ('5.4', 'NUM'), ('compared', 'VERB'), ('Herald', 'NOUN'), ('55', 'NUM'), ('gut', 'NOUN'), ('disclosures', 'NOUN'), ('3436.58', 'NUM'), ('*-161', 'X'), ('manages', 'VERB'), ('Stevens', 'NOUN'), ('industries', 'NOUN'), ('been', 'VERB'), ('instead', 'ADV'), ('own', 'ADJ'), ('remain', 'VERB'), ('lights', 'NOUN'), ('Home', 'NOUN'), ('ripen', 'VERB'), ('highest', 'ADJ'), ('1:30', 'NUM'), ('rolling', 'VERB'), ('Probably', 'ADV'), ('Irvine', 'NOUN'), ('care', 'VERB'), ('ticket', 'NOUN'), ('Savings', 'NOUN'), ('23,000', 'NUM'), ('Leo', 'NOUN'), ('purchased', 'VERB'), ('Most', 'ADV'), ('looked', 'VERB'), ('70', 'NUM'), ('two-tiered', 'ADJ'), ('Determining', 'VERB'), ('Capital', 'NOUN'), ('Bowery', 'NOUN'), ('close-up', 'NOUN'), ('NetWare', 'NOUN'), ('Unitholders', 'NOUN'), ('newsroom', 'NOUN'), ('losing', 'VERB'), ('exercisable', 'ADJ'), ('obligation', 'NOUN'), ('resembles', 'VERB'), ('8.19', 'NUM'), ('analyze', 'VERB'), ('elderly', 'ADJ'), ('actor', 'NOUN'), ('1.55', 'NUM'), ('procedural', 'ADJ'), ('Aptitude', 'NOUN'), ('purposes', 'NOUN'), ('Bhutto', 'NOUN'), ('punishing', 'VERB'), ('bottle', 'NOUN'), ('Conference', 'NOUN'), ('blighted', 'ADJ'), ('branches', 'NOUN'), ('percentage', 'NOUN'), ('Stewart', 'NOUN'), ('cause', 'VERB'), ('twindam', 'NOUN'), ('decrease', 'NOUN'), ('Lambert', 'NOUN'), ('226,570,380', 'NUM'), ('prior-year', 'ADJ'), ('wake', 'NOUN'), ('succeeded', 'VERB'), ('2009', 'NUM'), ('F-series', 'NOUN'), ('decline', 'NOUN'), ('Lovett', 'NOUN'), ('arbitrage', 'NOUN'), ('Metropolitan', 'NOUN'), ('1903', 'NUM'), ('sixth', 'ADJ'), ('booklet', 'NOUN'), ('*-132', 'X'), ('guarantees', 'NOUN'), ('runs', 'VERB'), ('heated', 'ADJ'), ('box', 'NOUN'), ('families', 'NOUN'), ('237-seat', 'ADJ'), ('relies', 'VERB'), ('133.8', 'NUM'), ('exceed', 'VERB'), ('raise', 'VERB'), ('Women', 'NOUN'), ('loser', 'NOUN'), ('innovative', 'ADJ'), ('Photograph', 'NOUN'), ('split', 'ADJ'), ('proponent', 'NOUN'), ('first-half', 'ADJ'), ('Current', 'ADJ'), ('permissible', 'ADJ'), ('152,000', 'NUM'), ('overcome', 'VERB'), ('closing', 'ADJ'), ('infrequent', 'ADJ'), ('Dakota', 'NOUN'), ('Viacom', 'NOUN'), ('*-3', 'X'), ('emerging', 'VERB'), ('wheat', 'NOUN'), ('kidney', 'NOUN'), ('One', 'NUM'), ('complained', 'VERB'), ('prevalance', 'NOUN'), ('236.79', 'NUM'), ('moment', 'NOUN'), ('Asian', 'NOUN'), ('undertaking', 'VERB'), ('reflection', 'NOUN'), ('Austria', 'NOUN'), ('novelist', 'NOUN'), ('*-153', 'X'), ('550,000', 'NUM'), ('slew', 'NOUN'), ('map', 'VERB'), ('declines', 'NOUN'), ('Ltd.', 'NOUN'), ('price-support', 'ADJ'), ('Crime', 'NOUN'), ('No', 'DET'), ('numeral', 'NOUN'), ('Young', 'NOUN'), ('Syracuse', 'NOUN'), ('Goode', 'NOUN'), ('Fuentes', 'NOUN'), ('published', 'VERB'), ('teams', 'NOUN'), ('neighboring', 'VERB'), ('Farm', 'NOUN'), ('8.50', 'NUM'), ('scenic', 'ADJ'), ('gloss', 'VERB'), ('Xerox', 'NOUN'), ('aspect', 'NOUN'), ('authorizes', 'VERB'), ('corporations', 'NOUN'), ('unfunded', 'ADJ'), ('planner', 'NOUN'), ('pockets', 'NOUN'), ('*-6', 'X'), ('Operations', 'NOUN'), ('le', 'DET'), ('rifles', 'NOUN'), ('sharply', 'ADV'), ('Overseas', 'NOUN'), ('tracked', 'VERB'), ('transactions', 'NOUN'), ('Johnson-era', 'NOUN'), ('*T*-237', 'X'), ('Energy', 'NOUN'), ('keeps', 'VERB'), ('ongoing', 'ADJ'), ('plus', 'CONJ'), ('house', 'NOUN'), ('Alliance', 'NOUN'), ('event', 'NOUN'), ('ASSOCIATES', 'NOUN'), ('Candlestick', 'NOUN'), ('implication', 'NOUN'), ('program-trading', 'NOUN'), ('buyers', 'NOUN'), ('lock', 'VERB'), ('automobile', 'NOUN'), ('Lazzaroni', 'NOUN'), ('attractive', 'ADJ'), ('surfaced', 'VERB'), ('proviso', 'NOUN'), ('5.3', 'NUM'), ('slower', 'ADJ'), ('exclusion', 'NOUN'), ('777', 'NUM'), (',', '.'), ('faded', 'VERB'), ('string', 'VERB'), ('aims', 'VERB'), ('Raul', 'NOUN'), ('1st', 'NUM'), ('French', 'ADJ'), ('salable', 'ADJ'), ('in', 'NOUN'), ('herald', 'VERB'), ('Saturday', 'NOUN'), ('buildup', 'NOUN'), ('rich', 'ADJ'), ('strain', 'NOUN'), ('Trans', 'NOUN'), ('gambler', 'NOUN'), ('doubted', 'VERB'), ('35.2', 'NUM'), ('250', 'NUM'), ('wish', 'NOUN'), ('30s', 'NUM'), ('retard', 'VERB'), ('Is', 'VERB'), ('Machines', 'NOUN'), ('228', 'NUM'), ('arrival', 'NOUN'), ('inverse', 'NOUN'), ('superpremiums', 'NOUN'), ('Kerensky', 'NOUN'), ('Those', 'DET'), ('recruit', 'VERB'), ('Life', 'NOUN'), ('affirmative', 'ADJ'), ('yields', 'NOUN'), ('*T*-203', 'X'), ('swings', 'NOUN'), ('Friends', 'NOUN'), ('reasons', 'VERB'), ('Quant', 'NOUN'), ('average', 'NOUN'), ('finished', 'VERB'), ('tone', 'NOUN'), ('depleted', 'VERB'), ('Brothers', 'NOUN'), ('American-made', 'ADJ'), ('225', 'NUM'), ('500,004', 'NUM'), ('Koito', 'NOUN'), ('pro-Iranian', 'ADJ'), ('firmly', 'ADV'), ('stockholders', 'NOUN'), ('Bromwich', 'NOUN'), ('perpetual', 'ADJ'), ('invented', 'VERB'), ('effort', 'NOUN'), ('stock-market', 'NOUN'), ('SDI', 'NOUN'), ('10-year', 'ADJ'), ('BTR', 'NOUN'), ('propagandize', 'VERB'), ('enacted', 'VERB'), ('negotiators', 'NOUN'), ('1968', 'NUM'), ('*T*-86', 'X'), ('bribed', 'VERB'), ('*T*-250', 'X'), ('bounce', 'VERB'), (\"O'Brien\", 'NOUN'), ('socialist', 'ADJ'), ('What', 'PRON'), ('covers', 'NOUN'), ('warning', 'NOUN'), ('Palestine', 'NOUN'), ('preferences', 'NOUN'), ('undertone', 'NOUN'), ('43-year-old', 'ADJ'), ('*-64', 'X'), ('providers', 'NOUN'), ('SEC', 'NOUN'), ('trays', 'NOUN'), ('Public', 'NOUN'), ('cartoonist', 'NOUN'), ('recovery', 'NOUN'), ('bell', 'NOUN'), ('mirrors', 'VERB'), ('Howard', 'NOUN'), ('making', 'VERB'), ('little', 'ADJ'), ('Wall', 'NOUN'), ('38', 'NUM'), ('73', 'NUM'), ('moderated', 'VERB'), ('Duluth', 'NOUN'), ('tested', 'VERB'), ('poignant', 'ADJ'), ('additions', 'NOUN'), ('Bonnell', 'NOUN'), ('APPEARS', 'VERB'), ('facts', 'NOUN'), ('beneficial', 'ADJ'), ('Personal', 'ADJ'), ('Edge', 'NOUN'), ('customer', 'NOUN'), ('right', 'ADV'), ('hour', 'NOUN'), ('emergency', 'NOUN'), ('pricing', 'NOUN'), ('Pamela', 'NOUN'), ('220', 'NUM'), ('Assurance', 'NOUN'), ('associated', 'VERB'), ('work', 'VERB'), ('banking', 'NOUN'), ('108', 'NUM'), ('nickel', 'NOUN'), ('2', 'X'), ('16.7', 'NUM'), ('sympathy', 'NOUN'), ('Palmer', 'NOUN'), ('NEC', 'NOUN'), ('debate', 'VERB'), ('one-day', 'ADJ'), ('Waertsilae', 'NOUN'), ('solid', 'ADJ'), ('fire', 'NOUN'), ('banks', 'NOUN'), ('legislature', 'NOUN'), ('45-a-share', 'ADJ'), ('train', 'VERB'), ('prizes', 'NOUN'), ('Triton', 'NOUN'), ('treating', 'VERB'), ('clerks', 'NOUN'), ('export', 'NOUN'), ('counseling', 'NOUN'), ('Lyn', 'NOUN'), ('Trettien', 'NOUN'), ('Labor', 'NOUN'), ('punish', 'VERB'), ('limiting', 'VERB'), ('Abrupt', 'ADJ'), ('Blunt', 'NOUN'), ('approach', 'NOUN'), ('here', 'ADV'), ('142.85', 'NUM'), ('likely', 'ADV'), ('Television', 'NOUN'), ('blamed', 'VERB'), ('lyrics', 'NOUN'), ('ago', 'ADV'), ('PS', 'NOUN'), ('release', 'NOUN'), ('18,444', 'NUM'), ('tenth', 'NOUN'), ('talked', 'VERB'), ('Consumer', 'NOUN'), ('roll', 'VERB'), ('extending', 'VERB'), ('102', 'NUM'), ('100-megabyte', 'ADJ'), ('par', 'NOUN'), ('talking', 'VERB'), ('*-43', 'X'), ('outlay', 'NOUN'), ('liquidated', 'VERB'), ('They', 'PRON'), ('publishing', 'VERB'), ('rechargeable', 'ADJ'), ('fiber-optic', 'ADJ'), ('intensity', 'NOUN'), ('Signore', 'NOUN'), ('invention', 'NOUN'), ('far', 'ADV'), ('No.', 'NOUN'), ('Use', 'NOUN'), ('marvelously', 'ADV'), ('temporarily', 'ADV'), ('voters', 'NOUN'), ('ratified', 'VERB'), ('expected', 'VERB'), ('benefited', 'VERB'), ('rumored', 'VERB'), ('Missouri', 'NOUN'), ('hearing', 'NOUN'), ('bicameral', 'ADJ'), ('imperative', 'ADJ'), ('demobilize', 'VERB'), ('pistols', 'NOUN'), ('Reuter', 'NOUN'), ('Dole', 'NOUN'), ('ruling', 'NOUN'), ('becomes', 'VERB'), ('East', 'ADJ'), ('dummies', 'NOUN'), ('merger-related', 'ADJ'), ('continue', 'VERB'), ('expelled', 'VERB'), ('Taipei', 'NOUN'), ('22\\\\/32', 'NUM'), ('reinvestment', 'NOUN'), ('proposal', 'NOUN'), ('wooing', 'VERB'), ('since', 'ADP'), ('patients', 'NOUN'), ('yet-to-be-formed', 'ADJ'), ('think', 'VERB'), ('shape', 'NOUN'), ('scattered', 'VERB'), ('de', 'ADP'), ('*T*-241', 'X'), ('worker', 'NOUN'), ('pulls', 'NOUN'), ('Milwaukee', 'NOUN'), ('intimidate', 'VERB'), ('Tiger', 'NOUN'), ('battery-operated', 'ADJ'), ('vacations', 'NOUN'), ('onus', 'NOUN'), ('Oct.', 'NOUN'), ('differently', 'ADV'), ('writer', 'NOUN'), ('congressman', 'NOUN'), ('acquired', 'VERB'), ('financings', 'NOUN'), ('squeeze', 'NOUN'), ('kids', 'NOUN'), ('Modifications', 'NOUN'), ('tendering', 'VERB'), ('wait', 'VERB'), ('respectable', 'ADJ'), ('hopes', 'VERB'), ('February', 'NOUN'), ('price-depressing', 'ADJ'), ('initiate', 'NOUN'), ('Feb.', 'NOUN'), ('actual', 'ADJ'), ('Southeast', 'NOUN'), ('length', 'NOUN'), ('travelers', 'NOUN'), ('Rice', 'NOUN'), ('S&P', 'NOUN'), ('Ridgefield', 'NOUN'), ('worries', 'NOUN'), ('drearier', 'ADV'), ('modestly', 'ADV'), ('index-fund', 'NOUN'), ('motion', 'NOUN'), ('about', 'ADP'), ('dating', 'VERB'), ('26,000', 'NUM'), ('Officials', 'NOUN'), ('carry', 'VERB'), ('guns', 'NOUN'), ('*T*-151', 'X'), ('*-74', 'X'), ('speculate', 'VERB'), ('audit', 'NOUN'), ('passenger-car', 'NOUN'), ('close', 'NOUN'), ('harm', 'NOUN'), ('Chivas', 'NOUN'), ('juggernaut', 'NOUN'), ('insinuating', 'VERB'), ('crystal-lattice', 'NOUN'), ('caused', 'VERB'), ('Knopf', 'NOUN'), ('light-truck', 'ADJ'), ('simply', 'ADV'), ('therapies', 'NOUN'), ('barrel', 'NOUN'), ('high-technology', 'NOUN'), ('Timex', 'NOUN'), ('TROUBLES', 'NOUN'), ('Assuming', 'VERB'), ('tripled', 'VERB'), ('*T*-44', 'X'), ('sensation', 'NOUN'), ('Either', 'CONJ'), ('1980', 'NUM'), ('modern-day', 'ADJ'), ('analyst', 'NOUN'), ('profitably', 'ADV'), ('Norman', 'NOUN'), ('organization', 'NOUN'), ('worsen', 'VERB'), ('Waterloo', 'NOUN'), ('His', 'PRON'), ('plummeted', 'VERB'), ('university', 'NOUN'), ('fell', 'VERB'), ('scrambling', 'VERB'), ('accommodate', 'VERB'), ('values', 'VERB'), ('inflated', 'VERB'), ('Tuscany', 'NOUN'), ('manufacture', 'VERB'), ('girl', 'NOUN'), ('toll', 'NOUN'), ('staff', 'NOUN'), ('day-care', 'ADJ'), ('alone', 'ADV'), ('turnaround', 'NOUN'), ('determined', 'VERB'), ('numerous', 'ADJ'), ('Kansas', 'NOUN'), ('me', 'PRON'), ('supercomputer', 'NOUN'), ('significant', 'ADJ'), ('organized', 'ADJ'), ('disciplinary', 'ADJ'), ('certainly', 'ADV'), ('Industries', 'NOUN'), ('deputy', 'NOUN'), ('hitter', 'NOUN'), ('Diaper', 'NOUN'), ('challenge', 'VERB'), ('jolts', 'NOUN'), ('market-share', 'ADJ'), ('knitted', 'VERB'), ('expects', 'VERB'), ('mind', 'VERB'), ('vicar', 'NOUN'), ('initiatives', 'NOUN'), ('back', 'PRT'), ('institutional', 'ADJ'), ('favorable', 'ADJ'), ('omitted', 'VERB'), ('excellence', 'NOUN'), ('Hiroshima', 'NOUN'), ('role', 'NOUN'), ('Martin', 'NOUN'), ('*T*-208', 'X'), ('7', 'NUM'), ('occurred', 'VERB'), ('2\\\\/32', 'NUM'), ('veal', 'NOUN'), ('prescription', 'NOUN'), ('*-67', 'X'), ('growing', 'ADJ'), ('bolster', 'VERB'), ('shipping', 'NOUN'), ('magicians', 'NOUN'), ('Bass', 'NOUN'), ('concentrated', 'VERB'), ('experts', 'NOUN'), ('matched', 'VERB'), ('curse', 'NOUN'), ('puzzled', 'VERB'), ('bar', 'VERB'), ('DyDee', 'NOUN'), ('owner', 'NOUN'), ('downside', 'NOUN'), ('glory', 'NOUN'), ('neither', 'DET'), ('lowering', 'VERB'), ('concentrating', 'VERB'), ('Reed', 'NOUN'), ('rest', 'NOUN'), ('doctrine', 'NOUN'), ('N.C.', 'NOUN'), ('evening', 'NOUN'), ('Taylor', 'NOUN'), ('Dividend', 'NOUN'), ('traders', 'NOUN'), ('authorities', 'NOUN'), ('bankroll', 'VERB'), ('fared', 'VERB'), ('surprised', 'VERB'), ('block', 'NOUN'), ('Spillane', 'NOUN'), ('*T*-25', 'X'), ('disapprove', 'VERB'), ('chemicals', 'NOUN'), ('sellers', 'NOUN'), ('Berman', 'NOUN'), ('Civilization', 'NOUN'), ('monopolize', 'VERB'), ('Winiarski', 'NOUN'), ('rhetoric', 'NOUN'), ('pattern', 'NOUN'), ('Cartoonist', 'NOUN'), ('drunk', 'ADJ'), ('Photography', 'NOUN'), ('professionals', 'NOUN'), ('scripts', 'NOUN'), ('Blackstone', 'NOUN'), ('publish', 'VERB'), ('markets', 'VERB'), ('Everybody', 'NOUN'), ('flat', 'ADV'), ('indications', 'NOUN'), ('compromise', 'NOUN'), ('patterns', 'NOUN'), ('Lewis', 'NOUN'), ('UAL', 'NOUN'), ('diagnosed', 'VERB'), ('overseas', 'ADJ'), ('cautiously', 'ADV'), ('1980s', 'NOUN'), ('14-hour', 'ADJ'), ('touch', 'NOUN'), ('review', 'NOUN'), ('Jenrette', 'NOUN'), ('boosting', 'VERB'), ('Ilminster', 'NOUN'), ('Kensington', 'NOUN'), ('LANDOR', 'NOUN'), ('Nationale', 'NOUN'), ('denies', 'VERB'), ('Fannie', 'NOUN'), ('Dogs', 'NOUN'), ('calculate', 'VERB'), ('most', 'ADV'), ('18.95', 'NUM'), ('journalistic', 'ADJ'), ('Human', 'NOUN'), ('Haruki', 'NOUN'), ('forum', 'NOUN'), ('supplies', 'VERB'), ('dismiss', 'VERB'), ('supreme', 'NOUN'), ('handling', 'NOUN'), ('wrenching', 'ADJ'), ('Walker', 'NOUN'), ('coupled', 'VERB'), ('unfounded', 'ADJ'), ('Takuma', 'NOUN'), ('bankers', 'NOUN'), ('12', 'NUM'), ('figure', 'VERB'), ('supplemental', 'ADJ'), ('investment-grade', 'ADJ'), ('sparking', 'VERB'), ('Fair', 'NOUN'), ('tooth', 'NOUN'), ('*-141', 'X'), ('3.04', 'NUM'), ('walkout', 'NOUN'), ('Hadson', 'NOUN'), ('spurred', 'VERB'), ('exclusive', 'ADJ'), ('ingredients', 'NOUN'), ('INGERSOLL-RAND', 'NOUN'), ('worship', 'NOUN'), ('act', 'NOUN'), ('Frank', 'NOUN'), ('client', 'NOUN'), ('argument', 'NOUN'), ('850', 'NUM'), ('price', 'NOUN'), ('worst', 'ADJ'), ('Earnings', 'NOUN'), ('tumbled', 'VERB'), ('anxious', 'ADJ'), ('indicators', 'NOUN'), ('Some', 'ADV'), ('drift', 'VERB'), ('penalty', 'NOUN'), ('cigarettes', 'NOUN'), ('Maryland', 'NOUN'), ('weather', 'NOUN'), ('skyrocketed', 'VERB'), ('balance', 'NOUN'), ('NATIONAL', 'NOUN'), ('turns', 'VERB'), ('yield', 'NOUN'), ('pilots', 'NOUN'), ('safe-deposit', 'ADJ'), ('Meridian', 'NOUN'), ('54', 'NUM'), ('undo', 'VERB'), ('re-election', 'NOUN'), ('Detroit', 'NOUN'), ('lender', 'NOUN'), ('spokesman', 'NOUN'), ('longer', 'ADJ'), ('China', 'NOUN'), ('truce', 'NOUN'), ('down', 'NOUN'), ('mature', 'VERB'), ('120', 'NUM'), ('oil', 'NOUN'), ('Squier', 'NOUN'), ('cancers', 'NOUN'), ('noncompetitively', 'ADV'), ('factors', 'NOUN'), ('District', 'NOUN'), ('Foods', 'NOUN'), ('Midland', 'NOUN'), ('defeat', 'NOUN'), ('relieved', 'ADJ'), ('places', 'NOUN'), ('press', 'NOUN'), ('ultimatum', 'NOUN'), ('Lauderhill', 'NOUN'), ('1.61', 'NUM'), ('SCI', 'NOUN'), ('Sterling', 'NOUN'), ('Iowa', 'NOUN'), ('launch', 'NOUN'), ('Comprehensive', 'NOUN'), ('jet', 'NOUN'), ('worried', 'VERB'), ('commercial', 'NOUN'), ('420', 'NUM'), ('45.75', 'NUM'), ('terrine', 'NOUN'), ('manmade-fiber', 'ADJ'), ('others', 'NOUN'), ('disclosed', 'VERB'), ('mailed', 'VERB'), ('assault', 'NOUN'), ('cataract', 'NOUN'), ('Baltimore', 'NOUN'), ('demands', 'NOUN'), ('Nofzinger', 'NOUN'), ('bidder', 'NOUN'), ('Darkhorse', 'NOUN'), ('falls', 'VERB'), ('Kuvin', 'NOUN'), ('purchase', 'VERB'), ('compositions', 'NOUN'), ('*T*-229', 'X'), ('Egyptian', 'ADJ'), ('TRANSPLANT', 'NOUN'), ('NESB', 'NOUN'), ('Tribune', 'NOUN'), ('Coleco', 'NOUN'), ('reasonably', 'ADV'), ('closed-end', 'ADJ'), ('pipeline', 'NOUN'), ('dominance', 'NOUN'), ('Continental', 'NOUN'), ('asbestosis', 'NOUN'), ('content', 'ADJ'), ('undesirable', 'ADJ'), ('distributed', 'VERB'), ('75', 'NUM'), ('*T*-216', 'X'), ('evil', 'NOUN'), ('grown', 'VERB'), ('pride', 'NOUN'), ('halted', 'VERB'), ('building-products', 'NOUN'), ('fourth-quarter', 'NOUN'), ('cotton', 'NOUN'), ('overruns', 'NOUN'), ('locked', 'VERB'), ('crib', 'NOUN'), ('soared', 'VERB'), ('*T*-89', 'X'), ('regulated', 'VERB'), ('unintelligible', 'ADJ'), ('repaired', 'VERB'), ('Philip', 'NOUN'), ('deeply', 'ADV'), ('promptly', 'ADV'), ('767', 'NUM'), ('Institutes', 'NOUN'), ('County', 'NOUN'), ('spends', 'VERB'), ('*-71', 'X'), ('computers', 'NOUN'), ('president', 'NOUN'), ('significance', 'NOUN'), ('affair', 'NOUN'), ('manufacturers', 'NOUN'), ('53', 'NUM'), ('basis', 'NOUN'), ('28.5', 'NUM'), ('rankings', 'NOUN'), ('titans', 'NOUN'), ('Bonds', 'NOUN'), ('*T*-21', 'X'), ('skip', 'VERB'), ('featured', 'VERB'), ('Koizumi', 'NOUN'), ('preferred', 'VERB'), ('anticipated', 'VERB'), ('the', 'DET'), ('suitors', 'NOUN'), ('Del', 'NOUN'), ('war-rationed', 'ADJ'), ('*-159', 'X'), ('141.9', 'NUM'), ('pose', 'VERB'), ('obvious', 'ADJ'), ('which', 'ADP'), ('pieces', 'NOUN'), ('1989', 'NUM'), ('Underwood', 'NOUN'), ('11,390,000', 'NUM'), ('fate', 'NOUN'), ('charge', 'NOUN'), ('fair', 'ADJ'), ('receipts', 'NOUN'), ('worthiness', 'NOUN'), ('Angola', 'NOUN'), ('88.32', 'NUM'), ('Commission', 'NOUN'), ('classic', 'ADJ'), ('wallowing', 'VERB'), ('magnified', 'VERB'), ('CAMPAIGN', 'NOUN'), ('1960s', 'NUM'), ('ground', 'NOUN'), ('Most', 'ADJ'), ('preventing', 'VERB'), ('wheel-loader', 'ADJ'), ('Even', 'ADV'), ('premiere', 'NOUN'), ('Zuckerman', 'NOUN'), ('climate', 'NOUN'), ('Komatsu', 'NOUN'), ('prison', 'NOUN'), ('daughters', 'NOUN'), ('insidious', 'ADJ'), ('beyond', 'ADP'), ('considered', 'VERB'), ('Helsinki', 'NOUN'), ('trim', 'VERB'), ('conversations', 'NOUN'), ('fend', 'VERB'), ('insiders', 'NOUN'), ('detail', 'NOUN'), ('Elsewhere', 'ADV'), ('discussion', 'NOUN'), ('minted', 'VERB'), ('concessions', 'NOUN'), ('Soviet', 'NOUN'), ('either', 'CONJ'), ('embroiled', 'VERB'), ('Perspective', 'NOUN'), ('Madison', 'NOUN'), ('Coniston', 'NOUN'), ('deliver', 'VERB'), ('despise', 'VERB'), ('institution', 'NOUN'), ('Writers', 'NOUN'), ('language', 'NOUN'), ('bulk', 'NOUN'), ('trip', 'NOUN'), ('malnutrition', 'NOUN'), ('arched', 'ADJ'), ('Centers', 'NOUN'), ('47.125', 'NUM'), ('accrued', 'VERB'), ('selling', 'VERB'), ('Gulf', 'NOUN'), ('promised', 'VERB'), ('collective', 'ADJ'), ('Schaefer', 'NOUN'), ('administrative', 'ADJ'), ('conceding', 'VERB'), ('known', 'VERB'), ('intelligent', 'ADJ'), ('protecting', 'VERB'), ('historically', 'ADV'), ('Herrington', 'NOUN'), ('climb', 'VERB'), ('rally', 'NOUN'), ('Ill', 'NOUN'), ('388', 'NUM'), ('forest-products', 'NOUN'), ('prospective', 'ADJ'), ('juggle', 'VERB'), ('Telegraph', 'NOUN'), ('lieu', 'NOUN'), ('unenthusiastic', 'ADJ'), ('ON', 'NOUN'), ('188.84', 'NUM'), ('while', 'ADP'), ('a', 'ADJ'), ('follow', 'VERB'), ('to', 'PRT'), ('remove', 'VERB'), ('End', 'NOUN'), ('nonrecurring', 'VERB'), ('discarded', 'VERB'), ('Appeals', 'NOUN'), ('backing', 'NOUN'), ('financial-services', 'ADJ'), ('expenditures', 'NOUN'), ('Cleveland', 'NOUN'), ('-LRB-', '.'), ('566.54', 'NUM'), ('Lorain', 'NOUN'), ('radio', 'NOUN'), ('lobster', 'NOUN'), ('Chamber', 'NOUN'), ('use', 'VERB'), ('at', 'ADP'), ('looking', 'VERB'), ('sigh', 'NOUN'), ('so', 'ADV'), ('analysis', 'NOUN'), ('makes', 'VERB'), ('Died', 'VERB'), ('abounding', 'VERB'), ('institute', 'NOUN'), ('automotive-lighting', 'ADJ'), ('Christian', 'NOUN'), ('portrayal', 'NOUN'), ('Dell', 'NOUN'), ('reversal', 'NOUN'), ('orders', 'NOUN'), ('SuperDot', 'NOUN'), ('20', 'NUM'), ('tote', 'VERB'), ('17', 'NUM'), ('classical', 'ADJ'), ('Lehman', 'NOUN'), ('Times', 'NOUN'), ('Camilli', 'NOUN'), ('Works', 'NOUN'), ('lofty', 'ADJ'), ('Navy', 'NOUN'), ('privacy', 'NOUN'), ('moreover', 'ADV'), ('is', 'VERB'), ('Little', 'ADV'), ('managements', 'NOUN'), ('contemporary', 'ADJ'), ('demand', 'NOUN'), ('seek', 'VERB'), ('scientist', 'NOUN'), ('addiction', 'NOUN'), ('PETS', 'NOUN'), ('democracy', 'NOUN'), ('*T*-212', 'X'), ('encounter', 'VERB'), ('economist', 'NOUN'), ('mid-size', 'ADJ'), ('fined', 'VERB'), ('hung', 'VERB'), ('Its', 'PRON'), ('marks', 'VERB'), ('608,413', 'NUM'), ('rings', 'NOUN'), ('deterring', 'VERB'), ('Nipponese', 'ADJ'), ('conservative', 'ADJ'), ('Charlie', 'NOUN'), ('votes', 'NOUN'), ('93', 'NUM'), ('operational', 'ADJ'), ('blackjack', 'NOUN'), ('puts', 'VERB'), ('Matthews', 'NOUN'), ('francs', 'NOUN'), ('Illuminating', 'NOUN'), ('jump', 'VERB'), ('precisely', 'ADV'), ('address', 'VERB'), ('Corn', 'NOUN'), ('PCs', 'NOUN'), ('``', '.'), ('*T*-119', 'X'), ('cushioned', 'VERB'), ('Burgundies', 'NOUN'), ('irrelevant', 'ADJ'), ('bowed', 'VERB'), ('morass', 'NOUN'), ('Judicial', 'NOUN'), ('acting', 'ADJ'), ('late', 'ADV'), ('Homeless', 'ADJ'), ('Dan', 'NOUN'), ('Finnish', 'ADJ'), ('fast-growing', 'ADJ'), ('Achievement', 'NOUN'), ('expectation', 'NOUN'), ('impossible', 'ADJ'), ('advocate', 'VERB'), ('finding', 'NOUN'), ('servicing', 'NOUN'), ('test', 'NOUN'), ('next', 'ADJ'), ('breakfast', 'NOUN'), ('industry-supported', 'ADJ'), ('share', 'NOUN'), ('Tulane', 'NOUN'), ('newer', 'ADJ'), ('Population', 'NOUN'), ('ports', 'NOUN'), ('Des', 'NOUN'), ('increase', 'VERB'), ('382-37', 'NUM'), ('provision', 'NOUN'), ('England', 'NOUN'), ('Spreads', 'NOUN'), ('Brace', 'NOUN'), ('6.50', 'NUM'), ('maturities', 'NOUN'), ('finds', 'VERB'), ('outraged', 'ADJ'), ('participated', 'VERB'), ('Edison', 'NOUN'), ('cleanup', 'NOUN'), ('spokeswoman', 'NOUN'), ('2691.19', 'NUM'), ('retail', 'ADJ'), ('attended', 'VERB'), ('blue', 'ADJ'), ('franc', 'NOUN'), ('boutique', 'NOUN'), ('entirely', 'ADV'), ('promissory', 'ADJ'), ('3,250,000', 'NUM'), ('72', 'NUM'), ('revived', 'VERB'), ('combine', 'VERB'), ('wrongdoing', 'NOUN'), ('virtue', 'NOUN'), ('historic', 'ADJ'), ('4,000', 'NUM'), ('Scannell', 'NOUN'), ('shed', 'VERB'), ('threatened', 'VERB'), ('Hormats', 'NOUN'), ('AGREES', 'VERB'), ('1\\\\/4', 'NUM'), ('stocks', 'NOUN'), ('aimed', 'VERB'), ('Adds', 'VERB'), ('LATE', 'ADV'), ('War', 'NOUN'), ('full-length', 'ADJ'), ('Army', 'NOUN'), ('1.1650', 'NUM'), ('Unless', 'ADP'), ('preventative', 'ADJ'), ('two', 'NUM'), ('right', 'ADJ'), ('Carney', 'NOUN'), ('cutthroat', 'ADJ'), ('regional', 'ADJ'), ('speculator', 'NOUN'), ('dropped', 'VERB'), ('application', 'NOUN'), ('sunny', 'ADJ'), ('honors', 'NOUN'), ('belt', 'NOUN'), ('shortage', 'NOUN'), ('surrender', 'NOUN'), ('visited', 'VERB'), ('mailing', 'VERB'), ('returned', 'VERB'), ('Late', 'ADV'), ('mousseline', 'NOUN'), ('complexes', 'NOUN'), ('favorably', 'ADV'), ('BMP', 'NOUN'), ('*T*-10', 'X'), ('ingenuity', 'NOUN'), ('crossed', 'VERB'), ('savings-and-loan', 'ADJ'), ('show', 'NOUN'), ('spooked', 'VERB'), ('world-wide', 'ADJ'), ('thin-lipped', 'ADJ'), ('George', 'NOUN'), ('signal', 'NOUN'), ('weigh', 'VERB'), ('Steinberg', 'NOUN'), ('prevents', 'VERB'), ('Macmillan\\\\/McGraw', 'NOUN'), ('Plaza', 'NOUN'), ('Other', 'ADJ'), ('peaked', 'ADJ'), ('behavior', 'NOUN'), ('12,252', 'NUM'), ('*T*-220', 'X'), ('unstinting', 'ADJ'), ('accounts', 'VERB'), ('burlap', 'NOUN'), ('requiring', 'VERB'), ('tubular', 'ADJ'), ('urging', 'VERB'), ('publications', 'NOUN'), ('Have', 'NOUN'), ('railings', 'NOUN'), ('Fidelity', 'NOUN'), ('leveling', 'VERB'), ('62.625', 'NUM'), ('hired', 'VERB'), ('Terrence', 'NOUN'), ('surprising', 'ADJ'), ('sets', 'NOUN'), ('Harold', 'NOUN'), ('Eagleton', 'NOUN'), ('Argentine', 'ADJ'), ('attitude', 'NOUN'), ('apparent', 'ADJ'), ('tags', 'NOUN'), ('advise', 'VERB'), ('creating', 'VERB'), ('fall', 'NOUN'), ('statement', 'NOUN'), ('thrifts', 'NOUN'), ('Hawaii', 'NOUN'), ('one-fifth', 'NOUN'), ('Delwin', 'NOUN'), ('deem', 'VERB'), ('unpleasant', 'ADJ'), ('relatively', 'ADV'), ('1969', 'NUM'), ('CTB', 'NOUN'), ('return', 'NOUN'), ('subordinated', 'VERB'), ('racket', 'NOUN'), ('SHAREDATA', 'NOUN'), ('program', 'NOUN'), ('beginning', 'VERB'), ('tense', 'ADJ'), ('harmful', 'ADJ'), ('89.7', 'NUM'), ('paycheck', 'NOUN'), ('*-139', 'X'), ('Cheetham', 'NOUN'), ('Rock', 'NOUN'), ('reporting', 'VERB'), ('Examiner', 'NOUN'), ('Knowing', 'VERB'), ('Audit', 'NOUN'), ('mignon', 'NOUN'), ('instrumental', 'ADJ'), ('*T*-243', 'X'), ('Elders', 'NOUN'), ('Sprint', 'NOUN'), ('composite', 'NOUN'), ('8.70', 'NUM'), ('several', 'ADJ'), ('Chaplin', 'NOUN'), ('waivers', 'NOUN'), ('different', 'ADJ'), ('types', 'NOUN'), ('Indianapolis', 'NOUN'), ('batting', 'NOUN'), ('shovels', 'NOUN'), ('*T*-153', 'X'), ('counterattack', 'NOUN'), ('obstacles', 'NOUN'), ('7,500', 'NUM'), ('moderate', 'ADJ'), ('EEOC', 'NOUN'), ('regarded', 'VERB'), ('Also', 'ADV'), ('Latour', 'NOUN'), ('service', 'NOUN'), ('Sonny', 'NOUN'), ('feelings', 'NOUN'), ('mid-1990s', 'NOUN'), ('comfort', 'NOUN'), ('suspended', 'VERB'), ('street', 'NOUN'), ('head', 'VERB'), ('coupon', 'NOUN'), ('85.7', 'NUM'), ('Robert', 'NOUN'), ('Gregory', 'NOUN'), ('detailed', 'VERB'), ('guest', 'NOUN'), ('Systems', 'NOUN'), ('lying', 'VERB'), ('Media', 'NOUN'), ('Heidelberg', 'NOUN'), ('Technology', 'NOUN'), ('hope', 'NOUN'), ('turnover', 'NOUN'), ('efforts', 'NOUN'), ('*T*-13', 'X'), ('kindness', 'NOUN'), ('unauthorized', 'ADJ'), ('properly', 'ADV'), ('High', 'NOUN'), ('Average', 'ADJ'), ('*-119', 'X'), ('Economists', 'NOUN'), ('80', 'NUM'), ('*-84', 'X'), ('life-insurance', 'NOUN'), ('viewing', 'VERB'), ('horoscopes', 'NOUN'), ('abandoned', 'VERB'), ('feasible', 'ADJ'), ('possessions', 'NOUN'), ('Primerica', 'NOUN'), ('equipment', 'NOUN'), ('42-year', 'ADJ'), ('current', 'NOUN'), ('path', 'NOUN'), ('Va.', 'NOUN'), ('*PPA*-1', 'X'), ('holding', 'VERB'), ('broker', 'NOUN'), ('doctors', 'NOUN'), ('firmed', 'VERB'), ('Dill', 'NOUN'), ('survey', 'NOUN'), ('high-yield', 'ADJ'), ('22.75', 'NUM'), ('labor-backed', 'ADJ'), ('84.9', 'NUM'), ('reward', 'VERB'), ('including', 'VERB'), ('liberals', 'NOUN'), ('Code', 'NOUN'), ('monster', 'NOUN'), ('elephant', 'NOUN'), ('complicate', 'VERB'), ('la', 'DET'), ('CDs', 'NOUN'), ('bills', 'NOUN'), ('Curry', 'NOUN'), ('drove', 'VERB'), ('1.1', 'NUM'), ('unfocused', 'ADJ'), ('silver', 'NOUN'), ('Harcourt', 'NOUN'), ('*T*-204', 'X'), ('redeploy', 'VERB'), ('6\\\\/2', 'NUM'), ('Shipments', 'NOUN'), ('Such', 'DET'), ('adults', 'NOUN'), ('*T*-187', 'X'), ('Varying', 'ADJ'), ('index', 'NOUN'), ('prerogatives', 'NOUN'), ('level', 'ADJ'), ('pleased', 'VERB'), ('smoking', 'NOUN'), ('picket', 'NOUN'), ('Francisco', 'NOUN'), ('penetration', 'NOUN'), ('arising', 'VERB'), ('Palestinian', 'ADJ'), ('antitrust', 'ADJ'), ('*T*-202', 'X'), ('Italian', 'ADJ'), ('leather', 'NOUN'), ('well-known', 'ADJ'), ('engineer', 'NOUN'), ('art', 'NOUN'), ('eight', 'NUM'), ('84-month', 'ADJ'), ('Motors', 'NOUN'), ('promising', 'ADJ'), ('dinner', 'NOUN'), ('propose', 'VERB'), ('crucial', 'ADJ'), ('In', 'ADP'), ('nutrition', 'NOUN'), ('71,309', 'NUM'), ('classified', 'VERB'), ('Charlotte', 'NOUN'), ('settle', 'VERB'), ('pocket', 'NOUN'), ('fund', 'NOUN'), ('attractions', 'NOUN'), ('names', 'NOUN'), ('bribe', 'NOUN'), ('To', 'PRT'), ('*-51', 'X'), ('deluxe', 'ADJ'), ('suppliers', 'NOUN'), ('*T*-96', 'X'), ('Rep.', 'NOUN'), ('careful', 'ADJ'), ('Initiative', 'NOUN'), ('But', 'CONJ'), ('facilities', 'NOUN'), ('Default', 'NOUN'), ('minority-owned', 'ADJ'), ('Attorneys', 'NOUN'), ('enhances', 'VERB'), ('SOYBEANS', 'NOUN'), ('fasteners', 'NOUN'), ('Street', 'NOUN'), ('seven', 'NUM'), ('Daniel', 'NOUN'), ('Prudential-Bache', 'NOUN'), ('Gray', 'NOUN'), ('45', 'NUM'), ('waited', 'VERB'), ('because', 'ADV'), ('premiums', 'NOUN'), ('Consent', 'NOUN'), ('invested', 'VERB'), ('fracture', 'NOUN'), ('theological', 'ADJ'), ('Hoosier', 'NOUN'), ('retailing', 'NOUN'), ('viewers', 'NOUN'), ('architecture', 'NOUN'), ('However', 'ADV'), ('Right', 'ADV'), ('steal', 'VERB'), ('heating', 'NOUN'), ('passion', 'NOUN'), ('Kirkpatrick', 'NOUN'), ('showings', 'NOUN'), ('tiny', 'ADJ'), ('practices', 'NOUN'), ('rain', 'NOUN'), ('reaffirmed', 'VERB'), ('dynamics', 'NOUN'), ('onslaught', 'NOUN'), ('reimbursed', 'VERB'), ('around', 'PRT'), ('Roger', 'NOUN'), ('vendors', 'NOUN'), ('DeFazio', 'NOUN'), ('scenes', 'NOUN'), ('pence', 'NOUN'), ('developments', 'NOUN'), ('Publishing', 'NOUN'), ('unlike', 'ADJ'), ('Indeed', 'ADV'), ('life-style', 'NOUN'), ('well-connected', 'ADJ'), ('mortgage-based', 'ADJ'), ('play', 'NOUN'), ('costs', 'VERB'), ('400,000', 'NUM'), ('departments', 'NOUN'), ('*-122', 'X'), ('maturity', 'NOUN'), ('packaging', 'NOUN'), ('Italy', 'NOUN'), ('honor', 'VERB'), ('communications', 'NOUN'), ('construed', 'VERB'), ('quantitative', 'ADJ'), ('donor', 'NOUN'), ('Bricklayers', 'NOUN'), ('8.45', 'NUM'), ('treatment', 'NOUN'), ('stressed', 'VERB'), ('With', 'ADP'), ('withdrew', 'VERB'), ('FUNDS', 'NOUN'), ('execute', 'VERB'), ('36.9', 'NUM'), ('attacking', 'VERB'), ('Australian', 'NOUN'), ('commissions', 'NOUN'), ('whose', 'PRON'), ('Jennison', 'NOUN'), ('smoke', 'NOUN'), ('bell-ringer', 'NOUN'), ('unconstitutional', 'ADJ'), ('Arbitrage-related', 'ADJ'), ('operators', 'NOUN'), ('high', 'ADV'), ('above-market', 'ADJ'), ('autions', 'NOUN'), ('Old', 'NOUN'), ('dialogue', 'NOUN'), ('Brunei', 'NOUN'), ('wine-buying', 'ADJ'), ('installment', 'NOUN'), ('sheep', 'NOUN'), ('softening', 'VERB'), ('*-116', 'X'), ('emotions', 'NOUN'), ('251.2', 'NUM'), ('Mergers', 'NOUN'), ('interrogation', 'NOUN'), ('knight', 'NOUN'), ('Ga.', 'NOUN'), ('comment', 'NOUN'), ('screened', 'VERB'), ('understanding', 'NOUN'), ('stands', 'VERB'), ('documented', 'VERB'), ('disappointment', 'NOUN'), ('voice', 'NOUN'), ('Mortgage', 'NOUN'), ('Society', 'NOUN'), ('TEXAS', 'NOUN'), ('any', 'ADV'), ('appeal', 'VERB'), ('supposedly', 'ADV'), ('pound', 'NOUN'), ('port', 'NOUN'), ('bust', 'NOUN'), ('pour', 'VERB'), ('aide', 'NOUN'), ('conversion', 'NOUN'), ('221.4', 'NUM'), ('190-point', 'ADJ'), ('booked', 'VERB'), ('Heiwado', 'NOUN'), ('introducing', 'VERB'), ('Turnaround', 'NOUN'), ('disapproved', 'VERB'), ('Hours', 'NOUN'), ('beaten', 'VERB'), ('hearings', 'NOUN'), ('Invariably', 'ADV'), ('seduce', 'VERB'), ('harsh', 'ADJ'), ('Dahl', 'NOUN'), ('familiarization', 'NOUN'), ('gloomy', 'ADJ'), ('namely', 'ADV'), ('break', 'VERB'), ('*-13', 'X'), ('A.', 'NOUN'), ('prohibited', 'VERB'), ('*-12', 'X'), ('require', 'VERB'), ('Shores', 'NOUN'), ('civilization', 'NOUN'), ('predictable', 'ADJ'), ('FT', 'NOUN'), ('old-fashioned', 'ADJ'), ('50.45', 'NUM'), ('meeting', 'NOUN'), ('adjustment', 'NOUN'), ('yet', 'CONJ'), ('Dingell', 'NOUN'), ('techniques', 'NOUN'), ('butterfly', 'NOUN'), ('1738.1', 'NUM'), ('performing', 'VERB'), ('lightning-fast', 'ADJ'), ('world', 'NOUN'), ('charges', 'VERB'), ('42', 'NUM'), ('identified', 'VERB'), ('replicate', 'VERB'), ('Providence', 'NOUN'), ('resistance', 'NOUN'), ('got', 'VERB'), ('avid', 'ADJ'), ('proposed', 'VERB'), ('blacks', 'NOUN'), ('galvanized', 'ADJ'), ('similar', 'ADJ'), ('21.9', 'NUM'), ('censorship', 'NOUN'), ('Analysts', 'NOUN'), ('corporate', 'ADJ'), ('uncompensated', 'ADJ'), ('checking', 'VERB'), ('Genel', 'NOUN'), ('settled', 'VERB'), ('aggressively', 'ADV'), ('advantages', 'NOUN'), ('diversification', 'NOUN'), ('Washington-based', 'ADJ'), ('caretaker', 'NOUN'), ('exposure', 'NOUN'), ('physics', 'NOUN'), ('Inland', 'NOUN'), ('72.7', 'NUM'), ('Propaganda', 'NOUN'), ('intraocular', 'ADJ'), ('2.07', 'NUM'), ('Barron', 'NOUN'), ('school-improvement', 'ADJ'), ('third-quarter', 'NOUN'), ('Institute', 'NOUN'), ('friends', 'NOUN'), ('leading', 'VERB'), ('care', 'NOUN'), ('avoiding', 'VERB'), ('practicing', 'VERB'), ('Cedric', 'NOUN'), ('skyward', 'ADV'), ('2019', 'NUM'), ('installed', 'VERB'), ('floral', 'ADJ'), ('seen', 'VERB'), ('unabated', 'ADJ'), ('label', 'NOUN'), ('load', 'VERB'), ('good', 'ADJ'), ('empire', 'NOUN'), ('Banks', 'NOUN'), ('380', 'NUM'), ('Guerrilla', 'NOUN'), ('stupid', 'ADJ'), ('Diamond', 'NOUN'), ('labor-management', 'ADJ'), ('for', 'ADP'), ('strength', 'NOUN'), ('underwent', 'VERB'), ('Dolan', 'NOUN'), ('least', 'ADJ'), ('10-lap', 'ADJ'), ('Greenville', 'NOUN'), ('one-year', 'ADJ'), ('revenue-desperate', 'ADJ'), ('enforcement', 'NOUN'), ('Dresser', 'NOUN'), ('FAMILY', 'NOUN'), ('Citizens', 'NOUN'), ('534', 'NUM'), ('Hanover', 'NOUN'), ('reducing', 'VERB'), ('absorbed', 'VERB'), ('*T*-83', 'X'), ('Bankers', 'NOUN'), ('Still', 'ADV'), ('Acquisition', 'NOUN'), ('amazingly', 'ADV'), ('dexterity', 'NOUN'), ('abuse', 'NOUN'), ('Filmed', 'VERB'), ('Kong', 'NOUN'), ('cause', 'NOUN'), ('rape', 'NOUN'), ('tip', 'VERB'), (\"n't\", 'ADV'), ('Scotia', 'NOUN'), ('generation', 'NOUN'), ('savings', 'NOUN'), ('anti-program', 'ADJ'), ('imaginative', 'ADJ'), ('licensed', 'VERB'), ('Gayle', 'NOUN'), ('Austrian', 'ADJ'), ('introduces', 'VERB'), ('expired', 'VERB'), ('Nearby', 'ADJ'), ('exits', 'NOUN'), ('violate', 'VERB'), ('repair', 'NOUN'), ('thus', 'ADV'), ('write', 'VERB'), ('ball', 'NOUN'), ('hotel', 'NOUN'), ('but', 'ADV'), ('8', 'NUM'), ('page-one', 'ADJ'), ('300', 'NUM'), ('Andrew', 'NOUN'), ('logistical', 'ADJ'), ('Dover', 'NOUN'), ('struggling', 'VERB'), ('fueled', 'VERB'), ('device', 'NOUN'), ('hegemony', 'NOUN'), ('giant', 'ADJ'), ('past', 'NOUN'), ('Fans', 'NOUN'), ('raise', 'NOUN'), ('encircling', 'VERB'), ('eases', 'VERB'), ('Trade', 'NOUN'), ('Yorker', 'NOUN'), ('Dunton', 'NOUN'), ('replaced', 'VERB'), ('National', 'NOUN'), ('bridge', 'NOUN'), ('replies', 'VERB'), ('continually', 'ADV'), ('Cultural', 'ADJ'), ('Fe', 'NOUN'), ('like', 'ADJ'), ('Lancaster', 'NOUN'), ('bat', 'NOUN'), ('blow', 'NOUN'), ('G.', 'NOUN'), ('civil', 'ADJ'), ('Control', 'NOUN'), ('regulating', 'VERB'), ('became', 'VERB'), ('four', 'NUM'), ('stifle', 'VERB'), ('Stearn', 'NOUN'), ('Transportation', 'NOUN'), ('protests', 'NOUN'), ('6.44', 'NUM'), ('stood', 'VERB'), ('Samuel', 'NOUN'), ('bomb', 'NOUN'), ('lenders', 'NOUN'), ('Germany', 'NOUN'), ('McLeod', 'NOUN'), ('inquiries', 'NOUN'), ('morphogenetic', 'ADJ'), ('band', 'NOUN'), ('Saudi', 'NOUN'), ('collar', 'NOUN'), ('Times-Stock', 'NOUN'), ('EURODOLLARS', 'NOUN'), ('revenues', 'NOUN'), ('Fourteen', 'NUM'), ('alike', 'ADV'), ('migrate', 'VERB'), ('radio-station', 'NOUN'), ('Coche-Dury', 'NOUN'), ('slides', 'NOUN'), ('financed', 'VERB'), ('altering', 'VERB'), ('144', 'NUM'), ('win', 'VERB'), ('perfection', 'NOUN'), ('gather', 'VERB'), ('*T*-175', 'X'), ('trail', 'VERB'), ('terrorists', 'NOUN'), ('actions', 'NOUN'), ('7.74', 'NUM'), ('Sutcliffe', 'NOUN'), ('than', 'ADP'), ('represents', 'VERB'), ('information', 'NOUN'), ('carrying', 'VERB'), ('cleaner-burning', 'ADJ'), ('briefings', 'NOUN'), ('taxation', 'NOUN'), ('Think', 'VERB'), ('breathtaking', 'ADJ'), ('clerics', 'NOUN'), ('co-author', 'NOUN'), ('payouts', 'NOUN'), ('DIALING', 'VERB'), ('assistance', 'NOUN'), ('8.55', 'NUM'), ('middle', 'ADJ'), ('compiled', 'VERB'), ('exerting', 'VERB'), ('stick', 'VERB'), ('mid-October', 'NOUN'), ('accidentally', 'ADV'), ('account', 'NOUN'), ('sorts', 'NOUN'), ('raw', 'ADJ'), ('*T*-123', 'X'), ('Policy', 'NOUN'), ('Otero', 'NOUN'), ('Wells', 'NOUN'), ('placement', 'NOUN'), ('red', 'ADJ'), ('undercutting', 'VERB'), ('*T*-182', 'X'), ('Visa', 'NOUN'), ('Youths', 'NOUN'), ('sponsors', 'NOUN'), ('fraction', 'NOUN'), ('intellectual', 'ADJ'), ('constitute', 'VERB'), ('Bolduc', 'NOUN'), ('meanwhile', 'ADV'), ('Talcott', 'NOUN'), ('override', 'VERB'), ('then', 'ADV'), ('four-day', 'ADJ'), ('fashioned', 'VERB'), ('early', 'ADJ'), ('resisting', 'VERB'), ('architects', 'NOUN'), ('Gross', 'NOUN'), ('until', 'ADP'), ('publicly', 'ADV'), ('navigation', 'NOUN'), ('technical', 'ADJ'), ('*T*-199', 'X'), ('protein', 'NOUN'), ('Bernstein', 'NOUN'), ('Provided', 'VERB'), ('technically', 'ADV'), ('affecting', 'VERB'), ('*T*-189', 'X'), ('Alan', 'NOUN'), ('war', 'NOUN'), ('Sloan', 'NOUN'), ('pennies', 'NOUN'), ('counterparts', 'NOUN'), ('presumes', 'VERB'), ('*T*-105', 'X'), ('Whiting', 'NOUN'), ('recall', 'VERB'), ('credits', 'NOUN'), ('protects', 'VERB'), ('rancor', 'NOUN'), ('land-idling', 'ADJ'), ('United', 'NOUN'), ('victory', 'NOUN'), ('detective-story', 'NOUN'), ('fights', 'NOUN'), ('equivalent', 'NOUN'), ('257', 'NUM'), ('Peoria', 'NOUN'), ('environment', 'NOUN'), ('food-shop', 'ADJ'), ('belfry', 'NOUN'), ('*T*-251', 'X'), ('2.29', 'NUM'), ('clearance', 'NOUN'), ('disruptive', 'ADJ'), ('Mifflin', 'NOUN'), ('celebrity', 'NOUN'), ('depends', 'VERB'), ('28.4', 'NUM'), ('torrent', 'NOUN'), ('nine-member', 'ADJ'), ('Crum', 'NOUN'), ('beverage', 'NOUN'), ('neighbors', 'NOUN'), ('compete', 'VERB'), ('influential', 'ADJ'), ('Higher', 'ADJ'), ('recommendation', 'NOUN'), ('desires', 'NOUN'), ('across', 'PRT'), ('Atsushi', 'NOUN'), ('frenzy', 'NOUN'), ('sub-segments', 'NOUN'), ('*T*-257', 'X'), ('negotiated', 'VERB'), ('Integra-A', 'NOUN'), ('New', 'NOUN'), ('led', 'VERB'), ('Serial', 'ADJ'), ('photograph', 'NOUN'), ('billions', 'NOUN'), ('Garanti', 'NOUN'), ('six', 'NUM'), ('reference', 'NOUN'), ('341.20', 'NUM'), ('apply', 'VERB'), ('academics', 'NOUN'), ('acid-rain', 'NOUN'), ('hampered', 'VERB'), ('four-color', 'ADJ'), ('p.m.', 'NOUN'), ('born', 'VERB'), ('28.25', 'NUM'), ('Individual', 'ADJ'), ('clothes', 'NOUN'), ('problems', 'NOUN'), ('redemption', 'NOUN'), ('shrinking', 'VERB'), ('Crown', 'NOUN'), ('empowers', 'VERB'), ('Exports', 'NOUN'), ('refuse', 'VERB'), ('inventiveness', 'NOUN'), ('completing', 'VERB'), ('cue', 'NOUN'), ('overtime', 'NOUN'), ('fluent', 'ADJ'), ('bans', 'VERB'), ('department', 'NOUN'), ('fluctuations', 'NOUN'), ('advised', 'VERB'), ('Century', 'NOUN'), ('*-111', 'X'), ('holdings', 'NOUN'), ('relentlessly', 'ADV'), ('vans', 'NOUN'), ('concentrate', 'VERB'), ('Pressures', 'NOUN'), ('garden-variety', 'NOUN'), ('plot', 'NOUN'), ('Economic', 'NOUN'), ('test-coaching', 'ADJ'), ('debate', 'NOUN'), ('Michelin', 'NOUN'), ('CBS', 'NOUN'), ('suspensions', 'NOUN'), ('flush', 'VERB'), ('ring', 'VERB'), ('discredit', 'VERB'), ('earnings', 'NOUN'), ('WayMar', 'NOUN'), ('lost', 'VERB'), ('first', 'ADV'), ('production', 'NOUN'), ('industrials', 'NOUN'), ('cost-control', 'ADJ'), ('nomination', 'NOUN'), ('traditionalists', 'NOUN'), ('Instead', 'ADV'), ('Marubeni', 'NOUN'), ('short-wave', 'ADJ'), ('scared', 'VERB'), ('payments', 'NOUN'), ('*T*-137', 'X'), ('returning', 'VERB'), ('faculty', 'NOUN'), ('scores', 'NOUN'), ('*-93', 'X'), ('defended', 'VERB'), ('chiefly', 'ADV'), ('efficiencies', 'NOUN'), ('aerospace', 'NOUN'), ('sends', 'VERB'), ('equal', 'ADJ'), ('repaid', 'VERB'), ('Stoll', 'NOUN'), ('define', 'VERB'), ('narcotics', 'NOUN'), ('uncharted', 'ADJ'), ('consonant', 'ADJ'), ('Del.', 'NOUN'), ('roll', 'NOUN'), ('about', 'ADV'), ('hazards', 'NOUN'), ('end', 'VERB'), ('Kalipharma', 'NOUN'), ('no', 'DET'), ('crying', 'VERB'), ('overstated', 'VERB'), ('Schwab', 'NOUN'), ('Tailors', 'NOUN'), ('preference', 'NOUN'), ('Velcro', 'NOUN'), ('publishing', 'NOUN'), ('Judie', 'NOUN'), ('Vargas', 'NOUN'), ('good-natured', 'ADJ'), ('sell-offs', 'NOUN'), ('scoop', 'VERB'), ('subtraction', 'NOUN'), ('Brunswick', 'NOUN'), ('RMS', 'NOUN'), ('Cutrer', 'NOUN'), ('equals', 'VERB'), ('towns', 'NOUN'), ('try', 'VERB'), ('charts', 'NOUN'), ('created', 'VERB'), ('*-16', 'X'), ('card', 'NOUN'), ('opening', 'VERB'), ('lessening', 'VERB'), ('26.2', 'NUM'), ('Mark', 'NOUN'), ('electronic', 'ADJ'), ('adverse', 'ADJ'), ('invite', 'VERB'), ('guild', 'NOUN'), ('neighborhood', 'NOUN'), ('Rockwell', 'NOUN'), ('gored', 'VERB'), ('READY', 'NOUN'), ('sections', 'NOUN'), ('Communists', 'NOUN'), ('signature', 'NOUN'), ('country', 'NOUN'), ('shoot', 'VERB'), ('0.3', 'NUM'), ('failed', 'VERB'), ('Solomonic', 'ADJ'), ('*T*-127', 'X'), ('woman', 'NOUN'), ('mergers', 'NOUN'), ('currently', 'ADV'), ('pleaded', 'VERB'), ('Back', 'ADV'), ('amid', 'ADP'), ('noodles', 'NOUN'), ('power', 'NOUN'), ('government', 'NOUN'), ('designation', 'NOUN'), ('cuts', 'NOUN'), ('23.72', 'NUM'), ('Arthur', 'NOUN'), ('issuer', 'NOUN'), ('high-quality', 'ADJ'), ('Virtually', 'ADV'), ('Michigan', 'NOUN'), (';', '.'), ('Further', 'ADV'), ('today', 'NOUN'), ('*T*-190', 'X'), ('movement', 'NOUN'), ('paper', 'NOUN'), ('Soups', 'NOUN'), ('Jihad', 'NOUN'), ('test-prep', 'ADJ'), ('Gasoline', 'NOUN'), ('permit', 'VERB'), ('over', 'ADJ'), ('doctor', 'NOUN'), ('provides', 'VERB'), ('N.M.', 'NOUN'), ('employed', 'VERB'), ('57', 'NUM'), ('earlier', 'ADJ'), ('Midwestern', 'NOUN'), ('bid', 'VERB'), ('statue', 'NOUN'), ('shot', 'VERB'), ('Allen', 'NOUN'), ('Level', 'NOUN'), ('interpretation', 'NOUN'), ('outsiders', 'NOUN'), ('demonstrators', 'NOUN'), ('Stieglitz', 'NOUN'), ('lose', 'VERB'), ('Roland', 'NOUN'), ('9.9', 'NUM'), ('skills', 'NOUN'), ('Hot', 'NOUN'), ('Corporate', 'NOUN'), ('hardest-hit', 'ADJ'), ('fast', 'ADV'), ('one-third', 'NOUN'), ('poverty', 'NOUN'), ('victims', 'NOUN'), ('Mesnil', 'NOUN'), ('exclusively', 'ADV'), ('1\\\\/10th', 'NOUN'), ('personal', 'ADJ'), ('recruited', 'VERB'), ('ratings', 'NOUN'), ('shoring', 'VERB'), ('set', 'NOUN'), ('question', 'VERB'), ('Ensrud', 'NOUN'), ('inner-city', 'NOUN'), ('surgery', 'NOUN'), ('Columbus', 'NOUN'), ('sight', 'NOUN'), ('Remember', 'VERB'), ('Disputado', 'NOUN'), ('Pretax', 'NOUN'), ('Minera', 'NOUN'), ('17.5', 'NUM'), ('speculators', 'NOUN'), ('values', 'NOUN'), ('Florida', 'NOUN'), ('Douglas', 'NOUN'), ('signifying', 'VERB'), ('around', 'ADP'), ('schools', 'NOUN'), ('amend', 'VERB'), ('tag', 'NOUN'), ('LaSalle', 'NOUN'), ('spending', 'NOUN'), ('exercise', 'VERB'), ('airline-related', 'ADJ'), ('*T*-106', 'X'), ('madly', 'ADV'), ('speech', 'NOUN'), ('vineyard', 'NOUN'), ('profited', 'VERB'), ('regret', 'NOUN'), ('chain', 'NOUN'), ('illegal', 'ADJ'), ('challenge', 'NOUN'), ('Norwegian', 'NOUN'), ('quick', 'ADJ'), ('700,000', 'NUM'), ('chassis', 'NOUN'), ('anger', 'NOUN'), ('staff-reduction', 'NOUN'), ('immediately', 'ADV'), ('word', 'NOUN'), ('Nederlanden', 'NOUN'), ('totaling', 'VERB'), ('Blue', 'NOUN'), ('elite', 'NOUN'), ('62-year-old', 'ADJ'), ('Paris', 'NOUN'), ('Mossman', 'NOUN'), ('follows', 'VERB'), ('bank', 'NOUN'), ('pretty', 'ADV'), ('Charter', 'NOUN'), ('half-hour', 'ADJ'), ('substantially', 'ADV'), ('David', 'NOUN'), ('Finance', 'NOUN'), ('exceeded', 'VERB'), ('replace', 'VERB'), ('2.4', 'NUM'), ('bar', 'NOUN'), ('fortunes', 'NOUN'), ('dressed', 'VERB'), ('ships', 'NOUN'), ('Landis', 'NOUN'), ('Nuys', 'NOUN'), ('Dolphins', 'NOUN'), ('1948', 'NUM'), ('winding', 'VERB'), ('trust', 'NOUN'), ('Service', 'NOUN'), ('season', 'NOUN'), ('gold', 'NOUN'), ('resolution', 'NOUN'), ('all', 'DET'), ('common-law', 'NOUN'), ('removed', 'VERB'), ('compensate', 'VERB'), ('tea', 'NOUN'), ('point', 'NOUN'), ('overhead', 'NOUN'), ('screwed', 'VERB'), ('low-altitude', 'NOUN'), ('6', 'NUM'), ('3,600', 'NUM'), ('markets', 'NOUN'), ('involves', 'VERB'), ('*T*-245', 'X'), ('petulant', 'ADJ'), ('economy', 'NOUN'), ('policies', 'NOUN'), ('same', 'ADJ'), ('merchants', 'NOUN'), ('Loews', 'NOUN'), ('prosecuted', 'VERB'), ('speed', 'VERB'), ('cow', 'NOUN'), ('maintain', 'VERB'), ('*-25', 'X'), ('Raton', 'NOUN'), ('posts', 'NOUN'), ('nor', 'CONJ'), ('unlabeled', 'ADJ'), ('Guild', 'NOUN'), ('lens', 'NOUN'), ('copies', 'NOUN'), ('sound', 'VERB'), ('No-Smoking', 'NOUN'), ('*T*-6', 'X'), ('tabloid', 'ADJ'), ('*T*-259', 'X'), ('kill', 'VERB'), ('Great', 'ADJ'), ('stable', 'ADJ'), ('50\\\\/50', 'NUM'), ('morale', 'NOUN'), ('Science', 'NOUN'), ('buttoned-down', 'ADJ'), ('antitrust-law', 'ADJ'), ('unsuccessfully', 'ADV'), ('Gordon', 'NOUN'), ('supplies', 'NOUN'), ('1.14', 'NUM'), ('4.9', 'NUM'), ('practiced', 'VERB'), ('tune', 'VERB'), ('recognize', 'VERB'), ('results', 'NOUN'), ('Phoenix', 'NOUN'), ('him', 'PRON'), ('pharmaceuticals', 'NOUN'), ('alleged', 'VERB'), ('figure', 'NOUN'), ('retailers', 'NOUN'), ('40.21', 'NUM'), ('relations', 'NOUN'), ('grand', 'ADJ'), ('Pan', 'NOUN'), ('run-down', 'ADJ'), ('*-133', 'X'), ('Egnuss', 'NOUN'), ('agreed', 'VERB'), ('serious', 'ADJ'), ('dumped', 'VERB'), ('Red-blooded', 'ADJ'), ('German', 'ADJ'), ('predictably', 'ADV'), ('mining', 'NOUN'), ('*T*-73', 'X'), ('8.56', 'NUM'), ('Gates-Warren', 'NOUN'), ('boyfriends', 'NOUN'), ('example', 'NOUN'), ('*-41', 'X'), ('Traditional', 'ADJ'), ('newsweekly', 'ADV'), ('lowered', 'VERB'), ('whereby', 'ADV'), ('recession-inspired', 'ADJ'), ('heads', 'NOUN'), ('Jenkins', 'NOUN'), ('bit', 'NOUN'), ('educators', 'NOUN'), ('restore', 'VERB'), ('Old-House', 'NOUN'), ('swing', 'NOUN'), ('cope', 'VERB'), ('expectations', 'NOUN'), ('shaken', 'VERB'), ('out', 'PRT'), ('upward', 'ADJ'), ('dreadful', 'ADJ'), ('weakness', 'NOUN'), ('Atlanta', 'NOUN'), ('VOA', 'NOUN'), ('satisfactory', 'ADJ'), ('92.9', 'NUM'), ('succession', 'NOUN'), ('send', 'VERB'), ('*-8', 'X'), ('anti-programmers', 'NOUN'), ('Landor', 'NOUN'), ('cites', 'VERB'), ('elusive', 'ADJ'), ('unit', 'NOUN'), ('aiming', 'VERB'), ('climbing', 'VERB'), ('Retin-A', 'NOUN'), ('General', 'NOUN'), ('Asia', 'NOUN'), ('knows', 'VERB'), ('differences', 'NOUN'), ('announcement', 'NOUN'), ('*-155', 'X'), ('region', 'NOUN'), ('physical', 'ADJ'), ('eat', 'VERB'), ('consumers', 'NOUN'), ('Groups', 'NOUN'), ('crews', 'NOUN'), ('Over', 'ADP'), ('overleveraged', 'ADJ'), ('38.5', 'NUM'), ('high', 'ADJ'), ('ended', 'VERB'), ('provoke', 'VERB'), ('felt', 'VERB'), ('Bund', 'NOUN'), ('Northern', 'NOUN'), ('proposing', 'VERB'), ('tie-in', 'NOUN'), ('Section', 'NOUN'), ('150', 'NUM'), ('official', 'NOUN'), ('attending', 'VERB'), ('containers', 'NOUN'), ('Vermont', 'NOUN'), ('triple-A', 'ADJ'), ('prosecution', 'NOUN'), ('unsolicited', 'ADJ'), ('*-117', 'X'), ('1.82', 'NUM'), ('stepping', 'VERB'), ('ahead', 'ADV'), ('necessities', 'NOUN'), ('pitting', 'VERB'), ('Then', 'ADV'), ('Schweiz', 'NOUN'), ('ban', 'VERB'), ('original', 'ADJ'), ('Dai-Ichi', 'NOUN'), ('purchase', 'NOUN'), ('B-1B', 'ADJ'), ('Bowl', 'NOUN'), ('alleviate', 'VERB'), ('*-131', 'X'), ('Lebanon', 'NOUN'), ('highway', 'NOUN'), ('echoed', 'VERB'), ('low-ball', 'ADJ'), ('officials', 'NOUN'), ('framers', 'NOUN'), ('dramatic', 'ADJ'), ('matter', 'VERB'), ('Corp.', 'NOUN'), ('worked', 'VERB'), ('Gotta', 'NOUN'), ('index-arbitrage', 'NOUN'), ('pep', 'NOUN'), ('summary', 'NOUN'), ('pursued', 'VERB'), ('pursuant', 'ADJ'), ('1.5', 'NUM'), ('quickly', 'ADV'), ('Friedrichs', 'NOUN'), ('9.32', 'NUM'), ('uncomfortable', 'ADJ'), ('Cruise', 'NOUN'), ('Hutton', 'NOUN'), ('*-101', 'X'), ('keeping', 'VERB'), ('software', 'NOUN'), ('attorneys', 'NOUN'), ('recess', 'NOUN'), ('belong', 'VERB'), ('accurate', 'ADJ'), ('guaranteed', 'VERB'), ('343', 'NUM'), ('reached', 'VERB'), ('railcars', 'NOUN'), ('putting', 'VERB'), ('face', 'VERB'), ('Disease', 'NOUN'), ('Montedison', 'NOUN'), ('architect', 'NOUN'), ('Ralston', 'NOUN'), ('Convention', 'NOUN'), ('moons', 'NOUN'), ('newspaper-printing', 'NOUN'), ('poured', 'VERB'), ('mistakes', 'NOUN'), ('crane-safety', 'NOUN'), ('releases', 'NOUN'), ('Sigmund', 'NOUN'), ('wedded', 'VERB'), ('assumed', 'VERB'), ('bags', 'NOUN'), ('there', 'DET'), ('achieved', 'VERB'), ('God', 'NOUN'), ('aware', 'ADJ'), ('Volume', 'NOUN'), ('concede', 'VERB'), ('Fulham', 'NOUN'), ('procurement', 'NOUN'), ('Perignon', 'NOUN'), ('international', 'ADJ'), ('managed', 'VERB'), ('opinion', 'NOUN'), ('conventional', 'ADJ'), ('*-80', 'X'), ('someone', 'NOUN'), ('Moore', 'NOUN'), ('administer', 'VERB'), ('quitting', 'VERB'), ('those', 'DET'), ('stock-specialist', 'ADJ'), ('demanding', 'VERB'), ('Asked', 'VERB'), ('Zenith', 'NOUN'), ('McGraw-Hill', 'NOUN'), ('desired', 'VERB'), ('6.79', 'NUM'), ('Don', 'NOUN'), ('accepted', 'VERB'), ('taken', 'VERB'), ('rating', 'VERB'), ('11-month-old', 'ADJ'), ('term', 'NOUN'), ('Fails', 'VERB'), ('maybe', 'ADV'), ('of', 'ADP'), ('Treble', 'NOUN'), ('4.2', 'NUM'), ('passed', 'VERB'), ('transfer', 'VERB'), ('list', 'NOUN'), ('trimming', 'VERB'), ('Crew', 'NOUN'), ('marketplace', 'NOUN'), ('Grgich', 'NOUN'), ('specialized', 'VERB'), ('Sure', 'ADV'), ('1987-88', 'NUM'), ('Ind.', 'NOUN'), ('reflects', 'VERB'), ('would-be', 'ADJ'), ('needed', 'ADJ'), ('parts', 'NOUN'), ('assembly', 'NOUN'), ('early-retirement', 'ADJ'), ('operations', 'NOUN'), ('Ohio-based', 'ADJ'), ('Unicorp', 'NOUN'), ('exhausted', 'VERB'), ('interference', 'NOUN'), ('130.7', 'NUM'), ('newspaper', 'NOUN'), ('adjusting', 'VERB'), ('bang', 'NOUN'), ('willing', 'ADJ'), ('Reagan-Bush', 'ADJ'), ('bias', 'NOUN'), ('Information', 'NOUN'), ('transaction', 'NOUN'), ('booklets', 'NOUN'), ('India', 'NOUN'), ('presidential', 'ADJ'), ('Lane', 'NOUN'), ('trouble', 'NOUN'), ('Milan', 'NOUN'), ('begin', 'VERB'), ('subskills', 'NOUN'), ('duckling', 'NOUN'), ('Inc.', 'NOUN'), ('negotiate', 'VERB'), ('tigers', 'NOUN'), ('Alvin', 'NOUN'), ('entitles', 'VERB'), ('Hitachi', 'NOUN'), ('acquisition-minded', 'ADJ'), ('pit', 'NOUN'), ('ton', 'NOUN'), ('seeks', 'VERB'), ('capital', 'NOUN'), ('billion-dollar', 'ADJ'), ('station', 'NOUN'), ('cheerleading', 'NOUN'), ('selling', 'NOUN'), ('redeemed', 'VERB'), ('24', 'NUM'), ('targeting', 'VERB'), ('segments', 'NOUN'), ('778', 'NUM'), ('*-149', 'X'), ('Wakayama', 'NOUN'), ('remains', 'VERB'), ('Bodner', 'NOUN'), ('Baking', 'NOUN'), ('Private', 'NOUN'), ('cents', 'NOUN'), ('Powers', 'NOUN'), ('numbered', 'VERB'), ('craze', 'NOUN'), ('takeover', 'NOUN'), ('engaged', 'VERB'), ('16.09', 'NUM'), ('public', 'NOUN'), ('reflected', 'VERB'), ('investor', 'NOUN'), ('field', 'NOUN'), ('future', 'NOUN'), ('350,000', 'NUM'), ('Topix', 'NOUN'), ('*T*-155', 'X'), ('THAT', 'DET'), ('across', 'ADP'), ('erode', 'VERB'), ('Fremantle', 'NOUN'), ('riskier', 'ADJ'), ('Atlantic', 'NOUN'), ('cohesive', 'ADJ'), ('lead', 'NOUN'), ('Rockford', 'NOUN'), ('fast-food', 'NOUN'), ('indicator', 'NOUN'), ('ca', 'VERB'), ('rash', 'NOUN'), ('disk', 'NOUN'), ('increasing', 'VERB'), ('Hurricane', 'NOUN'), ('wants', 'VERB'), ('36-store', 'ADJ'), ('turf', 'NOUN'), ('run', 'NOUN'), ('500,000', 'NUM'), ('implications', 'NOUN'), ('homes', 'NOUN'), ('demographic', 'ADJ'), ('conclude', 'VERB'), ('uncanny', 'ADJ'), ('only', 'ADV'), ('lines', 'NOUN'), ('7.45', 'NUM'), ('Education', 'NOUN'), ('buy-back', 'NOUN'), ('Berliner', 'NOUN'), ('brief', 'ADJ'), ('Chile', 'NOUN'), ('abortions', 'NOUN'), ('0.95', 'NUM'), ('Giant', 'NOUN'), ('Macmillan', 'NOUN'), ('received', 'VERB'), ('concept', 'NOUN'), ('*T*-33', 'X'), ('Tenn.', 'NOUN'), ('Do', 'VERB'), ('functions', 'NOUN'), ('polluters', 'NOUN'), ('drums', 'NOUN'), ('mushy', 'ADJ'), ('422.5', 'NUM'), ('Tandy', 'NOUN'), ('inaccurate', 'ADJ'), ('300-a-share', 'ADJ'), ('coordinator', 'NOUN'), ('Lizhi', 'NOUN'), ('come', 'VERB'), ('12-point', 'ADJ'), ('Cataracts', 'NOUN'), ('4.10', 'NUM'), ('Philadelphia-based', 'ADJ'), ('slash', 'VERB'), ('implant', 'VERB'), ('very', 'ADJ'), ('cadet', 'NOUN'), ('Stark', 'NOUN'), ('intertitles', 'NOUN'), ('unload', 'VERB'), ('RATES', 'NOUN'), ('fixes', 'NOUN'), ('arrangement', 'NOUN'), ('*ICH*-4', 'X'), ('86.12', 'NUM'), ('representing', 'VERB'), ('directionless', 'ADJ'), ('otherwise', 'ADV'), ('modems', 'NOUN'), ('marks', 'NOUN'), ('goal', 'NOUN'), ('flourish', 'VERB'), ('Pick', 'VERB'), ('*-98', 'X'), ('Weil', 'NOUN'), ('narrowly', 'ADV'), ('but', 'CONJ'), ('merge', 'VERB'), ('onto', 'ADP'), ('annualized', 'ADJ'), ('counter', 'NOUN'), ('bounced', 'VERB'), ('arrived', 'VERB'), ('acceded', 'VERB'), ('section', 'NOUN'), ('agricultural', 'ADJ'), ('issuers', 'NOUN'), ('emergencies', 'NOUN'), ('useful', 'ADJ'), ('automated', 'VERB'), ('intelligence', 'NOUN'), ('cooled', 'VERB'), ('needy', 'ADJ'), ('Standardized', 'ADJ'), ('Arlington', 'NOUN'), ('Pennview', 'NOUN'), ('broad', 'ADJ'), ('Columbia', 'NOUN'), ('owed', 'VERB'), ('increase', 'NOUN'), ('hit', 'VERB'), ('match', 'NOUN'), ('airports', 'NOUN'), ('originally', 'ADV'), ('alternatively', 'ADV'), ('subpoenaed', 'VERB'), ('Jaguar', 'NOUN'), ('criticized', 'VERB'), ('Teikoku', 'NOUN'), ('amendment', 'NOUN'), ('Courts', 'NOUN'), ('*-21', 'X'), ('knowledgeable', 'ADJ'), ('place', 'NOUN'), ('Seagate', 'NOUN'), ('sophisticated', 'ADJ'), ('Coincident', 'ADJ'), ('Glauber', 'NOUN'), ('males', 'NOUN'), ('Jim', 'NOUN'), ('acid', 'ADJ'), ('Aloha', 'NOUN'), ('energy', 'NOUN'), ('in', 'ADP'), ('higher', 'ADJ'), ('previously', 'ADV'), ('Peng', 'NOUN'), ('fragmentation', 'NOUN'), ('departure', 'NOUN'), ('heart', 'NOUN'), ('Community', 'NOUN'), ('Intel', 'NOUN'), ('Enterprise', 'NOUN'), ('closer', 'ADV'), ('associate', 'NOUN'), ('worms', 'NOUN'), ('Ltd', 'NOUN'), ('Water', 'NOUN'), ('30,000', 'NUM'), ('some', 'DET'), ('importance', 'NOUN'), ('magnetic', 'ADJ'), ('food', 'NOUN'), ('Purchase', 'NOUN'), ('lieutenant', 'NOUN'), ('excise', 'ADJ'), ('landfill', 'NOUN'), ('closing', 'NOUN'), ('458', 'NUM'), ('line', 'VERB'), ('capital-gains', 'NOUN'), ('symbolic', 'ADJ'), ('such', 'DET'), ('2,099', 'NUM'), ('professors', 'NOUN'), ('cable', 'NOUN'), ('Michio', 'NOUN'), ('River', 'NOUN'), ('3.5', 'NUM'), ('Thursday', 'NOUN'), ('ready', 'ADJ'), ('56', 'NUM'), ('tightened', 'VERB'), ('adding', 'VERB'), ('8.5', 'NUM'), ('Creek', 'NOUN'), ('sugar', 'NOUN'), ('instruction', 'NOUN'), ('book', 'VERB'), ('standpoint', 'NOUN'), ('craft', 'VERB'), ('recognizing', 'VERB'), ('sparkplugs', 'NOUN'), ('unraveling', 'NOUN'), ('old-style', 'ADJ'), ('genes', 'NOUN'), ('direct-investment', 'ADJ'), ('secretary', 'NOUN'), ('logo', 'NOUN'), ('contracts', 'NOUN'), ('matters', 'NOUN'), ('posing', 'VERB'), ('given', 'VERB'), ('4.75', 'NUM'), ('traditionally', 'ADV'), ('*-27', 'X'), ('*T*-247', 'X'), ('regardless', 'ADV'), ('sounds', 'VERB'), ('slack', 'NOUN'), ('medallions', 'NOUN'), ('fully', 'ADV'), ('ownership', 'NOUN'), ('acne', 'NOUN'), ('criminal', 'ADJ'), ('*T*-227', 'X'), ('Scherer', 'NOUN'), ('Hotel', 'NOUN'), ('collapsed', 'VERB'), ('free-lance', 'ADJ'), ('embassy', 'NOUN'), ('necessarily', 'ADV'), ('Earlham', 'NOUN'), ('first', 'ADJ'), ('off', 'ADV'), ('Producers', 'NOUN'), ('South', 'NOUN'), ('29.3', 'NUM'), ('explosive', 'ADJ'), ('bearing', 'NOUN'), ('Inventories', 'NOUN'), ('bottom', 'ADJ'), ('*T*-246', 'X'), ('Lee', 'NOUN'), ('alternative', 'NOUN'), ('dead-eyed', 'ADJ'), ('Iran-Contra', 'NOUN'), ('*T*-192', 'X'), ('physicist', 'NOUN'), ('indifference', 'NOUN'), ('bolstered', 'VERB'), ('*T*-136', 'X'), ('striking', 'ADJ'), ('Upjohn', 'NOUN'), ('accounts', 'NOUN'), ('again', 'ADV'), ('river', 'NOUN'), ('us', 'PRON'), ('188', 'NUM'), ('2141.7', 'NUM'), ('nonfinancial', 'ADJ'), ('Asians', 'NOUN'), ('protect', 'VERB'), ('communication', 'NOUN'), ('vehicles', 'NOUN'), ('commenting', 'VERB'), ('dark', 'ADJ'), ('interested', 'ADJ'), ('apart', 'ADV'), ('Whip', 'NOUN'), ('prominent', 'ADJ'), ('easier', 'ADJ'), ('*T*-125', 'X'), ('Team', 'NOUN'), ('Connections', 'NOUN'), ('attorney-client', 'ADJ'), ('killings', 'NOUN'), ('disposal', 'NOUN'), ('Mike', 'NOUN'), ('swallow', 'VERB'), ('less-than-brilliant', 'ADJ'), ('Much', 'ADV'), ('mid-1970s', 'NUM'), ('million', 'NUM'), ('grain', 'NOUN'), ('tradition', 'NOUN'), ('element', 'NOUN'), ('school-research', 'ADJ'), ('inquiry', 'NOUN'), ('atmosphere', 'NOUN'), ('beginning', 'NOUN'), ('notice', 'NOUN'), ('mulling', 'VERB'), ('plight', 'NOUN'), ('bidders', 'NOUN'), ('reformers', 'NOUN'), ('Donaldson', 'NOUN'), ('and', 'NOUN'), ('Cray-3', 'NOUN'), ('entertain', 'VERB'), ('nowhere', 'ADV'), ('drain', 'NOUN'), ('chance', 'NOUN'), ('9.625', 'NUM'), ('1928-33', 'NUM'), ('tough', 'ADJ'), ('developing', 'VERB'), ('77', 'NUM'), ('research', 'NOUN'), ('0.0085', 'NUM'), ('effect', 'NOUN'), ('minimum', 'NOUN'), ('released', 'VERB'), ('anti-dumping', 'ADJ'), ('stock-index', 'NOUN'), ('84.29', 'NUM'), ('reminded', 'VERB'), ('jumping', 'VERB'), ('easy-to-read', 'ADJ'), ('money-market', 'ADJ'), ('buffet', 'VERB'), ('3.75', 'NUM'), ('pie', 'NOUN'), ('features', 'NOUN'), ('took', 'VERB'), ('placing', 'VERB'), ('banning', 'VERB'), ('various', 'ADJ'), ('clear', 'VERB'), ('chemical', 'NOUN'), ('refitting', 'VERB'), ('Cara', 'NOUN'), ('walls', 'NOUN'), ('19.3', 'NUM'), ('comedies', 'NOUN'), ('predicted', 'VERB'), ('projections', 'NOUN'), ('Currently', 'ADV'), ('controlling', 'VERB'), ('used', 'VERB'), ('September', 'NOUN'), ('fought', 'VERB'), ('Long-term', 'ADJ'), ('Separately', 'NOUN'), ('unjustified', 'ADJ'), ('25', 'NUM'), ('POP', 'NOUN'), ('utility', 'NOUN'), ('assigned', 'VERB'), ('entrants', 'NOUN'), ('Toronto-based', 'ADJ'), ('Chinese', 'NOUN'), ('record', 'ADJ'), ('canine', 'ADJ'), ('marketing', 'VERB'), ('*T*-177', 'X'), ('feel', 'VERB'), ('details', 'NOUN'), ('welfare', 'NOUN'), ('IBM', 'NOUN'), ('appropriators', 'NOUN'), ('days', 'NOUN'), ('scaring', 'VERB'), ('editor', 'NOUN'), ('dozens', 'NOUN'), ('version', 'NOUN'), ('holding', 'NOUN'), ('fielded', 'VERB'), ('0.4', 'NUM'), ('disregard', 'NOUN'), ('allocated', 'VERB'), ('target', 'VERB'), ('Occupational', 'NOUN'), ('UNION', 'NOUN'), ('fizzled', 'VERB'), ('Per-share', 'ADJ'), ('mobster', 'NOUN'), ('1.2', 'NUM'), ('briefing', 'NOUN'), ('empty', 'ADJ'), ('apple', 'NOUN'), ('Long', 'NOUN'), ('nice', 'ADJ'), ('superiors', 'NOUN'), ('Internal', 'NOUN'), ('clues', 'NOUN'), ('pills', 'NOUN'), ('light', 'NOUN'), ('none', 'NOUN'), ('powwow', 'NOUN'), ('retaliation', 'NOUN'), ('entertaining', 'ADJ'), ('mood', 'NOUN'), ('spokewoman', 'NOUN'), ('specified', 'VERB'), ('Goodman', 'NOUN'), ('insolvency', 'NOUN'), ('*T*-174', 'X'), ('supported', 'VERB'), ('de', 'X'), ('federally', 'ADV'), ('Utilities', 'NOUN'), ('introduction', 'NOUN'), ('520-lawyer', 'ADJ'), ('longevity', 'NOUN'), ('Piper', 'NOUN'), ('illness', 'NOUN'), ('Mickey', 'NOUN'), ('persistent', 'ADJ'), ('Graham', 'NOUN'), ('Nomura', 'NOUN'), ('consistent', 'ADJ'), ('stones', 'NOUN'), ('covered', 'VERB'), ('Leming', 'NOUN'), ('illustrates', 'VERB'), ('complain', 'VERB'), ('industrial', 'ADJ'), ('Dorothy', 'NOUN'), ('overcrowding', 'NOUN'), ('Criticism', 'NOUN'), ('subsidiary', 'NOUN'), ('capitalism', 'NOUN'), ('Holding', 'NOUN'), ('suggests', 'VERB'), ('instances', 'NOUN'), ('involve', 'VERB'), ('Highway', 'NOUN'), ('record-keeping', 'NOUN'), ('commitments', 'NOUN'), ('unloaded', 'ADJ'), ('Holdings', 'NOUN'), ('leaving', 'VERB'), ('Superconductors', 'NOUN'), ('Nagano', 'NOUN'), ('imposed', 'VERB'), ('T.', 'NOUN'), ('adequately', 'ADV'), ('that', 'ADV'), ('cancellation', 'NOUN'), ('curled', 'VERB'), ('Honolulu', 'NOUN'), ('55.1', 'NUM'), ('duty', 'NOUN'), ('engaging', 'ADJ'), ('Biondi-Santi', 'NOUN'), ('stability', 'NOUN'), ('51.6', 'NUM'), ('speedway', 'NOUN'), ('Bears', 'NOUN'), ('Australia', 'NOUN'), ('Hummerstone', 'NOUN'), ('Reagan', 'NOUN'), ('status', 'NOUN'), ('5,000', 'NUM'), ('create', 'VERB'), ('Mary', 'NOUN'), ('leaves', 'VERB'), ('Strindberg', 'NOUN'), ('E.', 'NOUN'), ('Poland', 'NOUN'), ('especially', 'ADV'), ('versus', 'CONJ'), ('stored', 'VERB'), ('figures', 'NOUN'), ('assuming', 'VERB'), ('disapproval', 'NOUN'), ('645,000', 'NUM'), ('performance', 'NOUN'), ('obsessed', 'VERB'), ('Arighi', 'NOUN'), ('D.C.', 'NOUN'), ('Prosecutors', 'NOUN'), ('lacked', 'VERB'), ('costs', 'NOUN'), ('ample', 'ADJ'), ('polystyrene', 'NOUN'), ('Interpublic', 'NOUN'), ('monied', 'ADJ'), ('21,000', 'NUM'), ('Younkers', 'NOUN'), ('Guffey', 'NOUN'), ('tally', 'NOUN'), ('honor', 'NOUN'), ('722', 'NUM'), ('identify', 'VERB'), ('sticking', 'VERB'), ('ill', 'ADJ'), ('favorite', 'ADJ'), ('need', 'VERB'), ('issues', 'NOUN'), ('consultants', 'NOUN'), ('Synergistics', 'NOUN'), ('ends', 'NOUN'), ('ultimately', 'ADV'), ('Bush', 'NOUN'), ('experiencing', 'VERB'), ('fluctuation', 'NOUN'), ('54-year-old', 'ADJ'), ('Ranieri', 'NOUN'), ('pediatrician', 'NOUN'), ('Rapanelli', 'NOUN'), ('rout', 'NOUN'), ('sinister', 'ADJ'), ('resolve', 'VERB'), ('limited', 'VERB'), ('Rubinfien', 'NOUN'), ('structure', 'NOUN'), ('flim-flammery', 'NOUN'), ('rear-seat', 'NOUN'), ('dirtiest', 'ADJ'), ('cleared', 'VERB'), ('softening', 'NOUN'), ('do', 'VERB'), ('Lobsenz', 'NOUN'), ('Unable', 'ADJ'), ('deadwood', 'NOUN'), ('Intermediate', 'NOUN'), ('fiscal', 'ADJ'), ('prototype', 'NOUN'), ('H.', 'NOUN'), ('electric-utility', 'NOUN'), ('Kingdom', 'NOUN'), ('sacks', 'NOUN'), ('friction', 'NOUN'), ('discuss', 'VERB'), ('storage', 'NOUN'), ('Combo', 'NOUN'), ('Miguel', 'NOUN'), ('behaving', 'VERB'), ('appeal', 'NOUN'), ('preapproved', 'VERB'), ('Central', 'NOUN'), ('particular', 'ADJ'), ('raising', 'VERB'), ('Sierra', 'NOUN'), ('opened', 'VERB'), ('Wednesday', 'NOUN'), ('tens', 'NOUN'), ('Ailes', 'NOUN'), ('Conduct', 'NOUN'), ('inaccurately', 'ADV'), ('cultivation', 'NOUN'), ('clear', 'ADV'), ('inverted', 'ADJ'), ('Having', 'VERB'), ('regard', 'VERB'), ('Two', 'NUM'), (\"'s\", 'PRT'), ('upbeat', 'ADJ'), ('retardation', 'NOUN'), ('technique', 'NOUN'), ('invariably', 'ADV'), ('options', 'NOUN'), ('traveled', 'VERB'), ('damaged', 'VERB'), ('Giants', 'NOUN'), ('bombers', 'NOUN'), ('produce', 'VERB'), ('constantly', 'ADV'), ('offices', 'NOUN'), ('mundane', 'ADJ'), ('Desai', 'NOUN'), ('cents-a-unit', 'ADJ'), ('Eastern', 'NOUN'), ('*-137', 'X'), ('pursue', 'VERB'), ('mistakenly', 'ADV'), ('banker', 'NOUN'), ('arise', 'VERB'), ('desultory', 'ADJ'), ('commission', 'NOUN'), ('professional', 'ADJ'), ('style', 'NOUN'), ('search-and-seizure', 'ADJ'), ('14.', 'NUM'), ('576', 'NUM'), ('charges', 'NOUN'), ('barge', 'NOUN'), ('firm', 'ADJ'), ('34', 'NUM'), ('94.8', 'NUM'), ('Marina', 'NOUN'), ('Management', 'NOUN'), ('symmetry', 'NOUN'), ('cap', 'NOUN'), ('upheld', 'VERB'), ('disposables', 'NOUN'), ('Donuts', 'NOUN'), ('Sacramento', 'NOUN'), ('currencies', 'NOUN'), ('monitor', 'NOUN'), ('battered', 'VERB'), ('refer', 'VERB'), ('Mellon', 'NOUN'), ('sell', 'VERB'), ('wide', 'ADJ'), ('fear', 'NOUN'), ('causes', 'NOUN'), ('chat', 'VERB'), ('landowners', 'NOUN'), ('advice', 'NOUN'), ('5.39', 'NUM'), ('Baum', 'NOUN'), ('books', 'NOUN'), ('joint', 'NOUN'), ('Wadsworth', 'NOUN'), ('discontinuing', 'VERB'), ('*T*-9', 'X'), ('hang', 'VERB'), ('classes', 'NOUN'), ('Chateau', 'NOUN'), ('industry', 'NOUN'), ('brat', 'NOUN'), ('chunk', 'NOUN'), ('Nev.', 'NOUN'), ('boosted', 'VERB'), ('There', 'DET'), ('relieve', 'VERB'), ('Disputada', 'NOUN'), ('car-development', 'NOUN'), (\"O'Connor\", 'NOUN'), ('cereal', 'NOUN'), ('Jan.', 'NOUN'), ('shortly', 'ADV'), ('priciest', 'ADJ'), ('Malizia', 'NOUN'), ('Needham', 'NOUN'), ('*T*-87', 'X'), ('travel', 'VERB'), ('lady', 'NOUN'), ('Imports', 'NOUN'), ('enough', 'ADV'), ('pricings', 'NOUN'), ('victim', 'NOUN'), ('load', 'NOUN'), ('Deregulation', 'NOUN'), ('Yang', 'NOUN'), ('participation', 'NOUN'), ('reluctant', 'ADJ'), ('Gilts', 'NOUN'), ('will', 'VERB'), ('Inc', 'NOUN'), ('*T*-71', 'X'), ('live', 'ADJ'), ('Mercury', 'NOUN'), ('high-priced', 'ADJ'), ('sensitive', 'ADJ'), ('previous', 'ADJ'), ('2.7', 'NUM'), ('*T*-48', 'X'), ('Dollar', 'NOUN'), ('environmentalists', 'NOUN'), ('resists', 'VERB'), ('Calif.-based', 'ADJ'), ('structurally', 'ADV'), ('movie', 'NOUN'), ('No', 'ADV'), ('exception', 'NOUN'), ('entrance', 'NOUN'), ('accomplishments', 'NOUN'), ('chosen', 'VERB'), ('welcome', 'VERB'), ('discretionary', 'ADJ'), ('contained', 'VERB'), ('By', 'ADP'), ('takings', 'NOUN'), ('mentioned', 'VERB'), ('full', 'ADJ'), ('quarterly', 'ADJ'), ('environments', 'NOUN'), ('up', 'PRT'), ('Mahoney', 'NOUN'), ('605', 'NUM'), ('Cask', 'NOUN'), ('ringers', 'NOUN'), ('45.3', 'NUM'), ('substance-abusing', 'ADJ'), ('faced', 'VERB'), ('reopen', 'VERB'), ('housewife', 'NOUN'), ('retractable', 'ADJ'), ('emerge', 'VERB'), ('resistant', 'ADJ'), ('boosters', 'NOUN'), ('finest', 'ADJ'), ('14.26', 'NUM'), ('format', 'NOUN'), ('Pate', 'NOUN'), ('shipments', 'NOUN'), ('strong', 'ADJ'), ('estimate', 'NOUN'), ('confirmed', 'VERB'), ('famed', 'ADJ'), ('along', 'ADP'), ('accountants', 'NOUN'), ('notify', 'VERB'), ('Thomas', 'NOUN'), ('investors', 'NOUN'), ('Railroad', 'NOUN'), ('withstand', 'VERB'), ('replies', 'NOUN'), ('Arbitrage', 'NOUN'), ('sports', 'NOUN'), ('Lorillard', 'NOUN'), ('on', 'PRT'), ('Democracy', 'NOUN'), ('equaling', 'VERB'), ('red-carpet', 'ADJ'), ('THE', 'DET'), ('recommended', 'VERB'), ('stockpiles', 'NOUN'), ('solidarity', 'NOUN'), ('Mo', 'NOUN'), ('Lure', 'VERB'), ('yearly', 'ADJ'), ('Administration', 'NOUN'), ('sent', 'VERB'), ('definitely', 'ADV'), ('internal', 'ADJ'), ('Texaco', 'NOUN'), ('85.1', 'NUM'), ('Garbage', 'NOUN'), ('1.65', 'NUM'), ('regular', 'ADJ'), ('short', 'ADV'), ('relief', 'NOUN'), ('16.5', 'NUM'), ('anti-miscarriage', 'ADJ'), ('frozen', 'VERB'), ('Any', 'DET'), ('inner', 'ADJ'), ('budding', 'VERB'), ('business', 'NOUN'), ('prepared', 'VERB'), ('evolve', 'VERB'), ('powers', 'NOUN'), ('complaint', 'NOUN'), ('urge', 'VERB'), ('floating-rate', 'ADJ'), ('Cabbage', 'NOUN'), ('Sun', 'NOUN'), ('divest', 'VERB'), ('Chardonnays', 'NOUN'), ('firings', 'NOUN'), ('dismayed', 'ADJ'), ('dividend', 'NOUN'), ('US', 'NOUN'), ('died', 'VERB'), ('dolls', 'NOUN'), ('troubles', 'NOUN'), ('quiet', 'ADJ'), ('blinks', 'VERB'), ('9', 'NUM'), ('retain', 'VERB'), ('guarantee', 'VERB'), ('midnight', 'NOUN'), ('18.6', 'NUM'), ('loading', 'VERB'), ('taking', 'VERB'), ('*T*-12', 'X'), ('Pratt', 'NOUN'), ('Oak', 'NOUN'), ('silicon', 'NOUN'), ('afflicted', 'VERB'), ('fairly', 'ADV'), ('activities', 'NOUN'), ('Dallas', 'NOUN'), ('Dorrance', 'NOUN'), ('Arabian', 'NOUN'), ('fired', 'VERB'), ('Heating', 'NOUN'), ('rapprochement', 'NOUN'), ('mininum-wage', 'NOUN'), ('12.7', 'NUM'), ('aspersions', 'NOUN'), ('eased', 'VERB'), ('Investment', 'NOUN'), ('conflicts', 'NOUN'), ('126,000', 'NUM'), ('Dompierre', 'NOUN'), ('Ariail', 'NOUN'), ('carbon', 'NOUN'), ('EST', 'NOUN'), ('sweeten', 'VERB'), ('Hallett', 'NOUN'), ('parent', 'NOUN'), ('recorder', 'NOUN'), ('locations', 'NOUN'), ('hard-drinking', 'ADJ'), ('treated', 'VERB'), ('*T*-101', 'X'), ('negatives', 'NOUN'), ('signed', 'VERB'), ('balloon', 'NOUN'), ('below', 'ADP'), ('store', 'NOUN'), ('reports', 'NOUN'), ('Davis', 'NOUN'), ('carried', 'VERB'), ('pounds', 'NOUN'), ('somehow', 'ADV'), ('bottom-line', 'ADJ'), ('court', 'NOUN'), (\"'m\", 'VERB'), ('pack', 'NOUN'), ('team', 'NOUN'), ('Social', 'NOUN'), ('write-downs', 'NOUN'), ('appliances', 'NOUN'), ('jobs', 'NOUN'), ('chrysotile', 'NOUN'), ('mating', 'VERB'), ('payrolls', 'NOUN'), ('hard', 'ADV'), ('Noriega', 'NOUN'), ('yielding', 'ADJ'), ('purse', 'NOUN'), ('seeking', 'VERB'), ('market-makers', 'NOUN'), ('mania', 'NOUN'), ('43.875', 'NUM'), ('Frankfurt', 'NOUN'), ('Unemployment', 'NOUN'), ('reviewed', 'VERB'), ('quotas', 'NOUN'), ('Mayer', 'NOUN'), ('though', 'ADP'), ('together', 'ADV'), ('high-rolling', 'ADJ'), ('renovated', 'VERB'), ('Mogavero', 'NOUN'), ('trigger', 'NOUN'), ('buying', 'VERB'), ('*-7', 'X'), ('traveling', 'VERB'), ('sizable', 'ADJ'), ('sort', 'NOUN'), ('test-practice', 'ADJ'), ('Industrial', 'NOUN'), ('Westborough', 'NOUN'), ('*-2', 'X'), ('larger', 'ADJ'), ('telecommunications', 'NOUN')}\n"
     ]
    }
   ],
   "source": [
    "# vocabulary\n",
    "V = set(tokens)\n",
    "print(len(V))\n",
    "print(V)"
   ]
  },
  {
   "cell_type": "code",
   "execution_count": 17,
   "metadata": {},
   "outputs": [
    {
     "name": "stdout",
     "output_type": "stream",
     "text": [
      "12\n",
      "{'ADP', 'DET', 'PRON', 'PRT', 'NUM', '.', 'ADV', 'VERB', 'ADJ', 'X', 'CONJ', 'NOUN'}\n"
     ]
    }
   ],
   "source": [
    "# number of pos tags in the training corpus\n",
    "T = set([pair[1] for pair in train_tagged_words])\n",
    "print(len(T))\n",
    "print(T)"
   ]
  },
  {
   "cell_type": "markdown",
   "metadata": {},
   "source": [
    "As expected there are 12 tags which are part of universal tagset"
   ]
  },
  {
   "cell_type": "markdown",
   "metadata": {},
   "source": [
    "### Build the vanilla Viterbi based POS tagger"
   ]
  },
  {
   "cell_type": "code",
   "execution_count": 18,
   "metadata": {},
   "outputs": [],
   "source": [
    "# Create numpy array of no of pos tags by total vocabulary\n",
    "t = len(T)\n",
    "v = len(V)\n",
    "w_given_t = np.zeros((t, v))"
   ]
  },
  {
   "cell_type": "code",
   "execution_count": 19,
   "metadata": {},
   "outputs": [],
   "source": [
    "# compute word given tag: Emission Probability\n",
    "def word_given_tag(word, tag, train_bag = train_tagged_words):\n",
    "    tag_list = [pair for pair in train_bag if pair[1]==tag]\n",
    "    count_tag = len(tag_list)\n",
    "    print(tag_list)\n",
    "    w_given_tag_list = [pair[0] for pair in tag_list if pair[0]==word]\n",
    "    count_w_given_tag = len(w_given_tag_list)\n",
    "    \n",
    "    return (count_w_given_tag, count_tag)"
   ]
  },
  {
   "cell_type": "code",
   "execution_count": 16,
   "metadata": {},
   "outputs": [],
   "source": [
    "# compute tag given tag: tag2(t2) given tag1 (t1), i.e. Transition Probability\n",
    "\n",
    "def t2_given_t1(t2, t1, train_bag = train_tagged_words):\n",
    "    tags = [pair[1] for pair in train_bag]\n",
    "    count_t1 = len([t for t in tags if t==t1])\n",
    "    count_t2_t1 = 0\n",
    "    for index in range(len(tags)-1):\n",
    "        if tags[index]==t1 and tags[index+1] == t2:\n",
    "            count_t2_t1 += 1\n",
    "    return (count_t2_t1, count_t1)"
   ]
  },
  {
   "cell_type": "code",
   "execution_count": 17,
   "metadata": {},
   "outputs": [],
   "source": [
    "# creating t x t (pos tags x pos tags)transition matrix of tags\n",
    "# each column is t2, each row is t1\n",
    "# thus M(i, j) represents P(tj given ti)\n",
    "\n",
    "tags_matrix = np.zeros((len(T), len(T)), dtype='float32')\n",
    "for i, t1 in enumerate(list(T)):\n",
    "    for j, t2 in enumerate(list(T)): \n",
    "        tags_matrix[i, j] = t2_given_t1(t2, t1)[0]/t2_given_t1(t2, t1)[1]"
   ]
  },
  {
   "cell_type": "code",
   "execution_count": 18,
   "metadata": {},
   "outputs": [
    {
     "data": {
      "text/html": [
       "<div>\n",
       "<style scoped>\n",
       "    .dataframe tbody tr th:only-of-type {\n",
       "        vertical-align: middle;\n",
       "    }\n",
       "\n",
       "    .dataframe tbody tr th {\n",
       "        vertical-align: top;\n",
       "    }\n",
       "\n",
       "    .dataframe thead th {\n",
       "        text-align: right;\n",
       "    }\n",
       "</style>\n",
       "<table border=\"1\" class=\"dataframe\">\n",
       "  <thead>\n",
       "    <tr style=\"text-align: right;\">\n",
       "      <th></th>\n",
       "      <th>CONJ</th>\n",
       "      <th>VERB</th>\n",
       "      <th>NUM</th>\n",
       "      <th>DET</th>\n",
       "      <th>NOUN</th>\n",
       "      <th>ADP</th>\n",
       "      <th>PRON</th>\n",
       "      <th>.</th>\n",
       "      <th>X</th>\n",
       "      <th>PRT</th>\n",
       "      <th>ADJ</th>\n",
       "      <th>ADV</th>\n",
       "    </tr>\n",
       "  </thead>\n",
       "  <tbody>\n",
       "    <tr>\n",
       "      <th>CONJ</th>\n",
       "      <td>0.000463</td>\n",
       "      <td>0.160334</td>\n",
       "      <td>0.042169</td>\n",
       "      <td>0.119092</td>\n",
       "      <td>0.348471</td>\n",
       "      <td>0.051900</td>\n",
       "      <td>0.057924</td>\n",
       "      <td>0.034754</td>\n",
       "      <td>0.007878</td>\n",
       "      <td>0.005097</td>\n",
       "      <td>0.116311</td>\n",
       "      <td>0.055607</td>\n",
       "    </tr>\n",
       "    <tr>\n",
       "      <th>VERB</th>\n",
       "      <td>0.005585</td>\n",
       "      <td>0.169498</td>\n",
       "      <td>0.022962</td>\n",
       "      <td>0.135055</td>\n",
       "      <td>0.109301</td>\n",
       "      <td>0.091149</td>\n",
       "      <td>0.036072</td>\n",
       "      <td>0.035296</td>\n",
       "      <td>0.218525</td>\n",
       "      <td>0.031417</td>\n",
       "      <td>0.064386</td>\n",
       "      <td>0.080754</td>\n",
       "    </tr>\n",
       "    <tr>\n",
       "      <th>NUM</th>\n",
       "      <td>0.013942</td>\n",
       "      <td>0.018392</td>\n",
       "      <td>0.186592</td>\n",
       "      <td>0.003263</td>\n",
       "      <td>0.353604</td>\n",
       "      <td>0.034708</td>\n",
       "      <td>0.001483</td>\n",
       "      <td>0.116583</td>\n",
       "      <td>0.209433</td>\n",
       "      <td>0.025808</td>\n",
       "      <td>0.033225</td>\n",
       "      <td>0.002966</td>\n",
       "    </tr>\n",
       "    <tr>\n",
       "      <th>DET</th>\n",
       "      <td>0.000481</td>\n",
       "      <td>0.040183</td>\n",
       "      <td>0.021776</td>\n",
       "      <td>0.005775</td>\n",
       "      <td>0.637753</td>\n",
       "      <td>0.009504</td>\n",
       "      <td>0.003730</td>\n",
       "      <td>0.017445</td>\n",
       "      <td>0.046439</td>\n",
       "      <td>0.000241</td>\n",
       "      <td>0.204283</td>\n",
       "      <td>0.012392</td>\n",
       "    </tr>\n",
       "    <tr>\n",
       "      <th>NOUN</th>\n",
       "      <td>0.042899</td>\n",
       "      <td>0.146148</td>\n",
       "      <td>0.009602</td>\n",
       "      <td>0.013253</td>\n",
       "      <td>0.263782</td>\n",
       "      <td>0.178131</td>\n",
       "      <td>0.004564</td>\n",
       "      <td>0.240088</td>\n",
       "      <td>0.029098</td>\n",
       "      <td>0.043264</td>\n",
       "      <td>0.012231</td>\n",
       "      <td>0.016940</td>\n",
       "    </tr>\n",
       "    <tr>\n",
       "      <th>ADP</th>\n",
       "      <td>0.000746</td>\n",
       "      <td>0.008316</td>\n",
       "      <td>0.061834</td>\n",
       "      <td>0.325053</td>\n",
       "      <td>0.323028</td>\n",
       "      <td>0.016951</td>\n",
       "      <td>0.068230</td>\n",
       "      <td>0.040085</td>\n",
       "      <td>0.034435</td>\n",
       "      <td>0.001386</td>\n",
       "      <td>0.106610</td>\n",
       "      <td>0.013326</td>\n",
       "    </tr>\n",
       "    <tr>\n",
       "      <th>PRON</th>\n",
       "      <td>0.004237</td>\n",
       "      <td>0.487288</td>\n",
       "      <td>0.007319</td>\n",
       "      <td>0.009630</td>\n",
       "      <td>0.210709</td>\n",
       "      <td>0.023112</td>\n",
       "      <td>0.008089</td>\n",
       "      <td>0.039676</td>\n",
       "      <td>0.090139</td>\n",
       "      <td>0.013097</td>\n",
       "      <td>0.072419</td>\n",
       "      <td>0.034284</td>\n",
       "    </tr>\n",
       "    <tr>\n",
       "      <th>.</th>\n",
       "      <td>0.057834</td>\n",
       "      <td>0.089674</td>\n",
       "      <td>0.081040</td>\n",
       "      <td>0.174042</td>\n",
       "      <td>0.221802</td>\n",
       "      <td>0.090844</td>\n",
       "      <td>0.065659</td>\n",
       "      <td>0.092822</td>\n",
       "      <td>0.027073</td>\n",
       "      <td>0.002518</td>\n",
       "      <td>0.044522</td>\n",
       "      <td>0.052078</td>\n",
       "    </tr>\n",
       "    <tr>\n",
       "      <th>X</th>\n",
       "      <td>0.010324</td>\n",
       "      <td>0.203145</td>\n",
       "      <td>0.002859</td>\n",
       "      <td>0.054956</td>\n",
       "      <td>0.061626</td>\n",
       "      <td>0.144854</td>\n",
       "      <td>0.055909</td>\n",
       "      <td>0.163278</td>\n",
       "      <td>0.075762</td>\n",
       "      <td>0.184562</td>\n",
       "      <td>0.016995</td>\n",
       "      <td>0.025731</td>\n",
       "    </tr>\n",
       "    <tr>\n",
       "      <th>PRT</th>\n",
       "      <td>0.002302</td>\n",
       "      <td>0.404801</td>\n",
       "      <td>0.055903</td>\n",
       "      <td>0.100954</td>\n",
       "      <td>0.247287</td>\n",
       "      <td>0.019402</td>\n",
       "      <td>0.017428</td>\n",
       "      <td>0.041434</td>\n",
       "      <td>0.013482</td>\n",
       "      <td>0.001973</td>\n",
       "      <td>0.085169</td>\n",
       "      <td>0.009865</td>\n",
       "    </tr>\n",
       "    <tr>\n",
       "      <th>ADJ</th>\n",
       "      <td>0.017184</td>\n",
       "      <td>0.012062</td>\n",
       "      <td>0.021315</td>\n",
       "      <td>0.005122</td>\n",
       "      <td>0.699438</td>\n",
       "      <td>0.076669</td>\n",
       "      <td>0.000661</td>\n",
       "      <td>0.065268</td>\n",
       "      <td>0.020654</td>\n",
       "      <td>0.011236</td>\n",
       "      <td>0.065433</td>\n",
       "      <td>0.004957</td>\n",
       "    </tr>\n",
       "    <tr>\n",
       "      <th>ADV</th>\n",
       "      <td>0.007355</td>\n",
       "      <td>0.347041</td>\n",
       "      <td>0.031428</td>\n",
       "      <td>0.066533</td>\n",
       "      <td>0.031428</td>\n",
       "      <td>0.118355</td>\n",
       "      <td>0.015045</td>\n",
       "      <td>0.138415</td>\n",
       "      <td>0.024072</td>\n",
       "      <td>0.013373</td>\n",
       "      <td>0.127382</td>\n",
       "      <td>0.079572</td>\n",
       "    </tr>\n",
       "  </tbody>\n",
       "</table>\n",
       "</div>"
      ],
      "text/plain": [
       "          CONJ      VERB       NUM       DET      NOUN       ADP      PRON  \\\n",
       "CONJ  0.000463  0.160334  0.042169  0.119092  0.348471  0.051900  0.057924   \n",
       "VERB  0.005585  0.169498  0.022962  0.135055  0.109301  0.091149  0.036072   \n",
       "NUM   0.013942  0.018392  0.186592  0.003263  0.353604  0.034708  0.001483   \n",
       "DET   0.000481  0.040183  0.021776  0.005775  0.637753  0.009504  0.003730   \n",
       "NOUN  0.042899  0.146148  0.009602  0.013253  0.263782  0.178131  0.004564   \n",
       "ADP   0.000746  0.008316  0.061834  0.325053  0.323028  0.016951  0.068230   \n",
       "PRON  0.004237  0.487288  0.007319  0.009630  0.210709  0.023112  0.008089   \n",
       ".     0.057834  0.089674  0.081040  0.174042  0.221802  0.090844  0.065659   \n",
       "X     0.010324  0.203145  0.002859  0.054956  0.061626  0.144854  0.055909   \n",
       "PRT   0.002302  0.404801  0.055903  0.100954  0.247287  0.019402  0.017428   \n",
       "ADJ   0.017184  0.012062  0.021315  0.005122  0.699438  0.076669  0.000661   \n",
       "ADV   0.007355  0.347041  0.031428  0.066533  0.031428  0.118355  0.015045   \n",
       "\n",
       "             .         X       PRT       ADJ       ADV  \n",
       "CONJ  0.034754  0.007878  0.005097  0.116311  0.055607  \n",
       "VERB  0.035296  0.218525  0.031417  0.064386  0.080754  \n",
       "NUM   0.116583  0.209433  0.025808  0.033225  0.002966  \n",
       "DET   0.017445  0.046439  0.000241  0.204283  0.012392  \n",
       "NOUN  0.240088  0.029098  0.043264  0.012231  0.016940  \n",
       "ADP   0.040085  0.034435  0.001386  0.106610  0.013326  \n",
       "PRON  0.039676  0.090139  0.013097  0.072419  0.034284  \n",
       ".     0.092822  0.027073  0.002518  0.044522  0.052078  \n",
       "X     0.163278  0.075762  0.184562  0.016995  0.025731  \n",
       "PRT   0.041434  0.013482  0.001973  0.085169  0.009865  \n",
       "ADJ   0.065268  0.020654  0.011236  0.065433  0.004957  \n",
       "ADV   0.138415  0.024072  0.013373  0.127382  0.079572  "
      ]
     },
     "execution_count": 18,
     "metadata": {},
     "output_type": "execute_result"
    }
   ],
   "source": [
    "# convert the matrix to a df for better readability\n",
    "tags_df = pd.DataFrame(tags_matrix, columns = list(T), index=list(T))\n",
    "tags_df"
   ]
  },
  {
   "cell_type": "code",
   "execution_count": 19,
   "metadata": {},
   "outputs": [
    {
     "data": {
      "image/png": "[encoded data removed]",
      "text/plain": [
       "<Figure size 1296x864 with 2 Axes>"
      ]
     },
     "metadata": {
      "needs_background": "light"
     },
     "output_type": "display_data"
    }
   ],
   "source": [
    "# heatmap of tags matrix\n",
    "# T(i, j) indicates P(tag j given tag i)\n",
    "plt.figure(figsize=(18, 12))\n",
    "sns.heatmap(tags_df)\n",
    "plt.show()"
   ]
  },
  {
   "cell_type": "code",
   "execution_count": 20,
   "metadata": {},
   "outputs": [
    {
     "data": {
      "image/png": "[encoded data removed]",
      "text/plain": [
       "<Figure size 1296x864 with 2 Axes>"
      ]
     },
     "metadata": {
      "needs_background": "light"
     },
     "output_type": "display_data"
    }
   ],
   "source": [
    "# frequent tags\n",
    "# filter the df to get P(t2, t1) > 0.5\n",
    "tags_frequent = tags_df[tags_df>0.5]\n",
    "plt.figure(figsize=(18, 12))\n",
    "sns.heatmap(tags_frequent)\n",
    "plt.show()"
   ]
  },
  {
   "cell_type": "markdown",
   "metadata": {},
   "source": [
    "Clearly as expected Noun and Adjective and Noun and Determinent are highly correlated. Most often nouns are followed by adjectives and detectives"
   ]
  },
  {
   "cell_type": "code",
   "execution_count": 21,
   "metadata": {},
   "outputs": [
    {
     "data": {
      "text/plain": [
       "95596"
      ]
     },
     "execution_count": 21,
     "metadata": {},
     "output_type": "execute_result"
    }
   ],
   "source": [
    "#Get total length of tagged words in training corpus\n",
    "len(train_tagged_words)"
   ]
  },
  {
   "cell_type": "code",
   "execution_count": 22,
   "metadata": {},
   "outputs": [],
   "source": [
    "# Viterbi Heuristic\n",
    "def Viterbi(words, train_bag = train_tagged_words):\n",
    "    state = []\n",
    "    T = list(set([pair[1] for pair in train_bag]))\n",
    "    \n",
    "    for key, word in enumerate(words):\n",
    "        #initialise list of probability column for a given observation\n",
    "        p = [] \n",
    "        for tag in T:\n",
    "            if key == 0:\n",
    "                transition_p = tags_df.loc['.', tag]\n",
    "            else:\n",
    "                transition_p = tags_df.loc[state[-1], tag]\n",
    "                \n",
    "            # compute emission and state probabilities\n",
    "            emission_p = word_given_tag(words[key], tag)[0]/word_given_tag(words[key], tag)[1]\n",
    "            state_probability = emission_p * transition_p    \n",
    "            p.append(state_probability)\n",
    "            \n",
    "        pmax = max(p)\n",
    "        # getting state for which probability is maximum\n",
    "        state_max = T[p.index(pmax)] \n",
    "        state.append(state_max)\n",
    "    return list(zip(words, state))"
   ]
  },
  {
   "cell_type": "code",
   "execution_count": 23,
   "metadata": {},
   "outputs": [],
   "source": [
    "# Running on entire test dataset would take more than 3-4hrs. \n",
    "# Let's test our Viterbi algorithm on a few sample sentences of test dataset\n",
    "\n",
    "\n",
    "# list of tagged words in test set\n",
    "test_run_base = [tup for sent in test_set for tup in sent]\n",
    "\n",
    "# list of  words which are untagged in test set\n",
    "test_tagged_words = [tup[0] for sent in test_set for tup in sent]"
   ]
  },
  {
   "cell_type": "code",
   "execution_count": 24,
   "metadata": {},
   "outputs": [],
   "source": [
    "# tagging the test sentences\n",
    "start = time.time()\n",
    "tagged_seq = Viterbi(test_tagged_words)\n",
    "end = time.time()\n",
    "difference = end-start"
   ]
  },
  {
   "cell_type": "code",
   "execution_count": 25,
   "metadata": {},
   "outputs": [
    {
     "name": "stdout",
     "output_type": "stream",
     "text": [
      "731.8522968292236\n"
     ]
    }
   ],
   "source": [
    "#Print total time taken to train the algorithm\n",
    "print(difference)"
   ]
  },
  {
   "cell_type": "code",
   "execution_count": 26,
   "metadata": {},
   "outputs": [
    {
     "name": "stdout",
     "output_type": "stream",
     "text": [
      "0.9023622047244094\n"
     ]
    }
   ],
   "source": [
    "# Get accuracy of model\n",
    "check = [i for i, j in zip(tagged_seq, test_run_base) if i == j] \n",
    "accuracy = len(check)/len(tagged_seq)\n",
    "print(accuracy)"
   ]
  },
  {
   "cell_type": "markdown",
   "metadata": {},
   "source": [
    "We get around 90% of accuracy with the default Viterbi algorithm.\n",
    "\n",
    "Let's compare with the test sentences and see how it tagged the sentences"
   ]
  },
  {
   "cell_type": "code",
   "execution_count": 27,
   "metadata": {},
   "outputs": [
    {
     "name": "stdout",
     "output_type": "stream",
     "text": [
      "Android is a mobile operating system developed by Google.\n",
      "\n",
      "Android has been the best-selling OS worldwide on smartphones since 2011 and on tablets since 2013.\n",
      "\n",
      "Google and Twitter made a deal in 2015 that gave Google access to Twitter's firehose.\n",
      "\n",
      "Twitter is an online news and social networking service on which users post and interact with messages known as tweets.\n",
      "\n",
      "Before entering politics, Donald Trump was a domineering businessman and a television personality.\n",
      "\n",
      "The 2018 FIFA World Cup is the 21st FIFA World Cup, an international football tournament contested once every four years.\n",
      "\n",
      "This is the first World Cup to be held in Eastern Europe and the 11th time that it has been held in Europe.\n",
      "\n",
      "Show me the cheapest round trips from Dallas to Atlanta\n",
      "\n",
      "I would like to see flights from Denver to Philadelphia.\n",
      "\n",
      "Show me the price of the flights leaving Atlanta at about 3 in the afternoon and arriving in San Francisco.\n",
      "\n",
      "NASA invited social media users to experience the launch of ICESAT-2 Satellite.\n",
      "\n",
      "\n",
      "\n",
      "\n",
      "\n",
      "\n",
      "\n"
     ]
    }
   ],
   "source": [
    "#Read the text file\n",
    "lines=[]\n",
    "f = codecs.open(\"Test_sentences.txt\", encoding='utf-8')\n",
    "for line in f:\n",
    "    print(line)\n",
    "    lines.append(line)"
   ]
  },
  {
   "cell_type": "markdown",
   "metadata": {},
   "source": [
    "### Solve the problem of unknown words"
   ]
  },
  {
   "cell_type": "code",
   "execution_count": 28,
   "metadata": {},
   "outputs": [
    {
     "data": {
      "text/plain": [
       "['Android is a mobile operating system developed by Google.\\n',\n",
       " 'Android has been the best-selling OS worldwide on smartphones since 2011 and on tablets since 2013.\\n',\n",
       " \"Google and Twitter made a deal in 2015 that gave Google access to Twitter's firehose.\\n\",\n",
       " 'Twitter is an online news and social networking service on which users post and interact with messages known as tweets.\\n',\n",
       " 'Before entering politics, Donald Trump was a domineering businessman and a television personality.\\n',\n",
       " 'The 2018 FIFA World Cup is the 21st FIFA World Cup, an international football tournament contested once every four years.\\n',\n",
       " 'This is the first World Cup to be held in Eastern Europe and the 11th time that it has been held in Europe.\\n',\n",
       " 'Show me the cheapest round trips from Dallas to Atlanta\\n',\n",
       " 'I would like to see flights from Denver to Philadelphia.\\n',\n",
       " 'Show me the price of the flights leaving Atlanta at about 3 in the afternoon and arriving in San Francisco.\\n',\n",
       " 'NASA invited social media users to experience the launch of ICESAT-2 Satellite.\\n',\n",
       " '\\n',\n",
       " '\\n',\n",
       " '\\n']"
      ]
     },
     "execution_count": 28,
     "metadata": {},
     "output_type": "execute_result"
    }
   ],
   "source": [
    "lines"
   ]
  },
  {
   "cell_type": "code",
   "execution_count": 29,
   "metadata": {},
   "outputs": [
    {
     "data": {
      "text/plain": [
       "['Android is a mobile operating system developed by Google.',\n",
       " 'Android has been the best-selling OS worldwide on smartphones since 2011 and on tablets since 2013.',\n",
       " \"Google and Twitter made a deal in 2015 that gave Google access to Twitter's firehose.\",\n",
       " 'Twitter is an online news and social networking service on which users post and interact with messages known as tweets.',\n",
       " 'Before entering politics, Donald Trump was a domineering businessman and a television personality.',\n",
       " 'The 2018 FIFA World Cup is the 21st FIFA World Cup, an international football tournament contested once every four years.',\n",
       " 'This is the first World Cup to be held in Eastern Europe and the 11th time that it has been held in Europe.',\n",
       " 'Show me the cheapest round trips from Dallas to Atlanta',\n",
       " 'I would like to see flights from Denver to Philadelphia.',\n",
       " 'Show me the price of the flights leaving Atlanta at about 3 in the afternoon and arriving in San Francisco.',\n",
       " 'NASA invited social media users to experience the launch of ICESAT-2 Satellite.']"
      ]
     },
     "execution_count": 29,
     "metadata": {},
     "output_type": "execute_result"
    }
   ],
   "source": [
    "# Strip the special characters and empty strings in the list file\n",
    "test_lines =[sent.rstrip() for sent in lines if sent.rstrip()!='']\n",
    "test_lines"
   ]
  },
  {
   "cell_type": "code",
   "execution_count": 30,
   "metadata": {},
   "outputs": [
    {
     "data": {
      "text/plain": [
       "[[('the', 'DET'), (('Circulation', 'CONJ'), ('Circulation', 'NOUN'))],\n",
       " [('*T*-1', 'X'), (('awards', 'CONJ'), ('awards', 'VERB'))],\n",
       " [('``', '.'), (('renewal', 'CONJ'), ('renewal', 'NOUN'))],\n",
       " [('in', 'ADP'), (('jeopardy', 'CONJ'), ('jeopardy', 'NOUN'))],\n",
       " [('could', 'VERB'), (('view', 'NOUN'), ('view', 'VERB'))],\n",
       " [('are', 'VERB'), (('mentioned', 'CONJ'), ('mentioned', 'VERB'))],\n",
       " [('the', 'DET'), (('statute', 'CONJ'), ('statute', 'NOUN'))],\n",
       " [('.', '.'), (('Exports', 'CONJ'), ('Exports', 'NOUN'))],\n",
       " [('$', '.'), (('5.29', 'CONJ'), ('5.29', 'NUM'))],\n",
       " [('mere', 'ADJ'), (('0.7', 'CONJ'), ('0.7', 'NUM'))],\n",
       " [('year', 'NOUN'), (('earlier', 'ADV'), ('earlier', 'ADJ'))],\n",
       " [('$', '.'), (('5.39', 'CONJ'), ('5.39', 'NUM'))],\n",
       " [('the', 'DET'), (('killings', 'CONJ'), ('killings', 'NOUN'))],\n",
       " [('was', 'VERB'), (('prominently', 'CONJ'), ('prominently', 'ADV'))],\n",
       " [('the', 'DET'), (('demonstrations', 'CONJ'), ('demonstrations', 'NOUN'))],\n",
       " [(\"'re\", 'VERB'), (('lucky', 'CONJ'), ('lucky', 'ADJ'))],\n",
       " [('ringer', 'NOUN'), (('out', 'PRT'), ('out', 'ADP'))],\n",
       " [('The', 'DET'), (('interactions', 'CONJ'), ('interactions', 'NOUN'))],\n",
       " [('*-1', 'X'), (('defying', 'CONJ'), ('defying', 'VERB'))],\n",
       " [('sweeping', 'ADJ'),\n",
       "  (('generalizations', 'CONJ'), ('generalizations', 'NOUN'))],\n",
       " [('Consolidated', 'NOUN'), (('Rail', 'CONJ'), ('Rail', 'NOUN'))],\n",
       " [('1,000', 'NUM'), (('enclosed', 'CONJ'), ('enclosed', 'VERB'))],\n",
       " [('*', 'X'), (('transporting', 'CONJ'), ('transporting', 'VERB'))],\n",
       " [('transporting', 'VERB'), (('autos', 'CONJ'), ('autos', 'NOUN'))],\n",
       " [('a', 'DET'), (('litany', 'CONJ'), ('litany', 'NOUN'))],\n",
       " [('by', 'ADP'), (('Blackstone', 'CONJ'), ('Blackstone', 'NOUN'))],\n",
       " [('.', '.'), (('Part', 'CONJ'), ('Part', 'NOUN'))],\n",
       " [('of', 'ADP'), (('jitters', 'CONJ'), ('jitters', 'NOUN'))],\n",
       " [('the', 'DET'), (('risk-free', 'CONJ'), ('risk-free', 'ADJ'))],\n",
       " [('easily', 'ADV'), (('outdistanced', 'CONJ'), ('outdistanced', 'VERB'))],\n",
       " [('John', 'NOUN'), (('Lonski', 'CONJ'), ('Lonski', 'NOUN'))],\n",
       " [('succeeded', 'VERB'), (('Bennett', 'CONJ'), ('Bennett', 'NOUN'))],\n",
       " [('Bennett', 'NOUN'), (('Cerf', 'CONJ'), ('Cerf', 'NOUN'))],\n",
       " [('in', 'ADP'), (('1925', 'CONJ'), ('1925', 'NUM'))],\n",
       " [('transportation', 'NOUN'), (('1206.26', 'CONJ'), ('1206.26', 'NUM'))],\n",
       " [('utilities', 'NOUN'), (('220.45', 'CONJ'), ('220.45', 'NUM'))],\n",
       " [('.', '.'), (('Integra-A', 'CONJ'), ('Integra-A', 'NOUN'))],\n",
       " [('&', 'CONJ'), (('Restaurant', 'CONJ'), ('Restaurant', 'NOUN'))],\n",
       " [('raise', 'VERB'), (('about', 'ADP'), ('about', 'ADV'))],\n",
       " [('declared', 'VERB'), (('*-103', 'CONJ'), ('*-103', 'X'))],\n",
       " [('*-2', 'X'), (('mailing', 'NOUN'), ('mailing', 'VERB'))],\n",
       " [('out', 'PRT'), (('that', 'DET'), ('that', 'ADP'))],\n",
       " [('may', 'VERB'), (('predispose', 'CONJ'), ('predispose', 'VERB'))],\n",
       " [('a', 'DET'), (('consequence', 'CONJ'), ('consequence', 'NOUN'))],\n",
       " [('is', 'VERB'), (('composed', 'CONJ'), ('composed', 'VERB'))],\n",
       " [('lacks', 'VERB'), (('adequate', 'CONJ'), ('adequate', 'ADJ'))],\n",
       " [('.', '.'), (('Named', 'CONJ'), ('Named', 'VERB'))],\n",
       " [('*T*-1', 'X'), (('Roland', 'CONJ'), ('Roland', 'NOUN'))],\n",
       " [('Roland', 'NOUN'), (('Matthews', 'CONJ'), ('Matthews', 'NOUN'))],\n",
       " [('Peter', 'NOUN'), (('Jonas', 'CONJ'), ('Jonas', 'NOUN'))],\n",
       " [(',', '.'), (('executive', 'NOUN'), ('executive', 'ADJ'))],\n",
       " [(',', '.'), (('as', 'ADP'), ('as', 'ADV'))],\n",
       " [(',', '.'), (('Genie', 'CONJ'), ('Genie', 'NOUN'))],\n",
       " [('.', '.'), (('Corporate', 'NOUN'), ('Corporate', 'ADJ'))],\n",
       " [(\"n't\", 'ADV'), (('inhibit', 'CONJ'), ('inhibit', 'VERB'))],\n",
       " [('$', '.'), (('721', 'CONJ'), ('721', 'NUM'))],\n",
       " [('$', '.'), (('2.62', 'CONJ'), ('2.62', 'NUM'))],\n",
       " [('$', '.'), (('598', 'CONJ'), ('598', 'NUM'))],\n",
       " [('$', '.'), (('2.07', 'CONJ'), ('2.07', 'NUM'))],\n",
       " [('the', 'DET'), (('exits', 'CONJ'), ('exits', 'NOUN'))],\n",
       " [('market', 'NOUN'), (('rebound', 'VERB'), ('rebound', 'NOUN'))],\n",
       " [('rebound', 'NOUN'), (('pushes', 'CONJ'), ('pushes', 'VERB'))],\n",
       " [('*', 'X'), (('Having', 'CONJ'), ('Having', 'VERB'))],\n",
       " [('a', 'DET'), (('supportive', 'CONJ'), ('supportive', 'ADJ'))],\n",
       " [('supportive', 'ADJ'), (('element', 'CONJ'), ('element', 'NOUN'))],\n",
       " [('a', 'DET'), (('needy', 'CONJ'), ('needy', 'ADJ'))],\n",
       " [('loan', 'NOUN'), (('solvent', 'CONJ'), ('solvent', 'ADJ'))],\n",
       " [('continued', 'VERB'), (('slack', 'NOUN'), ('slack', 'ADJ'))],\n",
       " [('traditionally', 'ADV'), (('slow', 'VERB'), ('slow', 'ADJ'))],\n",
       " [('*', 'X'), (('Legislating', 'CONJ'), ('Legislating', 'VERB'))],\n",
       " [('to', 'PRT'), (('parallel', 'ADJ'), ('parallel', 'VERB'))],\n",
       " [('the', 'DET'), (('European', 'ADJ'), ('European', 'NOUN'))],\n",
       " [('European', 'NOUN'), (('Common', 'ADJ'), ('Common', 'NOUN'))],\n",
       " [('rose', 'VERB'), (('3', 'X'), ('3', 'NUM'))],\n",
       " [('$', '.'), (('29.3', 'CONJ'), ('29.3', 'NUM'))],\n",
       " [('$', '.'), (('28.4', 'CONJ'), ('28.4', 'NUM'))],\n",
       " [('took', 'VERB'), (('over', 'ADP'), ('over', 'PRT'))],\n",
       " [(\"'s\", 'PRT'), (('seventh', 'CONJ'), ('seventh', 'ADJ'))],\n",
       " [('which', 'DET'), (('*T*-195', 'CONJ'), ('*T*-195', 'X'))],\n",
       " [(',', '.'), (('fueling', 'CONJ'), ('fueling', 'NOUN'))],\n",
       " [('and', 'CONJ'), (('airports', 'CONJ'), ('airports', 'NOUN'))],\n",
       " [('its', 'PRON'), (('most', 'ADJ'), ('most', 'ADV'))],\n",
       " [('recent', 'ADJ'), (('fiscal', 'ADJ'), ('fiscal', 'NOUN'))],\n",
       " [('divisions', 'NOUN'), (('that', 'ADP'), ('that', 'DET'))],\n",
       " [(\"n't\", 'ADV'), (('wish', 'VERB'), ('wish', 'NOUN'))],\n",
       " [('been', 'VERB'), (('searching', 'CONJ'), ('searching', 'VERB'))],\n",
       " [('including', 'VERB'),\n",
       "  (('food-industry', 'CONJ'), ('food-industry', 'NOUN'))],\n",
       " [('to', 'PRT'), (('fly', 'CONJ'), ('fly', 'VERB'))],\n",
       " [('his', 'PRON'), (('destination', 'CONJ'), ('destination', 'NOUN'))],\n",
       " [('a', 'DET'), (('companion', 'CONJ'), ('companion', 'NOUN'))],\n",
       " [('companion', 'NOUN'), ((\"'s\", 'VERB'), (\"'s\", 'PRT'))],\n",
       " [('they', 'PRON'), (('fly', 'CONJ'), ('fly', 'VERB'))],\n",
       " [('Japanese', 'ADJ'), (('dominance', 'CONJ'), ('dominance', 'NOUN'))],\n",
       " [('would', 'VERB'), (('like', 'ADP'), ('like', 'VERB'))],\n",
       " [('$', '.'), (('1.1650', 'CONJ'), ('1.1650', 'NUM'))],\n",
       " [('have', 'VERB'), (('much', 'ADV'), ('much', 'ADJ'))],\n",
       " [('much', 'ADJ'), (('luck', 'CONJ'), ('luck', 'NOUN'))],\n",
       " [('Robert', 'NOUN'), (('Shrum', 'CONJ'), ('Shrum', 'NOUN'))],\n",
       " [('David', 'NOUN'), (('Doak', 'CONJ'), ('Doak', 'NOUN'))],\n",
       " [('finally', 'ADV'), (('unleashed', 'CONJ'), ('unleashed', 'VERB'))],\n",
       " [('$', '.'), (('234.4', 'CONJ'), ('234.4', 'NUM'))],\n",
       " [('The', 'DET'), (('most', 'ADJ'), ('most', 'ADV'))],\n",
       " [('widely', 'ADV'), (('used', 'VERB'), ('used', 'ADJ'))],\n",
       " [('by', 'ADP'), (('Houghton', 'CONJ'), ('Houghton', 'NOUN'))],\n",
       " [('Houghton', 'NOUN'), (('Mifflin', 'CONJ'), ('Mifflin', 'NOUN'))],\n",
       " [('and', 'CONJ'), (('Harcourt', 'CONJ'), ('Harcourt', 'NOUN'))],\n",
       " [('Harcourt', 'NOUN'), (('Brace', 'CONJ'), ('Brace', 'NOUN'))],\n",
       " [('Brace', 'NOUN'), (('Jovanovich', 'CONJ'), ('Jovanovich', 'NOUN'))],\n",
       " [(\"'s\", 'PRT'), (('Metropolitan', 'CONJ'), ('Metropolitan', 'NOUN'))],\n",
       " [('almost', 'ADV'), (('single-handed', 'CONJ'), ('single-handed', 'ADJ'))],\n",
       " [('the', 'DET'), (('reins', 'CONJ'), ('reins', 'NOUN'))],\n",
       " [('Constitution', 'NOUN'), (('authorizes', 'CONJ'), ('authorizes', 'VERB'))],\n",
       " [('to', 'PRT'), (('veto', 'NOUN'), ('veto', 'VERB'))],\n",
       " [('not', 'ADV'), (('partial', 'CONJ'), ('partial', 'ADJ'))],\n",
       " [('to', 'PRT'), (('waive', 'CONJ'), ('waive', 'VERB'))],\n",
       " [('its', 'PRON'), (('protective', 'CONJ'), ('protective', 'ADJ'))],\n",
       " [('``', '.'), (('golden', 'CONJ'), ('golden', 'ADJ'))],\n",
       " [('$', '.'), (('184', 'CONJ'), ('184', 'NUM'))],\n",
       " [('for', 'ADP'), (('*-30', 'CONJ'), ('*-30', 'X'))],\n",
       " [('*', 'X'), (('sorting', 'CONJ'), ('sorting', 'VERB'))],\n",
       " [('sorting', 'VERB'), (('out', 'ADP'), ('out', 'PRT'))],\n",
       " [('out', 'PRT'), (('specifics', 'CONJ'), ('specifics', 'NOUN'))],\n",
       " [('the', 'DET'), (('Japanese', 'ADJ'), ('Japanese', 'NOUN'))],\n",
       " [('off', 'PRT'), (('down', 'ADV'), ('down', 'ADP'))],\n",
       " [(',', '.'), (('change', 'NOUN'), ('change', 'VERB'))],\n",
       " [('from', 'ADP'), (('borrowers', 'CONJ'), ('borrowers', 'NOUN'))],\n",
       " [('to', 'PRT'),\n",
       "  (('savers\\\\/investors', 'CONJ'), ('savers\\\\/investors', 'NOUN'))],\n",
       " [('bone', 'NOUN'), (('marrow', 'CONJ'), ('marrow', 'NOUN'))],\n",
       " [('other', 'ADJ'), (('blood-cell', 'CONJ'), ('blood-cell', 'NOUN'))],\n",
       " [('*T*-67', 'X'), ((\"'s\", 'PRT'), (\"'s\", 'VERB'))],\n",
       " [('getting', 'VERB'), (('out', 'PRT'), ('out', 'ADP'))],\n",
       " [('they', 'PRON'), (('waited', 'CONJ'), ('waited', 'VERB'))],\n",
       " [('then', 'ADV'), (('sneaked', 'CONJ'), ('sneaked', 'VERB'))],\n",
       " [('others', 'NOUN'), (('prefer', 'CONJ'), ('prefer', 'VERB'))],\n",
       " [('a', 'DET'), (('four-foot-high', 'CONJ'), ('four-foot-high', 'ADJ'))],\n",
       " [('concrete', 'ADJ'), (('slab', 'CONJ'), ('slab', 'NOUN'))],\n",
       " [('II', 'NOUN'), (('lend-lease', 'CONJ'), ('lend-lease', 'ADJ'))],\n",
       " [('its', 'PRON'), (('Eveready', 'CONJ'), ('Eveready', 'NOUN'))],\n",
       " [('Artist', 'NOUN'), (('hangs', 'CONJ'), ('hangs', 'VERB'))],\n",
       " [('hangs', 'VERB'), (('out', 'ADP'), ('out', 'PRT'))],\n",
       " [('in', 'ADP'), (('Greenwich', 'CONJ'), ('Greenwich', 'NOUN'))],\n",
       " [('Greenwich', 'NOUN'), (('Village', 'CONJ'), ('Village', 'NOUN'))],\n",
       " [('a', 'DET'), (('strip', 'VERB'), ('strip', 'NOUN'))],\n",
       " [('of', 'ADP'), (('Sixth', 'CONJ'), ('Sixth', 'NOUN'))],\n",
       " [('Sixth', 'NOUN'), (('Avenue', 'CONJ'), ('Avenue', 'NOUN'))],\n",
       " [('Avenue', 'NOUN'), (('populated', 'CONJ'), ('populated', 'VERB'))],\n",
       " [('by', 'ADP'), (('jugglers', 'CONJ'), ('jugglers', 'NOUN'))],\n",
       " [(',', '.'), (('magicians', 'CONJ'), ('magicians', 'NOUN'))],\n",
       " [('other', 'ADJ'), (('good-natured', 'CONJ'), ('good-natured', 'ADJ'))],\n",
       " [('good-natured', 'ADJ'), (('hustlers', 'CONJ'), ('hustlers', 'NOUN'))],\n",
       " [('he', 'PRON'), (('meets', 'CONJ'), ('meets', 'VERB'))],\n",
       " [('a', 'DET'), (('solicitous', 'CONJ'), ('solicitous', 'ADJ'))],\n",
       " [('solicitous', 'ADJ'), (('Christian', 'NOUN'), ('Christian', 'ADJ'))],\n",
       " [('Christian', 'ADJ'), (('chauffeur', 'CONJ'), ('chauffeur', 'NOUN'))],\n",
       " [('hero', 'NOUN'), (('God', 'CONJ'), ('God', 'NOUN'))],\n",
       " [('God', 'NOUN'), ((\"'s\", 'VERB'), (\"'s\", 'PRT'))],\n",
       " [(',', '.'), (('roughhewn', 'CONJ'), ('roughhewn', 'ADJ'))],\n",
       " [('*T*-56', 'X'), (('wears', 'CONJ'), ('wears', 'VERB'))],\n",
       " [('--', '.'), (('a', 'DET'), ('a', 'ADJ'))],\n",
       " [('a', 'ADJ'), (('sheepskin', 'CONJ'), ('sheepskin', 'NOUN'))],\n",
       " [('Yeargin', 'NOUN'), (('concedes', 'CONJ'), ('concedes', 'VERB'))],\n",
       " [('concedes', 'VERB'), (('that', 'DET'), ('that', 'ADP'))],\n",
       " [('went', 'VERB'), (('over', 'ADP'), ('over', 'ADV'))],\n",
       " [('The', 'DET'), (('CEO', 'CONJ'), ('CEO', 'NOUN'))],\n",
       " [('CEO', 'NOUN'), (('succession', 'CONJ'), ('succession', 'NOUN'))],\n",
       " [('take', 'VERB'), (('early', 'ADV'), ('early', 'ADJ'))],\n",
       " [(\"''\", '.'), (('Barrels', 'CONJ'), ('Barrels', 'NOUN'))],\n",
       " [('Jones', 'NOUN'), (('Equity', 'CONJ'), ('Equity', 'NOUN'))],\n",
       " [('gained', 'VERB'), (('0.99', 'CONJ'), ('0.99', 'NUM'))],\n",
       " [('to', 'PRT'), (('319.75', 'CONJ'), ('319.75', 'NUM'))],\n",
       " [('Exchange', 'NOUN'), (('Composite', 'CONJ'), ('Composite', 'NOUN'))],\n",
       " [('went', 'VERB'), (('up', 'ADV'), ('up', 'ADP'))],\n",
       " [('up', 'ADP'), (('0.60', 'CONJ'), ('0.60', 'NUM'))],\n",
       " [('to', 'PRT'), (('188.84', 'CONJ'), ('188.84', 'NUM'))],\n",
       " [('Diaper', 'NOUN'), (('shortages', 'CONJ'), ('shortages', 'NOUN'))],\n",
       " [('at', 'ADP'), (('Stork', 'CONJ'), ('Stork', 'NOUN'))],\n",
       " [(',', '.'), (('Springfield', 'CONJ'), ('Springfield', 'NOUN'))],\n",
       " [('is', 'VERB'), (('up', 'ADV'), ('up', 'ADP'))],\n",
       " [('the', 'DET'), (('most', 'ADJ'), ('most', 'ADV'))],\n",
       " [('a', 'DET'), (('roll', 'VERB'), ('roll', 'NOUN'))],\n",
       " [('the', 'DET'), (('first', 'ADJ'), ('first', 'ADV'))],\n",
       " [('two-year', 'ADJ'), (('cost-control', 'CONJ'), ('cost-control', 'ADJ'))],\n",
       " [('additional', 'ADJ'), (('disruption', 'CONJ'), ('disruption', 'NOUN'))],\n",
       " [('our', 'PRON'), (('borrowing', 'VERB'), ('borrowing', 'NOUN'))],\n",
       " [('borrowing', 'NOUN'), (('schedule', 'CONJ'), ('schedule', 'NOUN'))],\n",
       " [('the', 'DET'), (('taxpayer', 'CONJ'), ('taxpayer', 'NOUN'))],\n",
       " [('Secretary', 'NOUN'), (('Nicholas', 'CONJ'), ('Nicholas', 'NOUN'))],\n",
       " [('Nicholas', 'NOUN'), (('Brady', 'CONJ'), ('Brady', 'NOUN'))],\n",
       " [('--', '.'), (('including', 'VERB'), ('including', 'ADP'))],\n",
       " [(',', '.'), (('Greece', 'CONJ'), ('Greece', 'NOUN'))],\n",
       " [('pose', 'VERB'), (('less-serious', 'CONJ'), ('less-serious', 'ADJ'))],\n",
       " [('for', 'ADP'), (('American', 'NOUN'), ('American', 'ADJ'))],\n",
       " [('on', 'ADP'), (('50.1', 'CONJ'), ('50.1', 'NUM'))],\n",
       " [('fellow', 'ADJ'), (('Texan', 'CONJ'), ('Texan', 'NOUN'))],\n",
       " [('Sen.', 'NOUN'), (('Lloyd', 'CONJ'), ('Lloyd', 'NOUN'))],\n",
       " [('Lloyd', 'NOUN'), (('Bentsen', 'CONJ'), ('Bentsen', 'NOUN'))],\n",
       " [('to', 'PRT'), (('highlight', 'CONJ'), ('highlight', 'VERB'))],\n",
       " [('who', 'PRON'), (('*T*-185', 'CONJ'), ('*T*-185', 'X'))],\n",
       " [('the', 'DET'), (('Purchase', 'CONJ'), ('Purchase', 'NOUN'))],\n",
       " [('Purchase', 'NOUN'), (('campus', 'CONJ'), ('campus', 'NOUN'))],\n",
       " [('Lane', 'NOUN'), (('shot', 'NOUN'), ('shot', 'VERB'))],\n",
       " [('A', 'DET'), (('Place', 'CONJ'), ('Place', 'NOUN'))],\n",
       " [('a', 'DET'), (('36-minute', 'CONJ'), ('36-minute', 'ADJ'))],\n",
       " [('36-minute', 'ADJ'),\n",
       "  (('black-and-white', 'CONJ'), ('black-and-white', 'ADJ'))],\n",
       " [('been', 'VERB'), (('as', 'ADP'), ('as', 'ADV'))],\n",
       " [('to', 'PRT'), (('bounce', 'CONJ'), ('bounce', 'VERB'))],\n",
       " [('bills', 'NOUN'), (('back', 'PRT'), ('back', 'ADV'))],\n",
       " [('50', 'NUM'), (('witnesses', 'CONJ'), ('witnesses', 'NOUN'))],\n",
       " [('$', '.'), (('472', 'CONJ'), ('472', 'NUM'))],\n",
       " [('commodities', 'NOUN'),\n",
       "  (('strengthened', 'CONJ'), ('strengthened', 'VERB'))],\n",
       " [('*T*-1', 'X'), (('Keith', 'CONJ'), ('Keith', 'NOUN'))],\n",
       " [('to', 'PRT'), (('realestate', 'CONJ'), ('realestate', 'VERB'))],\n",
       " [('good', 'ADJ'), (('will', 'VERB'), ('will', 'NOUN'))],\n",
       " [('J.', 'NOUN'), (('Lezovich', 'CONJ'), ('Lezovich', 'NOUN'))],\n",
       " [('in', 'ADP'), (('summons', 'CONJ'), ('summons', 'NOUN'))],\n",
       " [('being', 'VERB'), (('initiated', 'CONJ'), ('initiated', 'VERB'))],\n",
       " [('Late', 'ADV'), (('that', 'ADP'), ('that', 'DET'))],\n",
       " [('500', 'NUM'), (('stock-index', 'NOUN'), ('stock-index', 'ADJ'))],\n",
       " [('a', 'DET'), (('total', 'ADJ'), ('total', 'NOUN'))],\n",
       " [('limit', 'NOUN'), (('that', 'ADP'), ('that', 'DET'))],\n",
       " [('that', 'DET'), (('*T*-210', 'CONJ'), ('*T*-210', 'X'))],\n",
       " [('.', '.'), (('FALL', 'CONJ'), ('FALL', 'NOUN'))],\n",
       " [('FALL', 'NOUN'), (('BALLOT', 'CONJ'), ('BALLOT', 'NOUN'))],\n",
       " [('BALLOT', 'NOUN'), (('ISSUES', 'CONJ'), ('ISSUES', 'NOUN'))],\n",
       " [('for', 'ADP'), (('off-year', 'CONJ'), ('off-year', 'ADJ'))],\n",
       " [('to', 'PRT'), (('177', 'CONJ'), ('177', 'NUM'))],\n",
       " [('of', 'ADP'), (('Elsevier', 'CONJ'), ('Elsevier', 'NOUN'))],\n",
       " [('the', 'DET'), (('Dutch', 'ADJ'), ('Dutch', 'NOUN'))],\n",
       " [('Dutch', 'NOUN'), (('publishing', 'NOUN'), ('publishing', 'VERB'))],\n",
       " [('statistics', 'NOUN'), (('imply', 'CONJ'), ('imply', 'VERB'))],\n",
       " [('imply', 'VERB'), (('that', 'DET'), ('that', 'ADP'))],\n",
       " [('that', 'ADP'), (('three-quarters', 'CONJ'), ('three-quarters', 'NOUN'))],\n",
       " [('9', 'NUM'), (('page-one', 'ADJ'), ('page-one', 'NOUN'))],\n",
       " [('``', '.'), (('Barbara', 'CONJ'), ('Barbara', 'NOUN'))],\n",
       " [('Bush', 'NOUN'), (('Earns', 'CONJ'), ('Earns', 'VERB'))],\n",
       " [('Higher', 'ADJ'), (('Ratings', 'CONJ'), ('Ratings', 'NOUN'))],\n",
       " [('Ratings', 'NOUN'), (('Than', 'CONJ'), ('Than', 'ADP'))],\n",
       " [('is', 'VERB'), (('regrettable', 'CONJ'), ('regrettable', 'ADJ'))],\n",
       " [('regrettable', 'ADJ'), (('that', 'DET'), ('that', 'ADP'))],\n",
       " [('our', 'PRON'), (('negatives', 'CONJ'), ('negatives', 'NOUN'))],\n",
       " [('Among', 'ADP'), (('liberals', 'CONJ'), ('liberals', 'NOUN'))],\n",
       " [('--', '.'), (('the', 'DET'), ('the', 'ADJ'))],\n",
       " [('the', 'ADJ'), (('symmetry', 'CONJ'), ('symmetry', 'NOUN'))],\n",
       " [('of', 'ADP'), (('geometrical', 'CONJ'), ('geometrical', 'ADJ'))],\n",
       " [('metric', 'ADJ'), (('measurement', 'CONJ'), ('measurement', 'NOUN'))],\n",
       " [('or', 'CONJ'), (('pie', 'CONJ'), ('pie', 'NOUN'))],\n",
       " [('bar', 'NOUN'), (('graphs', 'CONJ'), ('graphs', 'NOUN'))],\n",
       " [('--', '.'), (('are', 'VERB'), ('are', 'NOUN'))],\n",
       " [('preparation', 'NOUN'), (('kits', 'CONJ'), ('kits', 'NOUN'))],\n",
       " [(\"n't\", 'ADV'), (('replicate', 'CONJ'), ('replicate', 'VERB'))],\n",
       " [('general', 'ADJ'),\n",
       "  (('familiarization', 'CONJ'), ('familiarization', 'NOUN'))],\n",
       " [('was', 'VERB'), (('awfully', 'CONJ'), ('awfully', 'ADV'))],\n",
       " [('at', 'ADP'), (('Schaefer', 'CONJ'), ('Schaefer', 'NOUN'))],\n",
       " [('Schaefer', 'NOUN'), ((\"'s\", 'VERB'), (\"'s\", 'PRT'))],\n",
       " [('in', 'ADP'), (('Skokie', 'CONJ'), ('Skokie', 'NOUN'))],\n",
       " [('in', 'ADP'), (('suburban', 'CONJ'), ('suburban', 'ADJ'))],\n",
       " [('people', 'NOUN'), (('out', 'PRT'), ('out', 'ADP'))],\n",
       " [('out', 'ADP'), (('there', 'DET'), ('there', 'ADV'))],\n",
       " [('different', 'ADJ'), (('opinions', 'CONJ'), ('opinions', 'NOUN'))],\n",
       " [('not', 'ADV'), (('there', 'DET'), ('there', 'ADV'))],\n",
       " [('*T*-1', 'X'), (('Cedric', 'CONJ'), ('Cedric', 'NOUN'))],\n",
       " [('Wine', 'NOUN'), (('Cellar', 'CONJ'), ('Cellar', 'NOUN'))],\n",
       " [('S.', 'NOUN'), (('Hubbell', 'CONJ'), ('Hubbell', 'NOUN'))],\n",
       " [('individuals', 'NOUN'), (('violated', 'CONJ'), ('violated', 'VERB'))],\n",
       " [('criminal', 'ADJ'), (('statute', 'CONJ'), ('statute', 'NOUN'))],\n",
       " [('they', 'PRON'), (('own', 'ADJ'), ('own', 'VERB'))],\n",
       " [('to', 'PRT'), (('duck', 'CONJ'), ('duck', 'VERB'))],\n",
       " [('which', 'DET'), (('identical', 'CONJ'), ('identical', 'ADJ'))],\n",
       " [('.', '.'), (('Declining', 'CONJ'), ('Declining', 'VERB'))],\n",
       " [('slightly', 'ADV'), (('outnumbered', 'CONJ'), ('outnumbered', 'VERB'))],\n",
       " [(',', '.'), (('454', 'CONJ'), ('454', 'NUM'))],\n",
       " [('to', 'PRT'), (('451', 'CONJ'), ('451', 'NUM'))],\n",
       " [('.', '.'), (('Card', 'CONJ'), ('Card', 'NOUN'))],\n",
       " [('a', 'DET'), (('sweepstakes', 'CONJ'), ('sweepstakes', 'NOUN'))],\n",
       " [('average', 'ADJ'), (('net', 'ADJ'), ('net', 'NOUN'))],\n",
       " [('Secretary', 'NOUN'), (('Elizabeth', 'CONJ'), ('Elizabeth', 'NOUN'))],\n",
       " [('corporate', 'ADJ'), (('indifference', 'CONJ'), ('indifference', 'NOUN'))],\n",
       " [('experts', 'NOUN'), (('question', 'NOUN'), ('question', 'VERB'))],\n",
       " [('Madison', 'NOUN'), (('Avenue', 'CONJ'), ('Avenue', 'NOUN'))],\n",
       " [('Avenue', 'NOUN'), ((\"'s\", 'VERB'), (\"'s\", 'PRT'))],\n",
       " [('big', 'ADJ'), (('spenders', 'CONJ'), ('spenders', 'NOUN'))],\n",
       " [('the', 'DET'), (('best-selling', 'CONJ'), ('best-selling', 'ADJ'))],\n",
       " [('.', '.'), (('Inventories', 'CONJ'), ('Inventories', 'NOUN'))],\n",
       " [('closely', 'ADV'), (('watched', 'CONJ'), ('watched', 'VERB'))],\n",
       " [('of', 'ADP'), (('133.8', 'CONJ'), ('133.8', 'NUM'))],\n",
       " [('something', 'NOUN'), (('inherently', 'CONJ'), ('inherently', 'ADV'))],\n",
       " [('inherently', 'ADV'), (('suspect', 'VERB'), ('suspect', 'ADJ'))],\n",
       " [(\"'s\", 'PRT'), (('prohibiting', 'CONJ'), ('prohibiting', 'VERB'))],\n",
       " [('being', 'VERB'), (('wasted', 'CONJ'), ('wasted', 'VERB'))],\n",
       " [('some', 'DET'), (('favored', 'ADJ'), ('favored', 'VERB'))],\n",
       " [('*EXP*-1', 'X'), ((\"'s\", 'PRT'), (\"'s\", 'VERB'))],\n",
       " [('Both', 'DET'), (('Deryck', 'CONJ'), ('Deryck', 'NOUN'))],\n",
       " [('who', 'PRON'), (('*T*-256', 'CONJ'), ('*T*-256', 'X'))],\n",
       " [('*T*-256', 'X'), (('heads', 'NOUN'), ('heads', 'VERB'))],\n",
       " [('S.', 'NOUN'), (('Wadsworth', 'CONJ'), ('Wadsworth', 'NOUN'))],\n",
       " [('who', 'PRON'), (('*T*-257', 'CONJ'), ('*T*-257', 'X'))],\n",
       " [('*T*-257', 'X'), (('heads', 'NOUN'), ('heads', 'VERB'))],\n",
       " [('Stanley', 'NOUN'), (('there', 'DET'), ('there', 'ADV'))],\n",
       " [(',', '.'), (('ascribe', 'CONJ'), ('ascribe', 'VERB'))],\n",
       " [('to', 'PRT'), (('offer', 'NOUN'), ('offer', 'VERB'))],\n",
       " [(',', '.'), (('futures-related', 'CONJ'), ('futures-related', 'ADJ'))],\n",
       " [('Enterprise', 'NOUN'), (('Rent-A-Car', 'CONJ'), ('Rent-A-Car', 'NOUN'))],\n",
       " [('seen', 'VERB'), (('so', 'ADV'), ('so', 'ADP'))],\n",
       " [('people', 'NOUN'), (('crying', 'CONJ'), ('crying', 'VERB'))],\n",
       " [('an', 'DET'), (('assistant', 'NOUN'), ('assistant', 'ADJ'))],\n",
       " [('of', 'ADP'), (('ceramic', 'CONJ'), ('ceramic', 'ADJ'))],\n",
       " [('years', 'NOUN'), (('promise', 'NOUN'), ('promise', 'VERB'))],\n",
       " [('new', 'ADJ'), (('technologies', 'CONJ'), ('technologies', 'NOUN'))],\n",
       " [('electrical', 'ADJ'), (('generation', 'CONJ'), ('generation', 'NOUN'))],\n",
       " [('Michelin', 'NOUN'), (('S.A', 'CONJ'), ('S.A', 'NOUN'))],\n",
       " [('got', 'VERB'), (('enough', 'ADV'), ('enough', 'ADJ'))],\n",
       " [('1987', 'NUM'), (('statute', 'CONJ'), ('statute', 'NOUN'))],\n",
       " [('Yeargin', 'NOUN'), (('violated', 'CONJ'), ('violated', 'VERB'))],\n",
       " [(\"'s\", 'PRT'),\n",
       "  (('school-improvement', 'CONJ'), ('school-improvement', 'ADJ'))],\n",
       " [('would', 'VERB'), (('like', 'ADP'), ('like', 'VERB'))],\n",
       " [('have', 'VERB'), (('more', 'ADV'), ('more', 'ADJ'))],\n",
       " [('$', '.'), (('177', 'CONJ'), ('177', 'NUM'))],\n",
       " [('$', '.'), (('1.50', 'CONJ'), ('1.50', 'NUM'))],\n",
       " [('.', '.'), (('Fundamentalists', 'CONJ'), ('Fundamentalists', 'NOUN'))],\n",
       " [('Jihad', 'NOUN'), (('Odd-year', 'CONJ'), ('Odd-year', 'ADJ'))],\n",
       " [('*', 'X'), (('shaping', 'CONJ'), ('shaping', 'VERB'))],\n",
       " [('while', 'ADP'), (('more', 'ADJ'), ('more', 'ADV'))],\n",
       " [('ambitious', 'ADJ'), (('authorizing', 'CONJ'), ('authorizing', 'VERB'))],\n",
       " [('more', 'ADV'), (('decisive', 'CONJ'), ('decisive', 'ADJ'))],\n",
       " [('.', '.'), (('Citizens', 'CONJ'), ('Citizens', 'NOUN'))],\n",
       " [('in', 'ADP'), (('Peninsula', 'CONJ'), ('Peninsula', 'NOUN'))],\n",
       " [(\"'s\", 'PRT'), (('floral', 'CONJ'), ('floral', 'ADJ'))],\n",
       " [('18', 'NUM'), (('categories', 'CONJ'), ('categories', 'NOUN'))],\n",
       " [('turned', 'VERB'), (('down', 'ADV'), ('down', 'PRT'))],\n",
       " [('``', '.'), (('because', 'ADP'), ('because', 'ADV'))],\n",
       " [('the', 'DET'), (('potential', 'ADJ'), ('potential', 'NOUN'))],\n",
       " [('material', 'NOUN'), (('injury', 'CONJ'), ('injury', 'NOUN'))],\n",
       " [(\"''\", '.'), (('Deregulation', 'CONJ'), ('Deregulation', 'NOUN'))],\n",
       " [('pay', 'VERB'), (('*T*-201', 'CONJ'), ('*T*-201', 'X'))],\n",
       " [(',', '.'), (('as', 'ADP'), ('as', 'ADV'))],\n",
       " [('opened', 'VERB'), (('up', 'ADV'), ('up', 'PRT'))],\n",
       " [('as', 'ADP'), (('high-rate', 'CONJ'), ('high-rate', 'ADJ'))],\n",
       " [('high-rate', 'ADJ'), (('CDs', 'CONJ'), ('CDs', 'NOUN'))],\n",
       " [('The', 'DET'), (('Japanese', 'ADJ'), ('Japanese', 'NOUN'))],\n",
       " [('who', 'PRON'), (('*T*-184', 'CONJ'), ('*T*-184', 'X'))],\n",
       " [('*-2', 'X'), (('informally', 'CONJ'), ('informally', 'ADV'))],\n",
       " [('the', 'DET'), (('impending', 'ADJ'), ('impending', 'VERB'))],\n",
       " [('compound', 'NOUN'), (('yield', 'VERB'), ('yield', 'NOUN'))],\n",
       " [('funds', 'NOUN'), (('tracked', 'CONJ'), ('tracked', 'VERB'))],\n",
       " [('by', 'ADP'), (('IBC', 'CONJ'), ('IBC', 'NOUN'))],\n",
       " [('IBC', 'NOUN'), ((\"'s\", 'VERB'), (\"'s\", 'PRT'))],\n",
       " [('a', 'DET'), (('fraction', 'CONJ'), ('fraction', 'NOUN'))],\n",
       " [('M.', 'NOUN'), (('Rexinger', 'CONJ'), ('Rexinger', 'NOUN'))],\n",
       " [('City', 'NOUN'), (('executive', 'NOUN'), ('executive', 'ADJ'))],\n",
       " [('R.', 'NOUN'), (('Glauber', 'CONJ'), ('Glauber', 'NOUN'))],\n",
       " [('the', 'DET'), (('12-member', 'CONJ'), ('12-member', 'ADJ'))],\n",
       " [('financial', 'ADJ'), (('settlements', 'CONJ'), ('settlements', 'NOUN'))],\n",
       " [('guilty', 'ADJ'), (('plea', 'CONJ'), ('plea', 'NOUN'))],\n",
       " [('six', 'NUM'), (('felonies', 'CONJ'), ('felonies', 'NOUN'))],\n",
       " [('big', 'ADJ'), (('insider-trading', 'CONJ'), ('insider-trading', 'ADJ'))],\n",
       " [('is', 'VERB'), (('finalized', 'CONJ'), ('finalized', 'VERB'))],\n",
       " [('will', 'VERB'), (('open', 'ADJ'), ('open', 'VERB'))],\n",
       " [('with', 'ADP'), (('state-appointed', 'CONJ'), ('state-appointed', 'ADJ'))],\n",
       " [('state-appointed', 'ADJ'), (('receivers', 'CONJ'), ('receivers', 'NOUN'))],\n",
       " [('or', 'CONJ'), (('lease', 'CONJ'), ('lease', 'VERB'))],\n",
       " [(',', '.'), (('though', 'ADP'), ('though', 'ADV'))],\n",
       " [('such', 'ADJ'), (('close', 'NOUN'), ('close', 'ADJ'))],\n",
       " [('acquiring', 'VERB'), (('more', 'ADV'), ('more', 'ADJ'))],\n",
       " [('how', 'ADV'), (('much', 'ADV'), ('much', 'ADJ'))],\n",
       " [(',', '.'), (('proprietor', 'CONJ'), ('proprietor', 'NOUN'))],\n",
       " [('Wine', 'NOUN'), (('Cellars', 'CONJ'), ('Cellars', 'NOUN'))],\n",
       " [('in', 'ADP'), (('Napa', 'CONJ'), ('Napa', 'NOUN'))],\n",
       " [('price', 'NOUN'), (('tag', 'CONJ'), ('tag', 'NOUN'))],\n",
       " [('will', 'VERB'), (('likely', 'ADJ'), ('likely', 'ADV'))],\n",
       " [('likely', 'ADV'), (('cause', 'NOUN'), ('cause', 'VERB'))],\n",
       " [('Italy', 'NOUN'), (('there', 'DET'), ('there', 'ADV'))],\n",
       " [('is', 'VERB'), (('Angelo', 'CONJ'), ('Angelo', 'NOUN'))],\n",
       " [('Angelo', 'NOUN'), (('Gaja', 'CONJ'), ('Gaja', 'NOUN'))],\n",
       " [('Gaja', 'NOUN'), (('Barbaresco', 'CONJ'), ('Barbaresco', 'NOUN'))],\n",
       " [(',', '.'), (('Piero', 'CONJ'), ('Piero', 'NOUN'))],\n",
       " [('Piero', 'NOUN'), (('Antinori', 'CONJ'), ('Antinori', 'NOUN'))],\n",
       " [('Antinori', 'NOUN'), ((\"'s\", 'VERB'), (\"'s\", 'PRT'))],\n",
       " [('La', 'NOUN'), (('Solaia', 'CONJ'), ('Solaia', 'NOUN'))],\n",
       " [('coaching', 'NOUN'), (('aids', 'CONJ'), ('aids', 'NOUN'))],\n",
       " [('can', 'VERB'), (('defeat', 'NOUN'), ('defeat', 'VERB'))],\n",
       " [('which', 'DET'), (('*T*-104', 'CONJ'), ('*T*-104', 'X'))],\n",
       " [('gauge', 'VERB'), (('learning', 'CONJ'), ('learning', 'NOUN'))],\n",
       " [('would', 'VERB'), (('destroy', 'CONJ'), ('destroy', 'VERB'))],\n",
       " [('pricing', 'NOUN'), (('efficiency', 'CONJ'), ('efficiency', 'NOUN'))],\n",
       " [(',', '.'), (('India', 'CONJ'), ('India', 'NOUN'))],\n",
       " [('priority', 'NOUN'), (('watch', 'VERB'), ('watch', 'NOUN'))],\n",
       " [('Van', 'NOUN'), (('Nuys', 'CONJ'), ('Nuys', 'NOUN'))],\n",
       " [('$', '.'), (('132,000', 'CONJ'), ('132,000', 'NUM'))],\n",
       " [('*-1', 'X'), (('Rated', 'CONJ'), ('Rated', 'VERB'))],\n",
       " [(',', '.'), (('old-style', 'CONJ'), ('old-style', 'ADJ'))],\n",
       " [('funds', 'NOUN'), (('that', 'ADP'), ('that', 'DET'))],\n",
       " [('to', 'PRT'), (('juggle', 'CONJ'), ('juggle', 'VERB'))],\n",
       " [('portfolios', 'NOUN'), (('so', 'ADV'), ('so', 'ADP'))],\n",
       " [('they', 'PRON'), (('mirror', 'NOUN'), ('mirror', 'VERB'))],\n",
       " [('was', 'VERB'), (('appropriated', 'CONJ'), ('appropriated', 'VERB'))],\n",
       " [('biggest', 'ADJ'), (('nonfinancial', 'CONJ'), ('nonfinancial', 'ADJ'))],\n",
       " [('gained', 'VERB'), (('1.39', 'CONJ'), ('1.39', 'NUM'))],\n",
       " [('to', 'PRT'), (('446.62', 'CONJ'), ('446.62', 'NUM'))],\n",
       " [('running', 'VERB'), (('up', 'ADV'), ('up', 'PRT'))],\n",
       " [('up', 'PRT'), (('record', 'VERB'), ('record', 'ADJ'))],\n",
       " [('Salon', 'NOUN'), (('le', 'CONJ'), ('le', 'DET'))],\n",
       " [('64-year-old', 'ADJ'), (('Derek', 'CONJ'), ('Derek', 'NOUN'))],\n",
       " [(',', '.'), (('so', 'ADV'), ('so', 'ADP'))],\n",
       " [('the', 'DET'), (('lieutenant', 'CONJ'), ('lieutenant', 'NOUN'))],\n",
       " [('.', '.'), (('Continued', 'CONJ'), ('Continued', 'VERB'))],\n",
       " [('will', 'VERB'), (('likely', 'ADJ'), ('likely', 'ADV'))],\n",
       " [('likely', 'ADV'), (('trim', 'CONJ'), ('trim', 'VERB'))],\n",
       " [('about', 'ADP'), (('275', 'CONJ'), ('275', 'NUM'))],\n",
       " [('to', 'PRT'), (('350', 'CONJ'), ('350', 'NUM'))],\n",
       " [('than', 'ADP'), (('21,000', 'CONJ'), ('21,000', 'NUM'))],\n",
       " [(\"n't\", 'ADV'), (('hospitable', 'CONJ'), ('hospitable', 'ADJ'))],\n",
       " [('*-2', 'X'), (('punishing', 'CONJ'), ('punishing', 'VERB'))],\n",
       " [('or', 'CONJ'), (('retaliating', 'CONJ'), ('retaliating', 'VERB'))],\n",
       " [('what', 'PRON'), (('*T*-252', 'CONJ'), ('*T*-252', 'X'))],\n",
       " [('*-1', 'X'), (('complaining', 'CONJ'), ('complaining', 'VERB'))],\n",
       " [('ended', 'VERB'), (('up', 'ADV'), ('up', 'PRT'))],\n",
       " [('pursue', 'VERB'), (('unspecified', 'CONJ'), ('unspecified', 'ADJ'))],\n",
       " [('organization', 'NOUN'), (('termed', 'CONJ'), ('termed', 'VERB'))],\n",
       " [('``', '.'), (('amicable', 'CONJ'), ('amicable', 'ADJ'))],\n",
       " [('of', 'ADP'), (('big-time', 'CONJ'), ('big-time', 'ADJ'))],\n",
       " [('ad', 'NOUN'), (('spenders', 'CONJ'), ('spenders', 'NOUN'))],\n",
       " [('a', 'DET'), (('whipping', 'CONJ'), ('whipping', 'ADJ'))],\n",
       " [('whipping', 'ADJ'), (('boy', 'CONJ'), ('boy', 'NOUN'))],\n",
       " [('to', 'PRT'), (('gain', 'NOUN'), ('gain', 'VERB'))],\n",
       " [('*', 'X'), (('wooing', 'CONJ'), ('wooing', 'VERB'))],\n",
       " [('existing', 'VERB'),\n",
       "  (('stock-selection', 'CONJ'), ('stock-selection', 'ADJ'))],\n",
       " [('to', 'PRT'), (('pour', 'CONJ'), ('pour', 'VERB'))],\n",
       " [('Ralston', 'NOUN'), (('Purina', 'CONJ'), ('Purina', 'NOUN'))],\n",
       " [('costs', 'NOUN'), (('as', 'ADP'), ('as', 'ADV'))],\n",
       " [('a', 'DET'), (('more', 'ADJ'), ('more', 'ADV'))],\n",
       " [('long-term', 'ADJ'), (('play', 'VERB'), ('play', 'NOUN'))],\n",
       " [('programs', 'NOUN'), (('that', 'ADP'), ('that', 'DET'))],\n",
       " [('seem', 'VERB'), (('tailor-made', 'CONJ'), ('tailor-made', 'ADJ'))],\n",
       " [('who', 'PRON'), (('*T*-132', 'CONJ'), ('*T*-132', 'X'))],\n",
       " [('*T*-132', 'X'), (('heads', 'NOUN'), ('heads', 'VERB'))],\n",
       " [(\"'s\", 'PRT'), (('grand', 'CONJ'), ('grand', 'ADJ'))],\n",
       " [('are', 'VERB'), (('prohibited', 'CONJ'), ('prohibited', 'VERB'))],\n",
       " [('of', 'ADP'), (('ethics', 'CONJ'), ('ethics', 'NOUN'))],\n",
       " [('*-1', 'X'), (('disclosing', 'CONJ'), ('disclosing', 'VERB'))],\n",
       " [('court', 'NOUN'), (('orders', 'NOUN'), ('orders', 'VERB'))],\n",
       " [('*-4', 'X'), (('committing', 'CONJ'), ('committing', 'VERB'))],\n",
       " [('act', 'NOUN'), (('that', 'ADP'), ('that', 'DET'))],\n",
       " [('several', 'ADJ'), (('manufacturing', 'NOUN'), ('manufacturing', 'VERB'))],\n",
       " [('operations', 'NOUN'), (('as', 'ADP'), ('as', 'ADV'))],\n",
       " [('as', 'ADP'), (('Pepperidge', 'CONJ'), ('Pepperidge', 'NOUN'))],\n",
       " [('.', '.'), (('Factories', 'CONJ'), ('Factories', 'NOUN'))],\n",
       " [('Factories', 'NOUN'), (('booked', 'CONJ'), ('booked', 'VERB'))],\n",
       " [('$', '.'), (('236.74', 'CONJ'), ('236.74', 'NUM'))],\n",
       " [('$', '.'), (('236.79', 'CONJ'), ('236.79', 'NUM'))],\n",
       " [('provision', 'NOUN'), (('amounts', 'NOUN'), ('amounts', 'VERB'))],\n",
       " [('a', 'DET'), (('one-house', 'CONJ'), ('one-house', 'ADJ'))],\n",
       " [('neither', 'DET'), (('bicameral', 'CONJ'), ('bicameral', 'ADJ'))],\n",
       " [('nor', 'CONJ'), (('presentation', 'CONJ'), ('presentation', 'NOUN'))],\n",
       " [('his', 'PRON'), (('signature', 'CONJ'), ('signature', 'NOUN'))],\n",
       " [('Ward', 'NOUN'), (('resolved', 'CONJ'), ('resolved', 'VERB'))],\n",
       " [('to', 'PRT'), (('clean', 'CONJ'), ('clean', 'VERB'))],\n",
       " [('clean', 'VERB'), (('out', 'ADP'), ('out', 'PRT'))],\n",
       " [('``', '.'), (('deadwood', 'CONJ'), ('deadwood', 'NOUN'))],\n",
       " [('Her', 'PRON'), (('remorse', 'CONJ'), ('remorse', 'NOUN'))],\n",
       " [('was', 'VERB'), (('shallow', 'CONJ'), ('shallow', 'ADJ'))],\n",
       " [('$', '.'), (('13.625', 'CONJ'), ('13.625', 'NUM'))],\n",
       " [('Mary', 'NOUN'), (('Elizabeth', 'CONJ'), ('Elizabeth', 'NOUN'))],\n",
       " [('Elizabeth', 'NOUN'), (('Ariail', 'CONJ'), ('Ariail', 'NOUN'))],\n",
       " [('standing', 'NOUN'), (('high', 'ADJ'), ('high', 'ADV'))],\n",
       " [('job', 'NOUN'), (('that', 'ADP'), ('that', 'DET'))],\n",
       " [(\"n't\", 'ADV'), (('demand', 'NOUN'), ('demand', 'VERB'))],\n",
       " [('in', 'ADP'), (('Hackensack', 'CONJ'), ('Hackensack', 'NOUN'))],\n",
       " [('I', 'PRON'), (('am', 'CONJ'), ('am', 'VERB'))],\n",
       " [('sales', 'NOUN'), (('materialize', 'CONJ'), ('materialize', 'VERB'))],\n",
       " [('$', '.'), (('36', 'CONJ'), ('36', 'NUM'))],\n",
       " [('a', 'DET'), (('seasoned', 'CONJ'), ('seasoned', 'ADJ'))],\n",
       " [('seasoned', 'ADJ'), (('marketer', 'CONJ'), ('marketer', 'NOUN'))],\n",
       " [('good', 'ADJ'), (('rapport', 'CONJ'), ('rapport', 'NOUN'))],\n",
       " [('the', 'DET'), (('Pepperidge', 'CONJ'), ('Pepperidge', 'NOUN'))],\n",
       " [('until', 'ADP'), (('midyear', 'CONJ'), ('midyear', 'NOUN'))],\n",
       " [('*', 'X'), (('Forget', 'CONJ'), ('Forget', 'VERB'))],\n",
       " [('he', 'PRON'), (('handed', 'CONJ'), ('handed', 'VERB'))],\n",
       " [('quarterly', 'ADJ'), (('refunding', 'NOUN'), ('refunding', 'VERB'))],\n",
       " [('rung', 'VERB'), (('*-140', 'CONJ'), ('*-140', 'X'))],\n",
       " [('rural', 'ADJ'), (('parishes', 'CONJ'), ('parishes', 'NOUN'))],\n",
       " [('and', 'CONJ'), (('inner-city', 'CONJ'), ('inner-city', 'NOUN'))],\n",
       " [('and', 'CONJ'), (('marketer', 'CONJ'), ('marketer', 'NOUN'))],\n",
       " [('frozen', 'VERB'), (('noodles', 'CONJ'), ('noodles', 'NOUN'))],\n",
       " [('and', 'CONJ'), (('pre-cooked', 'CONJ'), ('pre-cooked', 'ADJ'))],\n",
       " [('pre-cooked', 'ADJ'), (('pasta', 'CONJ'), ('pasta', 'NOUN'))],\n",
       " [('in', 'ADP'), (('Clive', 'CONJ'), ('Clive', 'NOUN'))],\n",
       " [('of', 'ADP'), (('about', 'ADP'), ('about', 'ADV'))],\n",
       " [('compromise', 'NOUN'), (('sets', 'NOUN'), ('sets', 'VERB'))],\n",
       " [('$', '.'), (('3.61', 'CONJ'), ('3.61', 'NUM'))],\n",
       " [('be', 'VERB'), (('twinned', 'CONJ'), ('twinned', 'VERB'))],\n",
       " [('nearly', 'ADV'), (('complete', 'VERB'), ('complete', 'ADJ'))],\n",
       " [('miles', 'NOUN'), (('upstream', 'CONJ'), ('upstream', 'ADV'))],\n",
       " [('been', 'VERB'), (('reallocated', 'CONJ'), ('reallocated', 'VERB'))],\n",
       " [('remaining', 'VERB'), (('23,403', 'CONJ'), ('23,403', 'NUM'))],\n",
       " [('for', 'ADP'), (('growers', 'CONJ'), ('growers', 'NOUN'))],\n",
       " [('runs', 'VERB'), (('as', 'ADP'), ('as', 'ADV'))]]"
      ]
     },
     "execution_count": 30,
     "metadata": {},
     "output_type": "execute_result"
    }
   ],
   "source": [
    "#Get the words in the test set which are incorrectly classified\n",
    "incorrect_tagged_cases = [[test_run_base[i-1],j] for i, j in enumerate(zip(tagged_seq, test_run_base)) if j[0]!=j[1]]\n",
    "incorrect_tagged_cases"
   ]
  },
  {
   "cell_type": "markdown",
   "metadata": {},
   "source": [
    "Most of the words which are not present in training set are simply assigned the first pos tag in the training pos tagset\n",
    "\n",
    "Let us do the analysis on the test file which we read before"
   ]
  },
  {
   "cell_type": "code",
   "execution_count": 32,
   "metadata": {},
   "outputs": [
    {
     "name": "stderr",
     "output_type": "stream",
     "text": [
      "[nltk_data] Downloading package punkt to\n",
      "[nltk_data]     C:\\Users\\chebrolb\\AppData\\Roaming\\nltk_data...\n",
      "[nltk_data]   Unzipping tokenizers\\punkt.zip.\n"
     ]
    },
    {
     "data": {
      "text/plain": [
       "True"
      ]
     },
     "execution_count": 32,
     "metadata": {},
     "output_type": "execute_result"
    }
   ],
   "source": [
    "nltk.download('punkt')"
   ]
  },
  {
   "cell_type": "code",
   "execution_count": 33,
   "metadata": {},
   "outputs": [
    {
     "data": {
      "text/plain": [
       "[('Android', 'CONJ'),\n",
       " ('is', 'VERB'),\n",
       " ('a', 'DET'),\n",
       " ('mobile', 'ADJ'),\n",
       " ('operating', 'NOUN'),\n",
       " ('system', 'NOUN'),\n",
       " ('developed', 'VERB'),\n",
       " ('by', 'ADP'),\n",
       " ('Google', 'CONJ'),\n",
       " ('.', '.'),\n",
       " ('Android', 'CONJ'),\n",
       " ('has', 'VERB'),\n",
       " ('been', 'VERB'),\n",
       " ('the', 'DET'),\n",
       " ('best-selling', 'CONJ'),\n",
       " ('OS', 'CONJ'),\n",
       " ('worldwide', 'CONJ'),\n",
       " ('on', 'ADP'),\n",
       " ('smartphones', 'CONJ'),\n",
       " ('since', 'ADP'),\n",
       " ('2011', 'CONJ'),\n",
       " ('and', 'CONJ'),\n",
       " ('on', 'ADP'),\n",
       " ('tablets', 'NOUN'),\n",
       " ('since', 'ADP'),\n",
       " ('2013', 'CONJ'),\n",
       " ('.', '.'),\n",
       " ('Google', 'CONJ'),\n",
       " ('and', 'CONJ'),\n",
       " ('Twitter', 'CONJ'),\n",
       " ('made', 'VERB'),\n",
       " ('a', 'DET'),\n",
       " ('deal', 'NOUN'),\n",
       " ('in', 'ADP'),\n",
       " ('2015', 'CONJ'),\n",
       " ('that', 'DET'),\n",
       " ('gave', 'VERB'),\n",
       " ('Google', 'CONJ'),\n",
       " ('access', 'NOUN'),\n",
       " ('to', 'PRT'),\n",
       " ('Twitter', 'CONJ'),\n",
       " (\"'s\", 'VERB'),\n",
       " ('firehose', 'CONJ'),\n",
       " ('.', '.'),\n",
       " ('Twitter', 'CONJ'),\n",
       " ('is', 'VERB'),\n",
       " ('an', 'DET'),\n",
       " ('online', 'CONJ'),\n",
       " ('news', 'NOUN'),\n",
       " ('and', 'CONJ'),\n",
       " ('social', 'ADJ'),\n",
       " ('networking', 'NOUN'),\n",
       " ('service', 'NOUN'),\n",
       " ('on', 'ADP'),\n",
       " ('which', 'DET'),\n",
       " ('users', 'NOUN'),\n",
       " ('post', 'NOUN'),\n",
       " ('and', 'CONJ'),\n",
       " ('interact', 'CONJ'),\n",
       " ('with', 'ADP'),\n",
       " ('messages', 'CONJ'),\n",
       " ('known', 'VERB'),\n",
       " ('as', 'ADP'),\n",
       " ('tweets', 'CONJ'),\n",
       " ('.', '.'),\n",
       " ('Before', 'ADP'),\n",
       " ('entering', 'VERB'),\n",
       " ('politics', 'NOUN'),\n",
       " (',', '.'),\n",
       " ('Donald', 'NOUN'),\n",
       " ('Trump', 'NOUN'),\n",
       " ('was', 'VERB'),\n",
       " ('a', 'DET'),\n",
       " ('domineering', 'CONJ'),\n",
       " ('businessman', 'NOUN'),\n",
       " ('and', 'CONJ'),\n",
       " ('a', 'DET'),\n",
       " ('television', 'NOUN'),\n",
       " ('personality', 'CONJ'),\n",
       " ('.', '.'),\n",
       " ('The', 'DET'),\n",
       " ('2018', 'CONJ'),\n",
       " ('FIFA', 'CONJ'),\n",
       " ('World', 'NOUN'),\n",
       " ('Cup', 'CONJ'),\n",
       " ('is', 'VERB'),\n",
       " ('the', 'DET'),\n",
       " ('21st', 'CONJ'),\n",
       " ('FIFA', 'CONJ'),\n",
       " ('World', 'NOUN'),\n",
       " ('Cup', 'CONJ'),\n",
       " (',', '.'),\n",
       " ('an', 'DET'),\n",
       " ('international', 'ADJ'),\n",
       " ('football', 'NOUN'),\n",
       " ('tournament', 'CONJ'),\n",
       " ('contested', 'CONJ'),\n",
       " ('once', 'ADV'),\n",
       " ('every', 'DET'),\n",
       " ('four', 'NUM'),\n",
       " ('years', 'NOUN'),\n",
       " ('.', '.'),\n",
       " ('This', 'DET'),\n",
       " ('is', 'VERB'),\n",
       " ('the', 'DET'),\n",
       " ('first', 'ADJ'),\n",
       " ('World', 'NOUN'),\n",
       " ('Cup', 'CONJ'),\n",
       " ('to', 'PRT'),\n",
       " ('be', 'VERB'),\n",
       " ('held', 'VERB'),\n",
       " ('in', 'ADP'),\n",
       " ('Eastern', 'NOUN'),\n",
       " ('Europe', 'NOUN'),\n",
       " ('and', 'CONJ'),\n",
       " ('the', 'DET'),\n",
       " ('11th', 'ADJ'),\n",
       " ('time', 'NOUN'),\n",
       " ('that', 'ADP'),\n",
       " ('it', 'PRON'),\n",
       " ('has', 'VERB'),\n",
       " ('been', 'VERB'),\n",
       " ('held', 'VERB'),\n",
       " ('in', 'ADP'),\n",
       " ('Europe', 'NOUN'),\n",
       " ('.', '.'),\n",
       " ('Show', 'NOUN'),\n",
       " ('me', 'PRON'),\n",
       " ('the', 'DET'),\n",
       " ('cheapest', 'ADJ'),\n",
       " ('round', 'NOUN'),\n",
       " ('trips', 'CONJ'),\n",
       " ('from', 'ADP'),\n",
       " ('Dallas', 'NOUN'),\n",
       " ('to', 'PRT'),\n",
       " ('Atlanta', 'NOUN'),\n",
       " ('I', 'PRON'),\n",
       " ('would', 'VERB'),\n",
       " ('like', 'ADP'),\n",
       " ('to', 'PRT'),\n",
       " ('see', 'VERB'),\n",
       " ('flights', 'NOUN'),\n",
       " ('from', 'ADP'),\n",
       " ('Denver', 'NOUN'),\n",
       " ('to', 'PRT'),\n",
       " ('Philadelphia', 'NOUN'),\n",
       " ('.', '.'),\n",
       " ('Show', 'NOUN'),\n",
       " ('me', 'PRON'),\n",
       " ('the', 'DET'),\n",
       " ('price', 'NOUN'),\n",
       " ('of', 'ADP'),\n",
       " ('the', 'DET'),\n",
       " ('flights', 'NOUN'),\n",
       " ('leaving', 'VERB'),\n",
       " ('Atlanta', 'NOUN'),\n",
       " ('at', 'ADP'),\n",
       " ('about', 'ADP'),\n",
       " ('3', 'NUM'),\n",
       " ('in', 'ADP'),\n",
       " ('the', 'DET'),\n",
       " ('afternoon', 'NOUN'),\n",
       " ('and', 'CONJ'),\n",
       " ('arriving', 'CONJ'),\n",
       " ('in', 'ADP'),\n",
       " ('San', 'NOUN'),\n",
       " ('Francisco', 'NOUN'),\n",
       " ('.', '.'),\n",
       " ('NASA', 'CONJ'),\n",
       " ('invited', 'CONJ'),\n",
       " ('social', 'ADJ'),\n",
       " ('media', 'NOUN'),\n",
       " ('users', 'NOUN'),\n",
       " ('to', 'PRT'),\n",
       " ('experience', 'NOUN'),\n",
       " ('the', 'DET'),\n",
       " ('launch', 'NOUN'),\n",
       " ('of', 'ADP'),\n",
       " ('ICESAT-2', 'CONJ'),\n",
       " ('Satellite', 'CONJ'),\n",
       " ('.', '.')]"
      ]
     },
     "execution_count": 33,
     "metadata": {},
     "output_type": "execute_result"
    }
   ],
   "source": [
    "#Get the predictions on the test sentences\n",
    "sample_pred_list =[]\n",
    "for line in test_lines:\n",
    "    sample_pred_list=sample_pred_list+list(Viterbi(word_tokenize(line)))\n",
    "sample_pred_list"
   ]
  },
  {
   "cell_type": "markdown",
   "metadata": {},
   "source": [
    "For words like 'Android','Google' the first tag in the training pos tagset is given. Let us see if these words exist in the training corpus "
   ]
  },
  {
   "cell_type": "code",
   "execution_count": 34,
   "metadata": {},
   "outputs": [],
   "source": [
    "# Get tokens in the test file\n",
    "sample_words=[tokens for line in test_lines for tokens in word_tokenize(line)]"
   ]
  },
  {
   "cell_type": "code",
   "execution_count": 35,
   "metadata": {},
   "outputs": [
    {
     "data": {
      "text/plain": [
       "['domineering',\n",
       " 'tweets',\n",
       " 'FIFA',\n",
       " 'OS',\n",
       " 'firehose',\n",
       " 'personality',\n",
       " 'tournament',\n",
       " 'best-selling',\n",
       " 'invited',\n",
       " 'arriving',\n",
       " 'Android',\n",
       " 'Twitter',\n",
       " '2015',\n",
       " '2011',\n",
       " 'Satellite',\n",
       " 'online',\n",
       " 'trips',\n",
       " '21st',\n",
       " '2013',\n",
       " 'NASA',\n",
       " 'smartphones',\n",
       " 'worldwide',\n",
       " 'ICESAT-2',\n",
       " 'contested',\n",
       " 'messages',\n",
       " '2018',\n",
       " 'interact',\n",
       " 'Google',\n",
       " 'Cup']"
      ]
     },
     "execution_count": 35,
     "metadata": {},
     "output_type": "execute_result"
    }
   ],
   "source": [
    "#Get list of words which are present in test lines but not in the training corpus\n",
    "words_not_in_corpus = list(set(sample_words) - set(tokens))\n",
    "words_not_in_corpus"
   ]
  },
  {
   "cell_type": "markdown",
   "metadata": {},
   "source": [
    "Clearly the words like 'Google','Android','Fifa' are not present in the training set and they are all tagged default tags. "
   ]
  },
  {
   "cell_type": "code",
   "execution_count": 36,
   "metadata": {},
   "outputs": [
    {
     "data": {
      "text/plain": [
       "[('Android', 'CONJ'),\n",
       " ('Google', 'CONJ'),\n",
       " ('Android', 'CONJ'),\n",
       " ('best-selling', 'CONJ'),\n",
       " ('OS', 'CONJ'),\n",
       " ('worldwide', 'CONJ'),\n",
       " ('smartphones', 'CONJ'),\n",
       " ('2011', 'CONJ'),\n",
       " ('2013', 'CONJ'),\n",
       " ('Google', 'CONJ'),\n",
       " ('Twitter', 'CONJ'),\n",
       " ('2015', 'CONJ'),\n",
       " ('Google', 'CONJ'),\n",
       " ('Twitter', 'CONJ'),\n",
       " ('firehose', 'CONJ'),\n",
       " ('Twitter', 'CONJ'),\n",
       " ('online', 'CONJ'),\n",
       " ('interact', 'CONJ'),\n",
       " ('messages', 'CONJ'),\n",
       " ('tweets', 'CONJ'),\n",
       " ('domineering', 'CONJ'),\n",
       " ('personality', 'CONJ'),\n",
       " ('2018', 'CONJ'),\n",
       " ('FIFA', 'CONJ'),\n",
       " ('Cup', 'CONJ'),\n",
       " ('21st', 'CONJ'),\n",
       " ('FIFA', 'CONJ'),\n",
       " ('Cup', 'CONJ'),\n",
       " ('tournament', 'CONJ'),\n",
       " ('contested', 'CONJ'),\n",
       " ('Cup', 'CONJ'),\n",
       " ('trips', 'CONJ'),\n",
       " ('arriving', 'CONJ'),\n",
       " ('NASA', 'CONJ'),\n",
       " ('invited', 'CONJ'),\n",
       " ('ICESAT-2', 'CONJ'),\n",
       " ('Satellite', 'CONJ')]"
      ]
     },
     "execution_count": 36,
     "metadata": {},
     "output_type": "execute_result"
    }
   ],
   "source": [
    "#Get the tags predicted for unknown words\n",
    "[tup for tup in sample_pred_list for word in words_not_in_corpus if tup[0]==word ]"
   ]
  },
  {
   "cell_type": "code",
   "execution_count": 37,
   "metadata": {},
   "outputs": [
    {
     "data": {
      "text/plain": [
       "Counter({'NOUN': 27390,\n",
       "         'PRT': 3041,\n",
       "         'ADJ': 6052,\n",
       "         'VERB': 12891,\n",
       "         'ADV': 2991,\n",
       "         'X': 6296,\n",
       "         'DET': 8312,\n",
       "         '.': 11118,\n",
       "         'NUM': 3371,\n",
       "         'ADP': 9380,\n",
       "         'CONJ': 2158,\n",
       "         'PRON': 2596})"
      ]
     },
     "execution_count": 37,
     "metadata": {},
     "output_type": "execute_result"
    }
   ],
   "source": [
    "#Let us see the count of all tags in the training set\n",
    "from collections import Counter\n",
    "tag_counts = Counter(pair[1] for pair in train_tagged_words)\n",
    "tag_counts"
   ]
  },
  {
   "cell_type": "code",
   "execution_count": 38,
   "metadata": {},
   "outputs": [
    {
     "data": {
      "text/plain": [
       "[('NOUN', 27390), ('VERB', 12891), ('.', 11118), ('ADP', 9380), ('DET', 8312)]"
      ]
     },
     "execution_count": 38,
     "metadata": {},
     "output_type": "execute_result"
    }
   ],
   "source": [
    "# see most common tags can in the training corpus\n",
    "tag_counts.most_common(5)"
   ]
  },
  {
   "cell_type": "code",
   "execution_count": 39,
   "metadata": {},
   "outputs": [
    {
     "data": {
      "text/plain": [
       "Counter({'CONJ': 361,\n",
       "         'NOUN': 31,\n",
       "         'ADV': 17,\n",
       "         'PRT': 6,\n",
       "         'ADP': 24,\n",
       "         'DET': 10,\n",
       "         'VERB': 22,\n",
       "         'ADJ': 24,\n",
       "         'X': 1})"
      ]
     },
     "execution_count": 39,
     "metadata": {},
     "output_type": "execute_result"
    }
   ],
   "source": [
    "#Lets see count of incorrectly classfied words for each tag\n",
    "wrong_tag_counts = Counter(pair[1][0][1] for pair in incorrect_tagged_cases)\n",
    "wrong_tag_counts"
   ]
  },
  {
   "cell_type": "code",
   "execution_count": 40,
   "metadata": {},
   "outputs": [
    {
     "name": "stdout",
     "output_type": "stream",
     "text": [
      "0.20727639438367854\n"
     ]
    },
    {
     "data": {
      "text/plain": [
       "[('worked', 'VERB'),\n",
       " ('used', 'VERB'),\n",
       " ('based', 'VERB'),\n",
       " ('orchestrated', 'VERB'),\n",
       " ('totaled', 'VERB'),\n",
       " ('seemed', 'VERB'),\n",
       " ('ordered', 'VERB'),\n",
       " ('received', 'VERB'),\n",
       " ('moved', 'VERB'),\n",
       " ('opened', 'VERB'),\n",
       " ('wanted', 'VERB'),\n",
       " ('expected', 'VERB'),\n",
       " ('slipped', 'VERB'),\n",
       " ('altered', 'VERB'),\n",
       " ('removed', 'VERB'),\n",
       " ('slipped', 'VERB'),\n",
       " ('disclosed', 'VERB'),\n",
       " ('listed', 'VERB'),\n",
       " ('devoted', 'VERB'),\n",
       " ('adjusted', 'VERB')]"
      ]
     },
     "execution_count": 40,
     "metadata": {},
     "output_type": "execute_result"
    }
   ],
   "source": [
    "# Let us see the percentage of verbs which are classifed as 'verb which end with 'ed'\n",
    "verbs = [pair for pair in train_tagged_words if pair[1]=='VERB']\n",
    "ed_verbs = [pair for pair in verbs if pair[0].endswith('ed')]\n",
    "print(len(ed_verbs) / len(verbs))\n",
    "ed_verbs[:20]"
   ]
  },
  {
   "cell_type": "markdown",
   "metadata": {},
   "source": [
    "Around 20% of words which end with 'ed' are verbs. Though it is 20% it is high because this is universal tagset and Verbs contain all the forms of verbs"
   ]
  },
  {
   "cell_type": "code",
   "execution_count": 41,
   "metadata": {},
   "outputs": [
    {
     "name": "stdout",
     "output_type": "stream",
     "text": [
      "0.10883562175160966\n"
     ]
    },
    {
     "data": {
      "text/plain": [
       "[('making', 'VERB'),\n",
       " ('appealing', 'VERB'),\n",
       " ('underlying', 'VERB'),\n",
       " ('considering', 'VERB'),\n",
       " ('appealing', 'VERB'),\n",
       " ('according', 'VERB'),\n",
       " ('keeping', 'VERB'),\n",
       " ('trying', 'VERB'),\n",
       " ('including', 'VERB'),\n",
       " ('enabling', 'VERB'),\n",
       " ('building', 'VERB'),\n",
       " ('claiming', 'VERB'),\n",
       " ('watching', 'VERB'),\n",
       " ('failing', 'VERB'),\n",
       " ('transferring', 'VERB'),\n",
       " ('continuing', 'VERB'),\n",
       " ('according', 'VERB'),\n",
       " ('controlling', 'VERB'),\n",
       " ('according', 'VERB'),\n",
       " ('driving', 'VERB')]"
      ]
     },
     "execution_count": 41,
     "metadata": {},
     "output_type": "execute_result"
    }
   ],
   "source": [
    "# Let us see the percentage of verbs which are classifed as 'verb which end with 'ing'\n",
    "verbs = [pair for pair in train_tagged_words if pair[1]=='VERB']\n",
    "ing_verbs = [pair for pair in verbs if pair[0].endswith('ing')]\n",
    "print(len(ing_verbs) / len(verbs))\n",
    "ing_verbs[:20]"
   ]
  },
  {
   "cell_type": "code",
   "execution_count": 42,
   "metadata": {},
   "outputs": [
    {
     "name": "stdout",
     "output_type": "stream",
     "text": [
      "6052\n",
      "4233\n",
      "0.699438202247191\n"
     ]
    }
   ],
   "source": [
    "#Lets see percentage of Adjective tags followed by nouns\n",
    "# create a list of all tags (without the words)\n",
    "tags = [pair[1] for pair in train_tagged_words]\n",
    "\n",
    "# create a list of Adj tags\n",
    "adj_tags = [t for t in tags if t == 'ADJ']\n",
    "\n",
    "# create a list of (ADJ, Noun) tags\n",
    "adj_noun_tags = [(t, tags[index+1]) for index, t in enumerate(tags) \n",
    "              if t=='ADJ' and tags[index+1]=='NOUN']\n",
    "\n",
    "print(len(adj_tags))\n",
    "print(len(adj_noun_tags))\n",
    "print(len(adj_noun_tags) / len(adj_tags))"
   ]
  },
  {
   "cell_type": "markdown",
   "metadata": {},
   "source": [
    "Around 70% of adjectives are followed by Nouns"
   ]
  },
  {
   "cell_type": "code",
   "execution_count": 43,
   "metadata": {},
   "outputs": [
    {
     "name": "stdout",
     "output_type": "stream",
     "text": [
      "8312\n",
      "5301\n",
      "0.637752646775746\n"
     ]
    }
   ],
   "source": [
    "#Lets see percentage of Determinent tags followed by nouns\n",
    "dt_tags = [t for t in tags if t == 'DET']\n",
    "dt_noun_tags = [(t, tags[index+1]) for index, t in enumerate(tags) \n",
    "              if t=='DET' and tags[index+1]=='NOUN']\n",
    "\n",
    "print(len(dt_tags))\n",
    "print(len(dt_noun_tags))\n",
    "print(len(dt_noun_tags) / len(dt_tags))"
   ]
  },
  {
   "cell_type": "markdown",
   "metadata": {},
   "source": [
    "Around 63% of determinants are followed by Nouns"
   ]
  },
  {
   "cell_type": "code",
   "execution_count": 44,
   "metadata": {},
   "outputs": [
    {
     "name": "stdout",
     "output_type": "stream",
     "text": [
      "2991\n",
      "1038\n",
      "0.34704112337011034\n"
     ]
    }
   ],
   "source": [
    "#Lets see percentage of Adverbs tags followed by Verbs\n",
    "adv_tags = [t for t in tags if t == 'ADV']\n",
    "adv_vb_tags = [(t, tags[index+1]) for index, t in enumerate(tags) \n",
    "              if t=='ADV' and tags[index+1]=='VERB']\n",
    "\n",
    "print(len(adv_tags))\n",
    "print(len(adv_vb_tags))\n",
    "print(len(adv_vb_tags) / len(adv_tags))"
   ]
  },
  {
   "cell_type": "markdown",
   "metadata": {},
   "source": [
    "Around 35% of adverbs are followed by verbs"
   ]
  },
  {
   "cell_type": "markdown",
   "metadata": {},
   "source": [
    "Lets use the EDA done above and also grammar to build our rules for regex based tagger"
   ]
  },
  {
   "cell_type": "code",
   "execution_count": 45,
   "metadata": {},
   "outputs": [],
   "source": [
    "# specify patterns for tagging\n",
    "patterns = [\n",
    "    (r'.*ing$', 'VERB'),                # gerund\n",
    "    (r'.*ed$', 'VERB'),                 # past tense verbs\n",
    "    (r'.*es$', 'VERB'),                 # singular present verbs\n",
    "    (r'.*ould$', 'VERB'),               # modal verbs\n",
    "    (r'.*\\'s$', 'NOUN'),                # possessive nouns\n",
    "    (r'.*s$', 'NOUN'),                  # plural nouns\n",
    "    (r'^-?[0-9]+(.[0-9]+)?$', 'NUM'),   # cardinal numbers\n",
    "    (r'(The|the|A|a|An|an)$', 'DET'),   # articles or determinants\n",
    "    (r'.*able$', 'ADJ'),                # adjectives\n",
    "    (r'.*ness$', 'NOUN'),               # nouns formed from adjectives\n",
    "    (r'.*ly$', 'ADV'),                  # adverbs\n",
    "    (r'.*', 'NOUN')                     # nouns\n",
    "]"
   ]
  },
  {
   "cell_type": "code",
   "execution_count": 46,
   "metadata": {},
   "outputs": [
    {
     "data": {
      "text/plain": [
       "0.9488188976377953"
      ]
     },
     "execution_count": 46,
     "metadata": {},
     "output_type": "execute_result"
    }
   ],
   "source": [
    "# rule based tagger\n",
    "rule_based_tagger = nltk.RegexpTagger(patterns)\n",
    "\n",
    "# lexicon backed up by the rule-based tagger\n",
    "lexicon_tagger = nltk.UnigramTagger(train_set, backoff=rule_based_tagger)\n",
    "\n",
    "lexicon_tagger.evaluate(test_set)"
   ]
  },
  {
   "cell_type": "markdown",
   "metadata": {},
   "source": [
    "For a Unigram lexicon tagger backed up by a rule based tagger the accuracy is around 94%. Let us improve it further by using N-gram taggers"
   ]
  },
  {
   "cell_type": "markdown",
   "metadata": {},
   "source": [
    "#### Evaluating tagging accuracy"
   ]
  },
  {
   "cell_type": "code",
   "execution_count": 47,
   "metadata": {},
   "outputs": [],
   "source": [
    "#Trigram tagger backed by Bigram backed by Unigram which is backed by rule based tagger\n",
    "t0 = nltk.RegexpTagger(patterns)\n",
    "t1 = nltk.UnigramTagger(train_set, backoff=t0)\n",
    "t2 = nltk.BigramTagger(train_set, backoff=t1)\n",
    "t3 = nltk.TrigramTagger(train_set, backoff=t2)"
   ]
  },
  {
   "cell_type": "markdown",
   "metadata": {},
   "source": [
    "Let us use Brill algorithm as a base algorithm backed by the tagger created above"
   ]
  },
  {
   "cell_type": "code",
   "execution_count": 48,
   "metadata": {},
   "outputs": [],
   "source": [
    "#Import libraries for brill\n",
    "import nltk.tag\n",
    "from nltk.tag import brill\n",
    "from nltk.tag.brill import *\n",
    "from nltk.tbl.template import Template\n",
    "from nltk.tag import BrillTaggerTrainer\n",
    "\n",
    "#Clear existing templates if any\n",
    "Template._cleartemplates()\n",
    "\n",
    "#Load the fntbl37 template\n",
    "templates = fntbl37()\n",
    " \n",
    "#Train the Brill model\n",
    "trainer = BrillTaggerTrainer(t3, templates)\n",
    "brill_tagger = trainer.train(train_set, max_rules=100, min_score=3)"
   ]
  },
  {
   "cell_type": "markdown",
   "metadata": {},
   "source": [
    "The state probabilities for unknown words become zero and hence the Viterbi algorithm updates the unknown words by default with the first tag in the training set.\n",
    "\n",
    "Now lets modify the Viterbi algorithm such that when the state probabilities become zero it updates the tag based on the tagger we created above"
   ]
  },
  {
   "cell_type": "code",
   "execution_count": 49,
   "metadata": {},
   "outputs": [],
   "source": [
    "# Viterbi Heuristic\n",
    "def Viterbi_updated(words, train_bag = train_tagged_words):\n",
    "    state = []\n",
    "    T = list(set([pair[1] for pair in train_bag]))\n",
    "    \n",
    "    for key, word in enumerate(words):\n",
    "        #initialise list of probability column for a given observation\n",
    "        p = [] \n",
    "        for tag in T:\n",
    "            if key == 0:\n",
    "                transition_p = tags_df.loc['.', tag]\n",
    "            else:\n",
    "                transition_p = tags_df.loc[state[-1], tag]\n",
    "                \n",
    "            # compute emission and state probabilities\n",
    "            emission_p = word_given_tag(words[key], tag)[0]/word_given_tag(words[key], tag)[1]\n",
    "            state_probability = emission_p * transition_p    \n",
    "            p.append(state_probability)\n",
    "            \n",
    "        pmax = max(p)\n",
    "       \n",
    "        #Check if state probability is zero\n",
    "        if(pmax==0.0):\n",
    "            #If state probability is zero i.e if the word is unknown if updates the tag based on the brill tagger\n",
    "            state_max = brill_tagger.tag([word])[0][1]\n",
    "        else:\n",
    "            # getting state for which probability is maximum\n",
    "            state_max = T[p.index(pmax)] \n",
    "        state.append(state_max)\n",
    "    return list(zip(words, state))"
   ]
  },
  {
   "cell_type": "markdown",
   "metadata": {},
   "source": [
    "### Compare the tagging accuracies of the modifications with the vanilla Viterbi algorithm"
   ]
  },
  {
   "cell_type": "code",
   "execution_count": 50,
   "metadata": {},
   "outputs": [
    {
     "name": "stdout",
     "output_type": "stream",
     "text": [
      "693.2489144802094\n"
     ]
    }
   ],
   "source": [
    "# tagging the test sentences with the updated Viterbi algorithm\n",
    "start = time.time()\n",
    "updated_tagged_seq = Viterbi_updated(test_tagged_words)\n",
    "end = time.time()\n",
    "difference = end-start\n",
    "#Print total time taken to train the algorithm\n",
    "print(difference)"
   ]
  },
  {
   "cell_type": "markdown",
   "metadata": {},
   "source": []
  },
  {
   "cell_type": "code",
   "execution_count": 51,
   "metadata": {},
   "outputs": [
    {
     "data": {
      "text/plain": [
       "0.955511811023622"
      ]
     },
     "execution_count": 51,
     "metadata": {},
     "output_type": "execute_result"
    }
   ],
   "source": [
    "# Calculate the accuracy for the updated Viterbi algorithm\n",
    "check = [i for i, j in zip(updated_tagged_seq, test_run_base) if i == j] \n",
    "accuracy = len(check)/len(updated_tagged_seq)\n",
    "accuracy"
   ]
  },
  {
   "cell_type": "markdown",
   "metadata": {},
   "source": [
    "Accuracy is increased much by the updated Viterbi algorithm"
   ]
  },
  {
   "cell_type": "markdown",
   "metadata": {},
   "source": [
    "### List down cases which were incorrectly tagged by original POS tagger and got corrected by your modifications"
   ]
  },
  {
   "cell_type": "code",
   "execution_count": 52,
   "metadata": {},
   "outputs": [
    {
     "name": "stdout",
     "output_type": "stream",
     "text": [
      "[('Android', 'CONJ'), ('is', 'VERB'), ('a', 'DET'), ('mobile', 'ADJ'), ('operating', 'NOUN'), ('system', 'NOUN'), ('developed', 'VERB'), ('by', 'ADP'), ('Google', 'CONJ'), ('.', '.')]\n",
      "[('Android', 'CONJ'), ('has', 'VERB'), ('been', 'VERB'), ('the', 'DET'), ('best-selling', 'CONJ'), ('OS', 'CONJ'), ('worldwide', 'CONJ'), ('on', 'ADP'), ('smartphones', 'CONJ'), ('since', 'ADP'), ('2011', 'CONJ'), ('and', 'CONJ'), ('on', 'ADP'), ('tablets', 'NOUN'), ('since', 'ADP'), ('2013', 'CONJ'), ('.', '.')]\n",
      "[('Google', 'CONJ'), ('and', 'CONJ'), ('Twitter', 'CONJ'), ('made', 'VERB'), ('a', 'DET'), ('deal', 'NOUN'), ('in', 'ADP'), ('2015', 'CONJ'), ('that', 'DET'), ('gave', 'VERB'), ('Google', 'CONJ'), ('access', 'NOUN'), ('to', 'PRT'), ('Twitter', 'CONJ'), (\"'s\", 'VERB'), ('firehose', 'CONJ'), ('.', '.')]\n",
      "[('Twitter', 'CONJ'), ('is', 'VERB'), ('an', 'DET'), ('online', 'CONJ'), ('news', 'NOUN'), ('and', 'CONJ'), ('social', 'ADJ'), ('networking', 'NOUN'), ('service', 'NOUN'), ('on', 'ADP'), ('which', 'DET'), ('users', 'NOUN'), ('post', 'NOUN'), ('and', 'CONJ'), ('interact', 'CONJ'), ('with', 'ADP'), ('messages', 'CONJ'), ('known', 'VERB'), ('as', 'ADP'), ('tweets', 'CONJ'), ('.', '.')]\n",
      "[('Before', 'ADP'), ('entering', 'VERB'), ('politics', 'NOUN'), (',', '.'), ('Donald', 'NOUN'), ('Trump', 'NOUN'), ('was', 'VERB'), ('a', 'DET'), ('domineering', 'CONJ'), ('businessman', 'NOUN'), ('and', 'CONJ'), ('a', 'DET'), ('television', 'NOUN'), ('personality', 'CONJ'), ('.', '.')]\n",
      "[('The', 'DET'), ('2018', 'CONJ'), ('FIFA', 'CONJ'), ('World', 'NOUN'), ('Cup', 'CONJ'), ('is', 'VERB'), ('the', 'DET'), ('21st', 'CONJ'), ('FIFA', 'CONJ'), ('World', 'NOUN'), ('Cup', 'CONJ'), (',', '.'), ('an', 'DET'), ('international', 'ADJ'), ('football', 'NOUN'), ('tournament', 'CONJ'), ('contested', 'CONJ'), ('once', 'ADV'), ('every', 'DET'), ('four', 'NUM'), ('years', 'NOUN'), ('.', '.')]\n",
      "[('This', 'DET'), ('is', 'VERB'), ('the', 'DET'), ('first', 'ADJ'), ('World', 'NOUN'), ('Cup', 'CONJ'), ('to', 'PRT'), ('be', 'VERB'), ('held', 'VERB'), ('in', 'ADP'), ('Eastern', 'NOUN'), ('Europe', 'NOUN'), ('and', 'CONJ'), ('the', 'DET'), ('11th', 'ADJ'), ('time', 'NOUN'), ('that', 'ADP'), ('it', 'PRON'), ('has', 'VERB'), ('been', 'VERB'), ('held', 'VERB'), ('in', 'ADP'), ('Europe', 'NOUN'), ('.', '.')]\n",
      "[('Show', 'NOUN'), ('me', 'PRON'), ('the', 'DET'), ('cheapest', 'ADJ'), ('round', 'NOUN'), ('trips', 'CONJ'), ('from', 'ADP'), ('Dallas', 'NOUN'), ('to', 'PRT'), ('Atlanta', 'NOUN')]\n",
      "[('I', 'PRON'), ('would', 'VERB'), ('like', 'ADP'), ('to', 'PRT'), ('see', 'VERB'), ('flights', 'NOUN'), ('from', 'ADP'), ('Denver', 'NOUN'), ('to', 'PRT'), ('Philadelphia', 'NOUN'), ('.', '.')]\n",
      "[('Show', 'NOUN'), ('me', 'PRON'), ('the', 'DET'), ('price', 'NOUN'), ('of', 'ADP'), ('the', 'DET'), ('flights', 'NOUN'), ('leaving', 'VERB'), ('Atlanta', 'NOUN'), ('at', 'ADP'), ('about', 'ADP'), ('3', 'NUM'), ('in', 'ADP'), ('the', 'DET'), ('afternoon', 'NOUN'), ('and', 'CONJ'), ('arriving', 'CONJ'), ('in', 'ADP'), ('San', 'NOUN'), ('Francisco', 'NOUN'), ('.', '.')]\n",
      "[('NASA', 'CONJ'), ('invited', 'CONJ'), ('social', 'ADJ'), ('media', 'NOUN'), ('users', 'NOUN'), ('to', 'PRT'), ('experience', 'NOUN'), ('the', 'DET'), ('launch', 'NOUN'), ('of', 'ADP'), ('ICESAT-2', 'CONJ'), ('Satellite', 'CONJ'), ('.', '.')]\n"
     ]
    }
   ],
   "source": [
    "#print the test lines with the initial Viterbi algorithm\n",
    "for line in test_lines:\n",
    "    print(list(Viterbi(word_tokenize(line))))"
   ]
  },
  {
   "cell_type": "code",
   "execution_count": 53,
   "metadata": {},
   "outputs": [
    {
     "name": "stdout",
     "output_type": "stream",
     "text": [
      "[('Android', 'NOUN'), ('is', 'VERB'), ('a', 'DET'), ('mobile', 'ADJ'), ('operating', 'NOUN'), ('system', 'NOUN'), ('developed', 'VERB'), ('by', 'ADP'), ('Google', 'NOUN'), ('.', '.')]\n",
      "[('Android', 'NOUN'), ('has', 'VERB'), ('been', 'VERB'), ('the', 'DET'), ('best-selling', 'VERB'), ('OS', 'NOUN'), ('worldwide', 'NOUN'), ('on', 'ADP'), ('smartphones', 'VERB'), ('since', 'ADP'), ('2011', 'NUM'), ('and', 'CONJ'), ('on', 'ADP'), ('tablets', 'NOUN'), ('since', 'ADP'), ('2013', 'NUM'), ('.', '.')]\n",
      "[('Google', 'NOUN'), ('and', 'CONJ'), ('Twitter', 'NOUN'), ('made', 'VERB'), ('a', 'DET'), ('deal', 'NOUN'), ('in', 'ADP'), ('2015', 'NUM'), ('that', 'ADP'), ('gave', 'VERB'), ('Google', 'NOUN'), ('access', 'NOUN'), ('to', 'PRT'), ('Twitter', 'NOUN'), (\"'s\", 'PRT'), ('firehose', 'NOUN'), ('.', '.')]\n",
      "[('Twitter', 'NOUN'), ('is', 'VERB'), ('an', 'DET'), ('online', 'NOUN'), ('news', 'NOUN'), ('and', 'CONJ'), ('social', 'ADJ'), ('networking', 'NOUN'), ('service', 'NOUN'), ('on', 'ADP'), ('which', 'DET'), ('users', 'NOUN'), ('post', 'NOUN'), ('and', 'CONJ'), ('interact', 'NOUN'), ('with', 'ADP'), ('messages', 'VERB'), ('known', 'VERB'), ('as', 'ADP'), ('tweets', 'NOUN'), ('.', '.')]\n",
      "[('Before', 'ADP'), ('entering', 'VERB'), ('politics', 'NOUN'), (',', '.'), ('Donald', 'NOUN'), ('Trump', 'NOUN'), ('was', 'VERB'), ('a', 'DET'), ('domineering', 'VERB'), ('businessman', 'NOUN'), ('and', 'CONJ'), ('a', 'DET'), ('television', 'NOUN'), ('personality', 'NOUN'), ('.', '.')]\n",
      "[('The', 'DET'), ('2018', 'NUM'), ('FIFA', 'NOUN'), ('World', 'NOUN'), ('Cup', 'NOUN'), ('is', 'VERB'), ('the', 'DET'), ('21st', 'NOUN'), ('FIFA', 'NOUN'), ('World', 'NOUN'), ('Cup', 'NOUN'), (',', '.'), ('an', 'DET'), ('international', 'ADJ'), ('football', 'NOUN'), ('tournament', 'NOUN'), ('contested', 'VERB'), ('once', 'ADV'), ('every', 'DET'), ('four', 'NUM'), ('years', 'NOUN'), ('.', '.')]\n",
      "[('This', 'DET'), ('is', 'VERB'), ('the', 'DET'), ('first', 'ADJ'), ('World', 'NOUN'), ('Cup', 'NOUN'), ('to', 'PRT'), ('be', 'VERB'), ('held', 'VERB'), ('in', 'ADP'), ('Eastern', 'NOUN'), ('Europe', 'NOUN'), ('and', 'CONJ'), ('the', 'DET'), ('11th', 'ADJ'), ('time', 'NOUN'), ('that', 'ADP'), ('it', 'PRON'), ('has', 'VERB'), ('been', 'VERB'), ('held', 'VERB'), ('in', 'ADP'), ('Europe', 'NOUN'), ('.', '.')]\n",
      "[('Show', 'NOUN'), ('me', 'PRON'), ('the', 'DET'), ('cheapest', 'ADJ'), ('round', 'NOUN'), ('trips', 'NOUN'), ('from', 'ADP'), ('Dallas', 'NOUN'), ('to', 'PRT'), ('Atlanta', 'NOUN')]\n",
      "[('I', 'PRON'), ('would', 'VERB'), ('like', 'ADP'), ('to', 'PRT'), ('see', 'VERB'), ('flights', 'NOUN'), ('from', 'ADP'), ('Denver', 'NOUN'), ('to', 'PRT'), ('Philadelphia', 'NOUN'), ('.', '.')]\n",
      "[('Show', 'NOUN'), ('me', 'PRON'), ('the', 'DET'), ('price', 'NOUN'), ('of', 'ADP'), ('the', 'DET'), ('flights', 'NOUN'), ('leaving', 'VERB'), ('Atlanta', 'NOUN'), ('at', 'ADP'), ('about', 'ADP'), ('3', 'NUM'), ('in', 'ADP'), ('the', 'DET'), ('afternoon', 'NOUN'), ('and', 'CONJ'), ('arriving', 'VERB'), ('in', 'ADP'), ('San', 'NOUN'), ('Francisco', 'NOUN'), ('.', '.')]\n",
      "[('NASA', 'NOUN'), ('invited', 'VERB'), ('social', 'ADJ'), ('media', 'NOUN'), ('users', 'NOUN'), ('to', 'PRT'), ('experience', 'NOUN'), ('the', 'DET'), ('launch', 'NOUN'), ('of', 'ADP'), ('ICESAT-2', 'NOUN'), ('Satellite', 'NOUN'), ('.', '.')]\n"
     ]
    }
   ],
   "source": [
    "#print the test lines with the updated Viterbi algorithm\n",
    "for line in test_lines:\n",
    "    print(list(Viterbi_updated(word_tokenize(line))))"
   ]
  },
  {
   "cell_type": "markdown",
   "metadata": {},
   "source": [
    "The following sentences are corrected by the modified viterbi algorithm"
   ]
  },
  {
   "cell_type": "markdown",
   "metadata": {},
   "source": [
    "##### 'Android is a mobile operating system developed by Google.'"
   ]
  },
  {
   "cell_type": "markdown",
   "metadata": {},
   "source": [
    "Here 'Android', 'Google' are unknown words and are incorrectly tagged in the initial viterbi algorithm. However with the updated Viterbi algorithm 'Android' and 'Google' are correctly classified as Nouns though they are unknown words"
   ]
  },
  {
   "cell_type": "markdown",
   "metadata": {},
   "source": [
    "###### 'Android has been the best-selling OS worldwide on smartphones since 2011 and on tablets since 2013.'"
   ]
  },
  {
   "cell_type": "markdown",
   "metadata": {},
   "source": [
    "Here 'Android', 'Google',' worldwide' are unknown words and are incorrectly tagged in the initial viterbi algorithm. However with the updated Viterbi algorithm 'Android' and 'Google' are correctly classified as Nouns though they are unknown words.\n",
    "\n",
    "Also words like '2011' are incorrectly classified with the original algorithm. Because we used rule based tagger as backoff tagger and we have rule for indicating cardinal numbers '2011' is correctly tagged as 'NUM' in the updated viterbi algorithm"
   ]
  },
  {
   "cell_type": "markdown",
   "metadata": {},
   "source": [
    " ##### 'NASA invited social media users to experience the launch of ICESAT-2 Satellite.'"
   ]
  },
  {
   "cell_type": "markdown",
   "metadata": {},
   "source": [
    "Here 'NASA', 'ICESAT-2',' Satellite' are unknown words and are incorrectly tagged in the initial viterbi algorithm. However with the updated Viterbi algorithm 'Android' and 'Google' are correctly classified as Nouns though they are unknown words.\n",
    "\n",
    "Also words like '2011' are incorrectly classified with the original algorithm. Because we used rule based tagger as backoff tagger and we have rule for indicating cardinal numbers '2011' is correctly tagged as 'NUM' in the updated viterbi algorithm"
   ]
  },
  {
   "cell_type": "code",
   "execution_count": 57,
   "metadata": {},
   "outputs": [],
   "source": [
    "# Viterbi Heuristic\n",
    "def Viterbi_updatedV2(words, train_bag = train_tagged_words):\n",
    "    state = []\n",
    "    T = list(set([pair[1] for pair in train_bag]))\n",
    "    \n",
    "    for key, word in enumerate(words):\n",
    "        #initialise list of probability column for a given observation\n",
    "        p = [] \n",
    "        for tag in T:\n",
    "            if key == 0:\n",
    "                transition_p = tags_df.loc['.', tag]\n",
    "            else:\n",
    "                transition_p = tags_df.loc[state[-1], tag]\n",
    "                \n",
    "            # compute emission and state probabilities\n",
    "            emission_p = word_given_tag(words[key], tag)[0]/word_given_tag(words[key], tag)[1]\n",
    "            state_probability = emission_p * transition_p    \n",
    "            p.append(state_probability)\n",
    "            \n",
    "        pmax = max(p)\n",
    "       \n",
    "        #Check if state probability is zero\n",
    "        if(pmax<0.001):\n",
    "            #If state probability is zero i.e if the word is unknown it updates the tag based on the brill tagger\n",
    "            state_max = brill_tagger.tag([word])[0][1]\n",
    "        else:\n",
    "            # getting state for which probability is maximum\n",
    "            state_max = T[p.index(pmax)] \n",
    "        state.append(state_max)\n",
    "    return list(zip(words, state))"
   ]
  },
  {
   "cell_type": "code",
   "execution_count": 58,
   "metadata": {},
   "outputs": [
    {
     "name": "stdout",
     "output_type": "stream",
     "text": [
      "683.4997766017914\n"
     ]
    }
   ],
   "source": [
    "# tagging the test sentences with the updated Viterbi algorithm\n",
    "start = time.time()\n",
    "updated_tagged_seq = Viterbi_updatedV2(test_tagged_words)\n",
    "end = time.time()\n",
    "difference = end-start\n",
    "#Print total time taken to train the algorithm\n",
    "print(difference)"
   ]
  },
  {
   "cell_type": "code",
   "execution_count": 56,
   "metadata": {},
   "outputs": [
    {
     "data": {
      "text/plain": [
       "0.9480314960629921"
      ]
     },
     "execution_count": 56,
     "metadata": {},
     "output_type": "execute_result"
    }
   ],
   "source": [
    "# Calculate the accuracy for the updated Viterbi algorithm\n",
    "check = [i for i, j in zip(updated_tagged_seq, test_run_base) if i == j] \n",
    "accuracy = len(check)/len(updated_tagged_seq)\n",
    "accuracy"
   ]
  },
  {
   "cell_type": "code",
   "execution_count": null,
   "metadata": {},
   "outputs": [],
   "source": []
  }
 ],
 "metadata": {
  "kernelspec": {
   "display_name": "Python 3",
   "language": "python",
   "name": "python3"
  },
  "language_info": {
   "codemirror_mode": {
    "name": "ipython",
    "version": 3
   },
   "file_extension": ".py",
   "mimetype": "text/x-python",
   "name": "python",
   "nbconvert_exporter": "python",
   "pygments_lexer": "ipython3",
   "version": "3.8.3"
  }
 },
 "nbformat": 4,
 "nbformat_minor": 2
}
