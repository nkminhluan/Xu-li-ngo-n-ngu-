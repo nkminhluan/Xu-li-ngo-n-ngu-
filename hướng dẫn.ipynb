{
 "cells": [
  {
   "cell_type": "code",
   "execution_count": 60,
   "metadata": {},
   "outputs": [],
   "source": [
    "import nltk"
   ]
  },
  {
   "cell_type": "code",
   "execution_count": 61,
   "metadata": {
    "scrolled": false
   },
   "outputs": [
    {
     "name": "stdout",
     "output_type": "stream",
     "text": [
      "16382\n"
     ]
    }
   ],
   "source": [
    "filename = 'train.txt'\n",
    "with open(filename) as f:\n",
    "    lines = f.readlines()\n",
    "print(len(lines))\n"
   ]
  },
  {
   "cell_type": "code",
   "execution_count": 62,
   "metadata": {},
   "outputs": [],
   "source": [
    "# tính 2-gram và tần suất \n",
    "from nltk import ngrams\n",
    "from collections import Counter\n",
    "\n",
    "bi_counter = Counter()\n",
    "for sent in lines:\n",
    "    words = nltk.word_tokenize(sent)\n",
    "    gram2=ngrams(words,2)\n",
    "    join_grams = ['_'.join(list(gram)) for gram in gram2]\n",
    "    #print(join_grams)\n",
    "    bi_counter.update(join_grams)\n",
    "\n",
    "#print(len(bi_counter))\n",
    "#in thử một số \n",
    "#print(bi_counter.most_common)"
   ]
  },
  {
   "cell_type": "code",
   "execution_count": 1,
   "metadata": {},
   "outputs": [
    {
     "name": "stdout",
     "output_type": "stream",
     "text": [
      "('tớ',)\n",
      "tớ\n",
      "('là',)\n",
      "là\n",
      "('Luân',)\n",
      "Luân\n"
     ]
    }
   ],
   "source": [
    "# ví dụ extract ngrams\n",
    "from nltk import ngrams\n",
    "sentence = 'tớ là Luân'\n",
    "n = 1\n",
    "sixgrams = ngrams(sentence.split(), n)\n",
    "for grams in sixgrams:\n",
    "    print(grams)\n",
    "    a = list(grams)\n",
    "    print('_'.join(a))\n"
   ]
  },
  {
   "cell_type": "code",
   "execution_count": 3,
   "metadata": {},
   "outputs": [
    {
     "name": "stdout",
     "output_type": "stream",
     "text": [
      "['tớ', 'là', '1', 'con', 'người', 'chuẩn', 'mực', 'đạo', 'đức', 'đức', 'đức', 'đức']\n",
      "Counter({'đức': 4, 'tớ': 1, 'là': 1, '1': 1, 'con': 1, 'người': 1, 'chuẩn': 1, 'mực': 1, 'đạo': 1})\n",
      "1\n",
      "1\n"
     ]
    }
   ],
   "source": [
    "# ví dụ về counter\n",
    "from collections import Counter\n",
    "sentence = 'tớ là 1 con người chuẩn mực đạo đức đức đức đức'\n",
    "words = sentence.split()\n",
    "print(words)\n",
    "sum=0\n",
    "count = Counter()\n",
    "count.update(words)\n",
    "print(count)\n",
    "for i in count:\n",
    "    if count[i]==4:\n",
    "        sum= sum +1\n",
    "print(sum)   \n",
    "print(list(count.values()).count(4))"
   ]
  },
  {
   "cell_type": "code",
   "execution_count": null,
   "metadata": {},
   "outputs": [],
   "source": []
  },
  {
   "cell_type": "code",
   "execution_count": null,
   "metadata": {},
   "outputs": [],
   "source": []
  }
 ],
 "metadata": {
  "kernelspec": {
   "display_name": "Python 3",
   "language": "python",
   "name": "python3"
  },
  "language_info": {
   "codemirror_mode": {
    "name": "ipython",
    "version": 3
   },
   "file_extension": ".py",
   "mimetype": "text/x-python",
   "name": "python",
   "nbconvert_exporter": "python",
   "pygments_lexer": "ipython3",
   "version": "3.8.3"
  }
 },
 "nbformat": 4,
 "nbformat_minor": 2
}
