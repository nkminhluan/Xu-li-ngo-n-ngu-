{
 "cells": [
  {
   "cell_type": "code",
   "execution_count": 2,
   "metadata": {},
   "outputs": [
    {
     "name": "stdout",
     "output_type": "stream",
     "text": [
      "['maaaanssss maaan']\n"
     ]
    }
   ],
   "source": [
    "import re\n",
    "string = 'maaaanssss maaan'\n",
    "pattern = r'^ma.*n'\n",
    "x = re.findall(pattern, string)\n",
    "print(x)"
   ]
  },
  {
   "cell_type": "code",
   "execution_count": 15,
   "metadata": {},
   "outputs": [
    {
     "name": "stdout",
     "output_type": "stream",
     "text": [
      "['cô ấy dạy môn tin học', 'anh dạy môn toán', 'cô ấy học toán anh ấy dạy', 'môn toán môn tin đều hay', 'anh ấy dạy môn toán hay môn tin']\n"
     ]
    }
   ],
   "source": [
    "import nltk\n",
    "s=[]\n",
    "s.append('cô ấy dạy môn tin học')\n",
    "s.append('anh dạy môn toán')\n",
    "s.append('cô ấy học toán anh ấy dạy')\n",
    "s.append('môn toán môn tin đều hay')\n",
    "s.append('anh ấy dạy môn toán hay môn tin')\n",
    "print(s)"
   ]
  },
  {
   "cell_type": "code",
   "execution_count": 7,
   "metadata": {},
   "outputs": [
    {
     "name": "stdout",
     "output_type": "stream",
     "text": [
      "['cô', 'ấy', 'dạy', 'môn', 'tin', 'học']\n",
      "['anh', 'ấy', 'dạy', 'môn', 'toán']\n",
      "['cô', 'ấy', 'học', 'toán', 'anh', 'ấy', 'dạy']\n",
      "['môn', 'toán', 'môn', 'tin', 'đều', 'hay']\n",
      "['anh', 'ấy', 'dạy', 'môn', 'toán', 'hay', 'môn', 'tin']\n"
     ]
    }
   ],
   "source": [
    "pattern = r'\\w+'\n",
    "for i in range(len(s)):\n",
    "    find = re.findall(pattern,s[i])\n",
    "    print(find)"
   ]
  },
  {
   "cell_type": "code",
   "execution_count": 16,
   "metadata": {},
   "outputs": [
    {
     "name": "stdout",
     "output_type": "stream",
     "text": [
      "{'cô': 2, 'ấy': 4, 'dạy': 4, 'môn': 6, 'tin': 3, 'học': 2, 'anh': 3, 'toán': 4, 'đều': 1, 'hay': 2}\n",
      "31\n"
     ]
    }
   ],
   "source": [
    "unigram_dict={}\n",
    "total_count=0\n",
    "for sent in s:\n",
    "    words=nltk.word_tokenize(sent)\n",
    "    total_count+=len(words)\n",
    "    for w in words:\n",
    "        if w in unigram_dict.keys():\n",
    "            unigram_dict[w]+=1\n",
    "        else:\n",
    "            unigram_dict[w]=1\n",
    "print(unigram_dict)\n",
    "print(total_count)"
   ]
  },
  {
   "cell_type": "code",
   "execution_count": 39,
   "metadata": {},
   "outputs": [
    {
     "name": "stdout",
     "output_type": "stream",
     "text": [
      "{'<s>_cô': 2, 'cô_ấy': 2, 'ấy_dạy': 3, 'dạy_môn': 3, 'môn_tin': 3, 'tin_học': 1, '<s>_anh': 2, 'anh_dạy': 1, 'môn_toán': 3, 'ấy_học': 1, 'học_toán': 1, 'toán_anh': 1, 'anh_ấy': 2, '<s>_môn': 1, 'toán_môn': 1, 'tin_đều': 1, 'đều_hay': 1, 'toán_hay': 1, 'hay_môn': 1}\n"
     ]
    }
   ],
   "source": [
    "bigram_dict={}\n",
    "for sent in s:\n",
    "    words=nltk.word_tokenize(sent)\n",
    "    for i in range(len(words)):\n",
    "        if i==0:\n",
    "            gram='<s>_'+words[i]\n",
    "        else:\n",
    "            gram=words[i-1]+'_'+words[i]\n",
    "            \n",
    "        if gram in bigram_dict.keys():\n",
    "            bigram_dict[gram]+=1\n",
    "        else:\n",
    "            bigram_dict[gram]=1\n",
    "print(bigram_dict)"
   ]
  },
  {
   "cell_type": "code",
   "execution_count": 40,
   "metadata": {},
   "outputs": [
    {
     "name": "stdout",
     "output_type": "stream",
     "text": [
      "1.5089514879431807e-05\n"
     ]
    }
   ],
   "source": [
    "input_sent = 'anh dạy môn tin học'\n",
    "words = nltk.word_tokenize(input_sent)\n",
    "p = 1\n",
    "for w in words:\n",
    "    if w in unigram_dict.keys():\n",
    "        p *= unigram_dict[w]/total_count\n",
    "    else:\n",
    "        p = 0\n",
    "        break\n",
    "print(p)"
   ]
  },
  {
   "cell_type": "code",
   "execution_count": 42,
   "metadata": {},
   "outputs": [
    {
     "ename": "KeyError",
     "evalue": "'<s>_anh'",
     "output_type": "error",
     "traceback": [
      "\u001b[0;31m---------------------------------------------------------------------------\u001b[0m",
      "\u001b[0;31mKeyError\u001b[0m                                  Traceback (most recent call last)",
      "\u001b[0;32m<ipython-input-42-b6875f0b07d0>\u001b[0m in \u001b[0;36m<module>\u001b[0;34m\u001b[0m\n\u001b[1;32m     12\u001b[0m         \u001b[0munigram_count\u001b[0m \u001b[0;34m=\u001b[0m \u001b[0munigram_dict\u001b[0m\u001b[0;34m[\u001b[0m\u001b[0mwords\u001b[0m\u001b[0;34m[\u001b[0m\u001b[0mi\u001b[0m\u001b[0;34m-\u001b[0m\u001b[0;36m1\u001b[0m\u001b[0;34m]\u001b[0m\u001b[0;34m]\u001b[0m\u001b[0;34m\u001b[0m\u001b[0;34m\u001b[0m\u001b[0m\n\u001b[1;32m     13\u001b[0m     \u001b[0;32mif\u001b[0m \u001b[0mbigram\u001b[0m \u001b[0;32min\u001b[0m \u001b[0mbiogram_dict\u001b[0m\u001b[0;34m.\u001b[0m\u001b[0mkeys\u001b[0m\u001b[0;34m(\u001b[0m\u001b[0;34m)\u001b[0m\u001b[0;34m:\u001b[0m\u001b[0;34m\u001b[0m\u001b[0;34m\u001b[0m\u001b[0m\n\u001b[0;32m---> 14\u001b[0;31m         \u001b[0mp\u001b[0m \u001b[0;34m*=\u001b[0m \u001b[0mbigram_dict\u001b[0m\u001b[0;34m[\u001b[0m\u001b[0mbigram\u001b[0m\u001b[0;34m]\u001b[0m\u001b[0;34m/\u001b[0m\u001b[0munigram_count\u001b[0m\u001b[0;34m\u001b[0m\u001b[0;34m\u001b[0m\u001b[0m\n\u001b[0m\u001b[1;32m     15\u001b[0m     \u001b[0;32melse\u001b[0m\u001b[0;34m:\u001b[0m\u001b[0;34m\u001b[0m\u001b[0;34m\u001b[0m\u001b[0m\n\u001b[1;32m     16\u001b[0m         \u001b[0mp\u001b[0m \u001b[0;34m=\u001b[0m \u001b[0;36m0\u001b[0m\u001b[0;34m\u001b[0m\u001b[0;34m\u001b[0m\u001b[0m\n",
      "\u001b[0;31mKeyError\u001b[0m: '<s>_anh'"
     ]
    }
   ],
   "source": [
    "bigram_dict={}\n",
    "input_sent = 'anh dạy môn tin học'\n",
    "words = nltk.word_tokenize(input_sent)\n",
    "p = 1\n",
    "unigram_count = 0\n",
    "for i in range(len(words)):\n",
    "    if i == 0:\n",
    "        bigram = '<s>_'+words[i]\n",
    "        unigram_count= len(s)\n",
    "    else:\n",
    "        bigram= words[i-1]+'_'+words[i]\n",
    "        unigram_count = unigram_dict[words[i-1]]\n",
    "    if bigram in biogram_dict.keys():\n",
    "        p *= bigram_dict[bigram]/unigram_count\n",
    "    else:\n",
    "        p = 0\n",
    "        break\n",
    "print(p)"
   ]
  },
  {
   "cell_type": "code",
   "execution_count": null,
   "metadata": {},
   "outputs": [],
   "source": []
  },
  {
   "cell_type": "code",
   "execution_count": null,
   "metadata": {},
   "outputs": [],
   "source": []
  }
 ],
 "metadata": {
  "kernelspec": {
   "display_name": "Python 3",
   "language": "python",
   "name": "python3"
  },
  "language_info": {
   "codemirror_mode": {
    "name": "ipython",
    "version": 3
   },
   "file_extension": ".py",
   "mimetype": "text/x-python",
   "name": "python",
   "nbconvert_exporter": "python",
   "pygments_lexer": "ipython3",
   "version": "3.8.3"
  }
 },
 "nbformat": 4,
 "nbformat_minor": 4
}
