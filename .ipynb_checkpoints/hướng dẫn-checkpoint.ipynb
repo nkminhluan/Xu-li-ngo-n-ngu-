{
 "cells": [
  {
   "cell_type": "code",
   "execution_count": 60,
   "metadata": {},
   "outputs": [],
   "source": [
    "import nltk"
   ]
  },
  {
   "cell_type": "code",
   "execution_count": 61,
   "metadata": {
    "scrolled": false
   },
   "outputs": [
    {
     "name": "stdout",
     "output_type": "stream",
     "text": [
      "16382\n"
     ]
    }
   ],
   "source": [
    "filename = 'train.txt'\n",
    "with open(filename) as f:\n",
    "    lines = f.readlines()\n",
    "print(len(lines))\n"
   ]
  },
  {
   "cell_type": "code",
   "execution_count": 62,
   "metadata": {},
   "outputs": [],
   "source": [
    "# tính 2-gram và tần suất \n",
    "from nltk import ngrams\n",
    "from collections import Counter\n",
    "\n",
    "bi_counter = Counter()\n",
    "for sent in lines:\n",
    "    words = nltk.word_tokenize(sent)\n",
    "    gram2=ngrams(words,2)\n",
    "    join_grams = ['_'.join(list(gram)) for gram in gram2]\n",
    "    #print(join_grams)\n",
    "    bi_counter.update(join_grams)\n",
    "\n",
    "#print(len(bi_counter))\n",
    "#in thử một số \n",
    "#print(bi_counter.most_common)"
   ]
  },
  {
   "cell_type": "code",
   "execution_count": 63,
   "metadata": {},
   "outputs": [
    {
     "name": "stdout",
     "output_type": "stream",
     "text": [
      "('this',)\n",
      "this\n",
      "('is',)\n",
      "is\n",
      "('a',)\n",
      "a\n",
      "('foo',)\n",
      "foo\n",
      "('bar',)\n",
      "bar\n",
      "('sentences',)\n",
      "sentences\n",
      "('and',)\n",
      "and\n",
      "('i',)\n",
      "i\n",
      "('want',)\n",
      "want\n",
      "('to',)\n",
      "to\n",
      "('ngramize',)\n",
      "ngramize\n",
      "('it',)\n",
      "it\n"
     ]
    }
   ],
   "source": [
    "# ví dụ extract ngrams\n",
    "from nltk import ngrams\n",
    "sentence = 'this is a foo bar sentences and i want to ngramize it'\n",
    "n = 1\n",
    "sixgrams = ngrams(sentence.split(), n)\n",
    "for grams in sixgrams:\n",
    "    print(grams)\n",
    "    a = list(grams)\n",
    "    print('_'.join(a))\n"
   ]
  },
  {
   "cell_type": "code",
   "execution_count": 71,
   "metadata": {},
   "outputs": [
    {
     "name": "stdout",
     "output_type": "stream",
     "text": [
      "['there', 'is', 'a', 'cat', 'and', 'a', 'dog', 'but', 'I', 'like', 'the', 'dog', 'dog']\n",
      "Counter({'dog': 3, 'a': 2, 'there': 1, 'is': 1, 'cat': 1, 'and': 1, 'but': 1, 'I': 1, 'like': 1, 'the': 1})\n",
      "8\n"
     ]
    }
   ],
   "source": [
    "# ví dụ về counter\n",
    "from collections import Counter\n",
    "sentence = 'there is a cat and a dog but I like the dog dog'\n",
    "words = sentence.split()\n",
    "print(words)\n",
    "\n",
    "count = Counter()\n",
    "count.update(words)\n",
    "print(count)\n",
    "print(list(count.values()).count(1))"
   ]
  },
  {
   "cell_type": "code",
   "execution_count": null,
   "metadata": {},
   "outputs": [],
   "source": []
  },
  {
   "cell_type": "code",
   "execution_count": null,
   "metadata": {},
   "outputs": [],
   "source": []
  }
 ],
 "metadata": {
  "kernelspec": {
   "display_name": "Python 3",
   "language": "python",
   "name": "python3"
  },
  "language_info": {
   "codemirror_mode": {
    "name": "ipython",
    "version": 3
   },
   "file_extension": ".py",
   "mimetype": "text/x-python",
   "name": "python",
   "nbconvert_exporter": "python",
   "pygments_lexer": "ipython3",
   "version": "3.8.3"
  }
 },
 "nbformat": 4,
 "nbformat_minor": 2
}
