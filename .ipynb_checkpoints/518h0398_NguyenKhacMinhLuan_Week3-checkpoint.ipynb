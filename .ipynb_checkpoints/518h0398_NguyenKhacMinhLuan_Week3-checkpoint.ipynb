{
 "cells": [
  {
   "cell_type": "code",
   "execution_count": 1,
   "metadata": {},
   "outputs": [
    {
     "name": "stdout",
     "output_type": "stream",
     "text": [
      "[\"Here are two reasons companies fail: they only do more of the same, or they only do what's new\", 'To me the real, real solution to quality growth is figuring out the balance between two activities: exploration and exploitation', 'Both are necessary, but it can be too much of a good thing', 'Consider Facit', \"I'm actually old enough to remember them\", 'Facit was a fantastic company', 'Everybody used them', 'And what did Facit do when the electronic calculator came along? They continued doing exactly the same', 'In six months, they went from maximum revenue', 'and they were gone']\n"
     ]
    }
   ],
   "source": [
    "filename='train.txt'\n",
    "lines=[]\n",
    "count=0\n",
    "#Max=-1\n",
    "Max=10000\n",
    "with open(filename,'r') as f:\n",
    "    for s in f:\n",
    "        count+=1\n",
    "        if count>Max and Max!=-1:\n",
    "            break\n",
    "        lines.append(s.strip())\n",
    "#print(len(lines))\n",
    "print(lines[:10])   "
   ]
  },
  {
   "cell_type": "code",
   "execution_count": 2,
   "metadata": {},
   "outputs": [
    {
     "name": "stdout",
     "output_type": "stream",
     "text": [
      "all_tokens_count= 185925\n",
      "10000\n",
      "[['<s>', 'here', 'are', 'two', 'reasons', 'companies', 'fail', ':', 'they', 'only', 'do', 'more', 'of', 'the', 'same', ',', 'or', 'they', 'only', 'do', 'what', \"'s\", 'new', '</s>'], ['<s>', 'to', 'me', 'the', 'real', ',', 'real', 'solution', 'to', 'quality', 'growth', 'is', 'figuring', 'out', 'the', 'balance', 'between', 'two', 'activities', ':', 'exploration', 'and', 'exploitation', '</s>'], ['<s>', 'both', 'are', 'necessary', ',', 'but', 'it', 'can', 'be', 'too', 'much', 'of', 'a', 'good', 'thing', '</s>'], ['<s>', 'consider', 'facit', '</s>'], ['<s>', 'i', \"'m\", 'actually', 'old', 'enough', 'to', 'remember', 'them', '</s>']]\n"
     ]
    }
   ],
   "source": [
    "import nltk\n",
    "sentences=[]\n",
    "all_tokens_count=0\n",
    "for line in lines:\n",
    "    tokens = nltk.word_tokenize(line.lower())\n",
    "    all_tokens_count+=len(tokens)\n",
    "    #sentences.append(tokens)\n",
    "    sentences.append(['<s>']+tokens+['</s>'])\n",
    "print('all_tokens_count=',all_tokens_count)\n",
    "print(len(sentences))\n",
    "print(sentences[:5])"
   ]
  },
  {
   "cell_type": "code",
   "execution_count": 3,
   "metadata": {},
   "outputs": [
    {
     "name": "stdout",
     "output_type": "stream",
     "text": [
      "V = 12838\n",
      "n = 185925\n"
     ]
    }
   ],
   "source": [
    "from collections import Counter\n",
    "counter_unigram=Counter()\n",
    "for sent in sentences:\n",
    "    counter_unigram.update(sent)\n",
    "V=len(counter_unigram)\n",
    "print('V =',V)\n",
    "n=0\n",
    "for gram in counter_unigram:\n",
    "    n+=counter_unigram[gram]\n",
    "n=n-counter_unigram['<s>']-counter_unigram['</s>']\n",
    "print('n =',n)"
   ]
  },
  {
   "cell_type": "code",
   "execution_count": 4,
   "metadata": {},
   "outputs": [
    {
     "name": "stdout",
     "output_type": "stream",
     "text": [
      "195925\n",
      "V = 80120\n",
      "10\n"
     ]
    }
   ],
   "source": [
    "from nltk import ngrams\n",
    "bi_grams=[]\n",
    "for sent in sentences:\n",
    "    gram2=ngrams(sent,2)\n",
    "    bi_grams.extend(gram2)\n",
    "print(len(bi_grams))\n",
    "\n",
    "# for i in range(3):\n",
    "#     print(bi_grams[i])\n",
    "\n",
    "counter_bigram = Counter(bi_grams)\n",
    "print('V =',len(counter_bigram))\n",
    "print(counter_bigram[('here','are')])"
   ]
  },
  {
   "cell_type": "code",
   "execution_count": 5,
   "metadata": {},
   "outputs": [
    {
     "name": "stdout",
     "output_type": "stream",
     "text": [
      "185925\n",
      "V = 142550\n",
      "2\n"
     ]
    }
   ],
   "source": [
    "tri_grams=[]\n",
    "for sent in sentences:\n",
    "    gram3=ngrams(sent,3)\n",
    "    tri_grams.extend(gram3)\n",
    "print(len(tri_grams))\n",
    "\n",
    "# for i in range(3):\n",
    "#     print(tri_grams[i])\n",
    "\n",
    "counter_trigram = Counter(tri_grams)\n",
    "print('V =',len(counter_trigram))\n",
    "print(counter_trigram[('here','are','two')])"
   ]
  },
  {
   "cell_type": "code",
   "execution_count": 6,
   "metadata": {},
   "outputs": [
    {
     "name": "stdout",
     "output_type": "stream",
     "text": [
      "175929\n",
      "V = 163392\n",
      "1\n"
     ]
    }
   ],
   "source": [
    "four_grams=[]\n",
    "for sent in sentences:\n",
    "    gram4=ngrams(sent,4)\n",
    "    four_grams.extend(gram4)\n",
    "print(len(four_grams))\n",
    "\n",
    "# for i in range(3):\n",
    "#     print(four_grams[i])\n",
    "\n",
    "counter_fourgram = Counter(four_grams)\n",
    "print('V =',len(counter_fourgram))\n",
    "print(counter_fourgram[('here','are','two','reasons')])"
   ]
  },
  {
   "cell_type": "markdown",
   "metadata": {},
   "source": [
    "# GOOD TURING\n",
    "# C* = C+1*(Nc+1/Nc)\n",
    "# P(GT) = C*/N"
   ]
  },
  {
   "cell_type": "markdown",
   "metadata": {},
   "source": [
    "# CALCULATE N1, N2, N3, N4 OF GOOD TURING"
   ]
  },
  {
   "cell_type": "code",
   "execution_count": 7,
   "metadata": {},
   "outputs": [
    {
     "name": "stdout",
     "output_type": "stream",
     "text": [
      "5971\n"
     ]
    }
   ],
   "source": [
    "N1 = list(counter_unigram.values()).count(1)\n",
    "print(N1)"
   ]
  },
  {
   "cell_type": "code",
   "execution_count": 8,
   "metadata": {},
   "outputs": [
    {
     "name": "stdout",
     "output_type": "stream",
     "text": [
      "2006\n"
     ]
    }
   ],
   "source": [
    "N2 = list(counter_unigram.values()).count(2)\n",
    "print(N2)"
   ]
  },
  {
   "cell_type": "code",
   "execution_count": 9,
   "metadata": {},
   "outputs": [
    {
     "name": "stdout",
     "output_type": "stream",
     "text": [
      "1010\n"
     ]
    }
   ],
   "source": [
    "N3 = list(counter_unigram.values()).count(3)\n",
    "print(N3)"
   ]
  },
  {
   "cell_type": "code",
   "execution_count": 10,
   "metadata": {},
   "outputs": [
    {
     "name": "stdout",
     "output_type": "stream",
     "text": [
      "645\n"
     ]
    }
   ],
   "source": [
    "N4 = list(counter_unigram.values()).count(4)\n",
    "print(N4)"
   ]
  },
  {
   "cell_type": "markdown",
   "metadata": {},
   "source": [
    "# GOOD TURING N-GRAMS CALCULATIONS"
   ]
  },
  {
   "cell_type": "markdown",
   "metadata": {},
   "source": [
    "# # SEEN ONCE"
   ]
  },
  {
   "cell_type": "code",
   "execution_count": 11,
   "metadata": {},
   "outputs": [
    {
     "name": "stdout",
     "output_type": "stream",
     "text": [
      "c1 = 0.6719142522190588\n",
      "P(GT1) = 3.6138994337451054e-06\n"
     ]
    }
   ],
   "source": [
    "# c1(seen once)\n",
    "c1 = 2*(N2/N1)\n",
    "print('c1 =',c1)\n",
    "P1 = c1/all_tokens_count\n",
    "print('P(GT1) =',P1)"
   ]
  },
  {
   "cell_type": "markdown",
   "metadata": {},
   "source": [
    "# # SEEN TWICE"
   ]
  },
  {
   "cell_type": "code",
   "execution_count": 12,
   "metadata": {},
   "outputs": [
    {
     "name": "stdout",
     "output_type": "stream",
     "text": [
      "c2 = 1.5104685942173481\n",
      "P2(GT2) = 8.124074730226426e-06\n"
     ]
    }
   ],
   "source": [
    "# c2(seen twice)\n",
    "c2 = 3*(N3/N2)\n",
    "print('c2 =',c2)\n",
    "P2 = c2/all_tokens_count\n",
    "print('P2(GT2) =',P2)"
   ]
  },
  {
   "cell_type": "markdown",
   "metadata": {},
   "source": [
    "# # SEEN THIRCE"
   ]
  },
  {
   "cell_type": "code",
   "execution_count": 13,
   "metadata": {},
   "outputs": [
    {
     "name": "stdout",
     "output_type": "stream",
     "text": [
      "c3 = 2.5544554455445545\n",
      "P3(GT3) = 1.3739171416133143e-05\n"
     ]
    }
   ],
   "source": [
    "# c3(seen thirce)\n",
    "c3 = 4*(N4/N3)\n",
    "print('c3 =',c3)\n",
    "P3 = c3/all_tokens_count\n",
    "print('P3(GT3) =',P3)"
   ]
  },
  {
   "cell_type": "markdown",
   "metadata": {},
   "source": [
    "# BACKOFF"
   ]
  },
  {
   "cell_type": "code",
   "execution_count": 14,
   "metadata": {},
   "outputs": [
    {
     "name": "stdout",
     "output_type": "stream",
     "text": [
      "0.0013553852359822509\n",
      "0.03968253968253968\n",
      "0.2\n",
      "0.5\n"
     ]
    }
   ],
   "source": [
    "def uni_prob(word):\n",
    "    return max(1,counter_unigram[word])/all_tokens_count\n",
    "print(uni_prob('here'))\n",
    "def bi_prob(word1,word2):\n",
    "    if counter_bigram[(word1,word2)]>0:\n",
    "        return counter_bigram[(word1,word2)]/counter_unigram[word1]\n",
    "    else:\n",
    "        return 0.4*uni_prob(word2)\n",
    "print(bi_prob('here','are'))    \n",
    "def tri_prob(word1,word2,word3):\n",
    "    if counter_trigram[(word1,word2,word3)]>0:\n",
    "        return counter_trigram[(word1,word2,word3)]/counter_bigram[(word1,word2)]\n",
    "    else:\n",
    "        return 0.4*bi_prob(word1,word2)\n",
    "print(tri_prob('here','are','two'))\n",
    "def four_prob(word1,word2,word3,word4):\n",
    "    if counter_fourgram[(word1,word2,word3,word4)]>0:\n",
    "        return counter_fourgram[(word1,word2,word3,word4)]/counter_trigram[(word1,word2,word3)]\n",
    "    else:\n",
    "        return 0.4*tri_prob(word1,word2,word3)\n",
    "print(four_prob('here','are','two','reasons'))"
   ]
  },
  {
   "cell_type": "markdown",
   "metadata": {},
   "source": [
    "# GET WORD BASE IN FOUR_PROB"
   ]
  },
  {
   "cell_type": "code",
   "execution_count": 15,
   "metadata": {},
   "outputs": [
    {
     "name": "stdout",
     "output_type": "stream",
     "text": [
      "reasons\n"
     ]
    }
   ],
   "source": [
    "word1 = 'here'\n",
    "word2 = 'are'\n",
    "word3 = 'two'\n",
    "def get_word(word1,word2,word3):\n",
    "    p = 0\n",
    "    word =''\n",
    "    for w in counter_unigram.keys():\n",
    "        if p<four_prob(word1,word2,word3,w):\n",
    "            p = four_prob(word1,word2,word3,w)\n",
    "            word = w\n",
    "    return word\n",
    "print(get_word(word1,word2,word3))\n",
    "\n"
   ]
  },
  {
   "cell_type": "markdown",
   "metadata": {},
   "source": [
    "# PRINT N WORDS FROM THREE WORDS INPUT"
   ]
  },
  {
   "cell_type": "code",
   "execution_count": 17,
   "metadata": {},
   "outputs": [
    {
     "data": {
      "text/plain": [
       "['here', 'are', 'two', 'reasons', 'companies', 'fail', ':', 'they']"
      ]
     },
     "execution_count": 17,
     "metadata": {},
     "output_type": "execute_result"
    }
   ],
   "source": [
    "def get_sent(word1,word2,word3,n):\n",
    "    sent=[word1,word2,word3]\n",
    "    while n>0:\n",
    "        for i in range(n):\n",
    "            sent.append(get_word(sent[i],sent[i+1],sent[i+2]))\n",
    "            n-=1\n",
    "    return sent\n",
    "get_sent(word1,word2,word3,5)"
   ]
  },
  {
   "cell_type": "code",
   "execution_count": null,
   "metadata": {},
   "outputs": [],
   "source": []
  }
 ],
 "metadata": {
  "kernelspec": {
   "display_name": "Python 3",
   "language": "python",
   "name": "python3"
  },
  "language_info": {
   "codemirror_mode": {
    "name": "ipython",
    "version": 3
   },
   "file_extension": ".py",
   "mimetype": "text/x-python",
   "name": "python",
   "nbconvert_exporter": "python",
   "pygments_lexer": "ipython3",
   "version": "3.8.3"
  }
 },
 "nbformat": 4,
 "nbformat_minor": 4
}
