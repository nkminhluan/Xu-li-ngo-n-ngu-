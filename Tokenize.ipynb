{
 "cells": [
  {
   "cell_type": "code",
   "execution_count": 1,
   "metadata": {},
   "outputs": [],
   "source": [
    "# mục tiêu: sử dụng Regular Expression để tokenize một văn bản \n",
    "# luyện tập\n",
    "# https://www.w3school.com/python/python_regex.asp\n",
    "import re"
   ]
  },
  {
   "cell_type": "code",
   "execution_count": 2,
   "metadata": {},
   "outputs": [
    {
     "name": "stdout",
     "output_type": "stream",
     "text": [
      "['Let', 's', 'write', 'RegEx']\n"
     ]
    }
   ],
   "source": [
    "my_string = 'Let\\'s write RegEx!' \n",
    "pattern = r'\\w+'\n",
    "x = re.findall(pattern, my_string)\n",
    "print(x)"
   ]
  },
  {
   "cell_type": "code",
   "execution_count": 3,
   "metadata": {},
   "outputs": [
    {
     "data": {
      "text/plain": [
       "['!', '?', '.', '?', '?']"
      ]
     },
     "execution_count": 3,
     "metadata": {},
     "output_type": "execute_result"
    }
   ],
   "source": [
    "my_string = \"Let's write RegEx!  Won't that be fun?  \\\n",
    "I sure think so.  Can you find 4 sentences?  Or perhaps, all 19 words?\"\n",
    "pattern = r'[?.!]'\n",
    "re.findall(pattern, my_string)"
   ]
  },
  {
   "cell_type": "code",
   "execution_count": 4,
   "metadata": {},
   "outputs": [
    {
     "data": {
      "text/plain": [
       "['RegEx!', 'fun?', 'so.', 'sentences?', 'words?']"
      ]
     },
     "execution_count": 4,
     "metadata": {},
     "output_type": "execute_result"
    }
   ],
   "source": [
    "pattern = r'\\w+[?.!]'\n",
    "re.findall(pattern, my_string)"
   ]
  },
  {
   "cell_type": "code",
   "execution_count": 5,
   "metadata": {},
   "outputs": [
    {
     "data": {
      "text/plain": [
       "['s write RegEx!',\n",
       " 't that be fun?',\n",
       " '  I sure think so.',\n",
       " '  Can you find 4 sentences?',\n",
       " ' all 19 words?']"
      ]
     },
     "execution_count": 5,
     "metadata": {},
     "output_type": "execute_result"
    }
   ],
   "source": [
    "pattern = r'[\\s\\w]+[?.!]'\n",
    "re.findall(pattern, my_string)"
   ]
  },
  {
   "cell_type": "code",
   "execution_count": null,
   "metadata": {},
   "outputs": [],
   "source": []
  },
  {
   "cell_type": "code",
   "execution_count": 6,
   "metadata": {},
   "outputs": [],
   "source": [
    "inputs = 'Hai khu chung cư nằm trong khu vực \"phố chung cư \\\n",
    "ở Đà Nẵng. Các ca dương tính ghi nhận tại đây gồm bệnh nhân 849, 853, 780, 781, 797 và 802.\\\n",
    "Từ 25/7 đến nay, Đà Nẵng đã ghi nhận 296 người mắc nCoV. \\\n",
    "Thành phố đang tiếp tục áp dụng cách ly xã hội theo chỉ thỉ 16 để khoanh vùng, dập dịch.'"
   ]
  },
  {
   "cell_type": "code",
   "execution_count": 7,
   "metadata": {},
   "outputs": [
    {
     "name": "stdout",
     "output_type": "stream",
     "text": [
      "Hai khu chung cư nằm trong khu vực \"phố chung cư ở Đà Nẵng. Các ca dương tính ghi nhận tại đây gồm bệnh nhân 849, 853, 780, 781, 797 và 802.Từ 25/7 đến nay, Đà Nẵng đã ghi nhận 296 người mắc nCoV. Thành phố đang tiếp tục áp dụng cách ly xã hội theo chỉ thỉ 16 để khoanh vùng, dập dịch.\n"
     ]
    }
   ],
   "source": [
    "print(inputs)"
   ]
  },
  {
   "cell_type": "code",
   "execution_count": 9,
   "metadata": {},
   "outputs": [
    {
     "name": "stdout",
     "output_type": "stream",
     "text": [
      "['Hai khu chung cư nằm trong khu vực \"phố chung cư ở Đà Nẵng.', ' Các ca dương tính ghi nhận tại đây gồm bệnh nhân 849, 853, 780, 781, 797 và 802.', 'Từ 25/7 đến nay, Đà Nẵng đã ghi nhận 296 người mắc nCoV.', ' Thành phố đang tiếp tục áp dụng cách ly xã hội theo chỉ thỉ 16 để khoanh vùng, dập dịch.']\n"
     ]
    }
   ],
   "source": [
    "pattern = r'[\\s\\w,/\"]+[?.!]'\n",
    "sents = re.findall(pattern, inputs)\n",
    "print(sents)"
   ]
  },
  {
   "cell_type": "code",
   "execution_count": 10,
   "metadata": {},
   "outputs": [
    {
     "name": "stdout",
     "output_type": "stream",
     "text": [
      "['she', 'said', 'she', 'likes', 'blue', 'red', 'ones']\n"
     ]
    }
   ],
   "source": [
    "# tách từng từ, bao gồm cả các kí hiệu dấu ra khỏi từ \n",
    "txt = 'she said: she likes blue, red ones.'\n",
    "pattern = r'\\w+'\n",
    "words = re.findall(pattern,txt)\n",
    "print(words)"
   ]
  },
  {
   "cell_type": "code",
   "execution_count": null,
   "metadata": {},
   "outputs": [],
   "source": []
  },
  {
   "cell_type": "code",
   "execution_count": 11,
   "metadata": {},
   "outputs": [
    {
     "name": "stdout",
     "output_type": "stream",
     "text": [
      "['she', 'said', ':', 'she', 'likes', 'blue', 'red', 'ones', '.']\n"
     ]
    }
   ],
   "source": [
    "# tách từng từ, bao gồm cả các kí hiệu dấu ra khỏi từ \n",
    "txt = 'she said: she likes blue, red ones.'\n",
    "pattern = r'\\w+|[:.]'\n",
    "words = re.findall(pattern,txt)\n",
    "print(words)"
   ]
  },
  {
   "cell_type": "code",
   "execution_count": null,
   "metadata": {},
   "outputs": [],
   "source": []
  },
  {
   "cell_type": "code",
   "execution_count": 12,
   "metadata": {},
   "outputs": [
    {
     "name": "stdout",
     "output_type": "stream",
     "text": [
      "False\n",
      "False\n"
     ]
    }
   ],
   "source": [
    "def is_allowed_specific_char(string):\n",
    "    charRe = re.compile(r'[^a-zA-Z0-9.]')\n",
    "    string = charRe.search(string)\n",
    "    return not bool(string)\n",
    "\n",
    "print(is_allowed_specific_char(\"ABCDEFabcdef123450*&^%\")) \n",
    "print(is_allowed_specific_char(\"*&%@#!}{ABX\"))"
   ]
  },
  {
   "cell_type": "code",
   "execution_count": null,
   "metadata": {},
   "outputs": [],
   "source": []
  },
  {
   "cell_type": "code",
   "execution_count": 13,
   "metadata": {},
   "outputs": [
    {
     "name": "stdout",
     "output_type": "stream",
     "text": [
      "Not matched!\n",
      "Found a match!\n",
      "Found a match!\n",
      "Not matched!\n"
     ]
    }
   ],
   "source": [
    "def text_match(text):\n",
    "        patterns = 'ba?'\n",
    "        if re.search(patterns,  text):\n",
    "                return 'Found a match!'\n",
    "        else:\n",
    "                return('Not matched!')\n",
    "\n",
    "print(text_match(\"aac\"))\n",
    "print(text_match(\"ccabb\"))\n",
    "print(text_match(\"bc\"))\n",
    "print(text_match(\"aac\"))"
   ]
  },
  {
   "cell_type": "code",
   "execution_count": null,
   "metadata": {},
   "outputs": [],
   "source": []
  },
  {
   "cell_type": "code",
   "execution_count": 14,
   "metadata": {},
   "outputs": [
    {
     "name": "stdout",
     "output_type": "stream",
     "text": [
      "Found a match!\n",
      "Found a match!\n"
     ]
    }
   ],
   "source": [
    "def text_match(text):\n",
    "        patterns = 'ab{3}?'\n",
    "        if re.search(patterns,  text):\n",
    "                return 'Found a match!'\n",
    "        else:\n",
    "                return('Not matched!')\n",
    "\n",
    "print(text_match(\"abbbcc\"))\n",
    "print(text_match(\"aabbbbbc\"))"
   ]
  },
  {
   "cell_type": "code",
   "execution_count": null,
   "metadata": {},
   "outputs": [],
   "source": []
  },
  {
   "cell_type": "code",
   "execution_count": 17,
   "metadata": {},
   "outputs": [],
   "source": [
    "# import nltk\n",
    "# from nltk.tokenize import sent_tokenize\n",
    "# text = 'Hai khu chung cư nằm trong khu vực \"phố chung cư\" ở Đà Nẵng. Các ca dương tính ghi nhận tại đây gồm bệnh nhân 849, 853, 780, 781, 797 và 802. Từ 25/7 đến nay, Đà Nẵng đã ghi nhận 296 người mắc nCoV. Thành phố đang tiếp tục áp dụng cách ly xã hội theo chỉ thỉ 16 để khoanh vùng, dập dịch.'\n",
    "# sent_tokenize(text) "
   ]
  },
  {
   "cell_type": "code",
   "execution_count": 16,
   "metadata": {},
   "outputs": [
    {
     "data": {
      "text/plain": [
       "['Hai khu chung cư nằm trong khu vực \"phố chung cư\" ở Đà Nẵng',\n",
       " 'Các ca dương tính ghi nhận tại đây gồm bệnh nhân 849, 853, 780, 781, 797 và 802',\n",
       " 'Từ 25/7 đến nay, Đà Nẵng đã ghi nhận 296 người mắc nCoV',\n",
       " 'Thành phố đang tiếp tục áp dụng cách ly xã hội theo chỉ thỉ 16 để khoanh vùng, dập dịch.']"
      ]
     },
     "execution_count": 16,
     "metadata": {},
     "output_type": "execute_result"
    }
   ],
   "source": [
    "sentences = re.compile('[.!?] ').split(text)\n",
    "sentences"
   ]
  },
  {
   "cell_type": "code",
   "execution_count": 27,
   "metadata": {
    "scrolled": true
   },
   "outputs": [
    {
     "data": {
      "text/plain": [
       "['Hai',\n",
       " 'khu',\n",
       " 'chung',\n",
       " 'cư',\n",
       " 'nằm',\n",
       " 'trong',\n",
       " 'khu',\n",
       " 'vực',\n",
       " 'phố',\n",
       " 'chung',\n",
       " 'cư',\n",
       " 'ở',\n",
       " 'Đà',\n",
       " 'Nẵng',\n",
       " '.',\n",
       " 'Các',\n",
       " 'ca',\n",
       " 'dương',\n",
       " 'tính',\n",
       " 'ghi',\n",
       " 'nhận',\n",
       " 'tại',\n",
       " 'đây',\n",
       " 'gồm',\n",
       " 'bệnh',\n",
       " 'nhân',\n",
       " '849',\n",
       " '853',\n",
       " '780',\n",
       " '781',\n",
       " '797',\n",
       " 'và',\n",
       " '802',\n",
       " '.',\n",
       " 'Từ',\n",
       " '25',\n",
       " '7',\n",
       " 'đến',\n",
       " 'nay',\n",
       " 'Đà',\n",
       " 'Nẵng',\n",
       " 'đã',\n",
       " 'ghi',\n",
       " 'nhận',\n",
       " '296',\n",
       " 'người',\n",
       " 'mắc',\n",
       " 'nCoV',\n",
       " '.',\n",
       " 'Thành',\n",
       " 'phố',\n",
       " 'đang',\n",
       " 'tiếp',\n",
       " 'tục',\n",
       " 'áp',\n",
       " 'dụng',\n",
       " 'cách',\n",
       " 'ly',\n",
       " 'xã',\n",
       " 'hội',\n",
       " 'theo',\n",
       " 'chỉ',\n",
       " 'thỉ',\n",
       " '16',\n",
       " 'để',\n",
       " 'khoanh',\n",
       " 'vùng',\n",
       " 'dập',\n",
       " 'dịch',\n",
       " '.']"
      ]
     },
     "execution_count": 27,
     "metadata": {},
     "output_type": "execute_result"
    }
   ],
   "source": [
    "tokens = re.findall(pattern, text)\n",
    "tokens"
   ]
  },
  {
   "cell_type": "code",
   "execution_count": null,
   "metadata": {},
   "outputs": [],
   "source": []
  },
  {
   "cell_type": "code",
   "execution_count": 54,
   "metadata": {},
   "outputs": [
    {
     "name": "stdout",
     "output_type": "stream",
     "text": [
      "True\n"
     ]
    }
   ],
   "source": [
    "def is_decimal(num):\n",
    "    import re\n",
    "    dnumre = re.compile(r\"\"\"^[0-9]+(\\.[0-9]{0,9})?$\"\"\")\n",
    "    result = dnumre.search(num)\n",
    "    return bool(result)\n",
    "\n",
    "print(is_decimal('0.834'))"
   ]
  },
  {
   "cell_type": "code",
   "execution_count": 10,
   "metadata": {},
   "outputs": [
    {
     "name": "stdout",
     "output_type": "stream",
     "text": [
      "False\n",
      "False\n",
      "True\n"
     ]
    }
   ],
   "source": [
    "def is_float(floatnum):\n",
    "    import re\n",
    "    regex = r'[+-]?[0-9]+\\,[0-9]+'\n",
    "    result1 = re.search(regex, floatnum)\n",
    "    return bool(result1)\n",
    "print(is_float('123'))\n",
    "print(is_float('-3'))\n",
    "print(is_float('145,23'))"
   ]
  },
  {
   "cell_type": "code",
   "execution_count": 40,
   "metadata": {},
   "outputs": [
    {
     "data": {
      "text/plain": [
       "True"
      ]
     },
     "execution_count": 40,
     "metadata": {},
     "output_type": "execute_result"
    }
   ],
   "source": [
    "def is_number(number):\n",
    "    import re\n",
    "    regex = r'^[0-9]*$'\n",
    "    result2 = re.search(regex, number)\n",
    "    return bool(result2)\n",
    "is_number('54')"
   ]
  },
  {
   "cell_type": "code",
   "execution_count": 64,
   "metadata": {},
   "outputs": [
    {
     "name": "stdout",
     "output_type": "stream",
     "text": [
      "True\n"
     ]
    }
   ],
   "source": [
    "def is_allowed_specific_char(string):\n",
    "    import re\n",
    "    charRe = re.compile(r'[^a-zA-Z0-9.]+')\n",
    "    string = charRe.search(string)\n",
    "    return not bool(string)\n",
    "\n",
    "print(is_allowed_specific_char(\"aBCDEF234\")) "
   ]
  },
  {
   "cell_type": "code",
   "execution_count": 58,
   "metadata": {},
   "outputs": [
    {
     "name": "stdout",
     "output_type": "stream",
     "text": [
      "True\n"
     ]
    }
   ],
   "source": [
    "def is_CHARandDECIMAL(string1):\n",
    "    import re\n",
    "    chardeci = re.compile(r'[^a-zA-Z0-9.]+'+r\"\"\"^[0-9]+(\\.[0-9]{0,9})?$\"\"\")\n",
    "    string1 = chardeci.search(string1)\n",
    "    return not bool(string1)   \n",
    "print(is_CHARandDECIMAL(\"ABCDEFabcdef1234501231.123\")) "
   ]
  },
  {
   "cell_type": "code",
   "execution_count": 61,
   "metadata": {},
   "outputs": [
    {
     "data": {
      "text/plain": [
       "True"
      ]
     },
     "execution_count": 61,
     "metadata": {},
     "output_type": "execute_result"
    }
   ],
   "source": [
    "def isValidURL(web):\n",
    "    import re\n",
    "    regex = (r\"^((http|https)://)(www.)?\" +\n",
    "             \"[a-zA-Z0-9@:%._\\\\+~#?&//=]\" +\n",
    "             \"{2,256}\\\\.[a-z]\" +\n",
    "             \"{2,6}\\\\b([-a-zA-Z0-9@:%\" +\n",
    "             \"._\\\\+~#?&//=]*)\")\n",
    "    url = re.search(regex,web)\n",
    "    return bool(url)\n",
    "isValidURL(\"https://www.youtube.com/watch?v=K601I5gP0_I\")"
   ]
  },
  {
   "cell_type": "code",
   "execution_count": 66,
   "metadata": {},
   "outputs": [
    {
     "data": {
      "text/plain": [
       "True"
      ]
     },
     "execution_count": 66,
     "metadata": {},
     "output_type": "execute_result"
    }
   ],
   "source": [
    "def is_date(date):\n",
    "    import re\n",
    "    regex = r\"^(([1-9]|0[1-9]|1[0-9]|2[0-9]|3[0-1])/([1-9]|0[1-9]|1[0-2])/([0-9]{4}))\"\n",
    "    date = re.search(regex,date)\n",
    "    return bool(date)\n",
    "is_date('20/11/2019')"
   ]
  },
  {
   "cell_type": "code",
   "execution_count": 2,
   "metadata": {},
   "outputs": [
    {
     "name": "stdout",
     "output_type": "stream",
     "text": [
      "['python', 're', 'regular', 'expression', 'search', 'token', 'sample']\n"
     ]
    }
   ],
   "source": [
    "def search_token(string):\n",
    "    import re\n",
    "    pattern = r'\\w+'\n",
    "    x = re.findall(pattern, string)\n",
    "    print(x)\n",
    "search_token('python re regular expression search token sample')"
   ]
  },
  {
   "cell_type": "code",
   "execution_count": 9,
   "metadata": {},
   "outputs": [
    {
     "name": "stdout",
     "output_type": "stream",
     "text": [
      "<re.Match object; span=(0, 6), match='python'>\n"
     ]
    }
   ],
   "source": [
    "def count_word(string):\n",
    "    import re\n",
    "    match_pattern = re.search(r'\\b[a-z]{3,15}\\b', string)\n",
    "    print(match_pattern)\n",
    "count_word('python re regular expression search token sample re re')"
   ]
  },
  {
   "cell_type": "code",
   "execution_count": null,
   "metadata": {},
   "outputs": [],
   "source": []
  }
 ],
 "metadata": {
  "kernelspec": {
   "display_name": "Python 3",
   "language": "python",
   "name": "python3"
  },
  "language_info": {
   "codemirror_mode": {
    "name": "ipython",
    "version": 3
   },
   "file_extension": ".py",
   "mimetype": "text/x-python",
   "name": "python",
   "nbconvert_exporter": "python",
   "pygments_lexer": "ipython3",
   "version": "3.8.3"
  }
 },
 "nbformat": 4,
 "nbformat_minor": 2
}
